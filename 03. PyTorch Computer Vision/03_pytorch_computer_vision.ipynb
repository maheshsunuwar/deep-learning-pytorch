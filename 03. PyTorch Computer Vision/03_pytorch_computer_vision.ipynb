{
 "cells": [
  {
   "cell_type": "markdown",
   "id": "76054ba9-d739-4d8e-a446-a85b2fdab17b",
   "metadata": {},
   "source": [
    "# 03. PyTorch Computer Vision\n",
    "\n",
    "**Computer Vision and Convolutional Neural Networks with PyTorch 🔥**"
   ]
  },
  {
   "cell_type": "markdown",
   "id": "2929ef9e-07c8-4e7e-8929-e88a54ec33aa",
   "metadata": {},
   "source": [
    "## Inputs and Outputs in Computer Vision"
   ]
  },
  {
   "cell_type": "markdown",
   "id": "668bffac-5523-4a51-9cd8-c5ae1909ce34",
   "metadata": {},
   "source": [
    "![](images/inputsandoutputs.gif)"
   ]
  },
  {
   "cell_type": "markdown",
   "id": "f9af4f21-8d39-4733-b726-c672164dcc1b",
   "metadata": {},
   "source": [
    "`Convolutional Neural Networks (CNN)` are good are recognizing patterns in an Image."
   ]
  },
  {
   "cell_type": "markdown",
   "id": "4590b6a2-df58-467f-8074-1dfa2e60c2af",
   "metadata": {},
   "source": [
    "<span style=\"font-size: 24px;\">\n",
    "🧑‍💻 Let's Code !!!\n",
    "</span>"
   ]
  },
  {
   "cell_type": "markdown",
   "id": "65e17889-18c8-464c-b5f1-f57651da4183",
   "metadata": {},
   "source": [
    "## Computer Vision Libraries in PyTorch\n",
    "\n",
    "1. `torchvision` - base domain library for PyTorch computer vision\n",
    "2. `torchvision.datasets` - get datasets and data loading functions for computer vision\n",
    "3. `torchvision.models` - get pretrained computer vision models that you can leverage for your own problems\n",
    "4. `torchvision.transform` - functions for manipulating your vision data (images) to be suitable for use with a ML model\n",
    "5. `torch.utils.data.Dataset` - base dataset class for PyTorch\n",
    "6. `torch.utils.data.DataLoader` - Creates a Python iterable over a dataset"
   ]
  },
  {
   "cell_type": "code",
   "execution_count": 1,
   "id": "43af5bd0-6371-41aa-925c-8f4f0d05d553",
   "metadata": {},
   "outputs": [
    {
     "name": "stdout",
     "output_type": "stream",
     "text": [
      "torch:  2.0.1\n",
      "torchvision:  0.15.2\n"
     ]
    }
   ],
   "source": [
    "# Imports\n",
    "\n",
    "# import torch\n",
    "import torch\n",
    "from torch import nn\n",
    "\n",
    "#import torchvision\n",
    "import torchvision\n",
    "from torchvision import datasets\n",
    "from torchvision import transforms\n",
    "from torchvision.transforms import ToTensor\n",
    "\n",
    "# import matplotlib for visualization\n",
    "import matplotlib.pyplot as plt\n",
    "\n",
    "# check versions\n",
    "print('torch: ', torch.__version__)\n",
    "print('torchvision: ', torchvision.__version__)"
   ]
  },
  {
   "cell_type": "markdown",
   "id": "cb82c42a-20c9-4fe6-9769-f967ee7385ab",
   "metadata": {},
   "source": [
    "## 1. Getting a Dataset\n",
    "\n",
    "https://pytorch.org/vision/main/datasets.html\n",
    "\n",
    "The dataset we will be using [Fashion MNIST](https://github.com/zalandoresearch/fashion-mnist)\n",
    "- Grayscale image of clothing."
   ]
  },
  {
   "cell_type": "code",
   "execution_count": 2,
   "id": "5ab022b7-8039-4f36-b1e2-c89203c18585",
   "metadata": {},
   "outputs": [],
   "source": [
    "# setup training data\n",
    "train_data = datasets.FashionMNIST(\n",
    "    download=True, # do we want to download the data\n",
    "    root='data', # where to download the data to\n",
    "    train=True, # do we want the training data?\n",
    "    transform=torchvision.transforms.ToTensor(), # how do you want to transform the data\n",
    "    target_transform=None # how do you want to transform the target/label\n",
    ")\n",
    "# setup testing data\n",
    "test_data = datasets.FashionMNIST(\n",
    "    download=True,\n",
    "    root='data',\n",
    "    train=False,\n",
    "    transform=ToTensor(),\n",
    "    target_transform=None\n",
    ")"
   ]
  },
  {
   "cell_type": "code",
   "execution_count": 35,
   "id": "057c4022-fcec-4bd8-8ed4-adf9838dffe5",
   "metadata": {},
   "outputs": [
    {
     "data": {
      "text/plain": [
       "(60000, 10000)"
      ]
     },
     "execution_count": 35,
     "metadata": {},
     "output_type": "execute_result"
    }
   ],
   "source": [
    "len(train_data), len(test_data)"
   ]
  },
  {
   "cell_type": "code",
   "execution_count": 36,
   "id": "6a072dac-e01a-491f-b096-c274a965eabc",
   "metadata": {},
   "outputs": [
    {
     "data": {
      "text/plain": [
       "(tensor([[[0.0000, 0.0000, 0.0000, 0.0000, 0.0000, 0.0000, 0.0000, 0.0000,\n",
       "           0.0000, 0.0000, 0.0000, 0.0000, 0.0000, 0.0000, 0.0000, 0.0000,\n",
       "           0.0000, 0.0000, 0.0000, 0.0000, 0.0000, 0.0000, 0.0000, 0.0000,\n",
       "           0.0000, 0.0000, 0.0000, 0.0000],\n",
       "          [0.0000, 0.0000, 0.0000, 0.0000, 0.0000, 0.0000, 0.0000, 0.0000,\n",
       "           0.0000, 0.0000, 0.0000, 0.0000, 0.0000, 0.0000, 0.0000, 0.0000,\n",
       "           0.0000, 0.0000, 0.0000, 0.0000, 0.0000, 0.0000, 0.0000, 0.0000,\n",
       "           0.0000, 0.0000, 0.0000, 0.0000],\n",
       "          [0.0000, 0.0000, 0.0000, 0.0000, 0.0000, 0.0000, 0.0000, 0.0000,\n",
       "           0.0000, 0.0000, 0.0000, 0.0000, 0.0000, 0.0000, 0.0000, 0.0000,\n",
       "           0.0000, 0.0000, 0.0000, 0.0000, 0.0000, 0.0000, 0.0000, 0.0000,\n",
       "           0.0000, 0.0000, 0.0000, 0.0000],\n",
       "          [0.0000, 0.0000, 0.0000, 0.0000, 0.0000, 0.0000, 0.0000, 0.0000,\n",
       "           0.0000, 0.0000, 0.0000, 0.0000, 0.0039, 0.0000, 0.0000, 0.0510,\n",
       "           0.2863, 0.0000, 0.0000, 0.0039, 0.0157, 0.0000, 0.0000, 0.0000,\n",
       "           0.0000, 0.0039, 0.0039, 0.0000],\n",
       "          [0.0000, 0.0000, 0.0000, 0.0000, 0.0000, 0.0000, 0.0000, 0.0000,\n",
       "           0.0000, 0.0000, 0.0000, 0.0000, 0.0118, 0.0000, 0.1412, 0.5333,\n",
       "           0.4980, 0.2431, 0.2118, 0.0000, 0.0000, 0.0000, 0.0039, 0.0118,\n",
       "           0.0157, 0.0000, 0.0000, 0.0118],\n",
       "          [0.0000, 0.0000, 0.0000, 0.0000, 0.0000, 0.0000, 0.0000, 0.0000,\n",
       "           0.0000, 0.0000, 0.0000, 0.0000, 0.0235, 0.0000, 0.4000, 0.8000,\n",
       "           0.6902, 0.5255, 0.5647, 0.4824, 0.0902, 0.0000, 0.0000, 0.0000,\n",
       "           0.0000, 0.0471, 0.0392, 0.0000],\n",
       "          [0.0000, 0.0000, 0.0000, 0.0000, 0.0000, 0.0000, 0.0000, 0.0000,\n",
       "           0.0000, 0.0000, 0.0000, 0.0000, 0.0000, 0.0000, 0.6078, 0.9255,\n",
       "           0.8118, 0.6980, 0.4196, 0.6118, 0.6314, 0.4275, 0.2510, 0.0902,\n",
       "           0.3020, 0.5098, 0.2824, 0.0588],\n",
       "          [0.0000, 0.0000, 0.0000, 0.0000, 0.0000, 0.0000, 0.0000, 0.0000,\n",
       "           0.0000, 0.0000, 0.0000, 0.0039, 0.0000, 0.2706, 0.8118, 0.8745,\n",
       "           0.8549, 0.8471, 0.8471, 0.6392, 0.4980, 0.4745, 0.4784, 0.5725,\n",
       "           0.5529, 0.3451, 0.6745, 0.2588],\n",
       "          [0.0000, 0.0000, 0.0000, 0.0000, 0.0000, 0.0000, 0.0000, 0.0000,\n",
       "           0.0000, 0.0039, 0.0039, 0.0039, 0.0000, 0.7843, 0.9098, 0.9098,\n",
       "           0.9137, 0.8980, 0.8745, 0.8745, 0.8431, 0.8353, 0.6431, 0.4980,\n",
       "           0.4824, 0.7686, 0.8980, 0.0000],\n",
       "          [0.0000, 0.0000, 0.0000, 0.0000, 0.0000, 0.0000, 0.0000, 0.0000,\n",
       "           0.0000, 0.0000, 0.0000, 0.0000, 0.0000, 0.7176, 0.8824, 0.8471,\n",
       "           0.8745, 0.8941, 0.9216, 0.8902, 0.8784, 0.8706, 0.8784, 0.8667,\n",
       "           0.8745, 0.9608, 0.6784, 0.0000],\n",
       "          [0.0000, 0.0000, 0.0000, 0.0000, 0.0000, 0.0000, 0.0000, 0.0000,\n",
       "           0.0000, 0.0000, 0.0000, 0.0000, 0.0000, 0.7569, 0.8941, 0.8549,\n",
       "           0.8353, 0.7765, 0.7059, 0.8314, 0.8235, 0.8275, 0.8353, 0.8745,\n",
       "           0.8627, 0.9529, 0.7922, 0.0000],\n",
       "          [0.0000, 0.0000, 0.0000, 0.0000, 0.0000, 0.0000, 0.0000, 0.0000,\n",
       "           0.0000, 0.0039, 0.0118, 0.0000, 0.0471, 0.8588, 0.8627, 0.8314,\n",
       "           0.8549, 0.7529, 0.6627, 0.8902, 0.8157, 0.8549, 0.8784, 0.8314,\n",
       "           0.8863, 0.7725, 0.8196, 0.2039],\n",
       "          [0.0000, 0.0000, 0.0000, 0.0000, 0.0000, 0.0000, 0.0000, 0.0000,\n",
       "           0.0000, 0.0000, 0.0235, 0.0000, 0.3882, 0.9569, 0.8706, 0.8627,\n",
       "           0.8549, 0.7961, 0.7765, 0.8667, 0.8431, 0.8353, 0.8706, 0.8627,\n",
       "           0.9608, 0.4667, 0.6549, 0.2196],\n",
       "          [0.0000, 0.0000, 0.0000, 0.0000, 0.0000, 0.0000, 0.0000, 0.0000,\n",
       "           0.0000, 0.0157, 0.0000, 0.0000, 0.2157, 0.9255, 0.8941, 0.9020,\n",
       "           0.8941, 0.9412, 0.9098, 0.8353, 0.8549, 0.8745, 0.9176, 0.8510,\n",
       "           0.8510, 0.8196, 0.3608, 0.0000],\n",
       "          [0.0000, 0.0000, 0.0039, 0.0157, 0.0235, 0.0275, 0.0078, 0.0000,\n",
       "           0.0000, 0.0000, 0.0000, 0.0000, 0.9294, 0.8863, 0.8510, 0.8745,\n",
       "           0.8706, 0.8588, 0.8706, 0.8667, 0.8471, 0.8745, 0.8980, 0.8431,\n",
       "           0.8549, 1.0000, 0.3020, 0.0000],\n",
       "          [0.0000, 0.0118, 0.0000, 0.0000, 0.0000, 0.0000, 0.0000, 0.0000,\n",
       "           0.0000, 0.2431, 0.5686, 0.8000, 0.8941, 0.8118, 0.8353, 0.8667,\n",
       "           0.8549, 0.8157, 0.8275, 0.8549, 0.8784, 0.8745, 0.8588, 0.8431,\n",
       "           0.8784, 0.9569, 0.6235, 0.0000],\n",
       "          [0.0000, 0.0000, 0.0000, 0.0000, 0.0706, 0.1725, 0.3216, 0.4196,\n",
       "           0.7412, 0.8941, 0.8627, 0.8706, 0.8510, 0.8863, 0.7843, 0.8039,\n",
       "           0.8275, 0.9020, 0.8784, 0.9176, 0.6902, 0.7373, 0.9804, 0.9725,\n",
       "           0.9137, 0.9333, 0.8431, 0.0000],\n",
       "          [0.0000, 0.2235, 0.7333, 0.8157, 0.8784, 0.8667, 0.8784, 0.8157,\n",
       "           0.8000, 0.8392, 0.8157, 0.8196, 0.7843, 0.6235, 0.9608, 0.7569,\n",
       "           0.8078, 0.8745, 1.0000, 1.0000, 0.8667, 0.9176, 0.8667, 0.8275,\n",
       "           0.8627, 0.9098, 0.9647, 0.0000],\n",
       "          [0.0118, 0.7922, 0.8941, 0.8784, 0.8667, 0.8275, 0.8275, 0.8392,\n",
       "           0.8039, 0.8039, 0.8039, 0.8627, 0.9412, 0.3137, 0.5882, 1.0000,\n",
       "           0.8980, 0.8667, 0.7373, 0.6039, 0.7490, 0.8235, 0.8000, 0.8196,\n",
       "           0.8706, 0.8941, 0.8824, 0.0000],\n",
       "          [0.3843, 0.9137, 0.7765, 0.8235, 0.8706, 0.8980, 0.8980, 0.9176,\n",
       "           0.9765, 0.8627, 0.7608, 0.8431, 0.8510, 0.9451, 0.2549, 0.2863,\n",
       "           0.4157, 0.4588, 0.6588, 0.8588, 0.8667, 0.8431, 0.8510, 0.8745,\n",
       "           0.8745, 0.8784, 0.8980, 0.1137],\n",
       "          [0.2941, 0.8000, 0.8314, 0.8000, 0.7569, 0.8039, 0.8275, 0.8824,\n",
       "           0.8471, 0.7255, 0.7725, 0.8078, 0.7765, 0.8353, 0.9412, 0.7647,\n",
       "           0.8902, 0.9608, 0.9373, 0.8745, 0.8549, 0.8314, 0.8196, 0.8706,\n",
       "           0.8627, 0.8667, 0.9020, 0.2627],\n",
       "          [0.1882, 0.7961, 0.7176, 0.7608, 0.8353, 0.7725, 0.7255, 0.7451,\n",
       "           0.7608, 0.7529, 0.7922, 0.8392, 0.8588, 0.8667, 0.8627, 0.9255,\n",
       "           0.8824, 0.8471, 0.7804, 0.8078, 0.7294, 0.7098, 0.6941, 0.6745,\n",
       "           0.7098, 0.8039, 0.8078, 0.4510],\n",
       "          [0.0000, 0.4784, 0.8588, 0.7569, 0.7020, 0.6706, 0.7176, 0.7686,\n",
       "           0.8000, 0.8235, 0.8353, 0.8118, 0.8275, 0.8235, 0.7843, 0.7686,\n",
       "           0.7608, 0.7490, 0.7647, 0.7490, 0.7765, 0.7529, 0.6902, 0.6118,\n",
       "           0.6549, 0.6941, 0.8235, 0.3608],\n",
       "          [0.0000, 0.0000, 0.2902, 0.7412, 0.8314, 0.7490, 0.6863, 0.6745,\n",
       "           0.6863, 0.7098, 0.7255, 0.7373, 0.7412, 0.7373, 0.7569, 0.7765,\n",
       "           0.8000, 0.8196, 0.8235, 0.8235, 0.8275, 0.7373, 0.7373, 0.7608,\n",
       "           0.7529, 0.8471, 0.6667, 0.0000],\n",
       "          [0.0078, 0.0000, 0.0000, 0.0000, 0.2588, 0.7843, 0.8706, 0.9294,\n",
       "           0.9373, 0.9490, 0.9647, 0.9529, 0.9569, 0.8667, 0.8627, 0.7569,\n",
       "           0.7490, 0.7020, 0.7137, 0.7137, 0.7098, 0.6902, 0.6510, 0.6588,\n",
       "           0.3882, 0.2275, 0.0000, 0.0000],\n",
       "          [0.0000, 0.0000, 0.0000, 0.0000, 0.0000, 0.0000, 0.0000, 0.1569,\n",
       "           0.2392, 0.1725, 0.2824, 0.1608, 0.1373, 0.0000, 0.0000, 0.0000,\n",
       "           0.0000, 0.0000, 0.0000, 0.0000, 0.0000, 0.0000, 0.0000, 0.0000,\n",
       "           0.0000, 0.0000, 0.0000, 0.0000],\n",
       "          [0.0000, 0.0000, 0.0000, 0.0000, 0.0000, 0.0000, 0.0000, 0.0000,\n",
       "           0.0000, 0.0000, 0.0000, 0.0000, 0.0000, 0.0000, 0.0000, 0.0000,\n",
       "           0.0000, 0.0000, 0.0000, 0.0000, 0.0000, 0.0000, 0.0000, 0.0000,\n",
       "           0.0000, 0.0000, 0.0000, 0.0000],\n",
       "          [0.0000, 0.0000, 0.0000, 0.0000, 0.0000, 0.0000, 0.0000, 0.0000,\n",
       "           0.0000, 0.0000, 0.0000, 0.0000, 0.0000, 0.0000, 0.0000, 0.0000,\n",
       "           0.0000, 0.0000, 0.0000, 0.0000, 0.0000, 0.0000, 0.0000, 0.0000,\n",
       "           0.0000, 0.0000, 0.0000, 0.0000]]]),\n",
       " 9)"
      ]
     },
     "execution_count": 36,
     "metadata": {},
     "output_type": "execute_result"
    }
   ],
   "source": [
    "# first image\n",
    "image, label = train_data[0]\n",
    "image, label"
   ]
  },
  {
   "cell_type": "code",
   "execution_count": 6,
   "id": "184dad6b-0712-4ecc-823c-970c57218586",
   "metadata": {},
   "outputs": [
    {
     "data": {
      "text/plain": [
       "['T-shirt/top',\n",
       " 'Trouser',\n",
       " 'Pullover',\n",
       " 'Dress',\n",
       " 'Coat',\n",
       " 'Sandal',\n",
       " 'Shirt',\n",
       " 'Sneaker',\n",
       " 'Bag',\n",
       " 'Ankle boot']"
      ]
     },
     "execution_count": 6,
     "metadata": {},
     "output_type": "execute_result"
    }
   ],
   "source": [
    "class_names = train_data.classes\n",
    "class_names"
   ]
  },
  {
   "cell_type": "markdown",
   "id": "08531f6f-c1d6-4e5f-9a4c-e7ff91fef624",
   "metadata": {},
   "source": [
    "### 1.1 Check input and output shapes of data"
   ]
  },
  {
   "cell_type": "code",
   "execution_count": 38,
   "id": "4e8b27f9-09bc-45eb-be39-739efa85aff4",
   "metadata": {},
   "outputs": [
    {
     "name": "stdout",
     "output_type": "stream",
     "text": [
      "Image shape: [color_channels, height, width]: torch.Size([1, 28, 28])\n",
      "label: 9\n"
     ]
    }
   ],
   "source": [
    "# check the shape\n",
    "print(f'Image shape: [color_channels, height, width]: {image.shape}')\n",
    "print('label:', label)"
   ]
  },
  {
   "cell_type": "markdown",
   "id": "6436e5c6-53a6-489e-976f-d997251a3c1d",
   "metadata": {},
   "source": [
    "### 1.2 Visualizing our data"
   ]
  },
  {
   "cell_type": "code",
   "execution_count": 39,
   "id": "a27ce165-e0bb-4af4-a05a-4e3d5f772402",
   "metadata": {},
   "outputs": [
    {
     "name": "stdout",
     "output_type": "stream",
     "text": [
      "Image shape: torch.Size([1, 28, 28])\n"
     ]
    }
   ],
   "source": [
    "image. label = train_data[0]\n",
    "print('Image shape:', image.shape)"
   ]
  },
  {
   "cell_type": "code",
   "execution_count": 40,
   "id": "0864e76f-f4d0-4609-a43a-4ab8b1fd3af6",
   "metadata": {},
   "outputs": [
    {
     "ename": "TypeError",
     "evalue": "Invalid shape (1, 28, 28) for image data",
     "output_type": "error",
     "traceback": [
      "\u001b[0;31m---------------------------------------------------------------------------\u001b[0m",
      "\u001b[0;31mTypeError\u001b[0m                                 Traceback (most recent call last)",
      "\u001b[0;32m/var/folders/11/930k5s4139qbpzg_v2crgdzm0000gn/T/ipykernel_45290/2541980340.py\u001b[0m in \u001b[0;36m<module>\u001b[0;34m\u001b[0m\n\u001b[1;32m      1\u001b[0m \u001b[0;31m#plotting the data\u001b[0m\u001b[0;34m\u001b[0m\u001b[0;34m\u001b[0m\u001b[0m\n\u001b[0;32m----> 2\u001b[0;31m \u001b[0mplt\u001b[0m\u001b[0;34m.\u001b[0m\u001b[0mimshow\u001b[0m\u001b[0;34m(\u001b[0m\u001b[0mimage\u001b[0m\u001b[0;34m)\u001b[0m\u001b[0;34m\u001b[0m\u001b[0;34m\u001b[0m\u001b[0m\n\u001b[0m",
      "\u001b[0;32m~/miniforge3/lib/python3.10/site-packages/matplotlib/pyplot.py\u001b[0m in \u001b[0;36mimshow\u001b[0;34m(X, cmap, norm, aspect, interpolation, alpha, vmin, vmax, origin, extent, interpolation_stage, filternorm, filterrad, resample, url, data, **kwargs)\u001b[0m\n\u001b[1;32m   3474\u001b[0m     \u001b[0;34m**\u001b[0m\u001b[0mkwargs\u001b[0m\u001b[0;34m,\u001b[0m\u001b[0;34m\u001b[0m\u001b[0;34m\u001b[0m\u001b[0m\n\u001b[1;32m   3475\u001b[0m ) -> AxesImage:\n\u001b[0;32m-> 3476\u001b[0;31m     __ret = gca().imshow(\n\u001b[0m\u001b[1;32m   3477\u001b[0m         \u001b[0mX\u001b[0m\u001b[0;34m,\u001b[0m\u001b[0;34m\u001b[0m\u001b[0;34m\u001b[0m\u001b[0m\n\u001b[1;32m   3478\u001b[0m         \u001b[0mcmap\u001b[0m\u001b[0;34m=\u001b[0m\u001b[0mcmap\u001b[0m\u001b[0;34m,\u001b[0m\u001b[0;34m\u001b[0m\u001b[0;34m\u001b[0m\u001b[0m\n",
      "\u001b[0;32m~/miniforge3/lib/python3.10/site-packages/matplotlib/__init__.py\u001b[0m in \u001b[0;36minner\u001b[0;34m(ax, data, *args, **kwargs)\u001b[0m\n\u001b[1;32m   1471\u001b[0m     \u001b[0;32mdef\u001b[0m \u001b[0minner\u001b[0m\u001b[0;34m(\u001b[0m\u001b[0max\u001b[0m\u001b[0;34m,\u001b[0m \u001b[0;34m*\u001b[0m\u001b[0margs\u001b[0m\u001b[0;34m,\u001b[0m \u001b[0mdata\u001b[0m\u001b[0;34m=\u001b[0m\u001b[0;32mNone\u001b[0m\u001b[0;34m,\u001b[0m \u001b[0;34m**\u001b[0m\u001b[0mkwargs\u001b[0m\u001b[0;34m)\u001b[0m\u001b[0;34m:\u001b[0m\u001b[0;34m\u001b[0m\u001b[0;34m\u001b[0m\u001b[0m\n\u001b[1;32m   1472\u001b[0m         \u001b[0;32mif\u001b[0m \u001b[0mdata\u001b[0m \u001b[0;32mis\u001b[0m \u001b[0;32mNone\u001b[0m\u001b[0;34m:\u001b[0m\u001b[0;34m\u001b[0m\u001b[0;34m\u001b[0m\u001b[0m\n\u001b[0;32m-> 1473\u001b[0;31m             return func(\n\u001b[0m\u001b[1;32m   1474\u001b[0m                 \u001b[0max\u001b[0m\u001b[0;34m,\u001b[0m\u001b[0;34m\u001b[0m\u001b[0;34m\u001b[0m\u001b[0m\n\u001b[1;32m   1475\u001b[0m                 \u001b[0;34m*\u001b[0m\u001b[0mmap\u001b[0m\u001b[0;34m(\u001b[0m\u001b[0msanitize_sequence\u001b[0m\u001b[0;34m,\u001b[0m \u001b[0margs\u001b[0m\u001b[0;34m)\u001b[0m\u001b[0;34m,\u001b[0m\u001b[0;34m\u001b[0m\u001b[0;34m\u001b[0m\u001b[0m\n",
      "\u001b[0;32m~/miniforge3/lib/python3.10/site-packages/matplotlib/axes/_axes.py\u001b[0m in \u001b[0;36mimshow\u001b[0;34m(self, X, cmap, norm, aspect, interpolation, alpha, vmin, vmax, origin, extent, interpolation_stage, filternorm, filterrad, resample, url, **kwargs)\u001b[0m\n\u001b[1;32m   5893\u001b[0m             \u001b[0mself\u001b[0m\u001b[0;34m.\u001b[0m\u001b[0mset_aspect\u001b[0m\u001b[0;34m(\u001b[0m\u001b[0maspect\u001b[0m\u001b[0;34m)\u001b[0m\u001b[0;34m\u001b[0m\u001b[0;34m\u001b[0m\u001b[0m\n\u001b[1;32m   5894\u001b[0m \u001b[0;34m\u001b[0m\u001b[0m\n\u001b[0;32m-> 5895\u001b[0;31m         \u001b[0mim\u001b[0m\u001b[0;34m.\u001b[0m\u001b[0mset_data\u001b[0m\u001b[0;34m(\u001b[0m\u001b[0mX\u001b[0m\u001b[0;34m)\u001b[0m\u001b[0;34m\u001b[0m\u001b[0;34m\u001b[0m\u001b[0m\n\u001b[0m\u001b[1;32m   5896\u001b[0m         \u001b[0mim\u001b[0m\u001b[0;34m.\u001b[0m\u001b[0mset_alpha\u001b[0m\u001b[0;34m(\u001b[0m\u001b[0malpha\u001b[0m\u001b[0;34m)\u001b[0m\u001b[0;34m\u001b[0m\u001b[0;34m\u001b[0m\u001b[0m\n\u001b[1;32m   5897\u001b[0m         \u001b[0;32mif\u001b[0m \u001b[0mim\u001b[0m\u001b[0;34m.\u001b[0m\u001b[0mget_clip_path\u001b[0m\u001b[0;34m(\u001b[0m\u001b[0;34m)\u001b[0m \u001b[0;32mis\u001b[0m \u001b[0;32mNone\u001b[0m\u001b[0;34m:\u001b[0m\u001b[0;34m\u001b[0m\u001b[0;34m\u001b[0m\u001b[0m\n",
      "\u001b[0;32m~/miniforge3/lib/python3.10/site-packages/matplotlib/image.py\u001b[0m in \u001b[0;36mset_data\u001b[0;34m(self, A)\u001b[0m\n\u001b[1;32m    727\u001b[0m         \u001b[0;32mif\u001b[0m \u001b[0misinstance\u001b[0m\u001b[0;34m(\u001b[0m\u001b[0mA\u001b[0m\u001b[0;34m,\u001b[0m \u001b[0mPIL\u001b[0m\u001b[0;34m.\u001b[0m\u001b[0mImage\u001b[0m\u001b[0;34m.\u001b[0m\u001b[0mImage\u001b[0m\u001b[0;34m)\u001b[0m\u001b[0;34m:\u001b[0m\u001b[0;34m\u001b[0m\u001b[0;34m\u001b[0m\u001b[0m\n\u001b[1;32m    728\u001b[0m             \u001b[0mA\u001b[0m \u001b[0;34m=\u001b[0m \u001b[0mpil_to_array\u001b[0m\u001b[0;34m(\u001b[0m\u001b[0mA\u001b[0m\u001b[0;34m)\u001b[0m  \u001b[0;31m# Needed e.g. to apply png palette.\u001b[0m\u001b[0;34m\u001b[0m\u001b[0;34m\u001b[0m\u001b[0m\n\u001b[0;32m--> 729\u001b[0;31m         \u001b[0mself\u001b[0m\u001b[0;34m.\u001b[0m\u001b[0m_A\u001b[0m \u001b[0;34m=\u001b[0m \u001b[0mself\u001b[0m\u001b[0;34m.\u001b[0m\u001b[0m_normalize_image_array\u001b[0m\u001b[0;34m(\u001b[0m\u001b[0mA\u001b[0m\u001b[0;34m)\u001b[0m\u001b[0;34m\u001b[0m\u001b[0;34m\u001b[0m\u001b[0m\n\u001b[0m\u001b[1;32m    730\u001b[0m         \u001b[0mself\u001b[0m\u001b[0;34m.\u001b[0m\u001b[0m_imcache\u001b[0m \u001b[0;34m=\u001b[0m \u001b[0;32mNone\u001b[0m\u001b[0;34m\u001b[0m\u001b[0;34m\u001b[0m\u001b[0m\n\u001b[1;32m    731\u001b[0m         \u001b[0mself\u001b[0m\u001b[0;34m.\u001b[0m\u001b[0mstale\u001b[0m \u001b[0;34m=\u001b[0m \u001b[0;32mTrue\u001b[0m\u001b[0;34m\u001b[0m\u001b[0;34m\u001b[0m\u001b[0m\n",
      "\u001b[0;32m~/miniforge3/lib/python3.10/site-packages/matplotlib/image.py\u001b[0m in \u001b[0;36m_normalize_image_array\u001b[0;34m(A)\u001b[0m\n\u001b[1;32m    695\u001b[0m             \u001b[0mA\u001b[0m \u001b[0;34m=\u001b[0m \u001b[0mA\u001b[0m\u001b[0;34m.\u001b[0m\u001b[0msqueeze\u001b[0m\u001b[0;34m(\u001b[0m\u001b[0;34m-\u001b[0m\u001b[0;36m1\u001b[0m\u001b[0;34m)\u001b[0m  \u001b[0;31m# If just (M, N, 1), assume scalar and apply colormap.\u001b[0m\u001b[0;34m\u001b[0m\u001b[0;34m\u001b[0m\u001b[0m\n\u001b[1;32m    696\u001b[0m         \u001b[0;32mif\u001b[0m \u001b[0;32mnot\u001b[0m \u001b[0;34m(\u001b[0m\u001b[0mA\u001b[0m\u001b[0;34m.\u001b[0m\u001b[0mndim\u001b[0m \u001b[0;34m==\u001b[0m \u001b[0;36m2\u001b[0m \u001b[0;32mor\u001b[0m \u001b[0mA\u001b[0m\u001b[0;34m.\u001b[0m\u001b[0mndim\u001b[0m \u001b[0;34m==\u001b[0m \u001b[0;36m3\u001b[0m \u001b[0;32mand\u001b[0m \u001b[0mA\u001b[0m\u001b[0;34m.\u001b[0m\u001b[0mshape\u001b[0m\u001b[0;34m[\u001b[0m\u001b[0;34m-\u001b[0m\u001b[0;36m1\u001b[0m\u001b[0;34m]\u001b[0m \u001b[0;32min\u001b[0m \u001b[0;34m[\u001b[0m\u001b[0;36m3\u001b[0m\u001b[0;34m,\u001b[0m \u001b[0;36m4\u001b[0m\u001b[0;34m]\u001b[0m\u001b[0;34m)\u001b[0m\u001b[0;34m:\u001b[0m\u001b[0;34m\u001b[0m\u001b[0;34m\u001b[0m\u001b[0m\n\u001b[0;32m--> 697\u001b[0;31m             \u001b[0;32mraise\u001b[0m \u001b[0mTypeError\u001b[0m\u001b[0;34m(\u001b[0m\u001b[0;34mf\"Invalid shape {A.shape} for image data\"\u001b[0m\u001b[0;34m)\u001b[0m\u001b[0;34m\u001b[0m\u001b[0;34m\u001b[0m\u001b[0m\n\u001b[0m\u001b[1;32m    698\u001b[0m         \u001b[0;32mif\u001b[0m \u001b[0mA\u001b[0m\u001b[0;34m.\u001b[0m\u001b[0mndim\u001b[0m \u001b[0;34m==\u001b[0m \u001b[0;36m3\u001b[0m\u001b[0;34m:\u001b[0m\u001b[0;34m\u001b[0m\u001b[0;34m\u001b[0m\u001b[0m\n\u001b[1;32m    699\u001b[0m             \u001b[0;31m# If the input data has values outside the valid range (after\u001b[0m\u001b[0;34m\u001b[0m\u001b[0;34m\u001b[0m\u001b[0m\n",
      "\u001b[0;31mTypeError\u001b[0m: Invalid shape (1, 28, 28) for image data"
     ]
    },
    {
     "data": {
      "image/png": "[encoded data removed]",
      "text/plain": [
       "<Figure size 640x480 with 1 Axes>"
      ]
     },
     "metadata": {},
     "output_type": "display_data"
    }
   ],
   "source": [
    "#plotting the data\n",
    "plt.imshow(image)"
   ]
  },
  {
   "cell_type": "markdown",
   "id": "7507be8e-4a82-4a5b-9531-5df52bea3359",
   "metadata": {},
   "source": [
    "**`The Invalid Shape` issue**\n",
    "\n",
    "<div class='alert alert-danger'>\n",
    "    We have a shape issue. This is one the most common issue we can find in PyTorch \n",
    "</div>\n",
    "\n",
    "**We can solve it by doing `image.squeeze()`.**\n",
    "\n",
    "- squeeze will remove the extra dimension with 1"
   ]
  },
  {
   "cell_type": "code",
   "execution_count": 30,
   "id": "c0fb7b77-e485-48b3-bf6e-49a287add722",
   "metadata": {},
   "outputs": [
    {
     "data": {
      "image/png": "[encoded data removed]",
      "text/plain": [
       "<Figure size 640x480 with 1 Axes>"
      ]
     },
     "metadata": {},
     "output_type": "display_data"
    }
   ],
   "source": [
    "plt.imshow(image.squeeze())\n",
    "plt.title(label); # squeeze will remove the extra dimension with 1"
   ]
  },
  {
   "cell_type": "code",
   "execution_count": 32,
   "id": "85ac2c4d-4f5d-4474-a25a-1a02e274fdae",
   "metadata": {},
   "outputs": [
    {
     "data": {
      "image/png": "[encoded data removed]",
      "text/plain": [
       "<Figure size 640x480 with 1 Axes>"
      ]
     },
     "metadata": {},
     "output_type": "display_data"
    }
   ],
   "source": [
    "plt.imshow(image.squeeze(), cmap='gray')\n",
    "plt.title(class_names[label]); # squeeze will remove the extra dimension with 1"
   ]
  },
  {
   "cell_type": "code",
   "execution_count": 55,
   "id": "f561f576-a041-4329-9f3f-498dbc0f5a30",
   "metadata": {},
   "outputs": [
    {
     "data": {
      "image/png": "[encoded data removed]",
      "text/plain": [
       "<Figure size 900x900 with 16 Axes>"
      ]
     },
     "metadata": {},
     "output_type": "display_data"
    }
   ],
   "source": [
    "# plot more images\n",
    "torch.manual_seed(42)\n",
    "\n",
    "fig = plt.figure(figsize=(9,9))\n",
    "rows, cols = 4,4\n",
    "\n",
    "for i in range(1, rows*cols + 1):\n",
    "    random_idx = torch.randint(0, len(train_data), size=[1]).item()\n",
    "    image, label = train_data[random_idx]\n",
    "    fig.add_subplot(rows, cols, i) # i is the position to show the image at\n",
    "    plt.imshow(image.squeeze(), cmap='gray')\n",
    "    plt.title(class_names[label])\n",
    "    plt.axis(False)"
   ]
  },
  {
   "cell_type": "code",
   "execution_count": 58,
   "id": "3c7f833d-157f-4776-9a37-2ce95a789865",
   "metadata": {},
   "outputs": [
    {
     "name": "stdout",
     "output_type": "stream",
     "text": [
      "tensor([24706])\n"
     ]
    },
    {
     "data": {
      "text/plain": [
       "29749"
      ]
     },
     "execution_count": 58,
     "metadata": {},
     "output_type": "execute_result"
    }
   ],
   "source": [
    "print(torch.randint(0, len(train_data), size=[1]))\n",
    "\n",
    "torch.randint(0, len(train_data), size=[1]).item()"
   ]
  },
  {
   "cell_type": "code",
   "execution_count": 61,
   "id": "41a62ba6-749a-4445-a4c4-51bf63dafdb9",
   "metadata": {},
   "outputs": [
    {
     "data": {
      "text/plain": [
       "(Dataset FashionMNIST\n",
       "     Number of datapoints: 60000\n",
       "     Root location: data\n",
       "     Split: Train\n",
       "     StandardTransform\n",
       " Transform: ToTensor(),\n",
       " Dataset FashionMNIST\n",
       "     Number of datapoints: 10000\n",
       "     Root location: data\n",
       "     Split: Test\n",
       "     StandardTransform\n",
       " Transform: ToTensor())"
      ]
     },
     "execution_count": 61,
     "metadata": {},
     "output_type": "execute_result"
    }
   ],
   "source": [
    "train_data, test_data"
   ]
  },
  {
   "cell_type": "markdown",
   "id": "3f9ccbf9-6757-4183-9669-277fbda7f2b5",
   "metadata": {},
   "source": [
    "## 2. Prepare DataLoader\n",
    "\n",
    "Right now, our data is in the form of PyTorch Datasets.\n",
    "\n",
    "We have to convert the pytorch datasets to Dataloader.\n",
    "\n",
    "`DataLoader` turns our dataset into a `Python iterable`.\n",
    "\n",
    "More, specifically, we want to turn our data into `batches` or `mini-batches`\n",
    "\n",
    "<p style=\"font-size: 20px;\">But, Why would we do this? 🤔</p>\n",
    "\n",
    "1. It is more `computationally efficient`, as in, your computing hardware may not be able to look (store in memory) at 60000 images in one hit. So we break it down to `32` images a titme (`batch size of 32`)\n",
    "2. It gives our neural network more chancces to update its gradient per epoch."
   ]
  },
  {
   "cell_type": "code",
   "execution_count": 3,
   "id": "3782c450-0b22-4405-8ae8-dc6a6bbcd266",
   "metadata": {},
   "outputs": [
    {
     "data": {
      "text/plain": [
       "(<torch.utils.data.dataloader.DataLoader at 0x117a73b50>,\n",
       " <torch.utils.data.dataloader.DataLoader at 0x117a73cd0>)"
      ]
     },
     "execution_count": 3,
     "metadata": {},
     "output_type": "execute_result"
    }
   ],
   "source": [
    "from torch.utils.data import DataLoader\n",
    "\n",
    "# setup the batch siez hyperparameter\n",
    "BATCH_SIZE = 32\n",
    "\n",
    "# Turn datasets into iterables (batches)\n",
    "train_dataloader = DataLoader(dataset=train_data,\n",
    "                              batch_size=BATCH_SIZE,\n",
    "                              shuffle=True)\n",
    "\n",
    "test_dataloader = DataLoader(dataset=test_data,\n",
    "                              batch_size=BATCH_SIZE,\n",
    "                              shuffle=False)\n",
    "train_dataloader, test_dataloader"
   ]
  },
  {
   "cell_type": "code",
   "execution_count": 71,
   "id": "8804ec7e-5ecc-46e3-b30a-bee33e3f21dd",
   "metadata": {},
   "outputs": [
    {
     "name": "stdout",
     "output_type": "stream",
     "text": [
      "Length of train_dataloader: 1875 baches of size 32\n",
      "Length of test_dataloader: 313 baches of size 32\n"
     ]
    }
   ],
   "source": [
    "# let's check out what we've created\n",
    "print(f'Length of train_dataloader: {len(train_dataloader)} baches of size {BATCH_SIZE}')\n",
    "print(f'Length of test_dataloader: {len(test_dataloader)} baches of size {BATCH_SIZE}')\n"
   ]
  },
  {
   "cell_type": "code",
   "execution_count": 72,
   "id": "7bf3733c-f002-45ba-aa17-1d212051bae0",
   "metadata": {},
   "outputs": [
    {
     "data": {
      "text/plain": [
       "(1875.0, 312.5)"
      ]
     },
     "execution_count": 72,
     "metadata": {},
     "output_type": "execute_result"
    }
   ],
   "source": [
    "60000/32, 10000/32"
   ]
  },
  {
   "cell_type": "markdown",
   "id": "d82d8bf0-73b7-49b2-9245-8a4728803ae7",
   "metadata": {},
   "source": [
    "This means that our models is gonna look at 1875 batches of 32 images at a time instead of looking at all data at the same time."
   ]
  },
  {
   "cell_type": "code",
   "execution_count": 4,
   "id": "3811aa2c-82cc-4773-b21a-1387d5cf7fb9",
   "metadata": {},
   "outputs": [
    {
     "data": {
      "text/plain": [
       "(torch.Size([32, 1, 28, 28]), torch.Size([32]))"
      ]
     },
     "execution_count": 4,
     "metadata": {},
     "output_type": "execute_result"
    }
   ],
   "source": [
    "# check out what's inside the training dataloader\n",
    "train_features_batch, train_labels_batch = next(iter(train_dataloader))\n",
    "train_features_batch.shape, train_labels_batch.shape"
   ]
  },
  {
   "cell_type": "markdown",
   "id": "26d5b729-a127-46ed-b154-0ab13deafa72",
   "metadata": {},
   "source": [
    "### 2.1. Select a random image"
   ]
  },
  {
   "cell_type": "code",
   "execution_count": 7,
   "id": "4e87b296-690a-4999-82fa-8bbe46871edc",
   "metadata": {},
   "outputs": [
    {
     "name": "stdout",
     "output_type": "stream",
     "text": [
      "Image Size: torch.Size([1, 28, 28])\n",
      "Label: 6, label size: torch.Size([])\n"
     ]
    },
    {
     "data": {
      "image/png": "[encoded data removed]",
      "text/plain": [
       "<Figure size 640x480 with 1 Axes>"
      ]
     },
     "metadata": {},
     "output_type": "display_data"
    }
   ],
   "source": [
    "# show a sample\n",
    "torch.manual_seed(32)\n",
    "\n",
    "random_idx = torch.randint(0, len(train_features_batch), size=[1]).item()\n",
    "img, label = train_features_batch[random_idx], train_labels_batch[random_idx]\n",
    "\n",
    "plt.imshow(img.squeeze(), cmap='gray')\n",
    "plt.title(class_names[label])\n",
    "plt.axis(False)\n",
    "print(f'Image Size: {img.shape}')\n",
    "print(f'Label: {label}, label size: {label.shape}')"
   ]
  },
  {
   "cell_type": "markdown",
   "id": "4bc86c2d-7320-4420-aa0a-980014ac6078",
   "metadata": {},
   "source": [
    "## 3. Model 0: Build a baseline model"
   ]
  },
  {
   "cell_type": "markdown",
   "id": "a08d992e-338c-4dd3-bf8c-76c6dba7079f",
   "metadata": {},
   "source": [
    "When starting to build a series of machine learning modeling experiments, `it's a best practice to start with a baseline model`.\n",
    "\n",
    "`A baseline model` is a simple model you will try and improve upon with subsequent models/experiments.\n",
    "\n",
    "In other words: `start simply and add complexity when necessary`"
   ]
  },
  {
   "cell_type": "code",
   "execution_count": 8,
   "id": "f3ce5e8c-1dc5-4e40-8e03-87e42de7bda3",
   "metadata": {},
   "outputs": [
    {
     "name": "stdout",
     "output_type": "stream",
     "text": [
      "Shape before flattening torch.Size([1, 28, 28]) <- [color_channels, height, width]\n",
      "Shape after flattening torch.Size([1, 784]) <- [color_channels, height*width]\n"
     ]
    }
   ],
   "source": [
    "# create a flatten layer\n",
    "flatten_model = nn.Flatten()\n",
    "\n",
    "# get a single sample\n",
    "x= train_features_batch[0]\n",
    "\n",
    "# flatten the sample\n",
    "output = flatten_model(x)\n",
    "\n",
    "# print out what happened\n",
    "print(f'Shape before flattening {x.shape} <- [color_channels, height, width]')\n",
    "print(f'Shape after flattening {output.shape} <- [color_channels, height*width]')"
   ]
  },
  {
   "cell_type": "code",
   "execution_count": 9,
   "id": "e6e7765a-4696-468f-9d55-75e5e1367648",
   "metadata": {},
   "outputs": [],
   "source": [
    "class FashionMNISTModelV0(nn.Module):\n",
    "    def __init__(self,\n",
    "               input_shape: int,\n",
    "               hidden_units: int,\n",
    "               output_shape: int):\n",
    "        super().__init__()\n",
    "        self.layer_stack = nn.Sequential(\n",
    "            nn.Flatten(),\n",
    "            nn.Linear(in_features=input_shape, out_features=hidden_units),\n",
    "            nn.Linear(in_features=hidden_units, out_features=output_shape)\n",
    "        )\n",
    "\n",
    "    def forward(self, x:torch.Tensor) -> torch.Tensor:\n",
    "        return self.layer_stack(x)"
   ]
  },
  {
   "cell_type": "code",
   "execution_count": 10,
   "id": "1ba7cc89-6330-4b1e-8127-e5fcd831f485",
   "metadata": {},
   "outputs": [
    {
     "data": {
      "text/plain": [
       "FashionMNISTModelV0(\n",
       "  (layer_stack): Sequential(\n",
       "    (0): Flatten(start_dim=1, end_dim=-1)\n",
       "    (1): Linear(in_features=784, out_features=10, bias=True)\n",
       "    (2): Linear(in_features=10, out_features=10, bias=True)\n",
       "  )\n",
       ")"
      ]
     },
     "execution_count": 10,
     "metadata": {},
     "output_type": "execute_result"
    }
   ],
   "source": [
    "torch.manual_seed(42)\n",
    "# setup model with input parameters\n",
    "model_0 = FashionMNISTModelV0(\n",
    "    input_shape = 784, # 28x28,\n",
    "    hidden_units = 10, # how many units in the hidden layer\n",
    "    output_shape = len(class_names)\n",
    ").to('cpu')\n",
    "\n",
    "model_0"
   ]
  },
  {
   "cell_type": "code",
   "execution_count": 101,
   "id": "c7a10a21-0d26-40f9-8ede-44ffbcf5c975",
   "metadata": {},
   "outputs": [
    {
     "data": {
      "text/plain": [
       "tensor([[-0.0315,  0.3171,  0.0531, -0.2525,  0.5959,  0.2112,  0.3233,  0.2694,\n",
       "         -0.1004,  0.0157]], grad_fn=<AddmmBackward0>)"
      ]
     },
     "execution_count": 101,
     "metadata": {},
     "output_type": "execute_result"
    }
   ],
   "source": [
    "dummy_x = torch.rand([1, 28,28])\n",
    "model_0(dummy_x)"
   ]
  },
  {
   "cell_type": "markdown",
   "id": "fa017f59-e972-4a3d-989b-07bd7f3a3f34",
   "metadata": {},
   "source": [
    "💡 Creating a dummy data and checking the output is the great way to see if our model is working correctly."
   ]
  },
  {
   "cell_type": "code",
   "execution_count": 102,
   "id": "313ab24f-5fa3-4720-8421-8a14d0c6ddad",
   "metadata": {},
   "outputs": [
    {
     "data": {
      "text/plain": [
       "OrderedDict([('layer_stack.1.weight',\n",
       "              tensor([[ 0.0273,  0.0296, -0.0084,  ..., -0.0142,  0.0093,  0.0135],\n",
       "                      [-0.0188, -0.0354,  0.0187,  ..., -0.0106, -0.0001,  0.0115],\n",
       "                      [-0.0008,  0.0017,  0.0045,  ..., -0.0127, -0.0188,  0.0059],\n",
       "                      ...,\n",
       "                      [-0.0116,  0.0273, -0.0344,  ...,  0.0176,  0.0283, -0.0011],\n",
       "                      [-0.0230,  0.0257,  0.0291,  ..., -0.0187, -0.0087,  0.0001],\n",
       "                      [ 0.0176, -0.0147,  0.0053,  ..., -0.0336, -0.0221,  0.0205]])),\n",
       "             ('layer_stack.1.bias',\n",
       "              tensor([-0.0093,  0.0283, -0.0033,  0.0255,  0.0017,  0.0037, -0.0302, -0.0123,\n",
       "                       0.0018,  0.0163])),\n",
       "             ('layer_stack.2.weight',\n",
       "              tensor([[ 0.0614, -0.0687,  0.0021,  0.2718,  0.2109,  0.1079, -0.2279, -0.1063,\n",
       "                        0.2019,  0.2847],\n",
       "                      [-0.1495,  0.1344, -0.0740,  0.2006, -0.0475, -0.2514, -0.3130, -0.0118,\n",
       "                        0.0932, -0.1864],\n",
       "                      [ 0.2488,  0.1500,  0.1907,  0.1457, -0.3050, -0.0580,  0.1643,  0.1565,\n",
       "                       -0.2877, -0.1792],\n",
       "                      [ 0.2305, -0.2618,  0.2397, -0.0610,  0.0232,  0.1542,  0.0851, -0.2027,\n",
       "                        0.1030, -0.2715],\n",
       "                      [-0.1596, -0.0555, -0.0633,  0.2302, -0.1726,  0.2654,  0.1473,  0.1029,\n",
       "                        0.2252, -0.2160],\n",
       "                      [-0.2725,  0.0118,  0.1559,  0.1596,  0.0132,  0.3024,  0.1124,  0.1366,\n",
       "                       -0.1533,  0.0965],\n",
       "                      [-0.1184, -0.2555, -0.2057, -0.1909, -0.0477, -0.1324,  0.2905,  0.1307,\n",
       "                       -0.2629,  0.0133],\n",
       "                      [ 0.2727, -0.0127,  0.0513,  0.0863, -0.1043, -0.2047, -0.1185, -0.0825,\n",
       "                        0.2488, -0.2571],\n",
       "                      [ 0.0425, -0.1209, -0.0336, -0.0281, -0.1227,  0.0730,  0.0747, -0.1816,\n",
       "                        0.1943,  0.2853],\n",
       "                      [-0.1310,  0.0645, -0.1171,  0.2168, -0.0245, -0.2820,  0.0736,  0.2621,\n",
       "                        0.0012, -0.0810]])),\n",
       "             ('layer_stack.2.bias',\n",
       "              tensor([-0.0087,  0.1791,  0.2712, -0.0791,  0.1685,  0.1762,  0.2825,  0.2266,\n",
       "                      -0.2612, -0.2613]))])"
      ]
     },
     "execution_count": 102,
     "metadata": {},
     "output_type": "execute_result"
    }
   ],
   "source": [
    "model_0.state_dict()"
   ]
  },
  {
   "cell_type": "markdown",
   "id": "86e82749-d748-401d-bade-a01c34532d3d",
   "metadata": {},
   "source": [
    "### 3.1 Setup loss, optimizer, and evaluation metrics\n",
    "\n",
    "* `Loss Function` - Since we're working with multi-class data, our loss function will be `nn.CrossEntropyLoss()`\n",
    "* `Optimizer` - we can select `torch.optim.SGD()` Stochastic Gradient Descent,\n",
    "  - Adam optimzer can be an option as well\n",
    "import sys\n",
    "sys.path.append(\"..\")* `Evaluation Metic` - Since we're working on a classification problem, let's use accuracy as our evaluation metrics"
   ]
  },
  {
   "cell_type": "code",
   "execution_count": 11,
   "id": "2b72f4db-076d-483b-8652-441828dd0fd0",
   "metadata": {},
   "outputs": [],
   "source": [
    "import sys\n",
    "sys.path.append('..')\n",
    "\n",
    "# import accuracy metric\n",
    "from helper_functions import accuracy_fn\n",
    "\n",
    "# setup loss function and optimizer\n",
    "loss_fn = nn.CrossEntropyLoss()\n",
    "optimizer = torch.optim.SGD(\n",
    "    params=model_0.parameters(),\n",
    "    lr=0.1\n",
    ")"
   ]
  },
  {
   "cell_type": "markdown",
   "id": "0ab5a215-02ba-4f9f-825f-2ff6db2a540d",
   "metadata": {},
   "source": [
    "### 3.2. Creating a function to time our experiments.\n",
    "\n",
    "Machine Learning is very experimental.\n",
    "\n",
    "Two of the main things you'll often want to track are:\n",
    "1. Model's performance (loss and accuracy value)\n",
    "2. How fast it runs."
   ]
  },
  {
   "cell_type": "code",
   "execution_count": 12,
   "id": "54c739eb-de1c-4113-9ec1-91c198d4f562",
   "metadata": {},
   "outputs": [],
   "source": [
    "from timeit import default_timer as timer\n",
    "\n",
    "def print_train_time(start, end, device = None):\n",
    "    \"\"\"\n",
    "    Print difference between start and end timer\n",
    "    \"\"\"\n",
    "    total_time  = end - start\n",
    "    print(f'Train time on {device}: {total_time:.3f} seconds')\n",
    "    \n",
    "    return total_time"
   ]
  },
  {
   "cell_type": "code",
   "execution_count": 13,
   "id": "0f150e42-3112-44c4-8701-cb4d51121725",
   "metadata": {},
   "outputs": [
    {
     "name": "stdout",
     "output_type": "stream",
     "text": [
      "Train time on None: 0.000 seconds\n"
     ]
    },
    {
     "data": {
      "text/plain": [
       "3.675097832456231e-05"
      ]
     },
     "execution_count": 13,
     "metadata": {},
     "output_type": "execute_result"
    }
   ],
   "source": [
    "start_time = timer()\n",
    "#somecode\n",
    "end_time = timer()\n",
    "print_train_time(start_time, end_time)"
   ]
  },
  {
   "cell_type": "markdown",
   "id": "91a904e8-d1be-4057-836c-8d33054426f9",
   "metadata": {},
   "source": [
    "### 3.3 Creating a training loop\n",
    "*and training the model in `batches` of data*\n",
    "\n",
    "1. Loop through epochs and use `tqdm` for progress bar.\n",
    "2. Loop through training atches, perform training steps, calculate the trainin loss *per batch*\n",
    "3. Loop through tresting batches, perform testing steps, calculate the test loss per batch.\n",
    "4. Print out what's happening\n",
    "5. Time it all (for fun)\n",
    "\n",
    "<div class='alert alert-info'>\n",
    "   The optimizer with update a model's parameter once per batch rather than once per epoch...\n",
    "</div>"
   ]
  },
  {
   "cell_type": "code",
   "execution_count": 14,
   "id": "5dd94d2f-2ea0-4240-99d0-875b909a8f09",
   "metadata": {},
   "outputs": [
    {
     "data": {
      "application/vnd.jupyter.widget-view+json": {
       "model_id": "5e69ca9a8eff49a384ac0acef91a6df1",
       "version_major": 2,
       "version_minor": 0
      },
      "text/plain": [
       "  0%|          | 0/3 [00:00<?, ?it/s]"
      ]
     },
     "metadata": {},
     "output_type": "display_data"
    },
    {
     "name": "stdout",
     "output_type": "stream",
     "text": [
      "epoch: 0\n",
      " ------\n",
      "Looked at 0/60000 samples\n",
      "Looked at 12800/60000 samples\n",
      "Looked at 25600/60000 samples\n",
      "Looked at 38400/60000 samples\n",
      "Looked at 51200/60000 samples\n",
      "\n",
      "Train Loss: 0.5904 | Test Loss: 0.5095 , Test acc: 82.0387\n",
      "Train time on cpu: 6.659 seconds\n",
      "epoch: 1\n",
      " ------\n",
      "Looked at 0/60000 samples\n",
      "Looked at 12800/60000 samples\n",
      "Looked at 25600/60000 samples\n",
      "Looked at 38400/60000 samples\n",
      "Looked at 51200/60000 samples\n",
      "\n",
      "Train Loss: 0.4763 | Test Loss: 0.4799 , Test acc: 83.1969\n",
      "Train time on cpu: 13.279 seconds\n",
      "epoch: 2\n",
      " ------\n",
      "Looked at 0/60000 samples\n",
      "Looked at 12800/60000 samples\n",
      "Looked at 25600/60000 samples\n",
      "Looked at 38400/60000 samples\n",
      "Looked at 51200/60000 samples\n",
      "\n",
      "Train Loss: 0.4550 | Test Loss: 0.4766 , Test acc: 83.4265\n",
      "Train time on cpu: 19.894 seconds\n"
     ]
    }
   ],
   "source": [
    "# import tqdm for progress bar\n",
    "from tqdm.auto import tqdm\n",
    "#tqdm.auto will recognize what computer environment we are using and gives \n",
    "# us the best type of progress bar for us\n",
    "# jupyter notebook progress bar is different from python script\n",
    "\n",
    "# set the seed and start the timer\n",
    "torch.manual_seed(42)\n",
    "train_start_time_on_cpu = timer()\n",
    "\n",
    "# set the number of epochs (we'll keep small for faster training time)\n",
    "epochs = 3\n",
    "\n",
    "# create training and test loop\n",
    "\n",
    "for epoch in tqdm(range(epochs)):\n",
    "    print(f'epoch: {epoch}\\n ------')\n",
    "\n",
    "    # training\n",
    "    train_loss = 0\n",
    "\n",
    "    for batch, (X,y) in enumerate(train_dataloader):\n",
    "        model_0.train()\n",
    "\n",
    "        # forward pass\n",
    "        y_pred = model_0(X)\n",
    "\n",
    "        calculate loss\n",
    "        loss = loss_fn(y_pred, y)\n",
    "        train_loss += loss # acculate the loss for this batch\n",
    "\n",
    "        # optimizer zero grad\n",
    "        optimizer.zero_grad()\n",
    "\n",
    "        # loss backward\n",
    "        loss.backward()\n",
    "\n",
    "        # optimizer step\n",
    "        optimizer.step()\n",
    "\n",
    "        # print out what's happening\n",
    "        if batch % 400 == 0:\n",
    "            print(f'Looked at {batch*len(X)}/{len(train_dataloader.dataset)} samples')\n",
    "    # calculate the average train loss per epoch\n",
    "    train_loss /= len(train_dataloader)\n",
    "    # testing\n",
    "    test_loss, test_acc = 0, 0\n",
    "    model_0.eval()\n",
    "    with torch.inference_mode():\n",
    "        for X_test, y_test in test_dataloader:\n",
    "            #forward pass\n",
    "            test_pred = model_0(X_test)\n",
    "\n",
    "            # caculate the loss\n",
    "            test_loss += loss_fn(test_pred, y_test)\n",
    "\n",
    "            # calculate the accuracy\n",
    "            test_acc += accuracy_fn(y_true=y_test, y_pred=test_pred.argmax(dim=1))\n",
    "        # calculate the average test loss per batch\n",
    "        test_loss /= len(test_dataloader)\n",
    "\n",
    "        # calculate the average test acc per batch\n",
    "        test_acc /= len(test_dataloader)\n",
    "        \n",
    "        # print out what's happening\n",
    "        print(f'\\nTrain Loss: {train_loss:.4f} | Test Loss: {test_loss:.4f} , Test acc: {test_acc:.4f}')\n",
    "\n",
    "    #calcuate the time\n",
    "    train_end_time_on_cpu = timer()\n",
    "    total_train_time_model_0 = print_train_time(start=train_start_time_on_cpu,\n",
    "                                                end=train_end_time_on_cpu,\n",
    "                                                device=str(next(model_0.parameters()).device))\n",
    "    "
   ]
  },
  {
   "cell_type": "markdown",
   "id": "6c8ed062-7fbc-47e0-99b2-94d6a12349ce",
   "metadata": {},
   "source": [
    "## 4. Make Predictions and get Model 0 Models"
   ]
  },
  {
   "cell_type": "code",
   "execution_count": 15,
   "id": "8c711c9b-9bd6-4b96-9221-b0620487add6",
   "metadata": {},
   "outputs": [
    {
     "name": "stdout",
     "output_type": "stream",
     "text": [
      "Evaluating...\n"
     ]
    },
    {
     "data": {
      "application/vnd.jupyter.widget-view+json": {
       "model_id": "c1f15a34cf7c41738ac4710b9fb56d6c",
       "version_major": 2,
       "version_minor": 0
      },
      "text/plain": [
       "  0%|          | 0/313 [00:00<?, ?it/s]"
      ]
     },
     "metadata": {},
     "output_type": "display_data"
    },
    {
     "data": {
      "text/plain": [
       "{'model_name': 'FashionMNISTModelV0',\n",
       " 'model_loss': 0.47663894295692444,\n",
       " 'model_acc': 83.42651757188499}"
      ]
     },
     "execution_count": 15,
     "metadata": {},
     "output_type": "execute_result"
    }
   ],
   "source": [
    "torch.manual_seed(42)\n",
    "\n",
    "def eval_model(model: torch.nn.Module,\n",
    "               data_loader: torch.utils.data.DataLoader,\n",
    "               loss_fn: torch.nn.Module,\n",
    "               accuracy_fn):\n",
    "    \"\"\"\n",
    "    Returns a dictionary containing the results of model predicting on data_loader.\n",
    "    \"\"\"\n",
    "    loss, acc = 0, 0\n",
    "\n",
    "    model.eval()\n",
    "    with torch.inference_mode():            \n",
    "        print(\"Evaluating...\")\n",
    "        for X,y in tqdm(data_loader):\n",
    "            #make predictions\n",
    "            y_pred = model(X)\n",
    "\n",
    "            # accumulate the loss and acc values per batch\n",
    "            loss +=loss_fn(y_pred,y)\n",
    "            acc += accuracy_fn(y_true=y, y_pred = y_pred.argmax(dim=1))\n",
    "\n",
    "        # Average loss/acc per batch\n",
    "        loss /= len(data_loader)\n",
    "        acc /= len(data_loader)\n",
    "    return {\n",
    "        'model_name': model.__class__.__name__, # only works after the model is created\n",
    "        'model_loss': loss.item(),\n",
    "        'model_acc': acc\n",
    "    }\n",
    "\n",
    "\n",
    "model_0_results = eval_model(model=model_0,\n",
    "                             data_loader=test_dataloader,\n",
    "                             loss_fn=loss_fn,\n",
    "                             accuracy_fn = accuracy_fn)\n",
    "model_0_results"
   ]
  },
  {
   "cell_type": "markdown",
   "id": "3433358d-4246-484b-a35b-4f6364ce7fe3",
   "metadata": {},
   "source": [
    "## 5. Setup device agnostic code (for using GPU if available)"
   ]
  },
  {
   "cell_type": "code",
   "execution_count": 16,
   "id": "b2ef5bf4-34ca-4f4a-aa3d-3f9b69b5d270",
   "metadata": {},
   "outputs": [
    {
     "data": {
      "text/plain": [
       "'cpu'"
      ]
     },
     "execution_count": 16,
     "metadata": {},
     "output_type": "execute_result"
    }
   ],
   "source": [
    "device = (\n",
    "    'cuda' if torch.cuda.is_available() \n",
    "    # else 'mps' if torch.backends.mps.is_available() \n",
    "    else 'cpu'\n",
    ")\n",
    "device"
   ]
  },
  {
   "cell_type": "markdown",
   "id": "39e5cc10-c77b-4a75-8720-acf740110721",
   "metadata": {},
   "source": [
    "## 6. Model 1\n",
    "Building a model with non-linearity"
   ]
  },
  {
   "cell_type": "code",
   "execution_count": 30,
   "id": "f11ebf45-567c-4d3f-9d9b-bc1e8068127a",
   "metadata": {},
   "outputs": [
    {
     "data": {
      "text/plain": [
       "FashionMNISTModelV1(\n",
       "  (sequential_layer): Sequential(\n",
       "    (0): Flatten(start_dim=1, end_dim=-1)\n",
       "    (1): Linear(in_features=784, out_features=10, bias=True)\n",
       "    (2): ReLU()\n",
       "    (3): Linear(in_features=10, out_features=10, bias=True)\n",
       "    (4): ReLU()\n",
       "  )\n",
       ")"
      ]
     },
     "execution_count": 30,
     "metadata": {},
     "output_type": "execute_result"
    }
   ],
   "source": [
    "class FashionMNISTModelV1(nn.Module):\n",
    "    def __init__(self, \n",
    "                input_shape:int,\n",
    "                hidden_units: int,\n",
    "                output_shape: int):\n",
    "        super().__init__()\n",
    "        self.sequential_layer = (\n",
    "            nn.Sequential(\n",
    "                nn.Flatten(),\n",
    "                nn.Linear(in_features=input_shape, out_features=hidden_units),\n",
    "                nn.ReLU(),\n",
    "                nn.Linear(in_features=hidden_units, out_features=output_shape),\n",
    "                nn.ReLU()\n",
    "            )\n",
    "        )\n",
    "    def forward(self, x: torch.Tensor) -> torch.Tensor:\n",
    "        return self.sequential_layer(x)\n",
    "\n",
    "model_1 = (\n",
    "    FashionMNISTModelV1(784, 10, len(class_names))\n",
    ").to(device)\n",
    "model_1"
   ]
  },
  {
   "cell_type": "markdown",
   "id": "394601c5-4034-4aab-b335-ed45ab2f2e12",
   "metadata": {},
   "source": [
    "### 6.1. Setup a loss and an optimizer"
   ]
  },
  {
   "cell_type": "code",
   "execution_count": 36,
   "id": "2131533e-ba03-44c5-a348-83ad8c71cdab",
   "metadata": {},
   "outputs": [],
   "source": [
    "loss_fn = nn.CrossEntropyLoss() # measure how wrong our model is\n",
    "optimizer = torch.optim.SGD(params=model_1.parameters(),\n",
    "                           lr=0.1) # tries to update our model's parameters to reduce the loss"
   ]
  },
  {
   "cell_type": "markdown",
   "id": "0dd1c1bc-b434-4914-be9f-4620c40a41f0",
   "metadata": {},
   "source": [
    "### 6.2. Functionizing Training and Evaluation/Testing Loop\n",
    "\n",
    "Let's create a function for:\n",
    "- training loop - `train_step()`\n",
    "- testing loop - `test_step()`"
   ]
  },
  {
   "cell_type": "code",
   "execution_count": 50,
   "id": "a2feb7ab-55aa-477a-b57b-d81d0634e145",
   "metadata": {},
   "outputs": [],
   "source": [
    "def train_step(model: torch.nn.Module,\n",
    "               data_loader: torch.utils.data.DataLoader,\n",
    "               loss_fn: torch.nn.Module,\n",
    "               optimizer: torch.optim.Optimizer,\n",
    "               accuracy_fn,\n",
    "               device: torch.device = device):\n",
    "    \"\"\"\n",
    "    Performs a training with model trying to learn on data_loader.\n",
    "    \"\"\"\n",
    "    train_loss, train_acc = 0, 0\n",
    "\n",
    "    # put model into training mode\n",
    "    model.train()\n",
    "    \n",
    "    for batch, (X,y) in enumerate(data_loader):\n",
    "        # put data in target device\n",
    "        X, y = X.to(device), y.to(device)\n",
    "        \n",
    "        # forward pass (outputs the raw logits from the model)\n",
    "        y_pred = model(X)\n",
    "\n",
    "        # calculate loss and acc\n",
    "        loss = loss_fn(y_pred, y)\n",
    "        acc = accuracy_fn(y_true=y, \n",
    "                          y_pred = y_pred.argmax(dim=1)) # go from logits -> predicted label\n",
    "        train_loss += loss # acculate the loss for this batch\n",
    "        train_acc += acc # accumulate the accu for this batch\n",
    "\n",
    "        # optimizer zero grad\n",
    "        optimizer.zero_grad()\n",
    "\n",
    "        # loss backward\n",
    "        loss.backward()\n",
    "\n",
    "        # optimizer step\n",
    "        optimizer.step()\n",
    "\n",
    "    # Devide total train loss and acc by length fo train dataloader\n",
    "    train_loss /= len(data_loader)\n",
    "    train_acc /= len(data_loader)\n",
    "    # print out what's happening\n",
    "    print(f'\\nTrain Loss: {train_loss:.5f} |Train acc: {test_acc:.5f}')\n",
    "\n",
    "    \n",
    "def test_step(model: torch.nn.Module,\n",
    "             data_loader: torch.utils.data.DataLoader,\n",
    "             loss_fn: torch.nn.Module,\n",
    "             accuracy_fn,\n",
    "             device: torch.device = device):\n",
    "    \"\"\"\n",
    "    Performs a test to the model trying to test the data_loader\n",
    "    \"\"\"\n",
    "    # put the model in evaluatio mode\n",
    "    model.eval()\n",
    "\n",
    "    # Turn on inference mode context manager\n",
    "    with torch.inference_mode():\n",
    "        test_loss, test_acc = 0,0\n",
    "        for X_test, y_test in data_loader:\n",
    "            # put X and y on target device\n",
    "            X_test, y_test = X_test.to(device), y_test.to(device)\n",
    "\n",
    "            # forward pass\n",
    "            test_pred = model(X_test) # return logits\n",
    "\n",
    "            # calculate loss and acc\n",
    "            loss = loss_fn(test_pred, y_test)\n",
    "            acc = accuracy_fn(y_true = y_test, y_pred=test_pred.argmax(dim=1))\n",
    "            test_loss += loss\n",
    "            test_acc += acc\n",
    "        test_loss /= len(data_loader)\n",
    "        test_acc /= len(data_loader)\n",
    "\n",
    "    print(f'Testing Loss: {test_loss} | Acc {test_acc}')"
   ]
  },
  {
   "cell_type": "code",
   "execution_count": 53,
   "id": "9fe718f0-1195-4972-a132-ba774595d6a2",
   "metadata": {},
   "outputs": [
    {
     "data": {
      "application/vnd.jupyter.widget-view+json": {
       "model_id": "670ba05a8bc34ff1886ef709b5733ea6",
       "version_major": 2,
       "version_minor": 0
      },
      "text/plain": [
       "  0%|          | 0/3 [00:00<?, ?it/s]"
      ]
     },
     "metadata": {},
     "output_type": "display_data"
    },
    {
     "name": "stdout",
     "output_type": "stream",
     "text": [
      "Epoch: 0 ------\n",
      "\n",
      "Train Loss: 0.39926 |Train acc: 84.30511\n",
      "Testing Loss: 0.47663894295692444 | Acc 83.42651757188499\n",
      "Epoch: 1 ------\n",
      "\n",
      "Train Loss: 0.39290 |Train acc: 84.30511\n",
      "Testing Loss: 0.47663894295692444 | Acc 83.42651757188499\n",
      "Epoch: 2 ------\n",
      "\n",
      "Train Loss: 0.38722 |Train acc: 84.30511\n",
      "Testing Loss: 0.47663894295692444 | Acc 83.42651757188499\n",
      "Train time on cpu: 20.222 seconds\n"
     ]
    }
   ],
   "source": [
    "# using training and test step function for the training and testing\n",
    "\n",
    "torch.manual_seed(42)\n",
    "\n",
    "# measure time\n",
    "from timeit import default_timer as timer\n",
    "\n",
    "train_time_start_on_target_device = timer()\n",
    "\n",
    "epochs = 3\n",
    "\n",
    "for epoch in tqdm(range(epochs)):\n",
    "    print(f\"Epoch: {epoch} ------\")\n",
    "    train_step(model=model_1, \n",
    "               data_loader=train_dataloader, \n",
    "               loss_fn=loss_fn,\n",
    "               optimizer=optimizer,\n",
    "               accuracy_fn=accuracy_fn,\n",
    "               device=device)\n",
    "    test_step(model = model_0,\n",
    "             data_loader=test_dataloader,\n",
    "             loss_fn=loss_fn,\n",
    "             accuracy_fn=accuracy_fn,\n",
    "             device=device)\n",
    "    \n",
    "train_time_end_on_target_device = timer()\n",
    "\n",
    "total_train_time_model_1 = print_train_time(start=train_time_start_on_target_device,\n",
    "                                            end = train_time_end_on_target_device,\n",
    "                                            device=device)"
   ]
  },
  {
   "cell_type": "markdown",
   "id": "843b4683-3be2-4b1b-8bd2-4febcab5ddc9",
   "metadata": {},
   "source": [
    "**Note:** Sometimes, dependin gon your data/hardware you might find that your model trains faser on CPU than GPU.\n",
    "\n",
    "**Why is this?**\n",
    "1. It could be that the overhead for copying data/model to and from the GPU outweighs the compute benefits offered by the GPU.\n",
    "2. THe hardware you're usin ghas a better CPU in terms of computing capability than the GPU.\n",
    "\n",
    "For more on how to make your models compute faster, read the article: https://horace.io/brrr_intro.html"
   ]
  },
  {
   "cell_type": "code",
   "execution_count": 54,
   "id": "81eb6020-24b8-41d8-a57c-696e965266a6",
   "metadata": {},
   "outputs": [
    {
     "name": "stdout",
     "output_type": "stream",
     "text": [
      "Evaluating...\n"
     ]
    },
    {
     "data": {
      "application/vnd.jupyter.widget-view+json": {
       "model_id": "71f9322e5537435d91f690526891ee6d",
       "version_major": 2,
       "version_minor": 0
      },
      "text/plain": [
       "  0%|          | 0/313 [00:00<?, ?it/s]"
      ]
     },
     "metadata": {},
     "output_type": "display_data"
    },
    {
     "data": {
      "text/plain": [
       "{'model_name': 'FashionMNISTModelV1',\n",
       " 'model_loss': 0.43456149101257324,\n",
       " 'model_acc': 84.85423322683707}"
      ]
     },
     "execution_count": 54,
     "metadata": {},
     "output_type": "execute_result"
    }
   ],
   "source": [
    "# get model_1 results dictionary\n",
    "\n",
    "model_1_results = eval_model(model=model_1,\n",
    "                             data_loader=test_dataloader,\n",
    "                             loss_fn=loss_fn,\n",
    "                             accuracy_fn=accuracy_fn)\n",
    "model_1_results"
   ]
  },
  {
   "cell_type": "code",
   "execution_count": 55,
   "id": "a939f038-12e4-44c6-90c8-b9a06c648e86",
   "metadata": {},
   "outputs": [
    {
     "data": {
      "text/plain": [
       "{'model_name': 'FashionMNISTModelV0',\n",
       " 'model_loss': 0.47663894295692444,\n",
       " 'model_acc': 83.42651757188499}"
      ]
     },
     "execution_count": 55,
     "metadata": {},
     "output_type": "execute_result"
    }
   ],
   "source": [
    "model_0_results"
   ]
  },
  {
   "cell_type": "markdown",
   "id": "7e4901d3-d54b-45bb-9cdd-bd154ce1c123",
   "metadata": {},
   "source": [
    "## 7. Model 2: Building a Convolutional Neural Network (CNN)\n",
    "\n",
    "`CNN`'s are also known as `ConvNets`\n",
    "\n",
    "CNN's are `known for` their capabilities to find `patterns in visual data`.\n",
    "\n",
    "To find out what's happening inside a CNN, go to this website: https://poloclub.github.io/cnn-explainer/"
   ]
  },
  {
   "cell_type": "code",
   "execution_count": 127,
   "id": "9bbb339b-ad0d-4d15-827c-0eb56a0887ca",
   "metadata": {},
   "outputs": [],
   "source": [
    "#create a p neural network\n",
    "\n",
    "class FashionMNISTMODELV2(nn.Module):\n",
    "    \"\"\"\n",
    "    Model that replicates the TinyVGG architecture from CNN explorer website\n",
    "    \"\"\"\n",
    "\n",
    "    def __init__(self, input_shape:int, hidden_units: int, output_shape: int):\n",
    "        super().__init__()\n",
    "        self.conv_block_1 = nn.Sequential(\n",
    "            nn.Conv2d(in_channels=input_shape,\n",
    "                      out_channels=hidden_units,\n",
    "                      kernel_size=3,\n",
    "                      stride=1,\n",
    "                      padding=1),\n",
    "            nn.ReLU(),\n",
    "            nn.Conv2d(in_channels=hidden_units,\n",
    "                      out_channels=hidden_units,\n",
    "                      kernel_size=3,\n",
    "                      stride=1,\n",
    "                      padding=1),\n",
    "            nn.ReLU(),\n",
    "            nn.MaxPool2d(kernel_size=2)\n",
    "        )\n",
    "        self.conv_block_2 = nn.Sequential(\n",
    "            nn.Conv2d(in_channels=hidden_units,\n",
    "                      out_channels=hidden_units,\n",
    "                      kernel_size=3,\n",
    "                      stride=1,\n",
    "                      padding=1),\n",
    "            nn.ReLU(),\n",
    "            nn.Conv2d(in_channels=hidden_units,\n",
    "                      out_channels=hidden_units,\n",
    "                      kernel_size=3,\n",
    "                      stride=1,\n",
    "                      padding=1),\n",
    "            nn.ReLU(),\n",
    "            nn.MaxPool2d(kernel_size=2)\n",
    "        )\n",
    "\n",
    "        self.classifier = nn.Sequential(\n",
    "            nn.Flatten(),\n",
    "            nn.Linear(in_features=hidden_units*7*7, # hidden_units * ? * ?\n",
    "                      out_features=output_shape)\n",
    "        )\n",
    "\n",
    "    def forward(self, x:torch.Tensor) -> torch.Tensor:\n",
    "        x = self.conv_block_1(x)\n",
    "        # print('Output shape of conv1:', x.shape)\n",
    "        x = self.conv_block_2(x)\n",
    "        # print('Output shape of conv2:', x.shape)\n",
    "        x = self.classifier(x)\n",
    "        # print('Output shape of classifier', x.shape)\n",
    "        \n",
    "        return x"
   ]
  },
  {
   "cell_type": "code",
   "execution_count": 128,
   "id": "fbc72233-6440-429b-a667-528b4f8fd53d",
   "metadata": {},
   "outputs": [],
   "source": [
    "torch.manual_seed(42)\n",
    "\n",
    "model_2 = FashionMNISTMODELV2(input_shape=1,  # number of color channels\n",
    "                              hidden_units=10,\n",
    "                              output_shape = len(class_names)).to(device)\n",
    "# model_2"
   ]
  },
  {
   "cell_type": "code",
   "execution_count": 110,
   "id": "0b7d6749-fdd2-4252-a1d9-7f255ca0269b",
   "metadata": {},
   "outputs": [
    {
     "name": "stdout",
     "output_type": "stream",
     "text": [
      "Random Image shape: torch.Size([1, 28, 28])\n",
      "Shape of image after conv 1: torch.Size([10, 14, 14])\n",
      "Shape of image after conv 2: torch.Size([10, 7, 7])\n"
     ]
    }
   ],
   "source": [
    "torch.manual_seed(42)\n",
    "\n",
    "random_image = torch.randn(size=(1,28,28))\n",
    "print(f'Random Image shape: {random_image.shape}')\n",
    "\n",
    "random_image_after_conv1 = model_2.conv_block_1(random_image)\n",
    "print(f'Shape of image after conv 1: {random_image_after_conv1.shape}')\n",
    "random_image_after_conv2 = model_2.conv_block_2(random_image_after_conv1)\n",
    "print(f'Shape of image after conv 2: {random_image_after_conv2.shape}')"
   ]
  },
  {
   "cell_type": "markdown",
   "id": "694c1616-3fec-4049-96f9-b1aeac7a8899",
   "metadata": {},
   "source": [
    "match the output of conv layer 2 with the linear layer in feature\n",
    "\n",
    "here in_features = 10*7*7\n",
    "\n",
    "`10` is the hidden units size \n",
    "\n",
    "7*7,  we need to put manually\n",
    "\n",
    "> self.classifier = nn.Sequential(\n",
    "            nn.Flatten(),\n",
    "            nn.Linear(in_features=`hidden_units*7*7`, # hidden_units * ? * ?\n",
    "                      out_features=output_shape)\n",
    "        )"
   ]
  },
  {
   "cell_type": "code",
   "execution_count": 111,
   "id": "89fefae0-e4a0-402b-bbe3-77ee47f88afe",
   "metadata": {},
   "outputs": [
    {
     "name": "stdout",
     "output_type": "stream",
     "text": [
      "Output shape of conv1: torch.Size([1, 10, 14, 14])\n",
      "Output shape of conv2: torch.Size([1, 10, 7, 7])\n",
      "Output shape of classifier torch.Size([1, 10])\n"
     ]
    },
    {
     "data": {
      "text/plain": [
       "tensor([[ 0.0329, -0.0670,  0.0534, -0.0337, -0.0110,  0.0165, -0.0050, -0.0113,\n",
       "          0.0245,  0.0092]], grad_fn=<AddmmBackward0>)"
      ]
     },
     "execution_count": 111,
     "metadata": {},
     "output_type": "execute_result"
    }
   ],
   "source": [
    "# pass img through the model\n",
    "model_2(img.unsqueeze(0))"
   ]
  },
  {
   "cell_type": "markdown",
   "id": "d992505b-1a8c-4e25-a018-fb3a93f02abf",
   "metadata": {},
   "source": [
    "### 7.1. Stepping through `nn.Conv2d()`"
   ]
  },
  {
   "cell_type": "code",
   "execution_count": 63,
   "id": "82c5e074-4d17-4d40-94c3-5452b2b95d8f",
   "metadata": {},
   "outputs": [
    {
     "name": "stdout",
     "output_type": "stream",
     "text": [
      "Image batch shape: torch.Size([32, 3, 64, 64])\n",
      "Single Image Shape: torch.Size([3, 64, 64])\n",
      "Test Image: tensor([[[ 1.9269,  1.4873,  0.9007,  ...,  1.8446, -1.1845,  1.3835],\n",
      "         [ 1.4451,  0.8564,  2.2181,  ...,  0.3399,  0.7200,  0.4114],\n",
      "         [ 1.9312,  1.0119, -1.4364,  ..., -0.5558,  0.7043,  0.7099],\n",
      "         ...,\n",
      "         [-0.5610, -0.4830,  0.4770,  ..., -0.2713, -0.9537, -0.6737],\n",
      "         [ 0.3076, -0.1277,  0.0366,  ..., -2.0060,  0.2824, -0.8111],\n",
      "         [-1.5486,  0.0485, -0.7712,  ..., -0.1403,  0.9416, -0.0118]],\n",
      "\n",
      "        [[-0.5197,  1.8524,  1.8365,  ...,  0.8935, -1.5114, -0.8515],\n",
      "         [ 2.0818,  1.0677, -1.4277,  ...,  1.6612, -2.6223, -0.4319],\n",
      "         [-0.1010, -0.4388, -1.9775,  ...,  0.2106,  0.2536, -0.7318],\n",
      "         ...,\n",
      "         [ 0.2779,  0.7342, -0.3736,  ..., -0.4601,  0.1815,  0.1850],\n",
      "         [ 0.7205, -0.2833,  0.0937,  ..., -0.1002, -2.3609,  2.2465],\n",
      "         [-1.3242, -0.1973,  0.2920,  ...,  0.5409,  0.6940,  1.8563]],\n",
      "\n",
      "        [[-0.7978,  1.0261,  1.1465,  ...,  1.2134,  0.9354, -0.0780],\n",
      "         [-1.4647, -1.9571,  0.1017,  ..., -1.9986, -0.7409,  0.7011],\n",
      "         [-1.3938,  0.8466, -1.7191,  ..., -1.1867,  0.1320,  0.3407],\n",
      "         ...,\n",
      "         [ 0.8206, -0.3745,  1.2499,  ..., -0.0676,  0.0385,  0.6335],\n",
      "         [-0.5589, -0.3393,  0.2347,  ...,  2.1181,  2.4569,  1.3083],\n",
      "         [-0.4092,  1.5199,  0.2401,  ..., -0.2558,  0.7870,  0.9924]]])\n"
     ]
    }
   ],
   "source": [
    "torch.manual_seed(42)\n",
    "\n",
    "# create a batch of images\n",
    "images = torch.randn(32, 3,64,64)\n",
    "test_image = images[0]\n",
    "\n",
    "print(f'Image batch shape: {images.shape}')\n",
    "print(f'Single Image Shape: {test_image.shape}')\n",
    "print(f'Test Image: {test_image}')"
   ]
  },
  {
   "cell_type": "code",
   "execution_count": 69,
   "id": "8f2a32ab-e5c4-4666-8f09-9b408dd15a62",
   "metadata": {},
   "outputs": [
    {
     "data": {
      "text/plain": [
       "tensor([[[-0.4103, -0.5068,  0.9644,  ...,  0.6960, -0.0081,  0.6020],\n",
       "         [ 0.0467,  0.8329, -1.4136,  ..., -0.2810,  1.1271, -0.0278],\n",
       "         [ 0.5392, -1.0859, -0.0669,  ...,  0.1328,  0.0142,  0.8150],\n",
       "         ...,\n",
       "         [-0.4883,  1.2388, -0.3558,  ..., -0.3409, -0.4921,  0.3079],\n",
       "         [-0.3344, -0.0649, -0.0280,  ..., -0.0478, -0.7178,  0.3228],\n",
       "         [ 0.4608, -0.1360,  0.5038,  ...,  0.2493, -1.2336, -0.0082]],\n",
       "\n",
       "        [[-1.0391, -1.2402,  1.1575,  ..., -0.2089, -0.1993, -0.2307],\n",
       "         [-0.1979, -0.2104, -0.7991,  ..., -0.0536,  0.5827, -0.4988],\n",
       "         [-0.5856, -0.3684,  0.3043,  ..., -0.6935,  1.0387,  0.1609],\n",
       "         ...,\n",
       "         [-0.0320,  0.7160,  0.4218,  ..., -0.9014, -0.0952,  0.6352],\n",
       "         [ 0.4257, -0.8310,  0.9764,  ..., -0.4652,  0.3195, -0.4208],\n",
       "         [ 0.2081, -0.2335, -0.0649,  ...,  0.6992, -0.1542,  1.3336]],\n",
       "\n",
       "        [[-1.7688,  0.3536, -1.2540,  ..., -0.6188, -1.1902,  0.0516],\n",
       "         [ 0.2664, -0.4323,  0.2613,  ..., -0.4501, -0.5138,  0.3750],\n",
       "         [-1.0071,  0.8244, -0.4309,  ..., -0.3346,  0.6424, -0.6963],\n",
       "         ...,\n",
       "         [-0.0270, -0.0882, -0.0918,  ..., -0.5649, -0.7208,  0.1300],\n",
       "         [-0.9470,  0.6982, -0.6627,  ...,  0.1324, -0.1495,  1.0437],\n",
       "         [ 0.0412, -0.2713, -0.3995,  ..., -0.6214,  0.2090,  0.7954]],\n",
       "\n",
       "        ...,\n",
       "\n",
       "        [[ 0.6852, -0.6871,  0.9192,  ...,  0.3198,  0.2302,  0.8262],\n",
       "         [ 0.5410,  0.6663, -0.2458,  ..., -0.1062,  0.3029,  0.3599],\n",
       "         [ 1.9143,  0.1134,  1.2033,  ...,  0.3685, -0.2621,  0.4112],\n",
       "         ...,\n",
       "         [-0.3759, -0.0787,  0.3745,  ..., -0.2821,  0.0752, -0.1935],\n",
       "         [-0.5657, -0.8019, -1.0262,  ...,  0.1692, -1.1970, -0.3090],\n",
       "         [ 0.2136, -0.1282,  0.1839,  ..., -0.6045, -1.3158, -1.9512]],\n",
       "\n",
       "        [[-0.0985, -0.5703, -0.6997,  ..., -0.7489,  1.0354, -0.6908],\n",
       "         [-0.6795, -0.5399, -0.3934,  ..., -0.3127, -1.2443, -0.4019],\n",
       "         [-1.7220, -0.7068,  0.0138,  ..., -0.5537, -0.5311,  0.3873],\n",
       "         ...,\n",
       "         [-0.2966, -0.9090, -0.8069,  ..., -0.7345, -0.0969, -0.4127],\n",
       "         [ 0.5368,  0.2708,  1.0483,  ..., -0.2833, -0.7199, -0.6422],\n",
       "         [-0.0994, -0.8665, -0.3889,  ...,  0.4461,  0.5527,  0.6405]],\n",
       "\n",
       "        [[ 0.4465, -1.0202, -0.6828,  ...,  0.1465, -0.1137, -0.4902],\n",
       "         [-0.9042, -0.7827,  0.0703,  ..., -0.0503, -1.5954,  0.4775],\n",
       "         [-0.4733,  0.4728,  0.7900,  ...,  0.0938,  0.9477, -0.2488],\n",
       "         ...,\n",
       "         [-0.3937,  0.0312,  0.4415,  ..., -0.5730, -0.3583, -0.2006],\n",
       "         [-0.0501,  0.2967,  0.0628,  ..., -0.0098, -0.4173, -0.8541],\n",
       "         [-0.5508,  0.7291,  0.2821,  ..., -0.6229,  0.3072, -0.5589]]],\n",
       "       grad_fn=<SqueezeBackward1>)"
      ]
     },
     "execution_count": 69,
     "metadata": {},
     "output_type": "execute_result"
    }
   ],
   "source": [
    "# create a single conv2d layer\n",
    "conv_layer = nn.Conv2d(in_channels=3, \n",
    "                       out_channels=10, \n",
    "                       kernel_size=(3,3),\n",
    "                       stride=1,\n",
    "                       padding=0)\n",
    "# Pass the data through convolutional layer\n",
    "conv_output = conv_layer(test_image)\n",
    "conv_output"
   ]
  },
  {
   "cell_type": "markdown",
   "id": "4758cba3-4e43-473c-9f80-7507cafbe506",
   "metadata": {},
   "source": [
    "### 7.2. Stepping through `nn.MaxPoo.2d()`"
   ]
  },
  {
   "cell_type": "code",
   "execution_count": 70,
   "id": "e595b93b-cf63-43d4-9ce7-167e34a046e1",
   "metadata": {},
   "outputs": [
    {
     "name": "stdout",
     "output_type": "stream",
     "text": [
      "Test Image original shape: torch.Size([3, 64, 64])\n"
     ]
    }
   ],
   "source": [
    "print(f'Test Image original shape: {test_image.shape}')"
   ]
  },
  {
   "cell_type": "code",
   "execution_count": 73,
   "id": "fd24c0df-92c7-4aaf-b222-a16b9448ea46",
   "metadata": {},
   "outputs": [
    {
     "name": "stdout",
     "output_type": "stream",
     "text": [
      "Shape after going through convconv_layer(): torch.Size([10, 62, 62])\n",
      "Shape after going through max pool layer(): torch.Size([10, 31, 31])\n"
     ]
    }
   ],
   "source": [
    "# create a sample nn.MaxPool2d layer\n",
    "max_pool_layer = nn.MaxPool2d(kernel_size=2)\n",
    "\n",
    "# Pass data through just the conv_layer\n",
    "test_image_through_conv = conv_layer(test_image)\n",
    "print(f'Shape after going through convconv_layer(): {test_image_through_conv.shape}')\n",
    "\n",
    "test_image_through_conv_and_max_pool = max_pool_layer(test_image_through_conv)\n",
    "print(f'Shape after going through max pool layer(): {test_image_through_conv_and_max_pool.shape}')"
   ]
  },
  {
   "cell_type": "code",
   "execution_count": 77,
   "id": "9d417cc6-f537-4a5c-b95e-59a4f123acd9",
   "metadata": {},
   "outputs": [
    {
     "name": "stdout",
     "output_type": "stream",
     "text": [
      "\n",
      "Random tensor: \n",
      " tensor([[[[0.3367, 0.1288],\n",
      "          [0.2345, 0.2303]]]])\n",
      "Random tensor shape: torch.Size([1, 1, 2, 2])\n",
      "\n",
      "Max pool tensor: \n",
      " tensor([[[[0.3367]]]])\n",
      "Max pool tensor shape: torch.Size([1, 1, 1, 1])\n"
     ]
    }
   ],
   "source": [
    "torch.manual_seed(42)\n",
    "\n",
    "# create a random tensor with a similar number of dimentions in our images\n",
    "random_tensor = torch.randn(size=(1,1,2,2))\n",
    "print(f'\\nRandom tensor: \\n {random_tensor}')\n",
    "print(f'Random tensor shape: {random_tensor.shape}')\n",
    "\n",
    "# create a max pool layer\n",
    "max_pool_layer = nn.MaxPool2d(kernel_size=2)\n",
    "\n",
    "# pass the random tensor to the max pool layer\n",
    "max_pool_tensor = max_pool_layer(random_tensor)\n",
    "print(f'\\nMax pool tensor: \\n {max_pool_tensor}')\n",
    "print(f'Max pool tensor shape: {max_pool_tensor.shape}')"
   ]
  },
  {
   "cell_type": "markdown",
   "id": "86ceaf19-3221-44de-954f-0297b6745287",
   "metadata": {},
   "source": [
    "### 7.3 Setup a loss function and an optimizer for model 2"
   ]
  },
  {
   "cell_type": "code",
   "execution_count": 129,
   "id": "36a11fa2-aeb4-422c-b213-ca6e0a5f1e96",
   "metadata": {},
   "outputs": [],
   "source": [
    "# setup loss function/eval metrics/optimizer\n",
    "from helper_functions import accuracy_fn\n",
    "\n",
    "loss_fn = nn.CrossEntropyLoss()\n",
    "optimizer = torch.optim.SGD(params=model_2.parameters(), \n",
    "                            lr=0.1)"
   ]
  },
  {
   "cell_type": "markdown",
   "id": "e439ea95-b8f0-444c-8d70-693afbe95d1b",
   "metadata": {},
   "source": [
    "### 7.4 Setup Train and Test Loop"
   ]
  },
  {
   "cell_type": "code",
   "execution_count": 130,
   "id": "67654660-2160-4158-8864-0254954a2c26",
   "metadata": {},
   "outputs": [
    {
     "data": {
      "application/vnd.jupyter.widget-view+json": {
       "model_id": "6c1ea471266c4075a336e6facde6433f",
       "version_major": 2,
       "version_minor": 0
      },
      "text/plain": [
       "  0%|          | 0/3 [00:00<?, ?it/s]"
      ]
     },
     "metadata": {},
     "output_type": "display_data"
    },
    {
     "name": "stdout",
     "output_type": "stream",
     "text": [
      "\n",
      "Epoch: 0\n",
      "___\n",
      "\n",
      "Train Loss: 0.58781 |Train acc: 84.30511\n",
      "Testing Loss: 0.4089137315750122 | Acc 85.16373801916933\n",
      "\n",
      "Epoch: 1\n",
      "___\n",
      "\n",
      "Train Loss: 0.36143 |Train acc: 84.30511\n",
      "Testing Loss: 0.35511189699172974 | Acc 86.82108626198082\n",
      "\n",
      "Epoch: 2\n",
      "___\n",
      "\n",
      "Train Loss: 0.32243 |Train acc: 84.30511\n",
      "Testing Loss: 0.3161371350288391 | Acc 88.55830670926518\n",
      "Train time on cpu: 39.491 seconds\n"
     ]
    }
   ],
   "source": [
    "# import tqdm for progress bar\n",
    "from tqdm.auto import tqdm\n",
    "\n",
    "#import timer for to record the time\n",
    "from timeit import default_timer as timer\n",
    "\n",
    "train_start_time = timer()\n",
    "\n",
    "torch.manual_seed(42)\n",
    "\n",
    "epochs = 3\n",
    "\n",
    "for epochs in tqdm(range(epochs)):\n",
    "    print(f'\\nEpoch: {epochs}\\n___')\n",
    "\n",
    "    train_step(model=model_2,\n",
    "              data_loader=train_dataloader,\n",
    "              loss_fn=loss_fn,\n",
    "              optimizer=optimizer,\n",
    "              accuracy_fn=accuracy_fn,\n",
    "              device=device)\n",
    "    test_step(model=model_2,\n",
    "             data_loader=test_dataloader,\n",
    "             loss_fn=loss_fn,\n",
    "             accuracy_fn=accuracy_fn,\n",
    "             device=device)\n",
    "train_end_time = timer()\n",
    "\n",
    "\n",
    "total_train_time_model_2 = print_train_time(start=train_start_time,\n",
    "                                            end=train_end_time,\n",
    "                                            device=device)\n",
    "    "
   ]
  },
  {
   "cell_type": "code",
   "execution_count": 133,
   "id": "29a62e2c-a3a7-4b1f-bbde-5aa4356fcd46",
   "metadata": {},
   "outputs": [
    {
     "name": "stdout",
     "output_type": "stream",
     "text": [
      "Evaluating...\n"
     ]
    },
    {
     "data": {
      "application/vnd.jupyter.widget-view+json": {
       "model_id": "7c87acc959294899a925e3f615665964",
       "version_major": 2,
       "version_minor": 0
      },
      "text/plain": [
       "  0%|          | 0/313 [00:00<?, ?it/s]"
      ]
     },
     "metadata": {},
     "output_type": "display_data"
    },
    {
     "data": {
      "text/plain": [
       "{'model_name': 'FashionMNISTMODELV2',\n",
       " 'model_loss': 0.3161371350288391,\n",
       " 'model_acc': 88.55830670926518}"
      ]
     },
     "execution_count": 133,
     "metadata": {},
     "output_type": "execute_result"
    }
   ],
   "source": [
    "# get model 2 results\n",
    "model_2_results = eval_model(\n",
    "    model = model_2,\n",
    "    data_loader=test_dataloader,\n",
    "    loss_fn=loss_fn,\n",
    "    accuracy_fn=accuracy_fn\n",
    ")\n",
    "model_2_results"
   ]
  },
  {
   "cell_type": "code",
   "execution_count": 136,
   "id": "1ed3fbd7-050d-4522-a31b-8e0b42f6bcd4",
   "metadata": {},
   "outputs": [
    {
     "name": "stdout",
     "output_type": "stream",
     "text": [
      "{'model_name': 'FashionMNISTModelV0', 'model_loss': 0.47663894295692444, 'model_acc': 83.42651757188499}\n",
      "\n",
      "{'model_name': 'FashionMNISTModelV1', 'model_loss': 0.43456149101257324, 'model_acc': 84.85423322683707}\n"
     ]
    }
   ],
   "source": [
    "print(model_0_results)\n",
    "print()\n",
    "print(model_1_results)"
   ]
  },
  {
   "cell_type": "markdown",
   "id": "16974fab-2ca1-4bb4-810d-90c8ef0f4e57",
   "metadata": {},
   "source": [
    "## 8. Compare model reuslts and training time"
   ]
  },
  {
   "cell_type": "code",
   "execution_count": 137,
   "id": "a931e0bb-05e8-452a-9c1a-3012f9b1b468",
   "metadata": {},
   "outputs": [
    {
     "data": {
      "text/html": [
       "<div>\n",
       "<style scoped>\n",
       "    .dataframe tbody tr th:only-of-type {\n",
       "        vertical-align: middle;\n",
       "    }\n",
       "\n",
       "    .dataframe tbody tr th {\n",
       "        vertical-align: top;\n",
       "    }\n",
       "\n",
       "    .dataframe thead th {\n",
       "        text-align: right;\n",
       "    }\n",
       "</style>\n",
       "<table border=\"1\" class=\"dataframe\">\n",
       "  <thead>\n",
       "    <tr style=\"text-align: right;\">\n",
       "      <th></th>\n",
       "      <th>model_name</th>\n",
       "      <th>model_loss</th>\n",
       "      <th>model_acc</th>\n",
       "    </tr>\n",
       "  </thead>\n",
       "  <tbody>\n",
       "    <tr>\n",
       "      <th>0</th>\n",
       "      <td>FashionMNISTModelV0</td>\n",
       "      <td>0.476639</td>\n",
       "      <td>83.426518</td>\n",
       "    </tr>\n",
       "    <tr>\n",
       "      <th>1</th>\n",
       "      <td>FashionMNISTModelV1</td>\n",
       "      <td>0.434561</td>\n",
       "      <td>84.854233</td>\n",
       "    </tr>\n",
       "    <tr>\n",
       "      <th>2</th>\n",
       "      <td>FashionMNISTMODELV2</td>\n",
       "      <td>0.316137</td>\n",
       "      <td>88.558307</td>\n",
       "    </tr>\n",
       "  </tbody>\n",
       "</table>\n",
       "</div>"
      ],
      "text/plain": [
       "            model_name  model_loss  model_acc\n",
       "0  FashionMNISTModelV0    0.476639  83.426518\n",
       "1  FashionMNISTModelV1    0.434561  84.854233\n",
       "2  FashionMNISTMODELV2    0.316137  88.558307"
      ]
     },
     "execution_count": 137,
     "metadata": {},
     "output_type": "execute_result"
    }
   ],
   "source": [
    "import pandas as pd\n",
    "\n",
    "compare_results = pd.DataFrame([model_0_results, model_1_results, model_2_results])\n",
    "compare_results"
   ]
  },
  {
   "cell_type": "code",
   "execution_count": 138,
   "id": "f7ebd2ed-7011-4a21-94e6-26e3d94d59c4",
   "metadata": {},
   "outputs": [
    {
     "data": {
      "text/html": [
       "<div>\n",
       "<style scoped>\n",
       "    .dataframe tbody tr th:only-of-type {\n",
       "        vertical-align: middle;\n",
       "    }\n",
       "\n",
       "    .dataframe tbody tr th {\n",
       "        vertical-align: top;\n",
       "    }\n",
       "\n",
       "    .dataframe thead th {\n",
       "        text-align: right;\n",
       "    }\n",
       "</style>\n",
       "<table border=\"1\" class=\"dataframe\">\n",
       "  <thead>\n",
       "    <tr style=\"text-align: right;\">\n",
       "      <th></th>\n",
       "      <th>model_name</th>\n",
       "      <th>model_loss</th>\n",
       "      <th>model_acc</th>\n",
       "      <th>training_time</th>\n",
       "    </tr>\n",
       "  </thead>\n",
       "  <tbody>\n",
       "    <tr>\n",
       "      <th>0</th>\n",
       "      <td>FashionMNISTModelV0</td>\n",
       "      <td>0.476639</td>\n",
       "      <td>83.426518</td>\n",
       "      <td>20.253864</td>\n",
       "    </tr>\n",
       "    <tr>\n",
       "      <th>1</th>\n",
       "      <td>FashionMNISTModelV1</td>\n",
       "      <td>0.434561</td>\n",
       "      <td>84.854233</td>\n",
       "      <td>20.222383</td>\n",
       "    </tr>\n",
       "    <tr>\n",
       "      <th>2</th>\n",
       "      <td>FashionMNISTMODELV2</td>\n",
       "      <td>0.316137</td>\n",
       "      <td>88.558307</td>\n",
       "      <td>39.491232</td>\n",
       "    </tr>\n",
       "  </tbody>\n",
       "</table>\n",
       "</div>"
      ],
      "text/plain": [
       "            model_name  model_loss  model_acc  training_time\n",
       "0  FashionMNISTModelV0    0.476639  83.426518      20.253864\n",
       "1  FashionMNISTModelV1    0.434561  84.854233      20.222383\n",
       "2  FashionMNISTMODELV2    0.316137  88.558307      39.491232"
      ]
     },
     "execution_count": 138,
     "metadata": {},
     "output_type": "execute_result"
    }
   ],
   "source": [
    "# add training time to the results comparison\n",
    "compare_results['training_time'] = [total_train_time_model_0, \n",
    "                                    total_train_time_model_1, \n",
    "                                    total_train_time_model_2]\n",
    "compare_results"
   ]
  },
  {
   "cell_type": "code",
   "execution_count": 140,
   "id": "9a1a6e53-00f9-47aa-a494-ca472cb0f933",
   "metadata": {},
   "outputs": [
    {
     "data": {
      "image/png": "[encoded data removed]",
      "text/plain": [
       "<Figure size 640x480 with 1 Axes>"
      ]
     },
     "metadata": {},
     "output_type": "display_data"
    }
   ],
   "source": [
    "# visualize our model results\n",
    "compare_results.set_index('model_name')['model_acc'].plot(kind='barh')\n",
    "plt.xlabel('accuracy %')\n",
    "plt.ylabel('model');"
   ]
  },
  {
   "cell_type": "code",
   "execution_count": 175,
   "id": "b461a2f7-b554-4e17-837d-2b4844cdd548",
   "metadata": {},
   "outputs": [],
   "source": [
    "# test_feature_batch, test_labels_batch = next(iter(test_dataloader))\n",
    "# print(f'shape of test feature batch: {test_feature_batch.shape}')\n",
    "# print(f'shape of test labels batch: {test_labels_batch.shape}')"
   ]
  },
  {
   "cell_type": "markdown",
   "id": "3667a8fa-6c24-41a2-b57a-035012bd75bd",
   "metadata": {},
   "source": [
    "## 9. Make predictions and Evaluate random image with a best model"
   ]
  },
  {
   "cell_type": "markdown",
   "id": "11849cc7-fcaa-499b-9dc8-fa40a1b56b7e",
   "metadata": {},
   "source": [
    "### Get random images from test_data"
   ]
  },
  {
   "cell_type": "code",
   "execution_count": 219,
   "id": "ab186610-2c6f-46ab-acbb-3c27f2b68e46",
   "metadata": {},
   "outputs": [
    {
     "data": {
      "text/plain": [
       "(torch.Size([1, 28, 28]), 9)"
      ]
     },
     "execution_count": 219,
     "metadata": {},
     "output_type": "execute_result"
    }
   ],
   "source": [
    "import random\n",
    "random.seed(42)\n",
    "test_samples = [] # we want a list of samples to iterate through\n",
    "test_labels = [] # to compare witht he ground truth\n",
    "\n",
    "# get 9 samples from the test data\n",
    "for sample, label in random.sample(list(test_data), k=9):\n",
    "    test_samples.append(sample)\n",
    "    test_labels.append(label)\n",
    "\n",
    "# view the first sample shape\n",
    "test_samples[0].shape, test_labels[0]"
   ]
  },
  {
   "cell_type": "code",
   "execution_count": 220,
   "id": "98e9f62b-5cd2-490a-b7b2-0e9e74af951d",
   "metadata": {},
   "outputs": [
    {
     "data": {
      "text/plain": [
       "Text(0.5, 1.0, 'Ankle boot')"
      ]
     },
     "execution_count": 220,
     "metadata": {},
     "output_type": "execute_result"
    },
    {
     "data": {
      "image/png": "[encoded data removed]",
      "text/plain": [
       "<Figure size 640x480 with 1 Axes>"
      ]
     },
     "metadata": {},
     "output_type": "display_data"
    }
   ],
   "source": [
    "plt.imshow(test_samples[0].squeeze(), cmap='gray')\n",
    "plt.title(class_names[test_labels[0]])"
   ]
  },
  {
   "cell_type": "markdown",
   "id": "349900e6-2190-41a9-b2b0-7556fdebd2d3",
   "metadata": {},
   "source": [
    "### Make predictions"
   ]
  },
  {
   "cell_type": "code",
   "execution_count": 207,
   "id": "1776eebe-56f5-412d-a293-c3a1d0a7a094",
   "metadata": {},
   "outputs": [],
   "source": [
    "def make_predictions(model: torch.nn.Module,\n",
    "                     data: list,\n",
    "                     device: torch.device = device):\n",
    "    pred_probs = []\n",
    "    model.to(device)\n",
    "    model.eval()\n",
    "    with torch.inference_mode():\n",
    "        for sample in data:\n",
    "            #prepare the sample (add a batch dimension and pass to target device)\n",
    "            sample = torch.unsqueeze(sample, dim=0)\n",
    "\n",
    "            # Forward pass (model outputs raw logits)\n",
    "            pred_logits = model(sample)\n",
    "\n",
    "            # get prediction probability (logits -> prediction prob)\n",
    "            pred_prob = torch.softmax(pred_logits.squeeze(), dim=0)\n",
    "\n",
    "            pred_probs.append(pred_prob.cpu())\n",
    "            \n",
    "    # Stack the pred_probs to turn list into a tensor\n",
    "    return torch.stack(pred_probs) # concatenate everything in the list to the single tensor"
   ]
  },
  {
   "cell_type": "code",
   "execution_count": 221,
   "id": "e29dfef7-0703-41ca-b361-cd6486d83731",
   "metadata": {},
   "outputs": [
    {
     "data": {
      "text/plain": [
       "tensor([[4.4433e-05, 3.2681e-05, 3.4904e-05, 1.9031e-04, 2.7915e-05, 4.9642e-03,\n",
       "         4.9197e-05, 1.1671e-02, 3.0146e-02, 9.5284e-01],\n",
       "        [1.1341e-04, 5.5577e-06, 6.3838e-05, 6.2948e-06, 7.3456e-06, 2.6894e-03,\n",
       "         1.8300e-05, 9.7447e-01, 7.8957e-04, 2.1836e-02]])"
      ]
     },
     "execution_count": 221,
     "metadata": {},
     "output_type": "execute_result"
    }
   ],
   "source": [
    "preds_probs = make_predictions(model=model_2,\n",
    "                               data=test_samples)\n",
    "\n",
    "# View first two prediction probabilities\n",
    "preds_probs[:2]"
   ]
  },
  {
   "cell_type": "code",
   "execution_count": 209,
   "id": "e00ca3ce-1cf1-4e4b-af38-ba390dc47d70",
   "metadata": {},
   "outputs": [
    {
     "data": {
      "text/plain": [
       "tensor([5, 1, 7, 4, 3, 0, 4, 7, 1])"
      ]
     },
     "execution_count": 209,
     "metadata": {},
     "output_type": "execute_result"
    }
   ],
   "source": [
    "# convert prediction probabilities into labels\n",
    "\n",
    "pred_classes = preds_probs.argmax(dim=1)\n",
    "pred_classes"
   ]
  },
  {
   "cell_type": "code",
   "execution_count": 210,
   "id": "72184465-996a-41a5-9bd8-b4dfbbb0b52c",
   "metadata": {},
   "outputs": [
    {
     "data": {
      "text/plain": [
       "[5, 1, 7, 4, 3, 0, 4, 7, 1]"
      ]
     },
     "execution_count": 210,
     "metadata": {},
     "output_type": "execute_result"
    }
   ],
   "source": [
    "test_labels"
   ]
  },
  {
   "cell_type": "markdown",
   "id": "82b071ed-60a4-4d80-a87e-5e3d56853487",
   "metadata": {},
   "source": [
    "### Plot predictions"
   ]
  },
  {
   "cell_type": "code",
   "execution_count": 222,
   "id": "0da2c8f8-408c-4b5f-a37a-ad511507a9bd",
   "metadata": {},
   "outputs": [
    {
     "data": {
      "image/png": "[encoded data removed]",
      "text/plain": [
       "<Figure size 1000x700 with 9 Axes>"
      ]
     },
     "metadata": {},
     "output_type": "display_data"
    }
   ],
   "source": [
    "plt.figure(figsize=(10,7))\n",
    "nrows, ncols = 3,3\n",
    "\n",
    "for i, sample in enumerate(test_samples):\n",
    "    # create subplot\n",
    "    plt.subplot(nrows, ncols, i+1)\n",
    "\n",
    "    # plot the target image\n",
    "    plt.imshow(sample.squeeze(), cmap='gray')\n",
    "\n",
    "    # find the predictions\n",
    "    pred_label = class_names[pred_classes[i]]\n",
    "    truth_label = class_names[test_labels[i]]\n",
    "\n",
    "    title_text = f'Pred: {pred_label} | Truth: {truth_label}'\n",
    "\n",
    "    if pred_label == truth_label:\n",
    "        plt.title(title_text, fontsize=10, c='g')\n",
    "    else:\n",
    "        plt.title(title_text, fontsize=10, c='r')\n",
    "    \n",
    "    plt.axis(False)\n"
   ]
  },
  {
   "cell_type": "markdown",
   "id": "186ea577-3e4c-47d3-8ccf-4025c6259648",
   "metadata": {},
   "source": [
    "## 10. Making a consusion matrix\n",
    "\n",
    "for further precition evaluation\n",
    "\n",
    "***A confusion matrix is the fantastic way of evaluating your classification models visually***\n",
    "\n",
    "Here, we will:\n",
    "1. Make predictions with our trained model on the ltest dataset\n",
    "2. Make a confusion matrix with `torchmetrics.confusionmatrix`\n",
    "3. Plot a consusion matrix using `mlxtend.plotting.plot_confusion_matrix()`"
   ]
  },
  {
   "cell_type": "code",
   "execution_count": 239,
   "id": "093d930d-23e6-496a-b398-38d5386c3016",
   "metadata": {},
   "outputs": [
    {
     "data": {
      "application/vnd.jupyter.widget-view+json": {
       "model_id": "4e14ddff16ad4fa2bbe6a8a3290c66ff",
       "version_major": 2,
       "version_minor": 0
      },
      "text/plain": [
       "Making Predictions...:   0%|          | 0/313 [00:00<?, ?it/s]"
      ]
     },
     "metadata": {},
     "output_type": "display_data"
    },
    {
     "name": "stdout",
     "output_type": "stream",
     "text": [
      "tensor([9, 2, 1,  ..., 8, 1, 2])\n"
     ]
    }
   ],
   "source": [
    "# import tqdm.auto \n",
    "from tqdm.auto import tqdm\n",
    "\n",
    "# 1. Make prediction with trained model\n",
    "y_preds = []\n",
    "model_2.eval()\n",
    "\n",
    "with torch.inference_mode():\n",
    "    for X, y in tqdm(test_dataloader, desc='Making Predictions...'):\n",
    "        # send the data and targets to target device\n",
    "        X, y = X.to(device), y.to(device)\n",
    "\n",
    "        # do the forward pass\n",
    "        y_logits = model_2(X)\n",
    "\n",
    "        # Turn logits -> predict probabilities -> prediction labels\n",
    "        y_pred = torch.softmax(y_logits.squeeze(), dim=0).argmax(dim=1)\n",
    "\n",
    "        y_preds.append(y_pred.cpu())\n",
    "# concatenate list of prediction into a tensor\n",
    "y_preds_tensor = torch.cat(y_preds) # turns list of predictions into single tensor\n",
    "print(y_preds_tensor)"
   ]
  },
  {
   "cell_type": "code",
   "execution_count": 226,
   "id": "d55f8d35-15f4-4542-be8a-c8533fe18dc1",
   "metadata": {},
   "outputs": [],
   "source": [
    "import torchmetrics"
   ]
  },
  {
   "cell_type": "code",
   "execution_count": 231,
   "id": "b58c8e17-ad6e-4034-aefc-e51ecb294c29",
   "metadata": {
    "scrolled": true
   },
   "outputs": [
    {
     "name": "stdout",
     "output_type": "stream",
     "text": [
      "0.23.1\n"
     ]
    }
   ],
   "source": [
    "# install required package, if not install, install them.\n",
    "try:\n",
    "    import mlxtend\n",
    "    print(mlxtend.__version__)\n",
    "    assert int(mlxtend.__version__.split('.')[1]) >=19, 'mlxtend version should be >= 0.19.0'\n",
    "except:\n",
    "    print('Installing...')\n",
    "    !pip install -q mlxtend\n",
    "    import mlxtend\n",
    "    print(mlxtend.__version__)\n",
    "    "
   ]
  },
  {
   "cell_type": "code",
   "execution_count": 242,
   "id": "bfb5bb8e-7325-4546-935f-71309b25fb98",
   "metadata": {},
   "outputs": [
    {
     "data": {
      "image/png": "[encoded data removed]",
      "text/plain": [
       "<Figure size 1000x700 with 1 Axes>"
      ]
     },
     "metadata": {},
     "output_type": "display_data"
    }
   ],
   "source": [
    "from torchmetrics import ConfusionMatrix\n",
    "from mlxtend.plotting import plot_confusion_matrix\n",
    "\n",
    "# 2. make a confusion metrics using torchmetrics.ConfusionMatrix\n",
    "conf_mat = ConfusionMatrix(task='multiclass', \n",
    "                           num_classes = len(class_names))\n",
    "conf_mat_tensor = conf_mat(preds = y_preds_tensor,\n",
    "                          target=test_data.targets)\n",
    "\n",
    "# 3. Plot the confusion matrix\n",
    "fig, ax = plot_confusion_matrix(\n",
    "    conf_mat=conf_mat_tensor.numpy(), # matplotlib likes working with numpy\n",
    "    class_names = class_names,\n",
    "    figsize=(10,7)\n",
    ")"
   ]
  },
  {
   "cell_type": "code",
   "execution_count": 243,
   "id": "c3c14bf6-f264-4b00-861e-c869ab259a65",
   "metadata": {},
   "outputs": [
    {
     "data": {
      "text/plain": [
       "tensor([[609,   6,  49,  80,  12,   0, 238,   0,   6,   0],\n",
       "        [  9, 910,   7,  50,  17,   0,   5,   0,   1,   1],\n",
       "        [  8,   2, 802,  16, 103,   0,  67,   0,   2,   0],\n",
       "        [ 31,  13,  17, 845,  44,   0,  42,   0,   4,   4],\n",
       "        [  3,   7, 108,  49, 741,   0,  86,   0,   6,   0],\n",
       "        [  6,   2,  12,   7,   0, 834,   7,  46,  60,  26],\n",
       "        [ 63,   6, 123,  58,  93,   0, 643,   0,  14,   0],\n",
       "        [  2,   1,   0,   0,   0,  29,   0, 899,  10,  59],\n",
       "        [  7,   2,  18,  20,  10,   7,  38,   6, 891,   1],\n",
       "        [  0,   1,   1,   4,   0,  23,   4,  79,   3, 885]])"
      ]
     },
     "execution_count": 243,
     "metadata": {},
     "output_type": "execute_result"
    }
   ],
   "source": [
    "conf_mat_tensor"
   ]
  },
  {
   "cell_type": "markdown",
   "id": "2780ad42-1880-4c02-aef1-7e2863a5ab67",
   "metadata": {},
   "source": [
    "## 11. Save and load the best performing model"
   ]
  },
  {
   "cell_type": "code",
   "execution_count": 249,
   "id": "88172062-e1c7-407c-88aa-e27d13ad0d9a",
   "metadata": {},
   "outputs": [
    {
     "name": "stdout",
     "output_type": "stream",
     "text": [
      "Saving model to: models/01_pytorch_computer_vision_model_2.pth\n"
     ]
    }
   ],
   "source": [
    "from pathlib import Path\n",
    "\n",
    "# Create model directory path\n",
    "MODEL_PATH = Path('models')\n",
    "MODEL_PATH.mkdir(parents=True, exist_ok=True)\n",
    "\n",
    "# Create model save\n",
    "MODEL_NAME = '01_pytorch_computer_vision_model_2.pth'\n",
    "MODEL_SAVE_PATH = MODEL_PATH / MODEL_NAME\n",
    "\n",
    "MODEL_SAVE_PATH\n",
    "\n",
    "# Save the model state dict\n",
    "print(f'Saving model to: {MODEL_SAVE_PATH}')\n",
    "torch.save(obj=model_2.state_dict(), \n",
    "           f=MODEL_SAVE_PATH)\n"
   ]
  },
  {
   "cell_type": "code",
   "execution_count": 251,
   "id": "977d5065-5921-403c-bc6c-4c17c2991a3b",
   "metadata": {},
   "outputs": [
    {
     "data": {
      "text/plain": [
       "FashionMNISTMODELV2(\n",
       "  (conv_block_1): Sequential(\n",
       "    (0): Conv2d(1, 10, kernel_size=(3, 3), stride=(1, 1), padding=(1, 1))\n",
       "    (1): ReLU()\n",
       "    (2): Conv2d(10, 10, kernel_size=(3, 3), stride=(1, 1), padding=(1, 1))\n",
       "    (3): ReLU()\n",
       "    (4): MaxPool2d(kernel_size=2, stride=2, padding=0, dilation=1, ceil_mode=False)\n",
       "  )\n",
       "  (conv_block_2): Sequential(\n",
       "    (0): Conv2d(10, 10, kernel_size=(3, 3), stride=(1, 1), padding=(1, 1))\n",
       "    (1): ReLU()\n",
       "    (2): Conv2d(10, 10, kernel_size=(3, 3), stride=(1, 1), padding=(1, 1))\n",
       "    (3): ReLU()\n",
       "    (4): MaxPool2d(kernel_size=2, stride=2, padding=0, dilation=1, ceil_mode=False)\n",
       "  )\n",
       "  (classifier): Sequential(\n",
       "    (0): Flatten(start_dim=1, end_dim=-1)\n",
       "    (1): Linear(in_features=490, out_features=10, bias=True)\n",
       "  )\n",
       ")"
      ]
     },
     "execution_count": 251,
     "metadata": {},
     "output_type": "execute_result"
    }
   ],
   "source": [
    "# loading the saved model\n",
    "\n",
    "# create new instance of the model class\n",
    "\n",
    "loaded_model_2 = FashionMNISTMODELV2(input_shape=1,\n",
    "                                    hidden_units=10,\n",
    "                                    output_shape=len(class_names))\n",
    "loaded_model_2.load_state_dict(torch.load(f=MODEL_SAVE_PATH))\n",
    "loaded_model_2\n"
   ]
  },
  {
   "cell_type": "code",
   "execution_count": 252,
   "id": "d10f1711-cf60-4f6d-8d67-2d87e18ee0d8",
   "metadata": {},
   "outputs": [
    {
     "data": {
      "text/plain": [
       "{'model_name': 'FashionMNISTMODELV2',\n",
       " 'model_loss': 0.3161371350288391,\n",
       " 'model_acc': 88.55830670926518}"
      ]
     },
     "execution_count": 252,
     "metadata": {},
     "output_type": "execute_result"
    }
   ],
   "source": [
    "model_2_results"
   ]
  },
  {
   "cell_type": "code",
   "execution_count": 253,
   "id": "429ea27d-e6f4-425d-8d5c-76813981574d",
   "metadata": {},
   "outputs": [
    {
     "name": "stdout",
     "output_type": "stream",
     "text": [
      "Evaluating...\n"
     ]
    },
    {
     "data": {
      "application/vnd.jupyter.widget-view+json": {
       "model_id": "073c23e3e9524ce0880051304d471692",
       "version_major": 2,
       "version_minor": 0
      },
      "text/plain": [
       "  0%|          | 0/313 [00:00<?, ?it/s]"
      ]
     },
     "metadata": {},
     "output_type": "display_data"
    },
    {
     "data": {
      "text/plain": [
       "{'model_name': 'FashionMNISTMODELV2',\n",
       " 'model_loss': 0.3161371350288391,\n",
       " 'model_acc': 88.55830670926518}"
      ]
     },
     "execution_count": 253,
     "metadata": {},
     "output_type": "execute_result"
    }
   ],
   "source": [
    "# Evaluate loaded model\n",
    "\n",
    "torch.manual_seed(42)\n",
    "\n",
    "loaded_model_2_results = eval_model(model=loaded_model_2,\n",
    "                                    data_loader=test_dataloader,\n",
    "                                    loss_fn=loss_fn,\n",
    "                                    accuracy_fn=accuracy_fn)\n",
    "loaded_model_2_results"
   ]
  },
  {
   "cell_type": "code",
   "execution_count": 255,
   "id": "0080e4fb-2457-40f1-88d8-767857b5287f",
   "metadata": {},
   "outputs": [
    {
     "data": {
      "text/plain": [
       "tensor(True)"
      ]
     },
     "execution_count": 255,
     "metadata": {},
     "output_type": "execute_result"
    }
   ],
   "source": [
    "torch.isclose(torch.tensor(model_2_results['model_loss']),\n",
    "              torch.tensor(loaded_model_2_results['model_loss'])\n",
    "             )"
   ]
  },
  {
   "cell_type": "code",
   "execution_count": null,
   "id": "5480feb7-9d79-4da6-a4e4-c41620b2d476",
   "metadata": {},
   "outputs": [],
   "source": []
  }
 ],
 "metadata": {
  "kernelspec": {
   "display_name": "Python 3 (ipykernel)",
   "language": "python",
   "name": "python3"
  },
  "language_info": {
   "codemirror_mode": {
    "name": "ipython",
    "version": 3
   },
   "file_extension": ".py",
   "mimetype": "text/x-python",
   "name": "python",
   "nbconvert_exporter": "python",
   "pygments_lexer": "ipython3",
   "version": "3.10.14"
  }
 },
 "nbformat": 4,
 "nbformat_minor": 5
}
