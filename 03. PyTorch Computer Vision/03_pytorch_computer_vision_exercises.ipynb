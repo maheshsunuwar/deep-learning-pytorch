{
 "cells": [
  {
   "cell_type": "markdown",
   "metadata": {
    "colab_type": "text",
    "id": "view-in-github"
   },
   "source": [
    "<a href=\"https://colab.research.google.com/github/mrdbourke/pytorch-deep-learning/blob/main/extras/exercises/03_pytorch_computer_vision_exercises.ipynb\" target=\"_parent\"><img src=\"https://colab.research.google.com/assets/colab-badge.svg\" alt=\"Open In Colab\"/></a>"
   ]
  },
  {
   "cell_type": "markdown",
   "metadata": {
    "id": "Vex99np2wFVt"
   },
   "source": [
    "# 03. PyTorch Computer Vision Exercises\n",
    "\n",
    "The following is a collection of exercises based on computer vision fundamentals in PyTorch.\n",
    "\n",
    "They're a bunch of fun.\n",
    "\n",
    "You're going to get to write plenty of code!\n",
    "\n",
    "## Resources\n",
    "\n",
    "1. These exercises are based on [notebook 03 of the Learn PyTorch for Deep Learning course](https://www.learnpytorch.io/03_pytorch_computer_vision/). \n",
    "2. See a live [walkthrough of the solutions (errors and all) on YouTube](https://youtu.be/_PibmqpEyhA). \n",
    "  * **Note:** Going through these exercises took me just over 3 hours of solid coding, so you should expect around the same.\n",
    "3. See [other solutions on the course GitHub](https://github.com/mrdbourke/pytorch-deep-learning/tree/main/extras/solutions)."
   ]
  },
  {
   "cell_type": "code",
   "execution_count": 41,
   "metadata": {
    "colab": {
     "base_uri": "https://localhost:8080/"
    },
    "id": "GaeYzOTLwWh2",
    "outputId": "17dd5453-9639-4b01-aa18-7ddbfd5c3253"
   },
   "outputs": [],
   "source": [
    "# Check for GPU\n",
    "# !nvidia-smi"
   ]
  },
  {
   "cell_type": "code",
   "execution_count": 42,
   "metadata": {
    "colab": {
     "base_uri": "https://localhost:8080/",
     "height": 53
    },
    "id": "DNwZLMbCzJLk",
    "outputId": "9c150c50-a092-4f34-9d33-b45247fb080d"
   },
   "outputs": [
    {
     "name": "stdout",
     "output_type": "stream",
     "text": [
      "2.0.1\n",
      "cpu\n"
     ]
    }
   ],
   "source": [
    "# Import torch\n",
    "import torch\n",
    "\n",
    "# Exercises require PyTorch > 1.10.0\n",
    "print(torch.__version__)\n",
    "\n",
    "# TODO: Setup device agnostic code\n",
    "device = 'cuda' if torch.cuda.is_available() else 'cpu'\n",
    "print(device)"
   ]
  },
  {
   "cell_type": "markdown",
   "metadata": {
    "id": "FSFX7tc1w-en"
   },
   "source": [
    "## 1. What are 3 areas in industry where computer vision is currently being used?"
   ]
  },
  {
   "cell_type": "markdown",
   "metadata": {
    "id": "VyWRkvWGbCXj"
   },
   "source": [
    "- [x] Medical\n",
    "- [x] Agriculture\n",
    "- [x] Face Detection "
   ]
  },
  {
   "cell_type": "markdown",
   "metadata": {
    "id": "oBK-WI6YxDYa"
   },
   "source": [
    "## 2. Search \"what is overfitting in machine learning\" and write down a sentence about what you find. "
   ]
  },
  {
   "cell_type": "markdown",
   "metadata": {
    "id": "d1rxD6GObCqh"
   },
   "source": [
    "Overfitting is a problem when the model we created learnes a lot about training data and looks good, but does a very bad job while inferecing in a new data. In overfitting, model will learn noises in the data as well. and thinks that the noise is a feature. bacause of this, the new data inferencing will not be correct\n",
    "\n",
    "- Overfitting happens when a model vecomes too closely adapted to specific details of the training data, capturing even irrelevant patterns or noise."
   ]
  },
  {
   "cell_type": "markdown",
   "metadata": {
    "id": "XeYFEqw8xK26"
   },
   "source": [
    "## 3. Search \"ways to prevent overfitting in machine learning\", write down 3 of the things you find and a sentence about each. \n",
    "> **Note:** there are lots of these, so don't worry too much about all of them, just pick 3 and start with those."
   ]
  },
  {
   "cell_type": "markdown",
   "metadata": {
    "id": "ocvOdWKcbEKr"
   },
   "source": [
    "1. Use more training data\n",
    "    - increasing the training data might decrease the noise in data, and makes model harder to momorize specific patterns from them\n",
    "2. Cross-Validation\n",
    "   - Splitting the data into multiple subsets for training and validation, helps model to be more accurate on a new data.\n",
    "3. Holdout Validation\n",
    "   - Setting aside a portion of the data for testing to evaluate the model's performance on unseen data.\n",
    "4. Early Stopping\n",
    "   - Stop the trianing process early if the performance is not increasing in couple of epochs.\n",
    "5. Regularization\n",
    "   - Regularization is a technique to constrain our network from learning a model that is too complex, which might overfit. In L1/L2 regularization, we can add a penalty term on the cost function to push the estimated coefficients towards zero (and not take the extreme values. L2 regularization allows weights to decay towards zero but not to zero, while L1 regularization allows weights to decay to zero.\n",
    "6. Dropout in Neural Network\n",
    "   - By applying dropout, which is a form of a regularization, to our layers, we ignore a subset of units (nodes) of our nn. Using dropout, we can reduce interdependent learning among units, whihch may have led to overfitting. However, with a dropout, we need more epochs for our model to converge.\n",
    "7. . Feature Selection/Pruning\n",
    "   - If we have limited amount of training samples, each with a large number of features, we should only select the most important features for training so that our model doesn't need to learn for so many features and eventually oveffit. We can simply test out different features, train individual models for these features, and evaluate generalization capabilities, or use one of the various widely used feature selection methods.\n"
   ]
  },
  {
   "cell_type": "markdown",
   "metadata": {
    "id": "DKdEEFEqxM-8"
   },
   "source": [
    "## 4. Spend 20-minutes reading and clicking through the [CNN Explainer website](https://poloclub.github.io/cnn-explainer/).\n",
    "\n",
    "* Upload your own example image using the \"upload\" button on the website and see what happens in each layer of a CNN as your image passes through it."
   ]
  },
  {
   "cell_type": "code",
   "execution_count": null,
   "metadata": {
    "id": "TqZaJIRMbFtS"
   },
   "outputs": [],
   "source": []
  },
  {
   "cell_type": "markdown",
   "metadata": {
    "id": "lvf-3pODxXYI"
   },
   "source": [
    "## 5. Load the [`torchvision.datasets.MNIST()`](https://pytorch.org/vision/stable/generated/torchvision.datasets.MNIST.html#torchvision.datasets.MNIST) train and test datasets."
   ]
  },
  {
   "cell_type": "code",
   "execution_count": 43,
   "metadata": {
    "id": "SHjeuN81bHza"
   },
   "outputs": [],
   "source": [
    "import torchvision\n",
    "\n",
    "train_data = torchvision.datasets.MNIST(root='data',\n",
    "                                        train=True,\n",
    "                                        download=True,\n",
    "                                        transform=torchvision.transforms.ToTensor(),\n",
    "                                        target_transform=None)\n",
    "test_data = torchvision.datasets.MNIST(root='data',\n",
    "                                       train=False,\n",
    "                                       download=True,\n",
    "                                       transform=torchvision.transforms.ToTensor(),\n",
    "                                       target_transform=None)"
   ]
  },
  {
   "cell_type": "markdown",
   "metadata": {
    "id": "qxZW-uAbxe_F"
   },
   "source": [
    "## 6. Visualize at least 5 different samples of the MNIST training dataset."
   ]
  },
  {
   "cell_type": "code",
   "execution_count": 44,
   "metadata": {},
   "outputs": [],
   "source": [
    "# for i, j in enumerate(torch.randint(0,10, size=[5])):\n",
    "#     print(j)"
   ]
  },
  {
   "cell_type": "code",
   "execution_count": 45,
   "metadata": {},
   "outputs": [
    {
     "data": {
      "text/plain": [
       "['0 - zero',\n",
       " '1 - one',\n",
       " '2 - two',\n",
       " '3 - three',\n",
       " '4 - four',\n",
       " '5 - five',\n",
       " '6 - six',\n",
       " '7 - seven',\n",
       " '8 - eight',\n",
       " '9 - nine']"
      ]
     },
     "execution_count": 45,
     "metadata": {},
     "output_type": "execute_result"
    }
   ],
   "source": [
    "classes = train_data.classes\n",
    "classes"
   ]
  },
  {
   "cell_type": "code",
   "execution_count": 46,
   "metadata": {
    "id": "QVFsYi1PbItE"
   },
   "outputs": [
    {
     "data": {
      "image/png": "[encoded data removed]",
      "text/plain": [
       "<Figure size 1000x700 with 5 Axes>"
      ]
     },
     "metadata": {},
     "output_type": "display_data"
    }
   ],
   "source": [
    "import matplotlib.pyplot as plt\n",
    "\n",
    "torch.manual_seed(42)\n",
    "plt.figure(figsize=(10,7))\n",
    "for i, data_idx in enumerate(torch.randint(0,len(train_data), size=[5])):\n",
    "    plt.subplot(2,3,i+1)\n",
    "    plt.imshow(train_data.data[data_idx.item()], cmap='gray')\n",
    "    plt.axis(False)\n",
    "    plt.title(train_data.targets[data_idx.item()].item())"
   ]
  },
  {
   "cell_type": "code",
   "execution_count": 47,
   "metadata": {},
   "outputs": [],
   "source": [
    "# len(train_data)"
   ]
  },
  {
   "cell_type": "markdown",
   "metadata": {
    "id": "JAPDzW0wxhi3"
   },
   "source": [
    "## 7. Turn the MNIST train and test datasets into dataloaders using `torch.utils.data.DataLoader`, set the `batch_size=32`."
   ]
  },
  {
   "cell_type": "code",
   "execution_count": 48,
   "metadata": {
    "id": "ALA6MPcFbJXQ"
   },
   "outputs": [],
   "source": [
    "from torch.utils.data import DataLoader\n",
    "\n",
    "train_dataloader = DataLoader(batch_size=32, dataset=train_data, shuffle=True)\n",
    "test_dataloader = DataLoader(batch_size=32, dataset=test_data, shuffle=False)"
   ]
  },
  {
   "cell_type": "markdown",
   "metadata": {
    "id": "bCCVfXk5xjYS"
   },
   "source": [
    "## 8. Recreate `model_2` used in notebook 03 (the same model from the [CNN Explainer website](https://poloclub.github.io/cnn-explainer/), also known as TinyVGG) capable of fitting on the MNIST dataset."
   ]
  },
  {
   "cell_type": "code",
   "execution_count": 49,
   "metadata": {},
   "outputs": [],
   "source": [
    "from torch import nn"
   ]
  },
  {
   "cell_type": "code",
   "execution_count": 50,
   "metadata": {
    "id": "5IKNF22XbKYS"
   },
   "outputs": [],
   "source": [
    "class MNISTMODEL(nn.Module):\n",
    "    \"\"\"\n",
    "    TinyVGG from CNN Explainer website\n",
    "    \"\"\"\n",
    "    def __init__(self, \n",
    "                input_shape:int,\n",
    "                hidden_units:int,\n",
    "                output_shape:int):\n",
    "        super().__init__()\n",
    "        self.conv_block_1 = nn.Sequential(\n",
    "            nn.Conv2d(in_channels=input_shape,\n",
    "                      out_channels=hidden_units,\n",
    "                      kernel_size=3,\n",
    "                      stride=1,\n",
    "                      padding=1),\n",
    "            nn.ReLU(),\n",
    "            nn.MaxPool2d(kernel_size=2)\n",
    "        )\n",
    "        \n",
    "        self.conv_block_2 = nn.Sequential(\n",
    "            nn.Conv2d(in_channels=hidden_units,\n",
    "                      out_channels=hidden_units,\n",
    "                      kernel_size=3,\n",
    "                      stride=1,\n",
    "                      padding=1),\n",
    "            nn.ReLU(),\n",
    "            nn.MaxPool2d(kernel_size=2)\n",
    "        )\n",
    "            \n",
    "        self.linear_layer = nn.Sequential(\n",
    "            nn.Flatten(),\n",
    "            nn.Linear(in_features=hidden_units*7*7,\n",
    "                      out_features=output_shape)\n",
    "        )\n",
    "            \n",
    "    def forward(self, x):\n",
    "        x = self.conv_block_1(x)\n",
    "        x = self.conv_block_2(x)\n",
    "        x = self.linear_layer(x)\n",
    "\n",
    "        return x"
   ]
  },
  {
   "cell_type": "code",
   "execution_count": 51,
   "metadata": {},
   "outputs": [
    {
     "data": {
      "text/plain": [
       "MNISTMODEL(\n",
       "  (conv_block_1): Sequential(\n",
       "    (0): Conv2d(1, 10, kernel_size=(3, 3), stride=(1, 1), padding=(1, 1))\n",
       "    (1): ReLU()\n",
       "    (2): MaxPool2d(kernel_size=2, stride=2, padding=0, dilation=1, ceil_mode=False)\n",
       "  )\n",
       "  (conv_block_2): Sequential(\n",
       "    (0): Conv2d(10, 10, kernel_size=(3, 3), stride=(1, 1), padding=(1, 1))\n",
       "    (1): ReLU()\n",
       "    (2): MaxPool2d(kernel_size=2, stride=2, padding=0, dilation=1, ceil_mode=False)\n",
       "  )\n",
       "  (linear_layer): Sequential(\n",
       "    (0): Flatten(start_dim=1, end_dim=-1)\n",
       "    (1): Linear(in_features=490, out_features=10, bias=True)\n",
       "  )\n",
       ")"
      ]
     },
     "execution_count": 51,
     "metadata": {},
     "output_type": "execute_result"
    }
   ],
   "source": [
    "device = 'cuda' if torch.cuda.is_available() else 'cpu'\n",
    "\n",
    "model = MNISTMODEL(input_shape=1,\n",
    "                   hidden_units=10,\n",
    "                   output_shape=len(classes)).to(device)\n",
    "model"
   ]
  },
  {
   "cell_type": "code",
   "execution_count": 52,
   "metadata": {},
   "outputs": [
    {
     "data": {
      "text/plain": [
       "torch.Size([1, 28, 28])"
      ]
     },
     "execution_count": 52,
     "metadata": {},
     "output_type": "execute_result"
    }
   ],
   "source": [
    "random_img = torch.randn(size=(1,28,28))\n",
    "random_img.shape"
   ]
  },
  {
   "cell_type": "code",
   "execution_count": 211,
   "metadata": {},
   "outputs": [],
   "source": [
    "# conv_1_output = model.conv_block_1(random_img)\n",
    "# print(conv_1_output.shape)\n",
    "\n",
    "# conv_2_output = model.conv_block_2(conv_1_output.unsqueeze(dim=1))\n",
    "# conv_2_output.shape"
   ]
  },
  {
   "cell_type": "markdown",
   "metadata": {
    "id": "sf_3zUr7xlhy"
   },
   "source": [
    "## 9. Train the model you built in exercise 8. for 5 epochs on CPU and GPU and see how long it takes on each."
   ]
  },
  {
   "cell_type": "code",
   "execution_count": 54,
   "metadata": {},
   "outputs": [],
   "source": [
    "# define loss and an optimizer\n",
    "loss_fn = nn.CrossEntropyLoss()\n",
    "optimizer = torch.optim.SGD(\n",
    "    params=model.parameters(),\n",
    "    lr=0.1\n",
    ")"
   ]
  },
  {
   "cell_type": "code",
   "execution_count": 55,
   "metadata": {},
   "outputs": [],
   "source": [
    "# import accuracy_fn\n",
    "import sys\n",
    "sys.path.append('..')\n",
    "\n",
    "from helper_functions import accuracy_fn"
   ]
  },
  {
   "cell_type": "code",
   "execution_count": 59,
   "metadata": {
    "id": "jSo6vVWFbNLD"
   },
   "outputs": [
    {
     "data": {
      "application/vnd.jupyter.widget-view+json": {
       "model_id": "517a7e4b5f974f87be5b334b1e41b8b1",
       "version_major": 2,
       "version_minor": 0
      },
      "text/plain": [
       "  0%|          | 0/5 [00:00<?, ?it/s]"
      ]
     },
     "metadata": {},
     "output_type": "display_data"
    },
    {
     "name": "stdout",
     "output_type": "stream",
     "text": [
      "Epoch 0\n",
      "......\n",
      "Training Loss: 0.05100 Acc: 87.7583 | Test Loss: 0.05025 Acc: 91.06\n",
      "Epoch 1\n",
      "......\n",
      "Training Loss: 0.04730 Acc: 87.3233 | Test Loss: 0.05037 Acc: 90.84\n",
      "Epoch 2\n",
      "......\n",
      "Training Loss: 0.04427 Acc: 87.9217 | Test Loss: 0.05412 Acc: 90.62\n",
      "Epoch 3\n",
      "......\n",
      "Training Loss: 0.04308 Acc: 87.7033 | Test Loss: 0.05471 Acc: 91.03\n",
      "Epoch 4\n",
      "......\n",
      "Training Loss: 0.04101 Acc: 87.8267 | Test Loss: 0.04625 Acc: 91.09\n",
      "Took 48.539 on cpu\n"
     ]
    }
   ],
   "source": [
    "from tqdm.auto import tqdm\n",
    "from timeit import default_timer as timer\n",
    "\n",
    "torch.manual_seed(42)\n",
    "\n",
    "model_start_time = timer()\n",
    "epochs = 5\n",
    "\n",
    "for epoch in tqdm(range(epochs)):\n",
    "    print(f'Epoch {epoch}\\n......')\n",
    "    total_loss, total_acc = 0,0\n",
    "    for batch, (X,y) in enumerate(train_dataloader):\n",
    "        # train loop\n",
    "        model.train()\n",
    "    \n",
    "        # forward pass\n",
    "        y_logits = model(X)\n",
    "        y_preds = torch.softmax(y_logits, dim=0).argmax(dim=1)\n",
    "    \n",
    "        # loss and optimizer\n",
    "        loss = loss_fn(y_logits, y)\n",
    "        acc = accuracy_fn(y_preds, y)\n",
    "        total_loss += loss\n",
    "        total_acc += acc\n",
    "        \n",
    "        optimizer.zero_grad()\n",
    "        loss.backward()\n",
    "        optimizer.step()\n",
    "    total_loss /= len(train_dataloader)\n",
    "    total_acc/= len(train_dataloader)\n",
    "    \n",
    "    # test loop\n",
    "    model.eval()\n",
    "    with torch.inference_mode():\n",
    "        total_test_loss, total_test_acc = 0,0\n",
    "        for batch, (X_test,y_test) in enumerate(test_dataloader):\n",
    "            test_logits = model(X_test)\n",
    "            test_preds = torch.softmax(test_logits, dim=0).argmax(dim=1)\n",
    "    \n",
    "            test_loss = loss_fn(test_logits, y_test)\n",
    "            test_acc = accuracy_fn(test_preds, y_test)\n",
    "            total_test_loss += test_loss\n",
    "            total_test_acc += test_acc\n",
    "        total_test_loss /= len(test_dataloader)\n",
    "        total_test_acc /= len(test_dataloader)\n",
    "    \n",
    "    print(f'Training Loss: {total_loss:.5f} Acc: {total_acc:.4f} | Test Loss: {total_test_loss:.5f} Acc: {total_test_acc:.2f}')\n",
    "\n",
    "model_end_time = timer()\n",
    "\n",
    "model_total_training_time = model_end_time - model_start_time\n",
    "\n",
    "print(f'\\nTook {model_total_training_time:.3f} on {device}')\n"
   ]
  },
  {
   "cell_type": "markdown",
   "metadata": {
    "id": "w1CsHhPpxp1w"
   },
   "source": [
    "## 10. Make predictions using your trained model and visualize at least 5 of them comparing the prediciton to the target label."
   ]
  },
  {
   "cell_type": "code",
   "execution_count": 144,
   "metadata": {
    "id": "_YGgZvSobNxu"
   },
   "outputs": [
    {
     "name": "stdout",
     "output_type": "stream",
     "text": [
      "Test Loss: 0.04625 Acc: 91.09\n"
     ]
    }
   ],
   "source": [
    "model.eval()\n",
    "with torch.inference_mode():\n",
    "    predictions = []\n",
    "    total_test_loss, total_test_acc = 0,0\n",
    "    for X,y in test_dataloader:\n",
    "        y_logits = model(X)\n",
    "        y_preds = torch.softmax(y_logits, dim=0).argmax(dim=1)\n",
    "\n",
    "        loss = loss_fn(y_logits, y)\n",
    "        acc = accuracy_fn(y_preds, y)\n",
    "        total_test_loss += loss\n",
    "        total_test_acc += acc\n",
    "        \n",
    "        predictions.append(y_preds)\n",
    "        \n",
    "    total_test_loss /= len(test_dataloader)\n",
    "    total_test_acc /= len(test_dataloader)\n",
    "    print(f'Test Loss: {total_test_loss:.5f} Acc: {total_test_acc:.2f}')\n",
    "    "
   ]
  },
  {
   "cell_type": "code",
   "execution_count": 131,
   "metadata": {},
   "outputs": [
    {
     "data": {
      "image/png": "[encoded data removed]",
      "text/plain": [
       "<Figure size 1000x700 with 5 Axes>"
      ]
     },
     "metadata": {},
     "output_type": "display_data"
    }
   ],
   "source": [
    "import random\n",
    "\n",
    "torch.manual_seed(42)\n",
    "\n",
    "# get 5 samples from the test data\n",
    "test_samples = []\n",
    "test_labels = []\n",
    "for sample, label in random.sample(list(test_data), k=5):\n",
    "    test_samples.append(sample)\n",
    "    test_labels.append(label)\n",
    "\n",
    "# random_5_images = torch.randint(0, len(test_dataloader), size=[5])\n",
    "\n",
    "plt.figure(figsize=(10,7))\n",
    "# for i, random_image_idx in enumerate(random_5_images):\n",
    "for i in range(len(test_samples)):\n",
    "    plt.subplot(2,3, i+1)\n",
    "    # plt.imshow(test_data.data[random_image_idx])\n",
    "    plt.imshow(test_samples[i].squeeze())\n",
    "\n",
    "    title = f'{classes[test_labels[i]]}'\n",
    "    plt.title(title)"
   ]
  },
  {
   "cell_type": "code",
   "execution_count": 132,
   "metadata": {},
   "outputs": [
    {
     "data": {
      "text/plain": [
       "torch.Size([1, 1, 28, 28])"
      ]
     },
     "execution_count": 132,
     "metadata": {},
     "output_type": "execute_result"
    }
   ],
   "source": [
    "test_samples[0].unsqueeze(dim=1).shape"
   ]
  },
  {
   "cell_type": "code",
   "execution_count": 133,
   "metadata": {},
   "outputs": [
    {
     "data": {
      "text/plain": [
       "torch.Size([1, 1, 28, 28])"
      ]
     },
     "execution_count": 133,
     "metadata": {},
     "output_type": "execute_result"
    }
   ],
   "source": [
    "(torch.unsqueeze(test_samples[0], dim=0)).shape"
   ]
  },
  {
   "cell_type": "code",
   "execution_count": 134,
   "metadata": {},
   "outputs": [
    {
     "data": {
      "image/png": "[encoded data removed]",
      "text/plain": [
       "<Figure size 1000x700 with 5 Axes>"
      ]
     },
     "metadata": {},
     "output_type": "display_data"
    }
   ],
   "source": [
    "model.eval()\n",
    "with torch.inference_mode():\n",
    "    sample_preds = []\n",
    "    for sample in test_samples:\n",
    "        sample = torch.unsqueeze(sample, dim=0)\n",
    "        test_logits = model(sample)\n",
    "        sample_pred = torch.argmax(torch.softmax(test_logits.squeeze(), dim=0))\n",
    "        sample_preds.append(sample_pred)\n",
    "        \n",
    "plt.figure(figsize=(10,7))\n",
    "# for i, random_image_idx in enumerate(random_5_images):\n",
    "for i in range(len(test_samples)):\n",
    "    plt.subplot(2,3, i+1)\n",
    "    # plt.imshow(test_data.data[random_image_idx])\n",
    "    plt.imshow(test_samples[i].squeeze(), cmap='gray')\n",
    "\n",
    "    title = f'Truth: {classes[test_labels[i]]} | Predicted: {sample_preds[i]}'\n",
    "    plt.title(title)"
   ]
  },
  {
   "cell_type": "markdown",
   "metadata": {
    "id": "qQwzqlBWxrpG"
   },
   "source": [
    "## 11. Plot a confusion matrix comparing your model's predictions to the truth labels."
   ]
  },
  {
   "cell_type": "code",
   "execution_count": 137,
   "metadata": {},
   "outputs": [
    {
     "data": {
      "text/plain": [
       "tensor([1, 2, 3, 4, 5, 6, 7, 8, 9, 0, 1, 2, 3, 4, 5, 6])"
      ]
     },
     "execution_count": 137,
     "metadata": {},
     "output_type": "execute_result"
    }
   ],
   "source": []
  },
  {
   "cell_type": "code",
   "execution_count": 145,
   "metadata": {
    "id": "vSrXiT_AbQ6e"
   },
   "outputs": [
    {
     "data": {
      "text/plain": [
       "tensor([[ 939,    4,    6,    1,    2,    4,   13,    0,    8,    3],\n",
       "        [   0, 1122,    1,    0,    5,    0,    4,    0,    3,    0],\n",
       "        [  13,  106,  846,   13,    5,    2,    4,   18,   24,    1],\n",
       "        [   3,   11,    8,  901,    2,   42,    1,    9,   21,   12],\n",
       "        [   1,   21,    1,    0,  919,    7,    6,    2,    7,   18],\n",
       "        [   2,    5,    1,   22,    3,  789,   19,    2,   25,   24],\n",
       "        [  11,   13,    0,    0,   11,   17,  889,    1,   15,    1],\n",
       "        [   1,   69,   12,   11,   15,    3,    0,  870,    3,   44],\n",
       "        [   5,    6,    3,    2,    9,    3,    7,    4,  926,    9],\n",
       "        [   5,   11,    0,    6,   32,    5,    3,   16,   23,  908]])"
      ]
     },
     "execution_count": 145,
     "metadata": {},
     "output_type": "execute_result"
    }
   ],
   "source": [
    "from torchmetrics import ConfusionMatrix\n",
    "from mlxtend.plotting import plot_confusion_matrix\n",
    "\n",
    "predictions = torch.cat(predictions) # convert list of predictions into one tensor\n",
    "confusion_matrix = ConfusionMatrix(task='multiclass',\n",
    "                           num_classes=len(classes))\n",
    "conf_mat_tensor = confusion_matrix(preds=predictions,\n",
    "                           target=test_data.targets)\n",
    "\n",
    "conf_mat_tensor"
   ]
  },
  {
   "cell_type": "code",
   "execution_count": 148,
   "metadata": {},
   "outputs": [
    {
     "data": {
      "image/png": "[encoded data removed]",
      "text/plain": [
       "<Figure size 1000x700 with 1 Axes>"
      ]
     },
     "metadata": {},
     "output_type": "display_data"
    }
   ],
   "source": [
    "plot_confusion_matrix(conf_mat=conf_mat_tensor.numpy(),\n",
    "                      class_names=classes,\n",
    "                      figsize=(10,7)\n",
    "                     );"
   ]
  },
  {
   "cell_type": "markdown",
   "metadata": {
    "id": "lj6bDhoWxt2y"
   },
   "source": [
    "## 12. Create a random tensor of shape `[1, 3, 64, 64]` and pass it through a `nn.Conv2d()` layer with various hyperparameter settings (these can be any settings you choose), what do you notice if the `kernel_size` parameter goes up and down?"
   ]
  },
  {
   "cell_type": "code",
   "execution_count": 154,
   "metadata": {
    "id": "leCTsqtSbR5P"
   },
   "outputs": [
    {
     "data": {
      "text/plain": [
       "torch.Size([1, 3, 64, 64])"
      ]
     },
     "execution_count": 154,
     "metadata": {},
     "output_type": "execute_result"
    }
   ],
   "source": [
    "torch.manual_seed(42)\n",
    "\n",
    "random_tensor = torch.randn(size=(1,3,64,64))\n",
    "random_tensor.shape"
   ]
  },
  {
   "cell_type": "code",
   "execution_count": 162,
   "metadata": {},
   "outputs": [],
   "source": [
    "class MODEL1(nn.Module):\n",
    "    def __init__(self, kernel_size:int, stride:int, padding:int):\n",
    "        super().__init__()\n",
    "        self.conv_block_1 = nn.Sequential(\n",
    "            nn.Conv2d(in_channels=3,\n",
    "                      out_channels=10,\n",
    "                      kernel_size=kernel_size,\n",
    "                      stride=stride,\n",
    "                      padding=padding),\n",
    "        )\n",
    "        \n",
    "            \n",
    "    def forward(self, x):\n",
    "        x = self.conv_block_1(x)\n",
    "        return x"
   ]
  },
  {
   "cell_type": "code",
   "execution_count": 164,
   "metadata": {},
   "outputs": [
    {
     "data": {
      "text/plain": [
       "torch.Size([1, 10, 64, 64])"
      ]
     },
     "execution_count": 164,
     "metadata": {},
     "output_type": "execute_result"
    }
   ],
   "source": [
    "model_1 = MODEL1(3,1,1)\n",
    "model_1(random_tensor).shape"
   ]
  },
  {
   "cell_type": "code",
   "execution_count": 165,
   "metadata": {},
   "outputs": [
    {
     "data": {
      "text/plain": [
       "torch.Size([1, 10, 65, 65])"
      ]
     },
     "execution_count": 165,
     "metadata": {},
     "output_type": "execute_result"
    }
   ],
   "source": [
    "model_1 = MODEL1(2,1,1)\n",
    "model_1(random_tensor).shape"
   ]
  },
  {
   "cell_type": "code",
   "execution_count": 168,
   "metadata": {},
   "outputs": [
    {
     "data": {
      "text/plain": [
       "torch.Size([1, 10, 61, 61])"
      ]
     },
     "execution_count": 168,
     "metadata": {},
     "output_type": "execute_result"
    }
   ],
   "source": [
    "model_1 = MODEL1(6,1,1)\n",
    "model_1(random_tensor).shape"
   ]
  },
  {
   "cell_type": "markdown",
   "metadata": {
    "id": "VHS20cNTxwSi"
   },
   "source": [
    "## 13. Use a model similar to the trained `model_2` from notebook 03 to make predictions on the test [`torchvision.datasets.FashionMNIST`](https://pytorch.org/vision/main/generated/torchvision.datasets.FashionMNIST.html) dataset. \n",
    "* Then plot some predictions where the model was wrong alongside what the label of the image should've been. \n",
    "* After visualing these predictions do you think it's more of a modelling error or a data error? \n",
    "* As in, could the model do better or are the labels of the data too close to each other (e.g. a \"Shirt\" label is too close to \"T-shirt/top\")?"
   ]
  },
  {
   "cell_type": "code",
   "execution_count": 205,
   "metadata": {
    "id": "78a8LjtdbSZj"
   },
   "outputs": [],
   "source": [
    "train_data = torchvision.datasets.FashionMNIST(root='data',\n",
    "                                              train = True,\n",
    "                                              download=True,\n",
    "                                              transform=torchvision.transforms.ToTensor(),\n",
    "                                              target_transform=None)\n",
    "\n",
    "test_data = torchvision.datasets.FashionMNIST(root='data',\n",
    "                                              train = False,\n",
    "                                              download=True,\n",
    "                                              transform=torchvision.transforms.ToTensor(),\n",
    "                                              target_transform=None)"
   ]
  },
  {
   "cell_type": "code",
   "execution_count": 206,
   "metadata": {},
   "outputs": [],
   "source": [
    "train_dataloader = DataLoader(dataset=train_data, batch_size=32,shuffle=True)\n",
    "test_dataloader = DataLoader(dataset=test_data, batch_size=32,shuffle=False)"
   ]
  },
  {
   "cell_type": "code",
   "execution_count": 207,
   "metadata": {},
   "outputs": [
    {
     "data": {
      "text/plain": [
       "['T-shirt/top',\n",
       " 'Trouser',\n",
       " 'Pullover',\n",
       " 'Dress',\n",
       " 'Coat',\n",
       " 'Sandal',\n",
       " 'Shirt',\n",
       " 'Sneaker',\n",
       " 'Bag',\n",
       " 'Ankle boot']"
      ]
     },
     "execution_count": 207,
     "metadata": {},
     "output_type": "execute_result"
    }
   ],
   "source": [
    "classes = train_data.classes\n",
    "classes"
   ]
  },
  {
   "cell_type": "code",
   "execution_count": 208,
   "metadata": {},
   "outputs": [
    {
     "data": {
      "text/plain": [
       "torch.Size([28, 28])"
      ]
     },
     "execution_count": 208,
     "metadata": {},
     "output_type": "execute_result"
    }
   ],
   "source": [
    "test_data.data[0].size()"
   ]
  },
  {
   "cell_type": "code",
   "execution_count": 209,
   "metadata": {},
   "outputs": [
    {
     "data": {
      "text/plain": [
       "MNISTMODEL(\n",
       "  (conv_block_1): Sequential(\n",
       "    (0): Conv2d(1, 10, kernel_size=(3, 3), stride=(1, 1), padding=(1, 1))\n",
       "    (1): ReLU()\n",
       "    (2): MaxPool2d(kernel_size=2, stride=2, padding=0, dilation=1, ceil_mode=False)\n",
       "  )\n",
       "  (conv_block_2): Sequential(\n",
       "    (0): Conv2d(10, 10, kernel_size=(3, 3), stride=(1, 1), padding=(1, 1))\n",
       "    (1): ReLU()\n",
       "    (2): MaxPool2d(kernel_size=2, stride=2, padding=0, dilation=1, ceil_mode=False)\n",
       "  )\n",
       "  (linear_layer): Sequential(\n",
       "    (0): Flatten(start_dim=1, end_dim=-1)\n",
       "    (1): Linear(in_features=490, out_features=10, bias=True)\n",
       "  )\n",
       ")"
      ]
     },
     "execution_count": 209,
     "metadata": {},
     "output_type": "execute_result"
    }
   ],
   "source": [
    "model_2 = MNISTMODEL(input_shape=1,\n",
    "                     hidden_units=10,\n",
    "                     output_shape=len(classes))\n",
    "model_2"
   ]
  },
  {
   "cell_type": "code",
   "execution_count": 225,
   "metadata": {},
   "outputs": [
    {
     "data": {
      "application/vnd.jupyter.widget-view+json": {
       "model_id": "13a76b1535d9468caa634ecf72987a9c",
       "version_major": 2,
       "version_minor": 0
      },
      "text/plain": [
       "  0%|          | 0/3 [00:00<?, ?it/s]"
      ]
     },
     "metadata": {},
     "output_type": "display_data"
    },
    {
     "name": "stdout",
     "output_type": "stream",
     "text": [
      "Epoch: 0\n",
      "------\n",
      "Training Loss: 0.37603, Acc: 81.25000| Testing Loss: 0.37078, Acc: 86.85104\n",
      "Epoch: 1\n",
      "------\n",
      "Training Loss: 0.37603, Acc: 81.25000| Testing Loss: 0.37078, Acc: 86.85104\n",
      "Epoch: 2\n",
      "------\n",
      "Training Loss: 0.37603, Acc: 81.25000| Testing Loss: 0.37078, Acc: 86.85104\n"
     ]
    }
   ],
   "source": [
    "from tqdm.auto import tqdm\n",
    "# training\n",
    "\n",
    "torch.manual_seed(42)\n",
    "\n",
    "epochs = 3\n",
    "\n",
    "for epoch in tqdm(range(epochs)):\n",
    "    print(f'Epoch: {epoch}\\n------')\n",
    "    train_loss, train_acc = 0, 0\n",
    "    \n",
    "    model_2.train()\n",
    "    #train loop\n",
    "    for batch, (X,y) in enumerate(train_dataloader):\n",
    "\n",
    "        y_logits = model_2(X)\n",
    "        y_preds = torch.softmax(y_logits.squeeze(), dim=0).argmax(dim=1)\n",
    "\n",
    "        loss = loss_fn(y_logits, y)\n",
    "        acc = accuracy_fn(y_preds, y)\n",
    "        train_loss += loss\n",
    "        train_acc += acc\n",
    "        \n",
    "        optimizer.zero_grad()\n",
    "        loss.backward()\n",
    "        optimizer.step()\n",
    "    train_loss /= len(train_dataloader)\n",
    "    train_acc /= len(train_dataloader)\n",
    "\n",
    "    # test loop\n",
    "    model.eval()\n",
    "    with torch.inference_mode():\n",
    "        all_pred_labels = []\n",
    "        test_loss, test_acc = 0,0\n",
    "        for X_test, y_test in test_dataloader:\n",
    "            # put X and y on target device\n",
    "            X_test, y_test = X_test.to(device), y_test.to(device)\n",
    "\n",
    "            # forward pass\n",
    "            test_pred = model(X_test) # return logits\n",
    "\n",
    "            # calculate loss and acc\n",
    "            loss = loss_fn(test_pred, y_test)\n",
    "            acc = accuracy_fn(y_true = y_test, y_pred=test_pred.argmax(dim=1))\n",
    "            test_loss += loss\n",
    "            test_acc += acc\n",
    "            all_pred_labels.append(test_pred.argmax(dim=1))\n",
    "        test_loss /= len(test_dataloader)\n",
    "        test_acc /= len(test_dataloader)\n",
    "        print(f'Training Loss: {loss:.5f}, Acc: {acc:.5f}| Testing Loss: {test_loss:.5f}, Acc: {test_acc:.5f}')\n"
   ]
  },
  {
   "cell_type": "code",
   "execution_count": 231,
   "metadata": {},
   "outputs": [
    {
     "data": {
      "text/plain": [
       "array([   6,   12,   23, ..., 9985, 9989, 9991])"
      ]
     },
     "execution_count": 231,
     "metadata": {},
     "output_type": "execute_result"
    }
   ],
   "source": [
    "import numpy as np\n",
    "# get wrong prediction images\n",
    "\n",
    "wrong_predictions = np.where(torch.cat(all_pred_labels) != test_data.targets)[0]\n",
    "wrong_predictions"
   ]
  },
  {
   "cell_type": "code",
   "execution_count": 232,
   "metadata": {},
   "outputs": [
    {
     "data": {
      "text/plain": [
       "1314"
      ]
     },
     "execution_count": 232,
     "metadata": {},
     "output_type": "execute_result"
    }
   ],
   "source": [
    "len(wrong_predictions)"
   ]
  },
  {
   "cell_type": "code",
   "execution_count": 255,
   "metadata": {},
   "outputs": [
    {
     "data": {
      "image/png": "[encoded data removed]",
      "text/plain": [
       "<Figure size 1000x700 with 9 Axes>"
      ]
     },
     "metadata": {},
     "output_type": "display_data"
    }
   ],
   "source": [
    "torch.manual_seed(42)\n",
    "\n",
    "random_images = random.sample(list(wrong_predictions), k=9)\n",
    "\n",
    "plt.figure(figsize=(10,7))\n",
    "for i, r_img_idx in enumerate(random_images):\n",
    "    plt.subplot(3,3, i+1)\n",
    "    plt.axis(False)\n",
    "    plt.imshow(test_data.data[r_img_idx], cmap='gray')\n",
    "\n",
    "    title = f'Truth: {classes[(test_data.targets[r_img_idx]).item()]} | Pred: {classes[torch.cat(all_pred_labels)[r_img_idx]]} '\n",
    "    \n",
    "    plt.title(title, c='r')"
   ]
  },
  {
   "cell_type": "code",
   "execution_count": null,
   "metadata": {},
   "outputs": [],
   "source": []
  }
 ],
 "metadata": {
  "accelerator": "GPU",
  "colab": {
   "authorship_tag": "ABX9TyMUsDcN/+FAm9Pf7Ifqs6AZ",
   "collapsed_sections": [],
   "include_colab_link": true,
   "name": "03_pytorch_computer_vision_exercises.ipynb",
   "provenance": []
  },
  "kernelspec": {
   "display_name": "Python 3 (ipykernel)",
   "language": "python",
   "name": "python3"
  },
  "language_info": {
   "codemirror_mode": {
    "name": "ipython",
    "version": 3
   },
   "file_extension": ".py",
   "mimetype": "text/x-python",
   "name": "python",
   "nbconvert_exporter": "python",
   "pygments_lexer": "ipython3",
   "version": "3.10.14"
  }
 },
 "nbformat": 4,
 "nbformat_minor": 4
}
