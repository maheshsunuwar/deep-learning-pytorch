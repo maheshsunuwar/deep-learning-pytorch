{
 "cells": [
  {
   "cell_type": "markdown",
   "id": "b52abaf0-73d8-4625-b818-9a8b08eb18b4",
   "metadata": {},
   "source": [
    "# 02. PyTorch Neural Network Classification"
   ]
  },
  {
   "cell_type": "markdown",
   "id": "fc149f7f-65c8-4dd1-963f-cf6adba73e43",
   "metadata": {},
   "source": [
    "## Different types of `classifications`:\n",
    "1. `Binary Classification`\n",
    "   - yes/no\n",
    "   - spam/not spam\n",
    "3. `Multi-class Classification`\n",
    "   - dog, cat, or chicken\n",
    "5. `Multi-label Classification`\n",
    "   - single input multiple outputs(hen,dog/cat,hen)"
   ]
  },
  {
   "cell_type": "markdown",
   "id": "c31ad6c7-ba4d-468e-ab29-78bf3c11e189",
   "metadata": {},
   "source": [
    "## Classification Inputs and Outputs\n",
    "![](images/classification_input_output.png)\n",
    "\n",
    "Shape of input: `[32,2,224,224]`"
   ]
  },
  {
   "cell_type": "code",
   "execution_count": null,
   "id": "0f3e773d-5122-480c-9d82-951a2217668b",
   "metadata": {},
   "outputs": [],
   "source": []
  }
 ],
 "metadata": {
  "kernelspec": {
   "display_name": "Python 3 (ipykernel)",
   "language": "python",
   "name": "python3"
  },
  "language_info": {
   "codemirror_mode": {
    "name": "ipython",
    "version": 3
   },
   "file_extension": ".py",
   "mimetype": "text/x-python",
   "name": "python",
   "nbconvert_exporter": "python",
   "pygments_lexer": "ipython3",
   "version": "3.10.14"
  }
 },
 "nbformat": 4,
 "nbformat_minor": 5
}
