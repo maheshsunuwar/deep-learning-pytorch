{
 "cells": [
  {
   "cell_type": "markdown",
   "id": "cb4fed06-1492-4d43-adaa-f7e3fe3c9af2",
   "metadata": {},
   "source": [
    "# 06. PyTorch Transfer Learning\n",
    "\n",
    "Let's take a well performing pre-trained model and adjust it to one of our own problems.\n",
    "\n",
    "We can increase the performance of our model by getting a help from other already trained good models.\n",
    "\n",
    "**What we're going to cover**\n",
    "- take a pretrained model from `torchvision.models`\n",
    "- and customize it to work on (and hopefully improve) our `foodvision` problem"
   ]
  },
  {
   "cell_type": "markdown",
   "id": "776178de-f20a-479e-a498-6cdae42b4058",
   "metadata": {},
   "source": [
    "Steps that we will do:\n",
    "1. Setting up\n",
    "2. Get data\n",
    "3. Create datasets ad dataloaders\n",
    "4. Get and Customize a pretrained model\n",
    "5. Train model\n",
    "6. Evaluate the model by plotting loss curves\n",
    "7. Make predictions on images from the test set"
   ]
  },
  {
   "cell_type": "markdown",
   "id": "47eb8b52-829b-4b77-9098-8a8b79083986",
   "metadata": {},
   "source": [
    "## 1. Setting up"
   ]
  },
  {
   "cell_type": "code",
   "execution_count": 16,
   "id": "c69dbbda-95b5-4a76-a1e1-87a1caa1e75f",
   "metadata": {},
   "outputs": [
    {
     "name": "stdout",
     "output_type": "stream",
     "text": [
      "torch version: 2.2.2\n",
      "torchvision version: 0.17.2\n"
     ]
    }
   ],
   "source": [
    "try:\n",
    "    import torch\n",
    "    import torchvision\n",
    "    assert int(torch.__version__.split('.')[0]) >=2, 'torch version should be 2.0+'\n",
    "    assert int(torchvision.__version__.split('.')[1]) >=17, 'torchvision version should be 0.17+'\n",
    "    print(f'torch version: {torch.__version__}')\n",
    "    print(f'torchvision version: {torchvision.__version__}')\n",
    "except:\n",
    "    print('[INFO] torch/torchvision verson not as required, installing nightly versions')\n",
    "    !pip install -U torch torchvision\n",
    "    import torch\n",
    "    import torchvision\n",
    "    print(f'torch version: {torch.__version__}')\n",
    "    print(f'torchvision version: {torchvision.__version__}')\n",
    "    "
   ]
  },
  {
   "cell_type": "code",
   "execution_count": 19,
   "id": "dec8b444-eb72-41f2-90ab-909cac79d505",
   "metadata": {},
   "outputs": [
    {
     "data": {
      "text/plain": [
       "'cpu'"
      ]
     },
     "execution_count": 19,
     "metadata": {},
     "output_type": "execute_result"
    }
   ],
   "source": [
    "import matplotlib.pyplot as plot\n",
    "import torch\n",
    "import torchvision\n",
    "from torch import nn\n",
    "from torchvision import transforms\n",
    "\n",
    "# try torchinfo, install if not installed\n",
    "try:\n",
    "    from torchinfo import summary\n",
    "except:\n",
    "    print(f\"[INFO] Couldn't find torchinfo, intalling it.\")\n",
    "    !pip install -q torchinfo\n",
    "    print(f'installed torchinfo {torchinfo.__version__}')\n",
    "    from torchinfo import summary\n",
    "\n",
    "## setup device agnostic code\n",
    "device = 'cuda' if torch.cuda.is_available() else 'cpu'\n",
    "device"
   ]
  },
  {
   "cell_type": "markdown",
   "id": "078c5a8e-e7a5-4fbe-9fcb-53cd49db4cb8",
   "metadata": {},
   "source": [
    "## 2. Getting Data\n",
    "\n",
    "before we start transfer learning, we need a dataset.\n"
   ]
  },
  {
   "cell_type": "code",
   "execution_count": 23,
   "id": "9fe4f6b3-2a1c-4641-b018-1e2fdda341b1",
   "metadata": {},
   "outputs": [
    {
     "name": "stdout",
     "output_type": "stream",
     "text": [
      "Folders doesn't exist, creating one..\n",
      "Downloading data...\n",
      "Download done.\n",
      "Unzipping...\n"
     ]
    }
   ],
   "source": [
    "from pathlib import Path\n",
    "from zipfile import ZipFile\n",
    "import requests\n",
    "import os\n",
    "\n",
    "data_url = \"https://github.com/mrdbourke/pytorch-deep-learning/raw/main/data/pizza_steak_sushi.zip\"\n",
    "\n",
    "data_path = Path('data')\n",
    "image_data_path = data_path / 'pizza_steak_sushi'\n",
    "\n",
    "# create folders if not already available\n",
    "if image_data_path.is_dir():\n",
    "    print('folders already eists')\n",
    "else:\n",
    "    print(\"Folders doesn't exist, creating one..\")\n",
    "    image_data_path.mkdir(parents=True, exist_ok=True)\n",
    "\n",
    "    # download data\n",
    "    with open(data_path / 'pizza_steak_sushi.zip', 'wb') as f:\n",
    "        request = requests.get(data_url)\n",
    "        print(f'Downloading data...')\n",
    "        f.write(request.content)\n",
    "        print(f'Download done.')\n",
    "    # unzip\n",
    "    with ZipFile(data_path/'pizza_steak_sushi.zip', 'r') as zip_file:\n",
    "        print(f'Unzipping...')\n",
    "        zip_file.extractall(image_data_path)\n",
    "        print('Extracted..')\n",
    "    # remove zip file\n",
    "    os.remove(data_path/'pizza_steak_sushi.zip')\n"
   ]
  },
  {
   "cell_type": "markdown",
   "id": "849e2143-b4da-4f90-8050-f51ddcfcbc2f",
   "metadata": {},
   "source": [
    "## Create datasets and dataloader\n",
    "now that we have downloaded the data we should create `datasets` and corresponding `dataloader`"
   ]
  },
  {
   "cell_type": "code",
   "execution_count": null,
   "id": "f2015ed4-a40a-4187-82ae-b1b4ee563493",
   "metadata": {},
   "outputs": [],
   "source": []
  }
 ],
 "metadata": {
  "kernelspec": {
   "display_name": "Python 3 (ipykernel)",
   "language": "python",
   "name": "python3"
  },
  "language_info": {
   "codemirror_mode": {
    "name": "ipython",
    "version": 3
   },
   "file_extension": ".py",
   "mimetype": "text/x-python",
   "name": "python",
   "nbconvert_exporter": "python",
   "pygments_lexer": "ipython3",
   "version": "3.10.14"
  }
 },
 "nbformat": 4,
 "nbformat_minor": 5
}
