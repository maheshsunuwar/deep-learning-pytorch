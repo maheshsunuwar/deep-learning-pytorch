{
 "cells": [
  {
   "cell_type": "markdown",
   "id": "cb4fed06-1492-4d43-adaa-f7e3fe3c9af2",
   "metadata": {},
   "source": [
    "# 06. PyTorch Transfer Learning\n",
    "\n",
    "Let's take a well performing pre-trained model and adjust it to one of our own problems.\n",
    "\n",
    "We can increase the performance of our model by getting a help from other already trained good models."
   ]
  },
  {
   "cell_type": "code",
   "execution_count": null,
   "id": "8b52f8f2-4f73-4c03-80a1-9349b4a433bd",
   "metadata": {},
   "outputs": [],
   "source": []
  }
 ],
 "metadata": {
  "kernelspec": {
   "display_name": "Python 3 (ipykernel)",
   "language": "python",
   "name": "python3"
  },
  "language_info": {
   "codemirror_mode": {
    "name": "ipython",
    "version": 3
   },
   "file_extension": ".py",
   "mimetype": "text/x-python",
   "name": "python",
   "nbconvert_exporter": "python",
   "pygments_lexer": "ipython3",
   "version": "3.10.14"
  }
 },
 "nbformat": 4,
 "nbformat_minor": 5
}
