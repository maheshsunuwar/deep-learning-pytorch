{
 "cells": [
  {
   "cell_type": "markdown",
   "id": "a8b5a627-8e13-4d6f-88df-2fa92d6ab1ab",
   "metadata": {},
   "source": [
    "# 05. PyTorch Going Modular\n",
    "\n",
    "This section is all about turning jupyter notebook to python scripts\n",
    "\n",
    "`Jupyter Notebook -> Python Scripts`\n",
    "\n",
    "Going Modular is turning Notebook to series of different Python scripts that offer similar functionality.\n",
    "\n",
    "for example, we can turn our notebook code into following Python files\"\n",
    "- `data_setup.py` - a file to prepare and download data if needed\n",
    "- `engine.py` - a file containing various `training` functions\n",
    "- `model_builder.py` - a file to create a PyTorch model\n",
    "- `train.py` - a file to leverage all other files and train a target PyTorch model\n",
    "- `utils.py` - a file dedicated to helpful utility functions"
   ]
  },
  {
   "cell_type": "code",
   "execution_count": null,
   "id": "98c4cca1-3e1a-43a3-8491-ec189339a110",
   "metadata": {},
   "outputs": [],
   "source": []
  }
 ],
 "metadata": {
  "kernelspec": {
   "display_name": "Python 3 (ipykernel)",
   "language": "python",
   "name": "python3"
  },
  "language_info": {
   "codemirror_mode": {
    "name": "ipython",
    "version": 3
   },
   "file_extension": ".py",
   "mimetype": "text/x-python",
   "name": "python",
   "nbconvert_exporter": "python",
   "pygments_lexer": "ipython3",
   "version": "3.10.14"
  }
 },
 "nbformat": 4,
 "nbformat_minor": 5
}
