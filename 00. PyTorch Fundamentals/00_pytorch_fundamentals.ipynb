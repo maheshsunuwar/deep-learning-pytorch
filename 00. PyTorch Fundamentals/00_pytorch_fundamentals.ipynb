{
 "cells": [
  {
   "cell_type": "markdown",
   "id": "0160eaa7-43f9-4606-8b93-254890447b63",
   "metadata": {
    "jp-MarkdownHeadingCollapsed": true
   },
   "source": [
    "### Links"
   ]
  },
  {
   "cell_type": "markdown",
   "id": "df6705ac-a8d1-478c-b268-1fd061135fca",
   "metadata": {},
   "source": [
    "[Python cheatseat by learnpython.io](https://www.learnpytorch.io/pytorch_cheatsheet/)"
   ]
  },
  {
   "cell_type": "markdown",
   "id": "8541f511-f12a-45e2-b555-b0d40eb6f695",
   "metadata": {
    "jp-MarkdownHeadingCollapsed": true
   },
   "source": [
    "### Imports"
   ]
  },
  {
   "cell_type": "code",
   "execution_count": 1,
   "id": "d31e4326-f500-45d5-9953-b3f069fd845b",
   "metadata": {
    "canvas": {
     "comments": [],
     "componentType": "CodeCell",
     "copiedOriginId": null,
     "diskcache": false,
     "headerColor": "transparent",
     "id": "9a7c2255-9128-4221-9da6-cfa8cf43c5cf",
     "isComponent": false,
     "name": "",
     "parents": []
    },
    "tags": []
   },
   "outputs": [
    {
     "name": "stdout",
     "output_type": "stream",
     "text": [
      "PyTorch Version:  2.0.1\n"
     ]
    }
   ],
   "source": [
    "import torch\n",
    "\n",
    "import pandas as pd\n",
    "import numpy as np\n",
    "import matplotlib.pyplot as plt\n",
    "\n",
    "print(\"PyTorch Version: \", torch.__version__)"
   ]
  },
  {
   "cell_type": "code",
   "execution_count": 3,
   "id": "36ec62db-3eb7-4359-a7ac-bd8bd92a2c10",
   "metadata": {
    "canvas": {
     "comments": [],
     "componentType": "CodeCell",
     "copiedOriginId": null,
     "diskcache": false,
     "headerColor": "transparent",
     "id": "8ce30299-98c4-4937-90ec-64b5fa5811e7",
     "isComponent": false,
     "name": "",
     "parents": []
    }
   },
   "outputs": [
    {
     "name": "stdout",
     "output_type": "stream",
     "text": [
      "MPS is available\n"
     ]
    }
   ],
   "source": [
    "if torch.backends.mps.is_available():\n",
    "    print(\"MPS is available\")\n",
    "\n",
    "mps_device = torch.device(\"mps\")"
   ]
  },
  {
   "cell_type": "markdown",
   "id": "2ba0d71f-3b80-46bf-a16b-97bd4019a41a",
   "metadata": {
    "canvas": {
     "comments": [],
     "componentType": "CodeCell",
     "copiedOriginId": null,
     "diskcache": false,
     "headerColor": "transparent",
     "id": "6f1b7c67-2a31-4140-8115-bc0f1ea49534",
     "isComponent": false,
     "name": "",
     "parents": []
    },
    "tags": []
   },
   "source": [
    "## 00. PyTorch Fundamentals"
   ]
  },
  {
   "cell_type": "markdown",
   "id": "e3f1c150-346c-4319-a582-f8dd687bf158",
   "metadata": {
    "canvas": {
     "comments": [],
     "componentType": "CodeCell",
     "copiedOriginId": null,
     "diskcache": false,
     "headerColor": "transparent",
     "id": "8a29dea7-e93b-4f42-98a0-58d360935acb",
     "isComponent": false,
     "name": "",
     "parents": []
    }
   },
   "source": [
    "### Tensor"
   ]
  },
  {
   "cell_type": "code",
   "execution_count": 4,
   "id": "d72b6f26-600c-4450-ad92-bf2d616be479",
   "metadata": {
    "canvas": {
     "comments": [],
     "componentType": "CodeCell",
     "copiedOriginId": null,
     "diskcache": false,
     "headerColor": "transparent",
     "id": "e5891b76-0a25-4120-b1ad-296aa451cd18",
     "isComponent": false,
     "name": "",
     "parents": []
    }
   },
   "outputs": [
    {
     "name": "stdout",
     "output_type": "stream",
     "text": [
      "scaler\n",
      "\n",
      "0\n",
      "7\n",
      "torch.Size([])\n"
     ]
    }
   ],
   "source": [
    "# scaler\n",
    "scaler = torch.tensor(7)\n",
    "scaler\n",
    "\n",
    "print(\"scaler\")\n",
    "print()\n",
    "print(scaler.ndim)\n",
    "print(scaler.item())\n",
    "print(scaler.shape)"
   ]
  },
  {
   "cell_type": "code",
   "execution_count": 5,
   "id": "464f8a09-4088-434b-b77d-2b127cbe49cc",
   "metadata": {
    "canvas": {
     "comments": [],
     "componentType": "CodeCell",
     "copiedOriginId": null,
     "diskcache": false,
     "headerColor": "transparent",
     "id": "9c982331-e9cf-4a08-959c-2e5d50abe357",
     "isComponent": false,
     "name": "",
     "parents": []
    }
   },
   "outputs": [
    {
     "name": "stdout",
     "output_type": "stream",
     "text": [
      "vector\n",
      "\n",
      "tensor([7, 6])\n",
      "1\n",
      "torch.Size([2])\n"
     ]
    }
   ],
   "source": [
    "# vector\n",
    "vector = torch.tensor([7, 6])\n",
    "\n",
    "print(\"vector\")\n",
    "print()\n",
    "print(vector)\n",
    "print(vector.ndim)\n",
    "print(vector.shape)"
   ]
  },
  {
   "cell_type": "code",
   "execution_count": 6,
   "id": "16858d49-188d-4ed1-a28b-3fdd3d6096a8",
   "metadata": {
    "canvas": {
     "comments": [],
     "componentType": "CodeCell",
     "copiedOriginId": null,
     "diskcache": false,
     "headerColor": "transparent",
     "id": "4f7858bd-535d-4d49-893c-8290521ef595",
     "isComponent": false,
     "name": "",
     "parents": []
    }
   },
   "outputs": [
    {
     "name": "stdout",
     "output_type": "stream",
     "text": [
      "MATRIX\n",
      "\n",
      "tensor([[7, 6],\n",
      "        [5, 4]])\n",
      "2\n",
      "torch.Size([2, 2])\n"
     ]
    }
   ],
   "source": [
    "# MATRIX\n",
    "MATRIX = torch.tensor([[7, 6],\n",
    "                      [5, 4]])\n",
    "\n",
    "print(\"MATRIX\")\n",
    "print()\n",
    "print(MATRIX)\n",
    "print(MATRIX.ndim)\n",
    "print(MATRIX.shape)"
   ]
  },
  {
   "cell_type": "code",
   "execution_count": 7,
   "id": "ea5c29f0-8286-4a08-9962-0dc38b0c7771",
   "metadata": {
    "canvas": {
     "comments": [],
     "componentType": "CodeCell",
     "copiedOriginId": null,
     "diskcache": false,
     "headerColor": "transparent",
     "id": "9f078f84-e876-4029-8fc0-466a2077e38b",
     "isComponent": false,
     "name": "",
     "parents": []
    }
   },
   "outputs": [
    {
     "name": "stdout",
     "output_type": "stream",
     "text": [
      "TENSOR\n",
      "\n",
      "tensor([[[7, 6, 6],\n",
      "         [5, 4, 8],\n",
      "         [9, 4, 3],\n",
      "         [9, 0, 7]]])\n",
      "3\n",
      "torch.Size([1, 4, 3])\n",
      "tensor([[7, 6, 6],\n",
      "        [5, 4, 8],\n",
      "        [9, 4, 3],\n",
      "        [9, 0, 7]])\n"
     ]
    }
   ],
   "source": [
    "TENSOR = torch.tensor([[[7, 6, 6],\n",
    "                        [5, 4, 8],\n",
    "                        [9, 4, 3],\n",
    "                        [9, 0, 7]]])\n",
    "\n",
    "print(\"TENSOR\")\n",
    "print()\n",
    "print(TENSOR)\n",
    "print(TENSOR.ndim)\n",
    "print(TENSOR.shape)\n",
    "\n",
    "print(TENSOR[0])"
   ]
  },
  {
   "cell_type": "markdown",
   "id": "8b93c3ef-d93e-46f8-a19f-74b494e060fb",
   "metadata": {
    "canvas": {
     "comments": [],
     "componentType": "CodeCell",
     "copiedOriginId": null,
     "diskcache": false,
     "headerColor": "transparent",
     "id": "31521735-1fe6-4f34-bc96-d113532e58ad",
     "isComponent": false,
     "name": "",
     "parents": []
    }
   },
   "source": [
    "#### Random Tensors\n",
    "\n",
    "Why Random Tensors?\n",
    "\n",
    "Random tensors are imkportant because the way many neural networks learn is that they start with tensors full of random numberes and adjust those random numbers to better represent the data.\n",
    "\n",
    "`Start with random numbers -> look at data -> update random numbers -> look at data -> update random numbers -> ...`"
   ]
  },
  {
   "cell_type": "code",
   "execution_count": 9,
   "id": "f95aeb8c-cbb8-453a-92fb-b397a7eefc14",
   "metadata": {
    "canvas": {
     "comments": [],
     "componentType": "CodeCell",
     "copiedOriginId": null,
     "diskcache": false,
     "headerColor": "transparent",
     "id": "4615c5a8-2782-4633-93f9-ce349cbf4a24",
     "isComponent": false,
     "name": "",
     "parents": []
    }
   },
   "outputs": [
    {
     "data": {
      "text/plain": [
       "tensor([[0.9084, 0.6873, 0.5469, 0.1215],\n",
       "        [0.1512, 0.7505, 0.7233, 0.8130],\n",
       "        [0.0767, 0.4941, 0.3579, 0.5894]])"
      ]
     },
     "execution_count": 9,
     "metadata": {},
     "output_type": "execute_result"
    }
   ],
   "source": [
    "# create a random tensors of size (3,4)\n",
    "\n",
    "random_tensor = torch.rand(3,4)\n",
    "random_tensor"
   ]
  },
  {
   "cell_type": "code",
   "execution_count": 10,
   "id": "38e499c6-11bb-47d1-9ee5-4113c82114c5",
   "metadata": {
    "canvas": {
     "comments": [],
     "componentType": "CodeCell",
     "copiedOriginId": null,
     "diskcache": false,
     "headerColor": "transparent",
     "id": "1e178c59-c513-42a5-b9a7-f1ce0f433354",
     "isComponent": false,
     "name": "",
     "parents": []
    }
   },
   "outputs": [
    {
     "data": {
      "text/plain": [
       "2"
      ]
     },
     "execution_count": 10,
     "metadata": {},
     "output_type": "execute_result"
    }
   ],
   "source": [
    "random_tensor.ndim"
   ]
  },
  {
   "cell_type": "code",
   "execution_count": 49,
   "id": "66f6cbfe-65ac-4fec-a718-f40f700d873c",
   "metadata": {
    "canvas": {
     "comments": [],
     "componentType": "CodeCell",
     "copiedOriginId": null,
     "diskcache": false,
     "headerColor": "transparent",
     "id": "78780f3f-75a2-46d3-8345-27e50c7df7c9",
     "isComponent": false,
     "name": "",
     "parents": []
    }
   },
   "outputs": [
    {
     "data": {
      "text/plain": [
       "(torch.Size([3, 224, 224]), 3)"
      ]
     },
     "execution_count": 49,
     "metadata": {},
     "output_type": "execute_result"
    }
   ],
   "source": [
    "# create a random tensor with similar size to an image tensor\n",
    "\n",
    "random_image_size_tensor = torch.rand(size=(3, 224, 224)) # 3 color channels, 224 height, 224 width\n",
    "random_image_size_tensor.shape, random_image_size_tensor.ndim"
   ]
  },
  {
   "cell_type": "markdown",
   "id": "d9c522e1-7360-4b63-b46b-40c969261cef",
   "metadata": {
    "canvas": {
     "comments": [],
     "componentType": "CodeCell",
     "copiedOriginId": null,
     "diskcache": false,
     "headerColor": "transparent",
     "id": "58395f3c-7657-4c98-ab97-fe383f5d645c",
     "isComponent": false,
     "name": "",
     "parents": []
    }
   },
   "source": [
    "#### Zeros and Ones"
   ]
  },
  {
   "cell_type": "code",
   "execution_count": 13,
   "id": "4e010d28-6f54-48fd-92f0-c88cf4f3fca0",
   "metadata": {
    "canvas": {
     "comments": [],
     "componentType": "CodeCell",
     "copiedOriginId": null,
     "diskcache": false,
     "headerColor": "transparent",
     "id": "9386bad3-012b-4aab-9e46-2d646f542171",
     "isComponent": false,
     "name": "",
     "parents": []
    }
   },
   "outputs": [
    {
     "data": {
      "text/plain": [
       "tensor([[0., 0., 0., 0.],\n",
       "        [0., 0., 0., 0.],\n",
       "        [0., 0., 0., 0.]])"
      ]
     },
     "execution_count": 13,
     "metadata": {},
     "output_type": "execute_result"
    }
   ],
   "source": [
    "zeros = torch.zeros(size=(3,4))\n",
    "zeros"
   ]
  },
  {
   "cell_type": "code",
   "execution_count": 14,
   "id": "7451b571-bb65-42c6-a03c-5d50ab21282c",
   "metadata": {
    "canvas": {
     "comments": [],
     "componentType": "CodeCell",
     "copiedOriginId": null,
     "diskcache": false,
     "headerColor": "transparent",
     "id": "751687a8-eb9f-4390-8d9c-fcd35be5d311",
     "isComponent": false,
     "name": "",
     "parents": []
    }
   },
   "outputs": [
    {
     "data": {
      "text/plain": [
       "tensor([[1., 1., 1., 1.],\n",
       "        [1., 1., 1., 1.],\n",
       "        [1., 1., 1., 1.]])"
      ]
     },
     "execution_count": 14,
     "metadata": {},
     "output_type": "execute_result"
    }
   ],
   "source": [
    "ones = torch.ones(size=(3,4))\n",
    "ones"
   ]
  },
  {
   "cell_type": "markdown",
   "id": "50d8959b-e4c2-46d0-b677-dbbdcfcd8d7b",
   "metadata": {
    "canvas": {
     "comments": [],
     "componentType": "CodeCell",
     "copiedOriginId": null,
     "diskcache": false,
     "headerColor": "transparent",
     "id": "aeef5c47-ed7c-4b04-826b-f0e80e0e2462",
     "isComponent": false,
     "name": "",
     "parents": []
    }
   },
   "source": [
    "#### Creating Tensors in  a range"
   ]
  },
  {
   "cell_type": "code",
   "execution_count": 15,
   "id": "2398959f-28c1-4050-adc6-8715665ae1dc",
   "metadata": {
    "canvas": {
     "comments": [],
     "componentType": "CodeCell",
     "copiedOriginId": null,
     "diskcache": false,
     "headerColor": "transparent",
     "id": "26c2166a-aa78-4762-927d-47e73988d8d7",
     "isComponent": false,
     "name": "",
     "parents": []
    }
   },
   "outputs": [
    {
     "data": {
      "text/plain": [
       "tensor([0, 1, 2, 3, 4, 5, 6, 7, 8, 9])"
      ]
     },
     "execution_count": 15,
     "metadata": {},
     "output_type": "execute_result"
    }
   ],
   "source": [
    "torch.arange(0,10)"
   ]
  },
  {
   "cell_type": "code",
   "execution_count": 16,
   "id": "dda67b54-deb4-44b9-b6f8-bec6f359631e",
   "metadata": {
    "canvas": {
     "comments": [],
     "componentType": "CodeCell",
     "copiedOriginId": null,
     "diskcache": false,
     "headerColor": "transparent",
     "id": "1c876c8f-db0f-44bb-89df-99c1abcf6cab",
     "isComponent": false,
     "name": "",
     "parents": []
    }
   },
   "outputs": [
    {
     "data": {
      "text/plain": [
       "tensor([ 1,  2,  3,  4,  5,  6,  7,  8,  9, 10])"
      ]
     },
     "execution_count": 16,
     "metadata": {},
     "output_type": "execute_result"
    }
   ],
   "source": [
    "one_to_ten = torch.arange(start=1, end=11, step=1)\n",
    "one_to_ten"
   ]
  },
  {
   "cell_type": "code",
   "execution_count": 17,
   "id": "7ca2f02e-d549-47b0-af9c-5bcc70684574",
   "metadata": {
    "canvas": {
     "comments": [],
     "componentType": "CodeCell",
     "copiedOriginId": null,
     "diskcache": false,
     "headerColor": "transparent",
     "id": "1f2399b4-e09d-4fdf-96ce-5feee0e41388",
     "isComponent": false,
     "name": "",
     "parents": []
    }
   },
   "outputs": [
    {
     "data": {
      "text/plain": [
       "tensor([0, 0, 0, 0, 0, 0, 0, 0, 0, 0])"
      ]
     },
     "execution_count": 17,
     "metadata": {},
     "output_type": "execute_result"
    }
   ],
   "source": [
    "ten_zeros = torch.zeros_like(input=one_to_ten)\n",
    "ten_zeros"
   ]
  },
  {
   "cell_type": "code",
   "execution_count": 18,
   "id": "d0c4e1a3-ab91-46e7-8356-d201b96c52d0",
   "metadata": {
    "canvas": {
     "comments": [],
     "componentType": "CodeCell",
     "copiedOriginId": null,
     "diskcache": false,
     "headerColor": "transparent",
     "id": "2fb467c2-758d-41a0-92d2-ace428d82cb1",
     "isComponent": false,
     "name": "",
     "parents": []
    }
   },
   "outputs": [
    {
     "data": {
      "text/plain": [
       "tensor([0., 0., 0., 0., 0., 0., 0., 0., 0., 0.])"
      ]
     },
     "execution_count": 18,
     "metadata": {},
     "output_type": "execute_result"
    }
   ],
   "source": [
    "torch.zeros(10)"
   ]
  },
  {
   "cell_type": "code",
   "execution_count": 19,
   "id": "fc121a5a-b2be-4d59-9aa3-fec80ddfd85a",
   "metadata": {
    "canvas": {
     "comments": [],
     "componentType": "CodeCell",
     "copiedOriginId": null,
     "diskcache": false,
     "headerColor": "transparent",
     "id": "aa6c5073-12e5-4d6a-ad2a-0dff74c1b8a7",
     "isComponent": false,
     "name": "",
     "parents": []
    }
   },
   "outputs": [
    {
     "data": {
      "text/plain": [
       "tensor([1, 1, 1, 1, 1, 1, 1, 1, 1, 1])"
      ]
     },
     "execution_count": 19,
     "metadata": {},
     "output_type": "execute_result"
    }
   ],
   "source": [
    "ten_ones = torch.ones_like(input=one_to_ten)\n",
    "ten_ones"
   ]
  },
  {
   "cell_type": "code",
   "execution_count": 20,
   "id": "1124dad5-812b-4270-830f-e5422a336340",
   "metadata": {
    "canvas": {
     "comments": [],
     "componentType": "CodeCell",
     "copiedOriginId": null,
     "diskcache": false,
     "headerColor": "transparent",
     "id": "ce2e564a-8ba5-4c61-953f-0fc59830f56f",
     "isComponent": false,
     "name": "",
     "parents": []
    }
   },
   "outputs": [
    {
     "data": {
      "text/plain": [
       "tensor([1., 1., 1., 1., 1., 1., 1., 1., 1., 1.])"
      ]
     },
     "execution_count": 20,
     "metadata": {},
     "output_type": "execute_result"
    }
   ],
   "source": [
    "torch.ones(10)"
   ]
  },
  {
   "cell_type": "markdown",
   "id": "fda56b7f-2096-45fd-9009-49e4713c22d4",
   "metadata": {
    "canvas": {
     "comments": [],
     "componentType": "CodeCell",
     "copiedOriginId": null,
     "diskcache": false,
     "headerColor": "transparent",
     "id": "83db7001-36e9-4d4b-ad81-c0debf1c49bf",
     "isComponent": false,
     "name": "",
     "parents": []
    }
   },
   "source": [
    "#### Dealing with Tensor datatypes\n",
    "<div class=\"alert alert-danger\" role=\"alert\">\n",
    "  You can fall into one of these 3 big errors in PyTorch deeplearning\n",
    "    <ul class=\"list-group\">\n",
    "      <li class=\"list-group-item\">Tensors -> not right datatype</li>\n",
    "      <li class=\"list-group-item\">Tensors -> not right device</li>\n",
    "      <li class=\"list-group-item\">Tensors -> not right shape</li>\n",
    "    </ul>\n",
    "</div>"
   ]
  },
  {
   "cell_type": "code",
   "execution_count": 187,
   "id": "58b6addd-04e0-4b0c-b948-2b3c9bf1a56b",
   "metadata": {
    "canvas": {
     "comments": [],
     "componentType": "CodeCell",
     "copiedOriginId": null,
     "diskcache": false,
     "headerColor": "transparent",
     "id": "a0fffc92-5818-4ed7-80f4-b5f4012480b0",
     "isComponent": false,
     "name": "",
     "parents": []
    }
   },
   "outputs": [
    {
     "name": "stdout",
     "output_type": "stream",
     "text": [
      "tensor([3., 6., 9.])\n",
      "torch.float32\n"
     ]
    }
   ],
   "source": [
    "float_32_tensor = torch.tensor([3.0, 6.0, 9.0],\n",
    "                               dtype=None,\n",
    "                               device=None,\n",
    "                               requires_grad=False)\n",
    "\n",
    "print(float_32_tensor)\n",
    "print(float_32_tensor.dtype)"
   ]
  },
  {
   "cell_type": "code",
   "execution_count": 22,
   "id": "554d408e-a9b3-487f-91bf-d4707d6f331d",
   "metadata": {
    "canvas": {
     "comments": [],
     "componentType": "CodeCell",
     "copiedOriginId": null,
     "diskcache": false,
     "headerColor": "transparent",
     "id": "b93fd720-1680-41cb-b5a5-45ff76dbf258",
     "isComponent": false,
     "name": "",
     "parents": []
    }
   },
   "outputs": [
    {
     "name": "stdout",
     "output_type": "stream",
     "text": [
      "tensor([3., 6., 9.], dtype=torch.float16)\n",
      "torch.float16\n"
     ]
    }
   ],
   "source": [
    "# convert float 32 to float 16\n",
    "float_16_tensor = float_32_tensor.type(torch.half)\n",
    "print(float_16_tensor)\n",
    "print(float_16_tensor.dtype)"
   ]
  },
  {
   "cell_type": "code",
   "execution_count": 24,
   "id": "9b0149f3-7c21-447e-8ee1-6a02131dc086",
   "metadata": {
    "canvas": {
     "comments": [],
     "componentType": "CodeCell",
     "copiedOriginId": null,
     "diskcache": false,
     "headerColor": "transparent",
     "id": "bcc816f5-b64c-4017-b30b-29311b76dead",
     "isComponent": false,
     "name": "",
     "parents": []
    }
   },
   "outputs": [
    {
     "data": {
      "text/plain": [
       "torch.float32"
      ]
     },
     "execution_count": 24,
     "metadata": {},
     "output_type": "execute_result"
    }
   ],
   "source": [
    "(float_32_tensor * float_16_tensor).dtype"
   ]
  },
  {
   "cell_type": "code",
   "execution_count": 25,
   "id": "3ff828b7-d11f-4a90-9e45-166f611acc38",
   "metadata": {
    "canvas": {
     "comments": [],
     "componentType": "CodeCell",
     "copiedOriginId": null,
     "diskcache": false,
     "headerColor": "transparent",
     "id": "7e51a7bf-ce28-4b78-a99d-235ba5575ee0",
     "isComponent": false,
     "name": "",
     "parents": []
    }
   },
   "outputs": [
    {
     "data": {
      "text/plain": [
       "tensor([3, 6, 9], dtype=torch.int32)"
      ]
     },
     "execution_count": 25,
     "metadata": {},
     "output_type": "execute_result"
    }
   ],
   "source": [
    "int_32_tensor = torch.tensor([3,6,9], dtype=torch.int32)\n",
    "int_32_tensor"
   ]
  },
  {
   "cell_type": "code",
   "execution_count": 26,
   "id": "b7078e24-bf19-45ce-b96a-6b4ffd0b4df1",
   "metadata": {
    "canvas": {
     "comments": [],
     "componentType": "CodeCell",
     "copiedOriginId": null,
     "diskcache": false,
     "headerColor": "transparent",
     "id": "5e915088-2698-468d-9259-4afbf801a00a",
     "isComponent": false,
     "name": "",
     "parents": []
    }
   },
   "outputs": [
    {
     "data": {
      "text/plain": [
       "torch.float32"
      ]
     },
     "execution_count": 26,
     "metadata": {},
     "output_type": "execute_result"
    }
   ],
   "source": [
    "(float_32_tensor * int_32_tensor).dtype"
   ]
  },
  {
   "cell_type": "code",
   "execution_count": 189,
   "id": "183fb433-3117-4ef7-88d2-065ec9064583",
   "metadata": {
    "canvas": {
     "comments": [],
     "componentType": "CodeCell",
     "copiedOriginId": null,
     "diskcache": false,
     "headerColor": "transparent",
     "id": "18c7fa11-47f5-436c-8c08-6c9aad2b7439",
     "isComponent": false,
     "name": "",
     "parents": []
    }
   },
   "outputs": [
    {
     "name": "stdout",
     "output_type": "stream",
     "text": [
      "tensor([3., 6., 9.], dtype=torch.float16)\n"
     ]
    }
   ],
   "source": [
    "print(float_32_tensor.type(torch.float16)) # convert from 32 to 16"
   ]
  },
  {
   "cell_type": "markdown",
   "id": "b88216d9-f25d-472b-a967-3ab9771a8434",
   "metadata": {
    "canvas": {
     "comments": [],
     "componentType": "CodeCell",
     "copiedOriginId": null,
     "diskcache": false,
     "headerColor": "transparent",
     "id": "d51f0fa9-a0a0-425c-b8c4-5c830ec16104",
     "isComponent": false,
     "name": "",
     "parents": []
    }
   },
   "source": [
    "#### Getting Infomation from Tensor\n",
    "<div class=\"alert alert-info\" role=\"alert\">\n",
    "  <ul class=\"list-group\">\n",
    "      <li class=\"list-group-item\">tensor.datatype</li>\n",
    "      <li class=\"list-group-item\">tensor.device</li>\n",
    "      <li class=\"list-group-item\">tensor.shape</li>\n",
    "    </ul>\n",
    "</div>"
   ]
  },
  {
   "cell_type": "code",
   "execution_count": 70,
   "id": "2c02fc3f-901f-4ad6-b4cb-e4c318592951",
   "metadata": {
    "canvas": {
     "comments": [],
     "componentType": "CodeCell",
     "copiedOriginId": null,
     "diskcache": false,
     "headerColor": "transparent",
     "id": "23fc52da-8516-4435-a1ac-b6816ad43a3d",
     "isComponent": false,
     "name": "",
     "parents": []
    }
   },
   "outputs": [
    {
     "data": {
      "text/plain": [
       "tensor([[0.8872, 0.9544, 0.1601, 0.1520],\n",
       "        [0.9893, 0.0594, 0.1033, 0.2028],\n",
       "        [0.4763, 0.2385, 0.4624, 0.3066]])"
      ]
     },
     "execution_count": 70,
     "metadata": {},
     "output_type": "execute_result"
    }
   ],
   "source": [
    "# create a tensor\n",
    "some_tensor = torch.rand(size=(3,4))\n",
    "some_tensor"
   ]
  },
  {
   "cell_type": "code",
   "execution_count": 71,
   "id": "a25cb45d-1e49-42ba-a373-631000f10d8d",
   "metadata": {
    "canvas": {
     "comments": [],
     "componentType": "CodeCell",
     "copiedOriginId": null,
     "diskcache": false,
     "headerColor": "transparent",
     "id": "adaf7135-21a4-4783-9ae3-78d56cd6b1de",
     "isComponent": false,
     "name": "",
     "parents": []
    }
   },
   "outputs": [
    {
     "data": {
      "text/plain": [
       "(torch.Size([3, 4]), torch.Size([3, 4]))"
      ]
     },
     "execution_count": 71,
     "metadata": {},
     "output_type": "execute_result"
    }
   ],
   "source": [
    "some_tensor.shape, some_tensor.size()"
   ]
  },
  {
   "cell_type": "code",
   "execution_count": 78,
   "id": "f3eeff28-5fb7-4294-8e62-27a65e4fd9e4",
   "metadata": {
    "canvas": {
     "comments": [],
     "componentType": "CodeCell",
     "copiedOriginId": null,
     "diskcache": false,
     "headerColor": "transparent",
     "id": "35edd28c-507a-4d8f-829d-5c25c557fb56",
     "isComponent": false,
     "name": "",
     "parents": []
    },
    "scrolled": true
   },
   "outputs": [
    {
     "name": "stdout",
     "output_type": "stream",
     "text": [
      "some_tensor : tensor([1, 3, 4])\n",
      "\n",
      "Datatype of some_tensor: torch.int64\n",
      "\n",
      "Shape of some_tensor: torch.Size([3])\n",
      "\n",
      "Device of some_tensor: cpu\n"
     ]
    }
   ],
   "source": [
    "# Find out details about some tensor\n",
    "print(f\"some_tensor : {some_tensor}\")\n",
    "print()\n",
    "print(f\"Datatype of some_tensor: {some_tensor.dtype}\")\n",
    "print()\n",
    "print(f\"Shape of some_tensor: {some_tensor.shape}\")\n",
    "print()\n",
    "print(f\"Device of some_tensor: {some_tensor.device}\")"
   ]
  },
  {
   "cell_type": "markdown",
   "id": "1e7dbec4-72fe-429c-b1b0-213266b19e33",
   "metadata": {
    "canvas": {
     "comments": [],
     "componentType": "CodeCell",
     "copiedOriginId": null,
     "diskcache": false,
     "headerColor": "transparent",
     "id": "bdccab47-c3a4-4cac-94d7-a38f403c75db",
     "isComponent": false,
     "name": "",
     "parents": []
    }
   },
   "source": [
    "#### Manipulating Tensors (tensor operations)\n",
    "<div class=\"alert alert-info\" role=\"alert\">\n",
    "  <ul class=\"list-group\">\n",
    "      <li class=\"list-group-item\">\n",
    "          Addition\n",
    "      </li>\n",
    "      <li class=\"list-group-item\">\n",
    "          Subtraction\n",
    "      </li>\n",
    "      <li class=\"list-group-item\">\n",
    "          Multiplication (element-wise)\n",
    "      </li>\n",
    "       <li class=\"list-group-item\">\n",
    "          Division\n",
    "      </li>\n",
    "       <li class=\"list-group-item\">\n",
    "          Matrix Multiplication\n",
    "      </li>\n",
    "    </ul>\n",
    "</div>"
   ]
  },
  {
   "cell_type": "code",
   "execution_count": 143,
   "id": "58566d38-cbc3-4c4a-aa4d-bfb69a6fd677",
   "metadata": {
    "canvas": {
     "comments": [],
     "componentType": "CodeCell",
     "copiedOriginId": null,
     "diskcache": false,
     "headerColor": "transparent",
     "id": "ab3784eb-3a7d-49de-b24b-f71a7fe0f536",
     "isComponent": false,
     "name": "",
     "parents": []
    }
   },
   "outputs": [
    {
     "name": "stdout",
     "output_type": "stream",
     "text": [
      "some_tensor: tensor([1, 3, 4])\n"
     ]
    }
   ],
   "source": [
    "# create a some_tensor\n",
    "some_tensor = torch.tensor(data=[1,3,4])\n",
    "print(f\"some_tensor: {some_tensor}\")"
   ]
  },
  {
   "cell_type": "code",
   "execution_count": 74,
   "id": "9dd073b7-57a4-4a62-b951-f7cc40bc3964",
   "metadata": {
    "canvas": {
     "comments": [],
     "componentType": "CodeCell",
     "copiedOriginId": null,
     "diskcache": false,
     "headerColor": "transparent",
     "id": "7e50e9ca-d2eb-4ea4-9880-93f495830e46",
     "isComponent": false,
     "name": "",
     "parents": []
    }
   },
   "outputs": [
    {
     "name": "stdout",
     "output_type": "stream",
     "text": [
      "some_tensor : tensor([1, 3, 4])\n",
      "\n",
      "Add 10 : some_tensor + 10 = tensor([11, 13, 14])\n",
      "\n",
      "Multiply tensor by 10: some_tensor * 10 = tensor([10, 30, 40])\n",
      "\n",
      "Substract 10 : some_tensor - 10 = tensor([-9, -7, -6])\n"
     ]
    }
   ],
   "source": [
    "print(f\"some_tensor : {some_tensor}\")\n",
    "print()\n",
    "print(f\"Add 10 : some_tensor + 10 = {some_tensor + 10}\")\n",
    "print()\n",
    "print(f\"Multiply tensor by 10: some_tensor * 10 = {some_tensor * 10}\")\n",
    "print()\n",
    "print(f\"Substract 10 : some_tensor - 10 = {some_tensor - 10}\")"
   ]
  },
  {
   "cell_type": "code",
   "execution_count": 75,
   "id": "f21f0a83-6a9f-4b55-835f-352aa5769ad4",
   "metadata": {
    "canvas": {
     "comments": [],
     "componentType": "CodeCell",
     "copiedOriginId": null,
     "diskcache": false,
     "headerColor": "transparent",
     "id": "bceaa296-a58f-4428-b83e-1112f51cf54c",
     "isComponent": false,
     "name": "",
     "parents": []
    }
   },
   "outputs": [
    {
     "data": {
      "text/plain": [
       "tensor([10, 30, 40])"
      ]
     },
     "execution_count": 75,
     "metadata": {},
     "output_type": "execute_result"
    }
   ],
   "source": [
    "# try out PyTorch in-built functions\n",
    "torch.mul(some_tensor, 10)"
   ]
  },
  {
   "cell_type": "code",
   "execution_count": 76,
   "id": "514d200d-4be9-4ee8-92d7-36f399bc6cf8",
   "metadata": {
    "canvas": {
     "comments": [],
     "componentType": "CodeCell",
     "copiedOriginId": null,
     "diskcache": false,
     "headerColor": "transparent",
     "id": "aa3692be-9d4e-4c58-a2f4-5629feb29142",
     "isComponent": false,
     "name": "",
     "parents": []
    }
   },
   "outputs": [
    {
     "data": {
      "text/plain": [
       "tensor([11, 13, 14])"
      ]
     },
     "execution_count": 76,
     "metadata": {},
     "output_type": "execute_result"
    }
   ],
   "source": [
    "torch.add(some_tensor, 10)"
   ]
  },
  {
   "cell_type": "code",
   "execution_count": 77,
   "id": "d54ce0a2-039e-4a86-9c52-ce74ce90d95f",
   "metadata": {
    "canvas": {
     "comments": [],
     "componentType": "CodeCell",
     "copiedOriginId": null,
     "diskcache": false,
     "headerColor": "transparent",
     "id": "cdd3baa5-6214-4a93-b73b-72f59473e669",
     "isComponent": false,
     "name": "",
     "parents": []
    }
   },
   "outputs": [
    {
     "data": {
      "text/plain": [
       "tensor([-9, -7, -6])"
      ]
     },
     "execution_count": 77,
     "metadata": {},
     "output_type": "execute_result"
    }
   ],
   "source": [
    "torch.sub(some_tensor, 10)"
   ]
  },
  {
   "cell_type": "markdown",
   "id": "ea0eed63-185b-46a4-90f4-1fe13c11d75b",
   "metadata": {
    "canvas": {
     "comments": [],
     "componentType": "CodeCell",
     "copiedOriginId": null,
     "diskcache": false,
     "headerColor": "transparent",
     "id": "c62b4001-1520-4dae-957f-6ec53d6b9166",
     "isComponent": false,
     "name": "",
     "parents": []
    }
   },
   "source": [
    "##### Matrix Multiplication"
   ]
  },
  {
   "cell_type": "code",
   "execution_count": 101,
   "id": "48a1be96-a1e0-48ab-98e9-39d5c828f041",
   "metadata": {
    "canvas": {
     "comments": [],
     "componentType": "CodeCell",
     "copiedOriginId": null,
     "diskcache": false,
     "headerColor": "transparent",
     "id": "d3666f3d-82ac-4726-9043-c03d2293790f",
     "isComponent": false,
     "name": "",
     "parents": []
    }
   },
   "outputs": [
    {
     "name": "stdout",
     "output_type": "stream",
     "text": [
      "tensor(26, device='mps:0')\n",
      "CPU times: user 2.6 ms, sys: 2.45 ms, total: 5.05 ms\n",
      "Wall time: 4.28 ms\n"
     ]
    }
   ],
   "source": [
    "%%time\n",
    "value=0\n",
    "for i in range(len(some_tensor)):\n",
    "    value += some_tensor[i] * some_tensor[i]\n",
    "print(value)"
   ]
  },
  {
   "cell_type": "code",
   "execution_count": 118,
   "id": "1d49530c-95e6-4f91-8ddf-9b155f9703e2",
   "metadata": {
    "canvas": {
     "comments": [],
     "componentType": "CodeCell",
     "copiedOriginId": null,
     "diskcache": false,
     "headerColor": "transparent",
     "id": "d9804b07-5ecf-471c-b4a8-e54aa1275a8d",
     "isComponent": false,
     "name": "",
     "parents": []
    }
   },
   "outputs": [
    {
     "name": "stdout",
     "output_type": "stream",
     "text": [
      "CPU times: user 866 µs, sys: 654 µs, total: 1.52 ms\n",
      "Wall time: 782 µs\n"
     ]
    },
    {
     "data": {
      "text/plain": [
       "tensor(26., device='mps:0')"
      ]
     },
     "execution_count": 118,
     "metadata": {},
     "output_type": "execute_result"
    }
   ],
   "source": [
    "%%time\n",
    "torch.matmul(some_tensor, some_tensor)"
   ]
  },
  {
   "cell_type": "code",
   "execution_count": 156,
   "id": "e80b07cf-3a38-4221-9541-8001c441d62e",
   "metadata": {
    "canvas": {
     "comments": [],
     "componentType": "CodeCell",
     "copiedOriginId": null,
     "diskcache": false,
     "headerColor": "transparent",
     "id": "e21748fd-b0a8-49da-aa19-82c8e8896640",
     "isComponent": false,
     "name": "",
     "parents": []
    }
   },
   "outputs": [
    {
     "name": "stdout",
     "output_type": "stream",
     "text": [
      "CPU times: user 33 µs, sys: 5 µs, total: 38 µs\n",
      "Wall time: 42.2 µs\n"
     ]
    },
    {
     "data": {
      "text/plain": [
       "tensor(26)"
      ]
     },
     "execution_count": 156,
     "metadata": {},
     "output_type": "execute_result"
    }
   ],
   "source": [
    "%%time\n",
    "torch.matmul(some_tensor, some_tensor)"
   ]
  },
  {
   "cell_type": "markdown",
   "id": "0893e77c-dce3-4a2d-abec-5ee50a68ee62",
   "metadata": {
    "canvas": {
     "comments": [],
     "componentType": "CodeCell",
     "copiedOriginId": null,
     "diskcache": false,
     "headerColor": "transparent",
     "id": "fde7f193-16c1-417b-8492-fdd3d61f0ade",
     "isComponent": false,
     "name": "",
     "parents": []
    }
   },
   "source": [
    "<div class=\"alert alert-danger\" role=\"alert\">\n",
    "  One of the most common errors in deep learning: <b>shape errors</b>\n",
    "</div>\n",
    "\n",
    "1. The **inner dimensions** must match\n",
    "- `(3,2) @ (3,2)` wont work\n",
    "- `(3,2) @ (2,3)` will work\n",
    "- `(2,3) @ (3,2)` will work\n",
    "\n",
    "2. The resulting matrix has the shape of the **outer dimensions**\n",
    "- `(3,2) @ (2,3)` -> `(3,3)`\n",
    "- `(2,3) @ (3,2)` -> `(2,2)`"
   ]
  },
  {
   "cell_type": "code",
   "execution_count": 158,
   "id": "fca22d1d-aa62-41b9-a7a4-bda9958d98a1",
   "metadata": {
    "canvas": {
     "comments": [],
     "componentType": "CodeCell",
     "copiedOriginId": null,
     "diskcache": false,
     "headerColor": "transparent",
     "id": "597257b1-9110-47e5-a20b-816db8868ef9",
     "isComponent": false,
     "name": "",
     "parents": []
    }
   },
   "outputs": [
    {
     "ename": "RuntimeError",
     "evalue": "mat1 and mat2 shapes cannot be multiplied (3x2 and 3x2)",
     "output_type": "error",
     "traceback": [
      "\u001b[0;31m---------------------------------------------------------------------------\u001b[0m",
      "\u001b[0;31mRuntimeError\u001b[0m                              Traceback (most recent call last)",
      "\u001b[0;32m/var/folders/11/930k5s4139qbpzg_v2crgdzm0000gn/T/ipykernel_28767/35819233.py\u001b[0m in \u001b[0;36m<module>\u001b[0;34m\u001b[0m\n\u001b[0;32m----> 1\u001b[0;31m \u001b[0mtorch\u001b[0m\u001b[0;34m.\u001b[0m\u001b[0mmatmul\u001b[0m\u001b[0;34m(\u001b[0m\u001b[0mtorch\u001b[0m\u001b[0;34m.\u001b[0m\u001b[0mrand\u001b[0m\u001b[0;34m(\u001b[0m\u001b[0;36m3\u001b[0m\u001b[0;34m,\u001b[0m\u001b[0;36m2\u001b[0m\u001b[0;34m)\u001b[0m\u001b[0;34m,\u001b[0m \u001b[0mtorch\u001b[0m\u001b[0;34m.\u001b[0m\u001b[0mrand\u001b[0m\u001b[0;34m(\u001b[0m\u001b[0;36m3\u001b[0m\u001b[0;34m,\u001b[0m\u001b[0;36m2\u001b[0m\u001b[0;34m)\u001b[0m\u001b[0;34m)\u001b[0m\u001b[0;34m\u001b[0m\u001b[0;34m\u001b[0m\u001b[0m\n\u001b[0m",
      "\u001b[0;31mRuntimeError\u001b[0m: mat1 and mat2 shapes cannot be multiplied (3x2 and 3x2)"
     ]
    }
   ],
   "source": [
    "torch.matmul(torch.rand(3,2), torch.rand(3,2))"
   ]
  },
  {
   "cell_type": "code",
   "execution_count": 161,
   "id": "abd362b8-1cec-43a3-8bef-02d291d29b39",
   "metadata": {
    "canvas": {
     "comments": [],
     "componentType": "CodeCell",
     "copiedOriginId": null,
     "diskcache": false,
     "headerColor": "transparent",
     "id": "ce5a28a6-261c-4581-bb72-8233b882a4fe",
     "isComponent": false,
     "name": "",
     "parents": []
    }
   },
   "outputs": [
    {
     "data": {
      "text/plain": [
       "tensor([[1.2512, 0.9629, 0.3346],\n",
       "        [0.5715, 0.3169, 0.1083],\n",
       "        [0.7648, 0.6169, 0.2148]])"
      ]
     },
     "execution_count": 161,
     "metadata": {},
     "output_type": "execute_result"
    }
   ],
   "source": [
    "torch.matmul(torch.rand(3,2), torch.rand(2,3))"
   ]
  },
  {
   "cell_type": "code",
   "execution_count": 162,
   "id": "bc169b95-2387-488e-b932-233201fc633b",
   "metadata": {
    "canvas": {
     "comments": [],
     "componentType": "CodeCell",
     "copiedOriginId": null,
     "diskcache": false,
     "headerColor": "transparent",
     "id": "f8491758-daec-4221-a6b0-754bca0433d0",
     "isComponent": false,
     "name": "",
     "parents": []
    }
   },
   "outputs": [
    {
     "data": {
      "text/plain": [
       "tensor([[0.5000, 0.6674],\n",
       "        [0.4664, 0.5442]])"
      ]
     },
     "execution_count": 162,
     "metadata": {},
     "output_type": "execute_result"
    }
   ],
   "source": [
    "torch.matmul(torch.rand(2,3), torch.rand(3,2))"
   ]
  },
  {
   "cell_type": "code",
   "execution_count": 165,
   "id": "306f7aba-5aca-4487-b5f8-4850ed8c3a4c",
   "metadata": {
    "canvas": {
     "comments": [],
     "componentType": "CodeCell",
     "copiedOriginId": null,
     "diskcache": false,
     "headerColor": "transparent",
     "id": "ca6b42ee-4592-4f01-a5ce-3b54c081d8f5",
     "isComponent": false,
     "name": "",
     "parents": []
    }
   },
   "outputs": [],
   "source": [
    "tensor_A = torch.tensor([[1,2],\n",
    "                        [3,4],\n",
    "                        [5,7]])\n",
    "tensor_B = torch.tensor([[7,8],\n",
    "                        [9,10],\n",
    "                        [11,12]])"
   ]
  },
  {
   "cell_type": "code",
   "execution_count": 167,
   "id": "427e6b36-6d7d-46de-8e01-877b47e194d8",
   "metadata": {
    "canvas": {
     "comments": [],
     "componentType": "CodeCell",
     "copiedOriginId": null,
     "diskcache": false,
     "headerColor": "transparent",
     "id": "10df005d-1096-424b-8221-402ea959a84a",
     "isComponent": false,
     "name": "",
     "parents": []
    }
   },
   "outputs": [
    {
     "ename": "RuntimeError",
     "evalue": "mat1 and mat2 shapes cannot be multiplied (3x2 and 3x2)",
     "output_type": "error",
     "traceback": [
      "\u001b[0;31m---------------------------------------------------------------------------\u001b[0m",
      "\u001b[0;31mRuntimeError\u001b[0m                              Traceback (most recent call last)",
      "\u001b[0;32m/var/folders/11/930k5s4139qbpzg_v2crgdzm0000gn/T/ipykernel_28767/2074328876.py\u001b[0m in \u001b[0;36m<module>\u001b[0;34m\u001b[0m\n\u001b[0;32m----> 1\u001b[0;31m \u001b[0mtorch\u001b[0m\u001b[0;34m.\u001b[0m\u001b[0mmm\u001b[0m\u001b[0;34m(\u001b[0m\u001b[0mtensor_A\u001b[0m\u001b[0;34m,\u001b[0m \u001b[0mtensor_B\u001b[0m\u001b[0;34m)\u001b[0m\u001b[0;34m\u001b[0m\u001b[0;34m\u001b[0m\u001b[0m\n\u001b[0m",
      "\u001b[0;31mRuntimeError\u001b[0m: mat1 and mat2 shapes cannot be multiplied (3x2 and 3x2)"
     ]
    }
   ],
   "source": [
    "torch.mm(tensor_A, tensor_B) "
   ]
  },
  {
   "cell_type": "markdown",
   "id": "f9a2067b-f1d7-4995-a47c-6b25d9bed700",
   "metadata": {
    "canvas": {
     "comments": [],
     "componentType": "CodeCell",
     "copiedOriginId": null,
     "diskcache": false,
     "headerColor": "transparent",
     "id": "1f4c9f33-1bae-4dc4-aec8-01319764e94e",
     "isComponent": false,
     "name": "",
     "parents": []
    }
   },
   "source": [
    "**Showing error because the inner dimensiona are not equal betwen A and B**\n",
    "<div class=\"alert alert-info\" role=\"alert\">\n",
    "    We can fix it by using <b>Transpose</b> of the Matrix with \n",
    "    <b>tensor_A.T</b> or\n",
    "    <b>tensor_B.T</b>\n",
    "    <p><b>Transpose</b> switches the dimensions/axes of the tensor.</p>\n",
    "</div>"
   ]
  },
  {
   "cell_type": "code",
   "execution_count": 177,
   "id": "b09fabc4-466b-40d1-90b4-cd43602a0938",
   "metadata": {
    "canvas": {
     "comments": [],
     "componentType": "CodeCell",
     "copiedOriginId": null,
     "diskcache": false,
     "headerColor": "transparent",
     "id": "a06ba98b-945c-43b3-beff-f80353d7a0de",
     "isComponent": false,
     "name": "",
     "parents": []
    }
   },
   "outputs": [
    {
     "name": "stdout",
     "output_type": "stream",
     "text": [
      "tensor_A: \n",
      " tensor([[1, 2],\n",
      "        [3, 4],\n",
      "        [5, 7]])\n",
      "\n",
      "Transpose of tensor_A: \n",
      "tensor([[1, 3, 5],\n",
      "        [2, 4, 7]]) \n",
      "same elements as A but rearranged\n"
     ]
    }
   ],
   "source": [
    "print(f\"tensor_A: \\n {tensor_A}\")\n",
    "print()\n",
    "print(f\"Transpose of tensor_A: \\n{tensor_A.T} \\nsame elements as A but rearranged\")"
   ]
  },
  {
   "cell_type": "code",
   "execution_count": 168,
   "id": "bdd3a47b-c075-4850-b040-f014ccd34a23",
   "metadata": {
    "canvas": {
     "comments": [],
     "componentType": "CodeCell",
     "copiedOriginId": null,
     "diskcache": false,
     "headerColor": "transparent",
     "id": "e023bc69-cc0c-45de-b1f0-bb0a16f1c42b",
     "isComponent": false,
     "name": "",
     "parents": []
    }
   },
   "outputs": [
    {
     "data": {
      "text/plain": [
       "tensor([[ 23,  29,  35],\n",
       "        [ 53,  67,  81],\n",
       "        [ 91, 115, 139]])"
      ]
     },
     "execution_count": 168,
     "metadata": {},
     "output_type": "execute_result"
    }
   ],
   "source": [
    "torch.mm(tensor_A, tensor_B.T) "
   ]
  },
  {
   "cell_type": "code",
   "execution_count": 169,
   "id": "06d08667-5ff9-487c-aef6-2625a647b1e8",
   "metadata": {
    "canvas": {
     "comments": [],
     "componentType": "CodeCell",
     "copiedOriginId": null,
     "diskcache": false,
     "headerColor": "transparent",
     "id": "8b6299e2-4fbb-432d-82c9-bc99cbf87307",
     "isComponent": false,
     "name": "",
     "parents": []
    }
   },
   "outputs": [
    {
     "data": {
      "text/plain": [
       "(torch.Size([3, 2]), torch.Size([2, 3]))"
      ]
     },
     "execution_count": 169,
     "metadata": {},
     "output_type": "execute_result"
    }
   ],
   "source": [
    "tensor_A.shape, tensor_B.T.shape"
   ]
  },
  {
   "cell_type": "markdown",
   "id": "5f99f49e-7437-4956-8150-636c96803020",
   "metadata": {
    "canvas": {
     "comments": [],
     "componentType": "CodeCell",
     "copiedOriginId": null,
     "diskcache": false,
     "headerColor": "transparent",
     "id": "3a0e2b1f-5ef6-4107-a258-78fb42a95728",
     "isComponent": false,
     "name": "",
     "parents": []
    }
   },
   "source": [
    "#### Tensor Aggregation (min, max, mean...)\n",
    "\n",
    "<div class=\"alert alert-info\" role=\"alert\">\n",
    "   Finding min, max, mean, and sum of tensors\n",
    "</div>"
   ]
  },
  {
   "cell_type": "code",
   "execution_count": 15,
   "id": "fe3df381-1081-4a17-b5a7-903e976f5e6c",
   "metadata": {
    "canvas": {
     "comments": [],
     "componentType": "CodeCell",
     "copiedOriginId": null,
     "diskcache": false,
     "headerColor": "transparent",
     "id": "e7b287dc-60fa-4be9-8893-f3838f23fa94",
     "isComponent": false,
     "name": "",
     "parents": []
    }
   },
   "outputs": [
    {
     "data": {
      "text/plain": [
       "(tensor([ 0, 10, 20, 30, 40, 50, 60, 70, 80, 90]), torch.int64)"
      ]
     },
     "execution_count": 15,
     "metadata": {},
     "output_type": "execute_result"
    }
   ],
   "source": [
    "# create a tensor\n",
    "x = torch.arange(0,100, 10)\n",
    "x, x.dtype"
   ]
  },
  {
   "cell_type": "code",
   "execution_count": 5,
   "id": "c01b2263-2e32-4fdf-90ef-237c7a89899b",
   "metadata": {
    "canvas": {
     "comments": [],
     "componentType": "CodeCell",
     "copiedOriginId": null,
     "diskcache": false,
     "headerColor": "transparent",
     "id": "6a4dfe70-1e4d-4531-8190-a4949851c8e5",
     "isComponent": false,
     "name": "",
     "parents": []
    }
   },
   "outputs": [
    {
     "name": "stdout",
     "output_type": "stream",
     "text": [
      "Min:\n",
      "tensor(0) tensor(0)\n",
      "\n",
      "Max:\n",
      "tensor(90) tensor(90)\n"
     ]
    }
   ],
   "source": [
    "print(\"Min:\")\n",
    "print(torch.min(x), x.min())\n",
    "print()\n",
    "print(\"Max:\")\n",
    "print(torch.max(x), x.max())"
   ]
  },
  {
   "cell_type": "code",
   "execution_count": 13,
   "id": "bd5855e4-cf41-4cf7-96e0-e5714f6feb34",
   "metadata": {
    "canvas": {
     "comments": [],
     "componentType": "CodeCell",
     "copiedOriginId": null,
     "diskcache": false,
     "headerColor": "transparent",
     "id": "7ee2d1b6-02ee-4861-aff4-6535f10d40d9",
     "isComponent": false,
     "name": "",
     "parents": []
    }
   },
   "outputs": [
    {
     "ename": "RuntimeError",
     "evalue": "mean(): could not infer output dtype. Input dtype must be either a floating point or complex dtype. Got: Long",
     "output_type": "error",
     "traceback": [
      "\u001b[0;31m---------------------------------------------------------------------------\u001b[0m",
      "\u001b[0;31mRuntimeError\u001b[0m                              Traceback (most recent call last)",
      "\u001b[0;32m/var/folders/11/930k5s4139qbpzg_v2crgdzm0000gn/T/ipykernel_55527/387790371.py\u001b[0m in \u001b[0;36m<module>\u001b[0;34m\u001b[0m\n\u001b[0;32m----> 1\u001b[0;31m \u001b[0mtorch\u001b[0m\u001b[0;34m.\u001b[0m\u001b[0mmean\u001b[0m\u001b[0;34m(\u001b[0m\u001b[0mx\u001b[0m\u001b[0;34m)\u001b[0m\u001b[0;34m\u001b[0m\u001b[0;34m\u001b[0m\u001b[0m\n\u001b[0m",
      "\u001b[0;31mRuntimeError\u001b[0m: mean(): could not infer output dtype. Input dtype must be either a floating point or complex dtype. Got: Long"
     ]
    }
   ],
   "source": [
    "torch.mean(x)"
   ]
  },
  {
   "cell_type": "code",
   "execution_count": 11,
   "id": "f4fb3797-74ab-4a06-8101-caeeb08f0f70",
   "metadata": {
    "canvas": {
     "comments": [],
     "componentType": "CodeCell",
     "copiedOriginId": null,
     "diskcache": false,
     "headerColor": "transparent",
     "id": "592370d3-5f3c-40dc-80ef-f9ecea2d9654",
     "isComponent": false,
     "name": "",
     "parents": []
    }
   },
   "outputs": [
    {
     "data": {
      "text/plain": [
       "torch.int64"
      ]
     },
     "execution_count": 11,
     "metadata": {},
     "output_type": "execute_result"
    }
   ],
   "source": [
    "x.dtype"
   ]
  },
  {
   "cell_type": "code",
   "execution_count": 14,
   "id": "f978fa25-a7a8-4e43-85c9-be712771677f",
   "metadata": {},
   "outputs": [
    {
     "data": {
      "text/plain": [
       "tensor(45.)"
      ]
     },
     "execution_count": 14,
     "metadata": {},
     "output_type": "execute_result"
    }
   ],
   "source": [
    "torch.mean(x.type(torch.float32)) # converting x to float32 and finding the mean"
   ]
  },
  {
   "cell_type": "markdown",
   "id": "c1c0b417-4f13-4429-b3f1-8c15bc2796ef",
   "metadata": {
    "canvas": {
     "comments": [],
     "componentType": "CodeCell",
     "copiedOriginId": null,
     "diskcache": false,
     "headerColor": "transparent",
     "id": "6ad2be9a-d5c1-42fb-9085-a374f2f1b73e",
     "isComponent": false,
     "name": "",
     "parents": []
    }
   },
   "source": [
    "#### Positional Min and Max\n",
    "\n",
    "<div class=\"alert alert-info\" role=\"alert\">\n",
    "   Finding argmax, argmin\n",
    "    <div>\n",
    "        Which index does a max occur and which index does a min occur\n",
    "    </div>\n",
    "</div>"
   ]
  },
  {
   "cell_type": "code",
   "execution_count": 18,
   "id": "714dcbf7-f5ec-442b-96f7-26725f97835d",
   "metadata": {
    "canvas": {
     "comments": [],
     "componentType": "CodeCell",
     "copiedOriginId": null,
     "diskcache": false,
     "headerColor": "transparent",
     "id": "e4e149bc-93ba-4457-be34-eb06368c8294",
     "isComponent": false,
     "name": "",
     "parents": []
    }
   },
   "outputs": [
    {
     "data": {
      "text/plain": [
       "(tensor([ 7,  9,  0,  5,  3,  4,  7, 23,  4,  5], dtype=torch.int32),\n",
       " torch.int32)"
      ]
     },
     "execution_count": 18,
     "metadata": {},
     "output_type": "execute_result"
    }
   ],
   "source": [
    "x = [7,9,0,5,3,4,7,23,4,5]\n",
    "x = torch.tensor(x, dtype=torch.int32)\n",
    "x, x.dtype"
   ]
  },
  {
   "cell_type": "code",
   "execution_count": 19,
   "id": "6d3cba3d-3fcf-47bb-af4b-b4145a6191a3",
   "metadata": {},
   "outputs": [
    {
     "data": {
      "text/plain": [
       "tensor(2)"
      ]
     },
     "execution_count": 19,
     "metadata": {},
     "output_type": "execute_result"
    }
   ],
   "source": [
    "x.argmin() # returns the index in the list x where minimum value occurs"
   ]
  },
  {
   "cell_type": "code",
   "execution_count": 21,
   "id": "d7cbbf8f-6d51-4685-9726-76fb3fd0fc71",
   "metadata": {},
   "outputs": [
    {
     "data": {
      "text/plain": [
       "tensor(7)"
      ]
     },
     "execution_count": 21,
     "metadata": {},
     "output_type": "execute_result"
    }
   ],
   "source": [
    "x.argmax() # returns the index in the list x where maximum value occurs"
   ]
  },
  {
   "cell_type": "markdown",
   "id": "c47bc6f5-9b3a-4025-8360-230e2ace0fa9",
   "metadata": {},
   "source": [
    "#### Reshaping, viewing, stacking, squeezing, and unsqueezing tensors\n",
    "\n",
    "* Reshaping - reshapes an input tnsor to a defined shape\n",
    "* View - Return a view of an input tensor of certain shape but keeps the **same memory** as the **original tensor**\n",
    "* stack - comine multiple tensorf on top of each other **(vstack)** or side by side **(hstack)**\n",
    "* squeeze - removes all `1` dimensions from a tensor\n",
    "* unsqueeze - add a `1` dimension to a target tensor\n",
    "* Permute - return a view of the input with dimension permuted (swapped) in a certain way\n",
    "\n",
    "**Main point of all these operations is to change the shape of the tensor**"
   ]
  },
  {
   "cell_type": "code",
   "execution_count": 56,
   "id": "cf681164-7420-46a3-a402-3d3465ae539d",
   "metadata": {},
   "outputs": [
    {
     "data": {
      "text/plain": [
       "(tensor([1., 2., 3., 4., 5., 6., 7., 8., 9.]), torch.Size([9]))"
      ]
     },
     "execution_count": 56,
     "metadata": {},
     "output_type": "execute_result"
    }
   ],
   "source": [
    "# let's create a tensor\n",
    "x = torch.arange(1.,10.)\n",
    "x, x.shape"
   ]
  },
  {
   "cell_type": "code",
   "execution_count": 59,
   "id": "911b390d-d6af-499f-a7cc-c2fba4ffbce1",
   "metadata": {},
   "outputs": [
    {
     "data": {
      "text/plain": [
       "(tensor([[1., 2., 3., 4., 5., 6., 7., 8., 9.]]), torch.Size([1, 9]))"
      ]
     },
     "execution_count": 59,
     "metadata": {},
     "output_type": "execute_result"
    }
   ],
   "source": [
    "# adding and extra dimension\n",
    "x_reshaped = x.reshape(1,9) # horizontal reshaping to 1x9\n",
    "x_reshaped, x_reshaped.shape"
   ]
  },
  {
   "cell_type": "code",
   "execution_count": 58,
   "id": "14faa402-d975-41c6-9aac-945a29be1969",
   "metadata": {},
   "outputs": [
    {
     "data": {
      "text/plain": [
       "(tensor([[1.],\n",
       "         [2.],\n",
       "         [3.],\n",
       "         [4.],\n",
       "         [5.],\n",
       "         [6.],\n",
       "         [7.],\n",
       "         [8.],\n",
       "         [9.]]),\n",
       " torch.Size([9, 1]))"
      ]
     },
     "execution_count": 58,
     "metadata": {},
     "output_type": "execute_result"
    }
   ],
   "source": [
    "X_reshaped = x.reshape(9,1) # vertical reshaping to 9x1\n",
    "X_reshaped, X_reshaped.shape"
   ]
  },
  {
   "cell_type": "code",
   "execution_count": 78,
   "id": "52c0eec0-66b4-4486-a203-2ad01a3f6233",
   "metadata": {},
   "outputs": [
    {
     "data": {
      "text/plain": [
       "tensor([[1234.,    5.,    3.],\n",
       "        [   4.,    5.,    6.],\n",
       "        [   7.,    8.,    9.]])"
      ]
     },
     "execution_count": 78,
     "metadata": {},
     "output_type": "execute_result"
    }
   ],
   "source": [
    "x.reshape(3,3) # worked because 3x3 = 9, 9 is number of items in x"
   ]
  },
  {
   "cell_type": "code",
   "execution_count": 79,
   "id": "3cca2f6a-c910-4b34-97ab-30088983e325",
   "metadata": {},
   "outputs": [
    {
     "ename": "RuntimeError",
     "evalue": "shape '[3, 1]' is invalid for input of size 9",
     "output_type": "error",
     "traceback": [
      "\u001b[0;31m---------------------------------------------------------------------------\u001b[0m",
      "\u001b[0;31mRuntimeError\u001b[0m                              Traceback (most recent call last)",
      "\u001b[0;32m/var/folders/11/930k5s4139qbpzg_v2crgdzm0000gn/T/ipykernel_55527/3695632172.py\u001b[0m in \u001b[0;36m<module>\u001b[0;34m\u001b[0m\n\u001b[0;32m----> 1\u001b[0;31m \u001b[0mx\u001b[0m\u001b[0;34m.\u001b[0m\u001b[0mreshape\u001b[0m\u001b[0;34m(\u001b[0m\u001b[0;36m3\u001b[0m\u001b[0;34m,\u001b[0m\u001b[0;36m1\u001b[0m\u001b[0;34m)\u001b[0m\u001b[0;34m\u001b[0m\u001b[0;34m\u001b[0m\u001b[0m\n\u001b[0m",
      "\u001b[0;31mRuntimeError\u001b[0m: shape '[3, 1]' is invalid for input of size 9"
     ]
    }
   ],
   "source": [
    "x.reshape(3,1) # didn't work because 3x1 = 3, but 9 is number of items in x"
   ]
  },
  {
   "cell_type": "code",
   "execution_count": 75,
   "id": "952c7917-0488-4d4e-b3ba-8519d03f7216",
   "metadata": {},
   "outputs": [
    {
     "name": "stdout",
     "output_type": "stream",
     "text": [
      "tensor([[1., 5., 3., 4., 5., 6., 7., 8., 9.]]) torch.Size([1, 9])\n"
     ]
    }
   ],
   "source": [
    "# change the view\n",
    "z = x.view(1,9)\n",
    "print(z, z.shape)"
   ]
  },
  {
   "cell_type": "markdown",
   "id": "4297f6d8-2a22-496f-ae5c-05377a9929fb",
   "metadata": {},
   "source": [
    "Changing z changes x as well, because **view** of a tensor **shares** the **same memory** as the **original tensor**"
   ]
  },
  {
   "cell_type": "code",
   "execution_count": 77,
   "id": "20939d68-a10c-4550-91ce-2b9ff0b62cdc",
   "metadata": {},
   "outputs": [
    {
     "data": {
      "text/plain": [
       "(tensor([[1234.,    5.,    3.,    4.,    5.,    6.,    7.,    8.,    9.]]),\n",
       " tensor([1234.,    5.,    3.,    4.,    5.,    6.,    7.,    8.,    9.]))"
      ]
     },
     "execution_count": 77,
     "metadata": {},
     "output_type": "execute_result"
    }
   ],
   "source": [
    "z[:, 0] = 1234\n",
    "z,x"
   ]
  },
  {
   "cell_type": "code",
   "execution_count": 80,
   "id": "f386fe11-1dad-48b2-b1e3-65f373bbf827",
   "metadata": {},
   "outputs": [
    {
     "data": {
      "text/plain": [
       "tensor([[1234.,    5.,    3.],\n",
       "        [   4.,    5.,    6.],\n",
       "        [   7.,    8.,    9.]])"
      ]
     },
     "execution_count": 80,
     "metadata": {},
     "output_type": "execute_result"
    }
   ],
   "source": [
    "x.view(3,3)"
   ]
  },
  {
   "cell_type": "code",
   "execution_count": 81,
   "id": "44ad1acc-cd2d-4216-8ecd-056a69edde51",
   "metadata": {},
   "outputs": [
    {
     "ename": "RuntimeError",
     "evalue": "shape '[3, 1]' is invalid for input of size 9",
     "output_type": "error",
     "traceback": [
      "\u001b[0;31m---------------------------------------------------------------------------\u001b[0m",
      "\u001b[0;31mRuntimeError\u001b[0m                              Traceback (most recent call last)",
      "\u001b[0;32m/var/folders/11/930k5s4139qbpzg_v2crgdzm0000gn/T/ipykernel_55527/1069044832.py\u001b[0m in \u001b[0;36m<module>\u001b[0;34m\u001b[0m\n\u001b[0;32m----> 1\u001b[0;31m \u001b[0mx\u001b[0m\u001b[0;34m.\u001b[0m\u001b[0mview\u001b[0m\u001b[0;34m(\u001b[0m\u001b[0;36m3\u001b[0m\u001b[0;34m,\u001b[0m\u001b[0;36m1\u001b[0m\u001b[0;34m)\u001b[0m\u001b[0;34m\u001b[0m\u001b[0;34m\u001b[0m\u001b[0m\n\u001b[0m",
      "\u001b[0;31mRuntimeError\u001b[0m: shape '[3, 1]' is invalid for input of size 9"
     ]
    }
   ],
   "source": [
    "x.view(3,1)"
   ]
  },
  {
   "cell_type": "code",
   "execution_count": 88,
   "id": "ba0609a8-b196-486f-bf59-9fc27f5f056e",
   "metadata": {},
   "outputs": [
    {
     "name": "stdout",
     "output_type": "stream",
     "text": [
      "tensor([[1234., 1234.],\n",
      "        [   5.,    5.],\n",
      "        [   3.,    3.],\n",
      "        [   4.,    4.],\n",
      "        [   5.,    5.],\n",
      "        [   6.,    6.],\n",
      "        [   7.,    7.],\n",
      "        [   8.,    8.],\n",
      "        [   9.,    9.]])\n",
      "\n",
      "tensor([[1234.,    5.,    3.,    4.,    5.,    6.,    7.,    8.,    9.],\n",
      "        [1234.,    5.,    3.,    4.,    5.,    6.,    7.,    8.,    9.]])\n"
     ]
    }
   ],
   "source": [
    "# stack tensors on top of each other\n",
    "\n",
    "# dim 1  = rowise - vertial\n",
    "print(torch.stack([x,x], dim=1))\n",
    "print()\n",
    "print(torch.stack([x,x], dim=0))\n",
    "\n",
    "\n",
    "# dim 0 = column wise - horizontal"
   ]
  },
  {
   "cell_type": "code",
   "execution_count": 99,
   "id": "baf56c15-0aa9-4f57-b4eb-589fbbda46c7",
   "metadata": {},
   "outputs": [
    {
     "data": {
      "text/plain": [
       "(tensor([[1234.,    5.,    3.,    4.,    5.,    6.,    7.,    8.,    9.],\n",
       "         [1234.,    5.,    3.,    4.,    5.,    6.,    7.,    8.,    9.]]),\n",
       " torch.Size([2, 9]))"
      ]
     },
     "execution_count": 99,
     "metadata": {},
     "output_type": "execute_result"
    }
   ],
   "source": [
    "torch.vstack([x,x]), torch.vstack([x,x]).shape"
   ]
  },
  {
   "cell_type": "code",
   "execution_count": 98,
   "id": "eafb782d-95d8-4b61-a0d1-f16a7af66659",
   "metadata": {},
   "outputs": [
    {
     "data": {
      "text/plain": [
       "(tensor([1234.,    5.,    3.,    4.,    5.,    6.,    7.,    8.,    9., 1234.,\n",
       "            5.,    3.,    4.,    5.,    6.,    7.,    8.,    9.]),\n",
       " torch.Size([18]))"
      ]
     },
     "execution_count": 98,
     "metadata": {},
     "output_type": "execute_result"
    }
   ],
   "source": [
    "torch.hstack([x,x]), torch.hstack([x,x]).shape\n"
   ]
  },
  {
   "cell_type": "code",
   "execution_count": 104,
   "id": "ca9224e8-c4ce-4642-9898-d16d52a9103b",
   "metadata": {},
   "outputs": [
    {
     "data": {
      "text/plain": [
       "tensor([[1234., 1234.],\n",
       "        [   5.,    5.],\n",
       "        [   3.,    3.],\n",
       "        [   4.,    4.],\n",
       "        [   5.,    5.],\n",
       "        [   6.,    6.],\n",
       "        [   7.,    7.],\n",
       "        [   8.,    8.],\n",
       "        [   9.,    9.]])"
      ]
     },
     "execution_count": 104,
     "metadata": {},
     "output_type": "execute_result"
    }
   ],
   "source": [
    "torch.stack([x,x], dim=1)"
   ]
  },
  {
   "cell_type": "code",
   "execution_count": 128,
   "id": "0117a359-311e-43b3-9c1c-5abaa054323a",
   "metadata": {},
   "outputs": [
    {
     "data": {
      "text/plain": [
       "(tensor([[[0., 0., 0., 0., 0., 0., 0., 0.]],\n",
       " \n",
       "         [[0., 0., 0., 0., 0., 0., 0., 0.]],\n",
       " \n",
       "         [[0., 0., 0., 0., 0., 0., 0., 0.]],\n",
       " \n",
       "         [[0., 0., 0., 0., 0., 0., 0., 0.]],\n",
       " \n",
       "         [[0., 0., 0., 0., 0., 0., 0., 0.]],\n",
       " \n",
       "         [[0., 0., 0., 0., 0., 0., 0., 0.]],\n",
       " \n",
       "         [[0., 0., 0., 0., 0., 0., 0., 0.]],\n",
       " \n",
       "         [[0., 0., 0., 0., 0., 0., 0., 0.]],\n",
       " \n",
       "         [[0., 0., 0., 0., 0., 0., 0., 0.]]]),\n",
       " torch.Size([9, 1, 8]))"
      ]
     },
     "execution_count": 128,
     "metadata": {},
     "output_type": "execute_result"
    }
   ],
   "source": [
    "x = torch.zeros(9, 1,8)\n",
    "x, x.shape"
   ]
  },
  {
   "cell_type": "code",
   "execution_count": 129,
   "id": "0462ca3b-aa53-4c12-967f-c08c913f6320",
   "metadata": {},
   "outputs": [
    {
     "data": {
      "text/plain": [
       "tensor([[[0., 0., 0., 0., 0., 0., 0., 0.]],\n",
       "\n",
       "        [[0., 0., 0., 0., 0., 0., 0., 0.]],\n",
       "\n",
       "        [[0., 0., 0., 0., 0., 0., 0., 0.]],\n",
       "\n",
       "        [[0., 0., 0., 0., 0., 0., 0., 0.]],\n",
       "\n",
       "        [[0., 0., 0., 0., 0., 0., 0., 0.]],\n",
       "\n",
       "        [[0., 0., 0., 0., 0., 0., 0., 0.]],\n",
       "\n",
       "        [[0., 0., 0., 0., 0., 0., 0., 0.]],\n",
       "\n",
       "        [[0., 0., 0., 0., 0., 0., 0., 0.]],\n",
       "\n",
       "        [[0., 0., 0., 0., 0., 0., 0., 0.]]])"
      ]
     },
     "execution_count": 129,
     "metadata": {},
     "output_type": "execute_result"
    }
   ],
   "source": [
    "x"
   ]
  },
  {
   "cell_type": "code",
   "execution_count": 133,
   "id": "f38a000a-6f38-4e3e-809c-bd74fb564daa",
   "metadata": {},
   "outputs": [
    {
     "data": {
      "text/plain": [
       "(tensor([[0., 0., 0., 0., 0., 0., 0., 0.],\n",
       "         [0., 0., 0., 0., 0., 0., 0., 0.],\n",
       "         [0., 0., 0., 0., 0., 0., 0., 0.],\n",
       "         [0., 0., 0., 0., 0., 0., 0., 0.],\n",
       "         [0., 0., 0., 0., 0., 0., 0., 0.],\n",
       "         [0., 0., 0., 0., 0., 0., 0., 0.],\n",
       "         [0., 0., 0., 0., 0., 0., 0., 0.],\n",
       "         [0., 0., 0., 0., 0., 0., 0., 0.],\n",
       "         [0., 0., 0., 0., 0., 0., 0., 0.]]),\n",
       " torch.Size([9, 8]))"
      ]
     },
     "execution_count": 133,
     "metadata": {},
     "output_type": "execute_result"
    }
   ],
   "source": [
    "x_squeezed = x.squeeze()\n",
    "\n",
    "x_squeezed, x_squeezed.shape"
   ]
  },
  {
   "cell_type": "markdown",
   "id": "a34ceb34-a06b-4df3-89db-3e515878930c",
   "metadata": {},
   "source": [
    "` torch.Size([9, 1, 8])) ->  torch.Size([9, 8]))`\n",
    "- Removed all 1 dimensions"
   ]
  },
  {
   "cell_type": "code",
   "execution_count": 138,
   "id": "68b1bf6f-a7b6-4eb7-891f-4f0229641e44",
   "metadata": {},
   "outputs": [
    {
     "data": {
      "text/plain": [
       "torch.Size([9, 1, 8])"
      ]
     },
     "execution_count": 138,
     "metadata": {},
     "output_type": "execute_result"
    }
   ],
   "source": [
    "x_squeezed.unsqueeze(dim=1).shape"
   ]
  },
  {
   "cell_type": "markdown",
   "id": "db7a5d90-4cab-45d2-b73f-25b8b8581f42",
   "metadata": {},
   "source": [
    "- added 1 dimension vertically"
   ]
  },
  {
   "cell_type": "code",
   "execution_count": 141,
   "id": "cecbfe99-5461-4027-bb50-12376d3ab840",
   "metadata": {},
   "outputs": [
    {
     "name": "stdout",
     "output_type": "stream",
     "text": [
      "Original shape: torch.Size([224, 224, 3])\n",
      "Permuted shape: torch.Size([3, 224, 224])\n"
     ]
    }
   ],
   "source": [
    "# permute - rearranges the dimensions of a target tensor in a specified order\n",
    "\n",
    "# oftentimes we use this to work with images\n",
    "x_original = torch.rand(size=(224,224,3)) # height, width, color channels\n",
    "\n",
    "# permute the original tensor to trearrange the axis (or dim) to different order\n",
    "x_permutted = x_original.permute(2,0,1) # 0->1, 1->2, 2->0\n",
    "\n",
    "print(f\"Original shape: {x_original.shape}\")\n",
    "print(f\"Permuted shape: {x_permutted.shape}\")\n"
   ]
  },
  {
   "cell_type": "markdown",
   "id": "8b1b6167-bb6d-4fc4-86df-27fc0d1b5c8b",
   "metadata": {},
   "source": [
    "#### Selecting data from tensors (**indexing**)"
   ]
  },
  {
   "cell_type": "code",
   "execution_count": 144,
   "id": "5450d1a0-00ab-4431-98d9-ee763eff1193",
   "metadata": {},
   "outputs": [
    {
     "data": {
      "text/plain": [
       "(tensor([[[1, 2, 3],\n",
       "          [4, 5, 6],\n",
       "          [7, 8, 9]]]),\n",
       " torch.Size([1, 3, 3]))"
      ]
     },
     "execution_count": 144,
     "metadata": {},
     "output_type": "execute_result"
    }
   ],
   "source": [
    "# create a new tensor\n",
    "x = torch.arange(1,10).reshape(1,3,3)\n",
    "x, x.shape"
   ]
  },
  {
   "cell_type": "code",
   "execution_count": 170,
   "id": "aefd34c8-eab4-4241-9a20-f9addaf6a44d",
   "metadata": {},
   "outputs": [
    {
     "name": "stdout",
     "output_type": "stream",
     "text": [
      "tensor(1)\n",
      "tensor(1)\n"
     ]
    }
   ],
   "source": [
    "print(x[0][0][0])\n",
    "print(x[0,0,0])"
   ]
  },
  {
   "cell_type": "code",
   "execution_count": 187,
   "id": "1d485ad4-f62a-4a4d-b9ce-8fcfa2e0d1fd",
   "metadata": {},
   "outputs": [
    {
     "data": {
      "text/plain": [
       "tensor([[[1, 2, 3],\n",
       "         [4, 5, 6],\n",
       "         [7, 8, 9]]])"
      ]
     },
     "execution_count": 187,
     "metadata": {},
     "output_type": "execute_result"
    }
   ],
   "source": [
    "# you can also use \":\" to select \"all\" of a target dimension\n",
    "x[:,:,:]"
   ]
  },
  {
   "cell_type": "code",
   "execution_count": 188,
   "id": "a5064ca8-dc8c-4e3c-a93a-749954d971ec",
   "metadata": {},
   "outputs": [
    {
     "data": {
      "text/plain": [
       "tensor([[2, 5, 8]])"
      ]
     },
     "execution_count": 188,
     "metadata": {},
     "output_type": "execute_result"
    }
   ],
   "source": [
    "# get all the values of 0th and 1st dimension but only index 1 of the 2nd dimension\n",
    "x[:,:,1]"
   ]
  },
  {
   "cell_type": "code",
   "execution_count": 182,
   "id": "803277c4-bdbe-4995-bd7a-b494f8fa3f2d",
   "metadata": {},
   "outputs": [
    {
     "data": {
      "text/plain": [
       "tensor([[1, 2, 3]])"
      ]
     },
     "execution_count": 182,
     "metadata": {},
     "output_type": "execute_result"
    }
   ],
   "source": [
    "x[:,0,:] # -> row wise value"
   ]
  },
  {
   "cell_type": "code",
   "execution_count": 216,
   "id": "e5701909-ad37-40f0-b37d-27713e672747",
   "metadata": {},
   "outputs": [
    {
     "data": {
      "text/plain": [
       "tensor([[1, 4, 7]])"
      ]
     },
     "execution_count": 216,
     "metadata": {},
     "output_type": "execute_result"
    }
   ],
   "source": [
    "x[:,:,0] # -> columnwise value"
   ]
  },
  {
   "cell_type": "code",
   "execution_count": 186,
   "id": "57cc5c73-b9ce-4b2b-b236-b68383a303cd",
   "metadata": {},
   "outputs": [
    {
     "data": {
      "text/plain": [
       "(tensor([1, 2, 3]), tensor([1, 2, 3]))"
      ]
     },
     "execution_count": 186,
     "metadata": {},
     "output_type": "execute_result"
    }
   ],
   "source": [
    "# get index 0 of 0th and 1st dimension and all values of 2nd dimension\n",
    "\n",
    "x[0,0,:], x[0][0]"
   ]
  },
  {
   "cell_type": "code",
   "execution_count": 212,
   "id": "83599dbc-70cc-4c40-9fee-2ef6c7baeda2",
   "metadata": {},
   "outputs": [
    {
     "name": "stdout",
     "output_type": "stream",
     "text": [
      "tensor(9)\n",
      "tensor(9)\n",
      "tensor([[3, 6, 9]])\n"
     ]
    }
   ],
   "source": [
    "# index on x to return 9\n",
    "print(x[0][2][2])\n",
    "print(x[0, 2, 2])\n",
    "\n",
    "# index on x to return 3,6,9\n",
    "print(x[:,:,2])"
   ]
  },
  {
   "cell_type": "code",
   "execution_count": 224,
   "id": "44f62aaa-12d4-4b75-b680-e104ae3abd1b",
   "metadata": {},
   "outputs": [
    {
     "data": {
      "text/plain": [
       "tensor(1)"
      ]
     },
     "execution_count": 224,
     "metadata": {},
     "output_type": "execute_result"
    }
   ],
   "source": [
    "x[0,0,0]"
   ]
  },
  {
   "cell_type": "markdown",
   "id": "f05f9498-26f3-4737-b8d9-aaf104ac623e",
   "metadata": {},
   "source": [
    "#### PyTorch and Numpy\n",
    "\n",
    "- We can convert the pytorch tensor and numpy array seamlessly with each other."
   ]
  },
  {
   "cell_type": "code",
   "execution_count": 234,
   "id": "4238cac7-2265-4e04-877c-76f49b11fde6",
   "metadata": {},
   "outputs": [
    {
     "data": {
      "text/plain": [
       "(array([ 0.,  1.,  2.,  3.,  4.,  5.,  6.,  7.,  8.,  9., 10.]),\n",
       " dtype('float64'),\n",
       " tensor([ 0.,  1.,  2.,  3.,  4.,  5.,  6.,  7.,  8.,  9., 10.],\n",
       "        dtype=torch.float64),\n",
       " torch.float64)"
      ]
     },
     "execution_count": 234,
     "metadata": {},
     "output_type": "execute_result"
    }
   ],
   "source": [
    "# Numpy to Tensor\n",
    "n_array = np.arange(0.0,11.0)\n",
    "\n",
    "# convert from numpy array to torch tensor using torch.from_numpy method\n",
    "t_tensor = torch.from_numpy(n_array)\n",
    "n_array, n_array.dtype, t_tensor, t_tensor.dtype"
   ]
  },
  {
   "cell_type": "markdown",
   "id": "5be31889-2003-4dfd-96c8-148772ae818d",
   "metadata": {},
   "source": [
    "dtype is `float64` because default numpy type is `float64`"
   ]
  },
  {
   "cell_type": "code",
   "execution_count": 227,
   "id": "91f75343-09d0-4ddd-bd74-9e18fe2ce5b1",
   "metadata": {},
   "outputs": [
    {
     "data": {
      "text/plain": [
       "(tensor([1., 1., 1., 1., 1., 1., 1.]),\n",
       " array([1., 1., 1., 1., 1., 1., 1.], dtype=float32))"
      ]
     },
     "execution_count": 227,
     "metadata": {},
     "output_type": "execute_result"
    }
   ],
   "source": [
    "# Tensor to Numpy\n",
    "\n",
    "x_tensor = torch.ones(7)\n",
    "\n",
    "#convert from torch tensor to numpy array using .numpy() method\n",
    "numpy_tensor = x_tensor.numpy()\n",
    "x_tensor, numpy_tensor"
   ]
  },
  {
   "cell_type": "markdown",
   "id": "4764ea23-9100-431e-9456-0cf662e0f031",
   "metadata": {},
   "source": [
    "dtype is `float32` because default torch type is `torch.float32`"
   ]
  },
  {
   "cell_type": "code",
   "execution_count": 228,
   "id": "95facd99-acdc-4b47-a340-ff24e196efaa",
   "metadata": {},
   "outputs": [
    {
     "data": {
      "text/plain": [
       "(tensor([1, 1, 1, 1, 1, 1, 1], dtype=torch.int32),\n",
       " array([1, 1, 1, 1, 1, 1, 1], dtype=int32))"
      ]
     },
     "execution_count": 228,
     "metadata": {},
     "output_type": "execute_result"
    }
   ],
   "source": [
    "x_tensor = torch.ones(7, dtype=torch.int32) # changing the default datatype\n",
    "numpy_tensor = x_tensor.numpy()\n",
    "x_tensor, numpy_tensor"
   ]
  },
  {
   "cell_type": "markdown",
   "id": "d3ccbe00-c97c-40bf-a07e-b72c251fd8d8",
   "metadata": {},
   "source": [
    "- `t_tensor` and `n_array` do not share a same memory\n",
    "- so changing one `will not change` the value of another"
   ]
  },
  {
   "cell_type": "code",
   "execution_count": 236,
   "id": "7f42a443-4221-4ecb-8128-fff6d1cb8a10",
   "metadata": {},
   "outputs": [
    {
     "data": {
      "text/plain": [
       "(tensor([ 1.,  2.,  3.,  4.,  5.,  6.,  7.,  8.,  9., 10., 11.],\n",
       "        dtype=torch.float64),\n",
       " array([ 0.,  1.,  2.,  3.,  4.,  5.,  6.,  7.,  8.,  9., 10.]))"
      ]
     },
     "execution_count": 236,
     "metadata": {},
     "output_type": "execute_result"
    }
   ],
   "source": [
    "t_tensor = t_tensor + 1\n",
    "\n",
    "t_tensor, n_array"
   ]
  },
  {
   "cell_type": "code",
   "execution_count": 237,
   "id": "756b8815-e4eb-4b9e-a52f-169046fd5a63",
   "metadata": {},
   "outputs": [
    {
     "data": {
      "text/plain": [
       "False"
      ]
     },
     "execution_count": 237,
     "metadata": {},
     "output_type": "execute_result"
    }
   ],
   "source": [
    "t_tensor == n_array"
   ]
  },
  {
   "cell_type": "markdown",
   "id": "2f2f5076-2bc1-4beb-a9f4-7c7ad695b2d1",
   "metadata": {},
   "source": [
    "for more on pytorch and numpy\n",
    " - https://pytorch.org/tutorials/beginner/examples_tensor/polynomial_numpy.html"
   ]
  },
  {
   "cell_type": "markdown",
   "id": "0e192471-e82d-4700-bcb2-4b538244968a",
   "metadata": {
    "jp-MarkdownHeadingCollapsed": true
   },
   "source": [
    "### PyTorch Reproducibility\n",
    "\n",
    "Making random number reproducible\n"
   ]
  },
  {
   "cell_type": "code",
   "execution_count": 2,
   "id": "c07c9dc4-b744-4e3a-b7e2-8c0ea84c936e",
   "metadata": {},
   "outputs": [
    {
     "data": {
      "text/plain": [
       "tensor([[False, False, False, False],\n",
       "        [False, False, False, False],\n",
       "        [False, False, False, False]])"
      ]
     },
     "execution_count": 2,
     "metadata": {},
     "output_type": "execute_result"
    }
   ],
   "source": [
    "rand_A = torch.rand(3,4)\n",
    "rand_B = torch.rand(3,4)\n",
    "rand_A == rand_B"
   ]
  },
  {
   "cell_type": "markdown",
   "id": "bb7119ee-427f-4a4b-8509-cb3e9c9a30ae",
   "metadata": {},
   "source": [
    "**Lets make some random but reproducible tensors**"
   ]
  },
  {
   "cell_type": "code",
   "execution_count": 12,
   "id": "aebeade6-49dd-4a88-bb97-3c9d29879d1b",
   "metadata": {},
   "outputs": [
    {
     "name": "stdout",
     "output_type": "stream",
     "text": [
      "tensor([[0.8823, 0.9150, 0.3829, 0.9593],\n",
      "        [0.3904, 0.6009, 0.2566, 0.7936],\n",
      "        [0.9408, 0.1332, 0.9346, 0.5936]])\n",
      "tensor([[0.8823, 0.9150, 0.3829, 0.9593],\n",
      "        [0.3904, 0.6009, 0.2566, 0.7936],\n",
      "        [0.9408, 0.1332, 0.9346, 0.5936]])\n",
      "tensor([[True, True, True, True],\n",
      "        [True, True, True, True],\n",
      "        [True, True, True, True]])\n"
     ]
    }
   ],
   "source": [
    "RANDOM_SEED = 42\n",
    "\n",
    "torch.manual_seed(RANDOM_SEED)\n",
    "random_C = torch.rand(3,4)\n",
    "\n",
    "torch.manual_seed(RANDOM_SEED)\n",
    "random_D = torch.rand(3,4)\n",
    "\n",
    "print(random_C)\n",
    "print(random_D)\n",
    "\n",
    "print(random_C == random_D)"
   ]
  },
  {
   "cell_type": "markdown",
   "id": "92a717f3-b7fc-4a66-97b8-1d46bdb623fe",
   "metadata": {},
   "source": [
    "### Different ways of accessing a GPU in PyTorch"
   ]
  },
  {
   "cell_type": "markdown",
   "id": "395e83a0-ce96-4ae6-b81e-7cd62cf99289",
   "metadata": {},
   "source": [
    "1. Google Colab\n",
    "2. Use your own\n",
    "3. use cloud computing platforms like GCP, AWS, Azure"
   ]
  },
  {
   "cell_type": "code",
   "execution_count": 16,
   "id": "12ca0ab0-2580-4ed2-b5d9-d1a6e2a0d199",
   "metadata": {},
   "outputs": [
    {
     "data": {
      "text/plain": [
       "False"
      ]
     },
     "execution_count": 16,
     "metadata": {},
     "output_type": "execute_result"
    }
   ],
   "source": [
    "torch.cuda.is_available()"
   ]
  },
  {
   "cell_type": "markdown",
   "id": "7b08d1c5-3b8e-442c-b007-4ab36f6b0f32",
   "metadata": {},
   "source": [
    "#### Setting up device agnostic code\n",
    "'cuda', 'cpu', 'mps'"
   ]
  },
  {
   "cell_type": "code",
   "execution_count": 23,
   "id": "b945815d-e373-4e88-883a-af5d16cb6dc8",
   "metadata": {},
   "outputs": [
    {
     "name": "stdout",
     "output_type": "stream",
     "text": [
      "Device available:  mps\n"
     ]
    }
   ],
   "source": [
    "# device agnostic code\n",
    "device = ''\n",
    "if torch.cuda.is_available():\n",
    "    device = 'cuda'\n",
    "elif torch.backends.mps.is_available():\n",
    "    device = 'mps' \n",
    "else:\n",
    "    device = 'cpu'\n",
    "\n",
    "print(\"Device available: \", device)"
   ]
  },
  {
   "cell_type": "markdown",
   "id": "a7880398-2927-4e60-b86a-8829a11de24f",
   "metadata": {},
   "source": [
    "For PyTorch, since it is capable of running in GPU or CPU, its best to setup device agnostic code\n",
    "\n",
    "eg. run on GPU if available or CPU"
   ]
  },
  {
   "cell_type": "markdown",
   "id": "e6fd1639-7c20-4f69-b742-2fb8481bf9f8",
   "metadata": {},
   "source": [
    "#### Running it on GPU\n",
    "Putting tensors/models on the GPU"
   ]
  },
  {
   "cell_type": "markdown",
   "id": "b0302856-8829-4206-a102-13785984387f",
   "metadata": {},
   "source": [
    "Reason: GPU results in faster computations."
   ]
  },
  {
   "cell_type": "code",
   "execution_count": 49,
   "id": "3ebaea91-289d-4898-bf5e-8775d842ce08",
   "metadata": {},
   "outputs": [
    {
     "data": {
      "text/plain": [
       "(tensor([3, 4, 5]), device(type='cpu'))"
      ]
     },
     "execution_count": 49,
     "metadata": {},
     "output_type": "execute_result"
    }
   ],
   "source": [
    "tensor_A = torch.tensor([3,4,5])\n",
    "tensor_A, tensor_A.device"
   ]
  },
  {
   "cell_type": "markdown",
   "id": "3847dc87-098b-4f13-8bb8-7d9ddcf284d7",
   "metadata": {},
   "source": [
    "<div class='alert alert-info'>\n",
    "    Move <b> tensor_A </b> to GPU using <b>tensor_A.to(device=device)</b> method.\n",
    "</div>"
   ]
  },
  {
   "cell_type": "code",
   "execution_count": 50,
   "id": "8fa93d8b-aae6-4771-93ba-b3b49c4c71e6",
   "metadata": {},
   "outputs": [
    {
     "data": {
      "text/plain": [
       "(tensor([3, 4, 5], device='mps:0'), device(type='cpu'))"
      ]
     },
     "execution_count": 50,
     "metadata": {},
     "output_type": "execute_result"
    }
   ],
   "source": [
    "tensor_A_gpu = tensor_A.to(device=device) # moving the tensor to gpu\n",
    "tensor_A_gpu, tensor_A.device"
   ]
  },
  {
   "cell_type": "code",
   "execution_count": 52,
   "id": "4fca20df-eeba-46ca-8e1e-3f4c2616637b",
   "metadata": {},
   "outputs": [
    {
     "data": {
      "text/plain": [
       "(tensor([3, 4, 5], device='mps:0'), device(type='mps', index=0))"
      ]
     },
     "execution_count": 52,
     "metadata": {},
     "output_type": "execute_result"
    }
   ],
   "source": [
    "tensor_B = torch.tensor([3,4,5], device=device) # directly creating a tensor in gpu\n",
    "tensor_B, tensor_B.device"
   ]
  },
  {
   "cell_type": "code",
   "execution_count": 53,
   "id": "11c896ea-6927-420c-9056-bfdc2a52efe0",
   "metadata": {},
   "outputs": [
    {
     "ename": "TypeError",
     "evalue": "can't convert mps:0 device type tensor to numpy. Use Tensor.cpu() to copy the tensor to host memory first.",
     "output_type": "error",
     "traceback": [
      "\u001b[0;31m---------------------------------------------------------------------------\u001b[0m",
      "\u001b[0;31mTypeError\u001b[0m                                 Traceback (most recent call last)",
      "\u001b[0;32m/var/folders/11/930k5s4139qbpzg_v2crgdzm0000gn/T/ipykernel_68450/2785355121.py\u001b[0m in \u001b[0;36m<module>\u001b[0;34m\u001b[0m\n\u001b[1;32m      1\u001b[0m \u001b[0;31m# shows error because we cannot convert to numpy while on gpu\u001b[0m\u001b[0;34m\u001b[0m\u001b[0;34m\u001b[0m\u001b[0m\n\u001b[0;32m----> 2\u001b[0;31m \u001b[0mtensor_B\u001b[0m\u001b[0;34m.\u001b[0m\u001b[0mnumpy\u001b[0m\u001b[0;34m(\u001b[0m\u001b[0;34m)\u001b[0m\u001b[0;34m\u001b[0m\u001b[0;34m\u001b[0m\u001b[0m\n\u001b[0m",
      "\u001b[0;31mTypeError\u001b[0m: can't convert mps:0 device type tensor to numpy. Use Tensor.cpu() to copy the tensor to host memory first."
     ]
    }
   ],
   "source": [
    "# shows error because we cannot convert to numpy while on gpu\n",
    "tensor_B.numpy()"
   ]
  },
  {
   "cell_type": "markdown",
   "id": "85106344-adbc-47f8-bed0-e15e1650e43d",
   "metadata": {},
   "source": [
    "<div class='alert alert-danger'>\n",
    "    We will get error because we cannot convert to numpy while on gpu.\n",
    "    <br>\n",
    "    So we have to move the tensor to cpu and then convert to numpy\n",
    "</div>"
   ]
  },
  {
   "cell_type": "markdown",
   "id": "471954d2-7a0a-44d9-8f8f-74e34c93c404",
   "metadata": {},
   "source": [
    "<div class='alert alert-info'>\n",
    "    Move <b> tensor_B </b> to CPU using <b>tensor_B.cpu()</b> method.\n",
    "</div>"
   ]
  },
  {
   "cell_type": "code",
   "execution_count": 54,
   "id": "04dbc23e-1cd5-4bf7-bbf9-9ec4878d963e",
   "metadata": {},
   "outputs": [
    {
     "data": {
      "text/plain": [
       "array([3, 4, 5])"
      ]
     },
     "execution_count": 54,
     "metadata": {},
     "output_type": "execute_result"
    }
   ],
   "source": [
    "tensor_B_cpu = tensor_B.cpu() # taking the tensor back to cpu\n",
    "tensor_B_cpu.numpy()"
   ]
  },
  {
   "cell_type": "code",
   "execution_count": null,
   "id": "725a03c5-e08d-4a76-b449-6d41e9ec2ecb",
   "metadata": {},
   "outputs": [],
   "source": []
  }
 ],
 "metadata": {
  "canvas": {
   "colorPalette": [
    "inherit",
    "inherit",
    "inherit",
    "inherit",
    "inherit",
    "inherit",
    "inherit",
    "inherit",
    "inherit",
    "inherit"
   ],
   "parameters": [],
   "version": "1.0"
  },
  "kernelspec": {
   "display_name": "Python 3 (ipykernel)",
   "language": "python",
   "name": "python3"
  },
  "language_info": {
   "codemirror_mode": {
    "name": "ipython",
    "version": 3
   },
   "file_extension": ".py",
   "mimetype": "text/x-python",
   "name": "python",
   "nbconvert_exporter": "python",
   "pygments_lexer": "ipython3",
   "version": "3.10.14"
  }
 },
 "nbformat": 4,
 "nbformat_minor": 5
}
