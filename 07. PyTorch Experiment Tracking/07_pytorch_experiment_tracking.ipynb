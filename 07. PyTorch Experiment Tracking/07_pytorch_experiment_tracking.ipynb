{
 "cells": [
  {
   "cell_type": "markdown",
   "id": "f7445d3f-0e57-4a40-a4d0-24bdea989563",
   "metadata": {},
   "source": [
    "# 07. PyTorch Experiment Tracking"
   ]
  },
  {
   "cell_type": "markdown",
   "id": "7b63a8de-bdfc-4ff7-a6bd-da482da1969a",
   "metadata": {},
   "source": [
    "We've trained a few models now on the journey to making FoodVision.\n",
    "\n",
    "And so far we've kept track of them via `Python Dictionaries` or just comparing them by the metric print outs during training.\n",
    "\n",
    "**but, what if we want to run a dozen (or more) different models at once?**\n",
    "\n",
    "There's a better way to keep track of the models.\n",
    "\n",
    "It's called `Experiment Tracking`.\n",
    "\n",
    "and experiment tracking is very important and integral to machine learning.\n",
    "\n",
    "Since it is an important topic, you can consider this notebook your first milestone project.\n",
    "\n",
    "So welcome to `Milestone Project 1: FoodVision Mini Experiment Tracking`\n",
    "\n",
    "we are going to see `how we can track our machine learning experiments`"
   ]
  },
  {
   "cell_type": "markdown",
   "id": "0dced230-6d79-4944-8ad3-dd16996fead2",
   "metadata": {},
   "source": [
    "## What is experiment tracking?\n",
    "If the number of experiments we run starts to increase, this naive way of tracking the results with print out and dictionaries could get out of hand.\n",
    "\n",
    "So, if we're following the machine learning practitioner's motto of experiment, experiment, experiment, we'll want to track them all.\n",
    "\n",
    "![](07_experiment_tracking.png)\n",
    "\n",
    "Now, when we have this many models and tracking their results, we'll start to notice how quickly it can get out of hand."
   ]
  },
  {
   "cell_type": "markdown",
   "id": "2cc6a586-1e97-4533-b0d1-fc96e604537f",
   "metadata": {},
   "source": [
    "## Different ways to track machine learning experiments.\n",
    "\n",
    "There are many different ways to track machine learning experiments as there is experiments to run.\n",
    "\n",
    "Few of them are.\n",
    "| Method | Setup | Pros | Cons | Cost |\n",
    "| ------ | ----- | ---- | ---- | ---- |\n",
    "| PyThon dictionaries, csv files, printouts | None | Easy to setup, runs in pure python | Hard to keep track of large numbers of experiments | Free |\n",
    "| **Tensorboard** | minimal, install `tensorboard` | Extensions built into PyTorch, widely recognized and used, easily scales. | User-experience not as nice as other options. | Free |\n",
    "| **Weights and Biases Experiment Tracking** | Minimal, install `wandb`, make an account | Incredible user experience, make experiments public, tracks almost anything. | Requires external resource outside of PyTorch. | Free for personal use |\n",
    "| MLFlow | Minimal, install `mlflow` and starting tracking | Fully open-source MLOps lifecycle management, many integrations. | Little bit harder to setup a remote tracking server than other services. | Free |\n",
    "\n",
    "![](expriment_tracking_ways.png)\n",
    "\n",
    "**Note:** There are more than these, which we can search online later."
   ]
  },
  {
   "cell_type": "markdown",
   "id": "36f78d6b-5fc0-4b72-9ee5-aff82dc30472",
   "metadata": {},
   "source": [
    "## What we're going to cover\n",
    "\n",
    "we're going to run several different modeling experiments with various levels of data, model size, and training time to try and improve on FoodVision.\n",
    "\n",
    "We'll look at `TensorBoard` to track our experiments. Cause it is tighly integrated with PyTorch and it is widely used.\n",
    "\n",
    "However, the principles we're going to cover are similar across all of the other tools for experiment tracking.\n"
   ]
  }
 ],
 "metadata": {
  "kernelspec": {
   "display_name": "Python 3 (ipykernel)",
   "language": "python",
   "name": "python3"
  },
  "language_info": {
   "codemirror_mode": {
    "name": "ipython",
    "version": 3
   },
   "file_extension": ".py",
   "mimetype": "text/x-python",
   "name": "python",
   "nbconvert_exporter": "python",
   "pygments_lexer": "ipython3",
   "version": "3.10.14"
  }
 },
 "nbformat": 4,
 "nbformat_minor": 5
}
