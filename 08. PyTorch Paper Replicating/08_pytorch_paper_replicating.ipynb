{
 "cells": [
  {
   "cell_type": "markdown",
   "id": "dd98794b-8fd1-4dc9-bb0a-1ef2f07edb6f",
   "metadata": {},
   "source": [
    "# PyTorch Paper Replicating\n",
    "\n",
    "Milestone Project 2: PyTorch Paper Replicating\n",
    "\n",
    "In this project, we're going to be **replicating a machine learning research paper** and create a ***Vision Transformer(ViT)*** from scratch in PyTorch\n",
    "\n",
    "We'll focus on creating the ViT architecture and apply to our FoodVision problem to classify different images of pizza, steak, and sushi."
   ]
  },
  {
   "cell_type": "markdown",
   "id": "eaedf946-c5c2-48fd-b8f9-775e48ef69a6",
   "metadata": {},
   "source": [
    "## What is paper replicating?\n",
    "\n",
    "The goal of **paper replicating** is to replicate the advances of machine learning with code so that we can use those techniques to our own problem.\n",
    "\n",
    "We can use a new architecture that can work better on our own problem.\n",
    "\n",
    "---\n",
    "\n",
    "Machine Learning paper replicating involves turning a paper comprised of images/diagrams, math, and text into usable code. In our case usable PyTorch code.\n",
    "\n",
    "![](08-vit-paper-what-is-paper-replicating-images-math-text-to-code.png)\n",
    "\n",
    "We will convert Diagram, math equations and texts from a [ViT peper](https://arxiv.org/abs/2010.11929) in this project.\n",
    "\n",
    "**How a Machine learning paper looks like?**\n",
    "| Section |\tContents |\n",
    "| :-: | :-:|\n",
    "| Abstract| \tAn overview/summary of the paper's main findings/contributions. |\n",
    "| Introduction |\tWhat's the paper's main problem and details of previous methods used to try and solve it. |\n",
    "| **Method** | ***How did the researchers go about conducting their research? For example, what model(s), data sources, training setups were used?*** |\n",
    "| **Results** |\t*What are the outcomes of the paper? If a new type of model or training setup was used, how did the results of findings compare to previous works? (this is where **experiment tracking** comes in handy)* |\n",
    "| Conclusion |\tWhat are the limitations of the suggested methods? What are some next steps for the research community? |\n",
    "| References |\tWhat resources/other papers did the researchers look at to build their own body of work? |\n",
    "| Appendix |\tAre there any extra resources/findings to look at that weren't included in any of the above sections?|"
   ]
  },
  {
   "cell_type": "markdown",
   "id": "47e1f41f-ddc5-4dc6-93e5-e101406bf1cf",
   "metadata": {},
   "source": [
    "## Why replicate a machine learning reseach paper?\n",
    "\n",
    "A machine learning research paper is often a presentation of months if work and experiments done by some of the best machine leanring teams in the world condensed into a few pages of text.\n",
    "\n",
    "It would be nice to check them out, if these experiments lead to better results in an area related to the problem we're working on.\n",
    "\n",
    "***Also, replicating the work of others is a fantastic way to practice our skills.***\n",
    "![](08-george-hotz-quote.png)\n",
    "\n",
    "When we first start trying to replicate the research paper, we'll be overwhelmed.\n",
    "\n",
    "Because, research paper is months/years of wors. It will take sometime to understand and reproduce the works. \n",
    "\n",
    "Replicating a research is a tough problem and lot of libraries, such as **`HuggingFace`**, **`PyTorch Image Models` (`timm`)** and **`fast.ai`** have been born out of making machine learning research more accessible."
   ]
  },
  {
   "cell_type": "code",
   "execution_count": null,
   "id": "d57c56ab-2b25-4a90-9352-41ecc5b43089",
   "metadata": {},
   "outputs": [],
   "source": []
  }
 ],
 "metadata": {
  "kernelspec": {
   "display_name": "Python 3 (ipykernel)",
   "language": "python",
   "name": "python3"
  },
  "language_info": {
   "codemirror_mode": {
    "name": "ipython",
    "version": 3
   },
   "file_extension": ".py",
   "mimetype": "text/x-python",
   "name": "python",
   "nbconvert_exporter": "python",
   "pygments_lexer": "ipython3",
   "version": "3.10.14"
  }
 },
 "nbformat": 4,
 "nbformat_minor": 5
}
