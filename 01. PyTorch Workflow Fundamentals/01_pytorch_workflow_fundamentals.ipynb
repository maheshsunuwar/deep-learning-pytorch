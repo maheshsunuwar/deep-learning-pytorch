{
 "cells": [
  {
   "cell_type": "markdown",
   "id": "b042c6f0-5274-45da-9a72-e0af20c7a4da",
   "metadata": {
    "jp-MarkdownHeadingCollapsed": true
   },
   "source": [
    "## Imports"
   ]
  },
  {
   "cell_type": "code",
   "execution_count": 2,
   "id": "6bc53a7d-9dc3-4321-b890-77a22382a2f5",
   "metadata": {},
   "outputs": [
    {
     "data": {
      "text/plain": [
       "'2.0.1'"
      ]
     },
     "execution_count": 2,
     "metadata": {},
     "output_type": "execute_result"
    }
   ],
   "source": [
    "import torch\n",
    "from torch import nn ## nn contains all of PyTorch's building blocks\n",
    "import matplotlib.pyplot as plt\n",
    "\n",
    "#check PyTorch version\n",
    "torch.__version__"
   ]
  },
  {
   "cell_type": "markdown",
   "id": "069d48c9-f484-4210-bc95-700c7e6a1e3f",
   "metadata": {},
   "source": [
    "## 01. PyTorch Workflow Fundamentals\n",
    "\n",
    "Let's explore an example PyTorch end-toend workflow"
   ]
  },
  {
   "cell_type": "code",
   "execution_count": 3,
   "id": "797a26e6-6830-4a3f-aa44-ecf9fa65ea96",
   "metadata": {},
   "outputs": [
    {
     "data": {
      "text/plain": [
       "{1: 'data (prepare and load)',\n",
       " 2: 'build model',\n",
       " 3: 'fitting the model to data (training)',\n",
       " 4: 'making predictions and evaluating a model (inference)',\n",
       " 5: 'saving and loading a model',\n",
       " 6: 'putting it all together'}"
      ]
     },
     "execution_count": 3,
     "metadata": {},
     "output_type": "execute_result"
    }
   ],
   "source": [
    "what_we_re_covering = {\n",
    "    1: \"data (prepare and load)\",\n",
    "    2: \"build model\",\n",
    "    3: \"fitting the model to data (training)\",\n",
    "    4: \"making predictions and evaluating a model (inference)\",\n",
    "    5: \"saving and loading a model\",\n",
    "    6: \"putting it all together\"\n",
    "}\n",
    "what_we_re_covering"
   ]
  },
  {
   "cell_type": "markdown",
   "id": "b6dc9ab7-d818-473e-ac4e-d60647e2d74d",
   "metadata": {},
   "source": [
    "### 1. Data (Preparing and Loading)"
   ]
  },
  {
   "cell_type": "markdown",
   "id": "b317f936-7cba-4c54-bf08-ed11234c6a87",
   "metadata": {},
   "source": [
    "Machine Learning is a game of **two parts**:\n",
    "1. **Get data** into a **numerical representation**.\n",
    "2. **Build a model** to **learn patterns** from that **numerical representation**.\n",
    "   \n",
    "![](imgs/machine-learning-2-parts.png){ width=50%}"
   ]
  },
  {
   "cell_type": "code",
   "execution_count": null,
   "id": "d1f676d5-d836-4f2a-bfe6-1dbda2cbf689",
   "metadata": {},
   "outputs": [],
   "source": [
    "# create known parameters\n",
    "weight = 0.7\n",
    "bias = 0.3\n",
    "\n",
    "# create new values\n",
    "start = 0\n",
    "end = 1\n",
    "step = 0.02\n",
    "\n",
    "X = torch.arange(start, end, step).unsqueeze(dim=1)\n",
    "y = weight * X + bias\n",
    "X[:10], y[:10]"
   ]
  },
  {
   "cell_type": "code",
   "execution_count": 5,
   "id": "97ebdb38-efdb-4096-ae10-fa7ee5901d6a",
   "metadata": {},
   "outputs": [
    {
     "data": {
      "text/plain": [
       "(torch.Size([50, 1]), torch.Size([50, 1]))"
      ]
     },
     "execution_count": 5,
     "metadata": {},
     "output_type": "execute_result"
    }
   ],
   "source": [
    "X.shape, y.shape"
   ]
  },
  {
   "cell_type": "markdown",
   "id": "2f0b01cb-fc43-46bd-b4d2-68ba94c1a95e",
   "metadata": {},
   "source": [
    "#### Splitting a data\n",
    "\n",
    "- Training, validation, and test set\n",
    "- we usually do 60-80% split for training data\n",
    "- 10-20% for validation set\n",
    "- 10-20% for test set"
   ]
  },
  {
   "cell_type": "code",
   "execution_count": 6,
   "id": "68800374-b06f-46f0-aa46-e4d067b137c4",
   "metadata": {},
   "outputs": [
    {
     "data": {
      "text/plain": [
       "(40, 10, 40, 10)"
      ]
     },
     "execution_count": 6,
     "metadata": {},
     "output_type": "execute_result"
    }
   ],
   "source": [
    "# create train-test split\n",
    "\n",
    "cutoff = int(len(X) * 0.8)\n",
    "\n",
    "X_train, y_train = X[:cutoff], y[:cutoff]\n",
    "X_test, y_test = X[cutoff:], y[cutoff:]\n",
    "\n",
    "len(X_train), len(X_test), len(y_train), len(y_test)"
   ]
  },
  {
   "cell_type": "markdown",
   "id": "f400712e-ae4a-4840-84d4-7cc5af901368",
   "metadata": {},
   "source": [
    "#### Visualize data"
   ]
  },
  {
   "cell_type": "markdown",
   "id": "83a418ae-04fb-4ca2-918f-ae2b44cd2775",
   "metadata": {},
   "source": [
    "How might we better visualize our data?\n",
    "\n",
    "This is where the data explorer's motto comes in!\n",
    "\n",
    "***\"Visualize, Visualize, Visualize\"***"
   ]
  },
  {
   "cell_type": "code",
   "execution_count": 7,
   "id": "9455832f-1167-4f25-a162-77dbd8f227bb",
   "metadata": {},
   "outputs": [],
   "source": [
    "def plot_predictions(train_data=X_train, train_labels = y_train, test_data = X_test, test_labels = y_test,predictions=None):\n",
    "    \"\"\"\n",
    "    Plots training data, test data and compares predictions\n",
    "    \"\"\"\n",
    "    plt.figure(figsize=(10,7))\n",
    "\n",
    "    # plot training data in blue, c='b', size 5, s=4\n",
    "    plt.scatter(train_data, train_labels, c='b', s=4, label='Training Data')\n",
    "\n",
    "    # plot testing data in green c='g'\n",
    "    plt.scatter(test_data, test_labels, c='g', s=4, label='Testing Data')\n",
    "\n",
    "    # are there predictions?\n",
    "    if predictions is not None:\n",
    "        # plot predictions if exist, c='r'\n",
    "        plt.scatter(test_data, predictions, c='r', s=4, label='Predictions')\n",
    "\n",
    "    # show the lagend\n",
    "    plt.legend(prop={\"size\":14})\n"
   ]
  },
  {
   "cell_type": "code",
   "execution_count": 8,
   "id": "f80e9544-b72a-461d-a3b5-7bcb70154180",
   "metadata": {},
   "outputs": [
    {
     "data": {
      "image/png": "[encoded data removed]",
      "text/plain": [
       "<Figure size 1000x700 with 1 Axes>"
      ]
     },
     "metadata": {},
     "output_type": "display_data"
    }
   ],
   "source": [
    "plot_predictions()"
   ]
  },
  {
   "cell_type": "markdown",
   "id": "f634f80e-c67a-40bc-9eb0-571988b5ce6d",
   "metadata": {},
   "source": [
    "### 2. Build Model\n",
    "\n",
    "Our First PyTorch Model!!"
   ]
  },
  {
   "cell_type": "code",
   "execution_count": 18,
   "id": "63080887-fd81-4466-af66-4772ddfd6a8c",
   "metadata": {},
   "outputs": [],
   "source": [
    "from torch import nn\n",
    "\n",
    "# create linear regression model class\n",
    "class LinearRegressionModel(nn.Module):\n",
    "    def __init__(self):\n",
    "        super().__init__()\n",
    "        self.weights = nn.Parameter(\n",
    "            torch.randn(1, requires_grad=True, dtype=torch.float)\n",
    "        )\n",
    "        self.bias = nn.Parameter(\n",
    "            torch.randn(1, requires_grad=True, dtype=torch.float)\n",
    "        )\n",
    "\n",
    "        \n",
    "    # Forard method to define the computation in the model\n",
    "    def forward(self, x:torch.Tensor) -> torch.Tensor:\n",
    "        return self.weights * x + self.bias"
   ]
  },
  {
   "cell_type": "code",
   "execution_count": 19,
   "id": "5b29179f-2567-4a8b-820d-ceef724e3cdf",
   "metadata": {},
   "outputs": [
    {
     "data": {
      "text/plain": [
       "Parameter containing:\n",
       "tensor([0.0816], requires_grad=True)"
      ]
     },
     "execution_count": 19,
     "metadata": {},
     "output_type": "execute_result"
    }
   ],
   "source": [
    "nn.Parameter(torch.randn(1, requires_grad=True, dtype=torch.float))"
   ]
  },
  {
   "cell_type": "markdown",
   "id": "a0019dc3-ec20-471b-a9b5-1b04eb53a107",
   "metadata": {},
   "source": [
    "`nn.Module` is the superclass, and when we do `LinearRegressionModule(nn.Module`, we create a subclass of nn.Module\n",
    "\n",
    "When we subclass `nn.Module` we have to override `forward()` method - as this defines the forward computation of the model\n",
    "\n",
    "`required_autograd = True` means PyTorch will keep track gradient of that particular parameter to be used with `torch.autograd` and gradient descent torch.nn modules.\n",
    "\n",
    "`required_autograd` is `True` by default"
   ]
  },
  {
   "cell_type": "markdown",
   "id": "aaba2b71-923f-42e4-965e-49ecb5cd30f3",
   "metadata": {},
   "source": [
    "#### PyTorch model Building Essentials\n",
    "**Some of the most important PyTorch model building classes**"
   ]
  },
  {
   "cell_type": "markdown",
   "id": "09025f23-2eeb-436f-a1e3-9e6a394c96d5",
   "metadata": {},
   "source": [
    "* `torch.nn` - contains all the building blocks for a computational graphs (a neural network is considered a computational graph)\n",
    "* `torch.nn.Parameter` - what papameters should our model try and learn. Often a PyTorch layer from `torch.nn` will set these for us.\n",
    "* `torch.nn.Module` - the base class for all neural network modules. If you subclass it, you should override `forward()` method\n",
    "* `torch.optim` - this is where optimizers in PyTorch live. It helps with gradient descent\n",
    "* `def forward()` - All the `nn.Module` subclasses require us to override forward(). This method defines what happens in the forward computation.\n",
    "\n",
    "if we pass the data to our `LinearRegressionModel`, `forward()` will take that data and perform the computation defined inside `forward()`\n",
    "\n",
    "**Help us load data**\n",
    "* `torch.utils.data.Dataset`\n",
    "* `torch.utils.data.DataLoader`\n",
    "\n",
    "PyTorch is a big library.\n",
    "Follow this [PyTorch CheatSeat](https://pytorch.org/tutorials/beginner/ptcheat.html) for more."
   ]
  },
  {
   "cell_type": "markdown",
   "id": "87e0569e-bad5-404f-bdb1-bd04e14ac39c",
   "metadata": {},
   "source": [
    "#### Checking out Internals of our PyTorch Model"
   ]
  },
  {
   "cell_type": "markdown",
   "id": "6bee685f-91ef-4281-ab84-6bd780c9864c",
   "metadata": {},
   "source": [
    "Now we've created a model, let's see what's inside our model\n",
    "\n",
    "So we can chek our model paraters or what's inside our model using `.parameters()`"
   ]
  },
  {
   "cell_type": "code",
   "execution_count": 153,
   "id": "ebe3d3f7-f45f-4c82-8e95-b77c4ba1deb8",
   "metadata": {},
   "outputs": [
    {
     "data": {
      "text/plain": [
       "[Parameter containing:\n",
       " tensor([0.3367], requires_grad=True),\n",
       " Parameter containing:\n",
       " tensor([0.1288], requires_grad=True)]"
      ]
     },
     "execution_count": 153,
     "metadata": {},
     "output_type": "execute_result"
    }
   ],
   "source": [
    "# create a random seed\n",
    "torch.manual_seed(42)\n",
    "\n",
    "# create an instance of the model\n",
    "model_0 = LinearRegressionModel()\n",
    "\n",
    "# check our the parameters\n",
    "list(model_0.parameters())"
   ]
  },
  {
   "cell_type": "code",
   "execution_count": 154,
   "id": "2a9fdf5c-f8b3-4c46-8b37-b96cdf2087e0",
   "metadata": {},
   "outputs": [
    {
     "data": {
      "text/plain": [
       "OrderedDict([('weights', tensor([0.3367])), ('bias', tensor([0.1288]))])"
      ]
     },
     "execution_count": 154,
     "metadata": {},
     "output_type": "execute_result"
    }
   ],
   "source": [
    "# List named parameters\n",
    "model_0.state_dict()"
   ]
  },
  {
   "cell_type": "markdown",
   "id": "a000ba78-98f3-4f18-810f-86989008506a",
   "metadata": {},
   "source": [
    "#### Making Predictions using `torch.inference_mode()`"
   ]
  },
  {
   "cell_type": "markdown",
   "id": "c101593c-f15f-4e04-a215-f4e7f9f009f4",
   "metadata": {},
   "source": [
    "To check our model's predictive power, let's see how well it predicts `y_test` based on `X_test`\n",
    "\n",
    "When we pass data through our model, it's going to run it through the `forward()` method"
   ]
  },
  {
   "cell_type": "code",
   "execution_count": 155,
   "id": "0adbde68-226c-4370-a4c8-3e249f4f9b75",
   "metadata": {},
   "outputs": [
    {
     "data": {
      "text/plain": [
       "tensor([[0.3982],\n",
       "        [0.4049],\n",
       "        [0.4116],\n",
       "        [0.4184],\n",
       "        [0.4251],\n",
       "        [0.4318],\n",
       "        [0.4386],\n",
       "        [0.4453],\n",
       "        [0.4520],\n",
       "        [0.4588]])"
      ]
     },
     "execution_count": 155,
     "metadata": {},
     "output_type": "execute_result"
    }
   ],
   "source": [
    "# Make predictions with model\n",
    "with torch.inference_mode():\n",
    "    y_preds = model_0(X_test)\n",
    "    \n",
    "y_preds"
   ]
  },
  {
   "cell_type": "code",
   "execution_count": 156,
   "id": "0237f54b-e9b4-4438-aea9-e0eff71221d2",
   "metadata": {},
   "outputs": [
    {
     "data": {
      "image/png": "[encoded data removed]",
      "text/plain": [
       "<Figure size 1000x700 with 1 Axes>"
      ]
     },
     "metadata": {},
     "output_type": "display_data"
    }
   ],
   "source": [
    "plot_predictions(predictions=y_preds)"
   ]
  },
  {
   "cell_type": "markdown",
   "id": "bde16edf-8cdc-4a69-adb1-b05f218ad8cc",
   "metadata": {},
   "source": [
    "Our `goal` is to move that `red dot` closer to the `green dots`"
   ]
  },
  {
   "cell_type": "markdown",
   "id": "5654bf2a-261f-40d7-a09f-ac7b40d6f6d1",
   "metadata": {},
   "source": [
    "### 3. Train Model"
   ]
  },
  {
   "cell_type": "markdown",
   "id": "608f2ac7-193b-4853-831e-380aa5ab5d9c",
   "metadata": {},
   "source": [
    "The whole idea of training is for a model to move from some unknown parameters to some known parameters.\n",
    "\n",
    "or in other words, `from` a `poor representation` of the data `to` a `better representation` of the data\n",
    "\n",
    "One way to measure how poor or how wrong our models are is by calculating `loss function`\n",
    "\n",
    "* Note: Loss function is also called `cost function` or `criterion` in different areas. For our case, we're going to refer to it as `loss function`\n",
    "\n",
    "***Things we need for Training***:\n",
    "* **Loss Function:** A function to measure how deviated our models prediction are from the ideal outputs. lower the deviation, better it it.\n",
    "* **Optimizer:** Takes into account the loss of a model and adjusts the model's parameters(e.g. weights and biases)\n",
    "\n",
    "**and specifically for `PyTorch`, we need**\n",
    "* **A training loop**\n",
    "* **A testing loop**\n",
    "  "
   ]
  },
  {
   "cell_type": "code",
   "execution_count": 157,
   "id": "5743fa35-e30b-45e9-88ec-7a5571a16905",
   "metadata": {},
   "outputs": [
    {
     "data": {
      "text/plain": [
       "[Parameter containing:\n",
       " tensor([0.3367], requires_grad=True),\n",
       " Parameter containing:\n",
       " tensor([0.1288], requires_grad=True)]"
      ]
     },
     "execution_count": 157,
     "metadata": {},
     "output_type": "execute_result"
    }
   ],
   "source": [
    "list(model_0.parameters())"
   ]
  },
  {
   "cell_type": "code",
   "execution_count": 158,
   "id": "1e9d5280-2971-42f9-bfc6-1ee76abe60e9",
   "metadata": {},
   "outputs": [
    {
     "data": {
      "text/plain": [
       "OrderedDict([('weights', tensor([0.3367])), ('bias', tensor([0.1288]))])"
      ]
     },
     "execution_count": 158,
     "metadata": {},
     "output_type": "execute_result"
    }
   ],
   "source": [
    "model_0.state_dict()"
   ]
  },
  {
   "cell_type": "markdown",
   "id": "c7643f5a-4bb3-4ad1-8cec-947b3e60e656",
   "metadata": {},
   "source": [
    "#### Setting up a loss function and an optimizer"
   ]
  },
  {
   "cell_type": "markdown",
   "id": "799faa3e-81a8-4727-8b1c-80ad7b78c484",
   "metadata": {},
   "source": [
    "loss and optimizer comes in a same package cause they work together. \n",
    "\n",
    "Optimizers objective is to give parameters (w and b) values."
   ]
  },
  {
   "cell_type": "code",
   "execution_count": 159,
   "id": "55d46181-d841-4a16-981a-918e650203a8",
   "metadata": {},
   "outputs": [],
   "source": [
    "# setup a loss function\n",
    "loss_fn = nn.L1Loss()\n",
    "\n",
    "# setup an optimizer\n",
    "optimizer = torch.optim.SGD(params=model_0.parameters(), lr=0.01)"
   ]
  },
  {
   "cell_type": "markdown",
   "id": "c753b791-0e98-4e7b-befc-e1b742829074",
   "metadata": {},
   "source": [
    "#### Building a training loop (and a testing loop) in PyTorch"
   ]
  },
  {
   "cell_type": "markdown",
   "id": "457fce86-2634-496c-8473-3745bbe9742b",
   "metadata": {},
   "source": [
    "A couple of things we need in a training loop:\n",
    "1. Loop through the data\n",
    "2. Forward pass (this involves data moving though our model's `forward()` function) to make predictions on data - also called `forward propagation`\n",
    "3. Calculate the loss (comprare forward pass predictions to ground truth lables)\n",
    "4. Optimizer zero grad\n",
    "5. Loss backward - move backwards through the network to calculate the gradients of each of the parameters of our model with respect to the loss. It is also called `Backpropagation`\n",
    "6. Optimizer step - use the optimizer to adjust our model's parameters to try and improve the loss - `Gradient Descent`\n",
    "\n",
    "**Note**: `Gradient` is a slope."
   ]
  },
  {
   "cell_type": "code",
   "execution_count": 160,
   "id": "6e90d262-5485-4562-a706-361a730e6fcf",
   "metadata": {},
   "outputs": [
    {
     "name": "stdout",
     "output_type": "stream",
     "text": [
      "loss: 0.31288138031959534\n",
      "Epoch: 0 | Loss: 0.31288138031959534 | Test loss: 0.48106518387794495\n",
      "\n",
      "OrderedDict([('weights', tensor([0.3406])), ('bias', tensor([0.1388]))])\n",
      "loss: 0.3013603389263153\n",
      "loss: 0.28983935713768005\n",
      "loss: 0.2783183455467224\n",
      "loss: 0.26679736375808716\n",
      "loss: 0.2552763521671295\n",
      "loss: 0.24375534057617188\n",
      "loss: 0.23223432898521423\n",
      "loss: 0.22071333229541779\n",
      "loss: 0.20919232070446014\n",
      "loss: 0.1976713240146637\n",
      "Epoch: 10 | Loss: 0.1976713240146637 | Test loss: 0.3463551998138428\n",
      "\n",
      "OrderedDict([('weights', tensor([0.3796])), ('bias', tensor([0.2388]))])\n",
      "loss: 0.18615034222602844\n",
      "loss: 0.1746293306350708\n",
      "loss: 0.16310831904411316\n",
      "loss: 0.1515873372554779\n",
      "loss: 0.14006635546684265\n",
      "loss: 0.1285453587770462\n",
      "loss: 0.11702437698841095\n",
      "loss: 0.1060912236571312\n",
      "loss: 0.09681284427642822\n",
      "loss: 0.08908725529909134\n",
      "Epoch: 20 | Loss: 0.08908725529909134 | Test loss: 0.21729660034179688\n",
      "\n",
      "OrderedDict([('weights', tensor([0.4184])), ('bias', tensor([0.3333]))])\n",
      "loss: 0.08227583020925522\n",
      "loss: 0.07638873159885406\n",
      "loss: 0.07160007208585739\n",
      "loss: 0.06747635453939438\n",
      "loss: 0.06395438313484192\n",
      "loss: 0.06097004935145378\n",
      "loss: 0.05845819041132927\n",
      "loss: 0.05635259300470352\n",
      "loss: 0.0545857772231102\n",
      "loss: 0.053148526698350906\n",
      "Epoch: 30 | Loss: 0.053148526698350906 | Test loss: 0.14464017748832703\n",
      "\n",
      "OrderedDict([('weights', tensor([0.4512])), ('bias', tensor([0.3768]))])\n",
      "loss: 0.05181945487856865\n",
      "loss: 0.05069301277399063\n",
      "loss: 0.0498228520154953\n",
      "loss: 0.04895269125699997\n",
      "loss: 0.04819351062178612\n",
      "loss: 0.047531817108392715\n",
      "loss: 0.04692792519927025\n",
      "loss: 0.04642331600189209\n",
      "loss: 0.04591871052980423\n",
      "loss: 0.04543796554207802\n",
      "Epoch: 40 | Loss: 0.04543796554207802 | Test loss: 0.11360953003168106\n",
      "\n",
      "OrderedDict([('weights', tensor([0.4748])), ('bias', tensor([0.3868]))])\n",
      "loss: 0.04503796249628067\n",
      "loss: 0.04463795945048332\n",
      "loss: 0.04423796385526657\n",
      "loss: 0.04383796453475952\n",
      "loss: 0.04343796148896217\n",
      "loss: 0.043074630200862885\n",
      "loss: 0.04272563382983208\n",
      "loss: 0.04237663000822067\n",
      "loss: 0.04202762991189957\n",
      "loss: 0.04167863354086876\n",
      "Epoch: 50 | Loss: 0.04167863354086876 | Test loss: 0.09919948130846024\n",
      "\n",
      "OrderedDict([('weights', tensor([0.4938])), ('bias', tensor([0.3843]))])\n",
      "loss: 0.04132963344454765\n",
      "loss: 0.04098063334822655\n",
      "loss: 0.04063162952661514\n",
      "loss: 0.040282636880874634\n",
      "loss: 0.039933640509843826\n",
      "loss: 0.03958464413881302\n",
      "loss: 0.03923564404249191\n",
      "loss: 0.03888664394617081\n",
      "loss: 0.0385376438498497\n",
      "loss: 0.03818932920694351\n",
      "Epoch: 60 | Loss: 0.03818932920694351 | Test loss: 0.08886633068323135\n",
      "\n",
      "OrderedDict([('weights', tensor([0.5116])), ('bias', tensor([0.3788]))])\n",
      "loss: 0.03785243630409241\n",
      "loss: 0.0375034399330616\n",
      "loss: 0.037164121866226196\n",
      "loss: 0.03681822493672371\n",
      "loss: 0.03647511452436447\n",
      "loss: 0.03613303601741791\n",
      "loss: 0.03578609973192215\n",
      "loss: 0.03544783592224121\n",
      "loss: 0.035098835825920105\n",
      "loss: 0.03476089984178543\n",
      "Epoch: 70 | Loss: 0.03476089984178543 | Test loss: 0.0805937647819519\n",
      "\n",
      "OrderedDict([('weights', tensor([0.5288])), ('bias', tensor([0.3718]))])\n",
      "loss: 0.03441363573074341\n",
      "loss: 0.03407188132405281\n",
      "loss: 0.03372843936085701\n",
      "loss: 0.03338287025690079\n",
      "loss: 0.033043231815099716\n",
      "loss: 0.03269423171877861\n",
      "loss: 0.032357655465602875\n",
      "loss: 0.03200903534889221\n",
      "loss: 0.03166864812374115\n",
      "loss: 0.03132382780313492\n",
      "Epoch: 80 | Loss: 0.03132382780313492 | Test loss: 0.07232122868299484\n",
      "\n",
      "OrderedDict([('weights', tensor([0.5459])), ('bias', tensor([0.3648]))])\n",
      "loss: 0.030979642644524574\n",
      "loss: 0.030638623982667923\n",
      "loss: 0.0302906334400177\n",
      "loss: 0.029953425750136375\n",
      "loss: 0.02960442565381527\n",
      "loss: 0.029265418648719788\n",
      "loss: 0.028919223695993423\n",
      "loss: 0.028576409444212914\n",
      "loss: 0.028234025463461876\n",
      "loss: 0.02788739837706089\n",
      "Epoch: 90 | Loss: 0.02788739837706089 | Test loss: 0.06473556160926819\n",
      "\n",
      "OrderedDict([('weights', tensor([0.5629])), ('bias', tensor([0.3573]))])\n",
      "loss: 0.02754882536828518\n",
      "loss: 0.027199819684028625\n",
      "loss: 0.026862185448408127\n",
      "loss: 0.02651461586356163\n",
      "loss: 0.026173178106546402\n",
      "loss: 0.025829419493675232\n",
      "loss: 0.02548416517674923\n",
      "loss: 0.025144213810563087\n",
      "loss: 0.02479521557688713\n",
      "loss: 0.024458957836031914\n",
      "Epoch: 100 | Loss: 0.024458957836031914 | Test loss: 0.05646304413676262\n",
      "\n",
      "OrderedDict([('weights', tensor([0.5800])), ('bias', tensor([0.3503]))])\n",
      "loss: 0.024110013619065285\n",
      "loss: 0.02376994863152504\n",
      "loss: 0.02342480979859829\n",
      "loss: 0.023080935701727867\n",
      "loss: 0.022739607840776443\n",
      "loss: 0.022391926497220993\n",
      "loss: 0.022054409608244896\n",
      "loss: 0.02170540764927864\n",
      "loss: 0.021366719156503677\n",
      "loss: 0.021020207554101944\n",
      "Epoch: 110 | Loss: 0.021020207554101944 | Test loss: 0.04819049686193466\n",
      "\n",
      "OrderedDict([('weights', tensor([0.5972])), ('bias', tensor([0.3433]))])\n",
      "loss: 0.020677709951996803\n",
      "loss: 0.02033500373363495\n",
      "loss: 0.01998869702219963\n",
      "loss: 0.019649803638458252\n",
      "loss: 0.019300809130072594\n",
      "loss: 0.018963487818837166\n",
      "loss: 0.01861560344696045\n",
      "loss: 0.018274478614330292\n",
      "loss: 0.017930403351783752\n",
      "loss: 0.01758546568453312\n",
      "Epoch: 120 | Loss: 0.01758546568453312 | Test loss: 0.04060482233762741\n",
      "\n",
      "OrderedDict([('weights', tensor([0.6141])), ('bias', tensor([0.3358]))])\n",
      "loss: 0.017245199531316757\n",
      "loss: 0.016896454617381096\n",
      "loss: 0.01656000316143036\n",
      "loss: 0.016210997477173805\n",
      "loss: 0.01587124727666378\n",
      "loss: 0.015525798313319683\n",
      "loss: 0.015182236209511757\n",
      "loss: 0.014840595424175262\n",
      "loss: 0.01449323259294033\n",
      "loss: 0.014155393466353416\n",
      "Epoch: 130 | Loss: 0.014155393466353416 | Test loss: 0.03233227878808975\n",
      "\n",
      "OrderedDict([('weights', tensor([0.6313])), ('bias', tensor([0.3288]))])\n",
      "loss: 0.013806397095322609\n",
      "loss: 0.013468016870319843\n",
      "loss: 0.013121193274855614\n",
      "loss: 0.01277900766581297\n",
      "loss: 0.012435992248356342\n",
      "loss: 0.01208999752998352\n",
      "loss: 0.011750795878469944\n",
      "loss: 0.011401787400245667\n",
      "loss: 0.011064787395298481\n",
      "loss: 0.010716589167714119\n",
      "Epoch: 140 | Loss: 0.010716589167714119 | Test loss: 0.024059748277068138\n",
      "\n",
      "OrderedDict([('weights', tensor([0.6485])), ('bias', tensor([0.3218]))])\n",
      "loss: 0.010375778190791607\n",
      "loss: 0.010031387209892273\n",
      "loss: 0.009686763398349285\n",
      "loss: 0.009346187114715576\n",
      "loss: 0.008997755125164986\n",
      "loss: 0.008660981431603432\n",
      "loss: 0.008311985060572624\n",
      "loss: 0.007972544990479946\n",
      "loss: 0.007626785431057215\n",
      "loss: 0.0072835334576666355\n",
      "Epoch: 150 | Loss: 0.0072835334576666355 | Test loss: 0.016474086791276932\n",
      "\n",
      "OrderedDict([('weights', tensor([0.6654])), ('bias', tensor([0.3143]))])\n",
      "loss: 0.006941580679267645\n",
      "loss: 0.006594526115804911\n",
      "loss: 0.006256377790123224\n",
      "loss: 0.005907376762479544\n",
      "loss: 0.005569315515458584\n",
      "loss: 0.005222178064286709\n",
      "loss: 0.004880306776612997\n",
      "loss: 0.004536976106464863\n",
      "loss: 0.00419129803776741\n",
      "loss: 0.0038517764769494534\n",
      "Epoch: 160 | Loss: 0.0038517764769494534 | Test loss: 0.008201557211577892\n",
      "\n",
      "OrderedDict([('weights', tensor([0.6826])), ('bias', tensor([0.3073]))])\n",
      "loss: 0.0035027749836444855\n",
      "loss: 0.0031660839449614286\n",
      "loss: 0.002817571861669421\n",
      "loss: 0.0024770735763013363\n",
      "loss: 0.0021323717664927244\n",
      "loss: 0.0017880648374557495\n",
      "loss: 0.0014518328243866563\n",
      "loss: 0.0011887758737429976\n",
      "loss: 0.0025885067880153656\n",
      "loss: 0.008932482451200485\n",
      "Epoch: 170 | Loss: 0.008932482451200485 | Test loss: 0.005023092031478882\n",
      "\n",
      "OrderedDict([('weights', tensor([0.6951])), ('bias', tensor([0.2993]))])\n",
      "loss: 0.0025885067880153656\n",
      "loss: 0.008932482451200485\n",
      "loss: 0.0025885067880153656\n",
      "loss: 0.008932482451200485\n",
      "loss: 0.0025885067880153656\n",
      "loss: 0.008932482451200485\n",
      "loss: 0.0025885067880153656\n",
      "loss: 0.008932482451200485\n",
      "loss: 0.0025885067880153656\n",
      "loss: 0.008932482451200485\n",
      "Epoch: 180 | Loss: 0.008932482451200485 | Test loss: 0.005023092031478882\n",
      "\n",
      "OrderedDict([('weights', tensor([0.6951])), ('bias', tensor([0.2993]))])\n",
      "loss: 0.0025885067880153656\n",
      "loss: 0.008932482451200485\n",
      "loss: 0.0025885067880153656\n",
      "loss: 0.008932482451200485\n",
      "loss: 0.0025885067880153656\n",
      "loss: 0.008932482451200485\n",
      "loss: 0.0025885067880153656\n",
      "loss: 0.008932482451200485\n",
      "loss: 0.0025885067880153656\n",
      "loss: 0.008932482451200485\n",
      "Epoch: 190 | Loss: 0.008932482451200485 | Test loss: 0.005023092031478882\n",
      "\n",
      "OrderedDict([('weights', tensor([0.6951])), ('bias', tensor([0.2993]))])\n",
      "loss: 0.0025885067880153656\n",
      "loss: 0.008932482451200485\n",
      "loss: 0.0025885067880153656\n",
      "loss: 0.008932482451200485\n",
      "loss: 0.0025885067880153656\n",
      "loss: 0.008932482451200485\n",
      "loss: 0.0025885067880153656\n",
      "loss: 0.008932482451200485\n",
      "loss: 0.0025885067880153656\n"
     ]
    }
   ],
   "source": [
    "torch.manual_seed(42)\n",
    "\n",
    "# an epoch is one lopp through data... \n",
    "# this is a hyperparameter because we've set it ourselves\n",
    "epochs = 200\n",
    "\n",
    "# Track different values\n",
    "epoch_count = []\n",
    "loss_values = []\n",
    "test_loss_values = []\n",
    "\n",
    "# 1. Loop through the data\n",
    "for epoch in range(epochs):\n",
    "    # set the model to training mode\n",
    "    model_0.train() # train model in PyTorch sets all parameters that require gradients to require gradients\n",
    "\n",
    "    # 1. Forward pass\n",
    "    y_pred = model_0(X_train)\n",
    "\n",
    "    # 2. Calculate loss\n",
    "    loss = loss_fn(y_pred, y_train)\n",
    "    print(f\"loss: {loss}\")\n",
    "    # 3. Optimizer zero grad\n",
    "    optimizer.zero_grad()\n",
    "\n",
    "    # 4. Perform backpropagartion on the loss iwh respoct to the parameters of the model\n",
    "    loss.backward()\n",
    "\n",
    "    # 5. step the optimizer (perform gradient descent)\n",
    "    optimizer.step() # by default the optimizer changes will accumulate through the loop so, we have to zero them above in step 3.\n",
    "\n",
    "    ### Testing\n",
    "    model_0.eval() # different settings in the model not needed for evaluation/testing purposes(dropout/batch norm layers)\n",
    "\n",
    "    with torch.inference_mode(): # turn off gradient tracking and a couple of more things behind the scene\n",
    "        # 1. do the forward pass\n",
    "        test_pred = model_0(X_test)\n",
    "\n",
    "        # 2. calculate the loss\n",
    "        test_loss = loss_fn(test_pred, y_test)\n",
    "        \n",
    "    # print out what's happening\n",
    "    epoch_count.append(epoch)\n",
    "    loss_values.append(loss)\n",
    "    test_loss_values.append(test_loss)\n",
    "    if epoch % 10 == 0:\n",
    "        print(f\"Epoch: {epoch} | Loss: {loss} | Test loss: {test_loss}\")\n",
    "        print() \n",
    "        # print out model state_dict()\n",
    "        print(model_0.state_dict())"
   ]
  },
  {
   "cell_type": "code",
   "execution_count": null,
   "id": "f7efd407-bfe7-4ab7-875e-cab752a3ff57",
   "metadata": {},
   "outputs": [],
   "source": []
  },
  {
   "cell_type": "code",
   "execution_count": 163,
   "id": "296a75e5-8095-43c1-bfd1-ab58d765d7e4",
   "metadata": {},
   "outputs": [
    {
     "ename": "RuntimeError",
     "evalue": "Can't call numpy() on Tensor that requires grad. Use tensor.detach().numpy() instead.",
     "output_type": "error",
     "traceback": [
      "\u001b[0;31m---------------------------------------------------------------------------\u001b[0m",
      "\u001b[0;31mRuntimeError\u001b[0m                              Traceback (most recent call last)",
      "\u001b[0;32m/var/folders/11/930k5s4139qbpzg_v2crgdzm0000gn/T/ipykernel_94388/3230512072.py\u001b[0m in \u001b[0;36m<module>\u001b[0;34m\u001b[0m\n\u001b[1;32m      1\u001b[0m \u001b[0;31m# plot the loss curves\u001b[0m\u001b[0;34m\u001b[0m\u001b[0;34m\u001b[0m\u001b[0m\n\u001b[0;32m----> 2\u001b[0;31m \u001b[0mplt\u001b[0m\u001b[0;34m.\u001b[0m\u001b[0mplot\u001b[0m\u001b[0;34m(\u001b[0m\u001b[0mepoch_count\u001b[0m\u001b[0;34m,\u001b[0m \u001b[0mloss_values\u001b[0m\u001b[0;34m,\u001b[0m \u001b[0mlabel\u001b[0m\u001b[0;34m=\u001b[0m\u001b[0;34m\"Train loss\"\u001b[0m\u001b[0;34m)\u001b[0m\u001b[0;34m\u001b[0m\u001b[0;34m\u001b[0m\u001b[0m\n\u001b[0m",
      "\u001b[0;32m~/miniforge3/lib/python3.10/site-packages/matplotlib/pyplot.py\u001b[0m in \u001b[0;36mplot\u001b[0;34m(scalex, scaley, data, *args, **kwargs)\u001b[0m\n\u001b[1;32m   3706\u001b[0m     \u001b[0;34m**\u001b[0m\u001b[0mkwargs\u001b[0m\u001b[0;34m,\u001b[0m\u001b[0;34m\u001b[0m\u001b[0;34m\u001b[0m\u001b[0m\n\u001b[1;32m   3707\u001b[0m ) -> list[Line2D]:\n\u001b[0;32m-> 3708\u001b[0;31m     return gca().plot(\n\u001b[0m\u001b[1;32m   3709\u001b[0m         \u001b[0;34m*\u001b[0m\u001b[0margs\u001b[0m\u001b[0;34m,\u001b[0m\u001b[0;34m\u001b[0m\u001b[0;34m\u001b[0m\u001b[0m\n\u001b[1;32m   3710\u001b[0m         \u001b[0mscalex\u001b[0m\u001b[0;34m=\u001b[0m\u001b[0mscalex\u001b[0m\u001b[0;34m,\u001b[0m\u001b[0;34m\u001b[0m\u001b[0;34m\u001b[0m\u001b[0m\n",
      "\u001b[0;32m~/miniforge3/lib/python3.10/site-packages/matplotlib/axes/_axes.py\u001b[0m in \u001b[0;36mplot\u001b[0;34m(self, scalex, scaley, data, *args, **kwargs)\u001b[0m\n\u001b[1;32m   1777\u001b[0m         \"\"\"\n\u001b[1;32m   1778\u001b[0m         \u001b[0mkwargs\u001b[0m \u001b[0;34m=\u001b[0m \u001b[0mcbook\u001b[0m\u001b[0;34m.\u001b[0m\u001b[0mnormalize_kwargs\u001b[0m\u001b[0;34m(\u001b[0m\u001b[0mkwargs\u001b[0m\u001b[0;34m,\u001b[0m \u001b[0mmlines\u001b[0m\u001b[0;34m.\u001b[0m\u001b[0mLine2D\u001b[0m\u001b[0;34m)\u001b[0m\u001b[0;34m\u001b[0m\u001b[0;34m\u001b[0m\u001b[0m\n\u001b[0;32m-> 1779\u001b[0;31m         \u001b[0mlines\u001b[0m \u001b[0;34m=\u001b[0m \u001b[0;34m[\u001b[0m\u001b[0;34m*\u001b[0m\u001b[0mself\u001b[0m\u001b[0;34m.\u001b[0m\u001b[0m_get_lines\u001b[0m\u001b[0;34m(\u001b[0m\u001b[0mself\u001b[0m\u001b[0;34m,\u001b[0m \u001b[0;34m*\u001b[0m\u001b[0margs\u001b[0m\u001b[0;34m,\u001b[0m \u001b[0mdata\u001b[0m\u001b[0;34m=\u001b[0m\u001b[0mdata\u001b[0m\u001b[0;34m,\u001b[0m \u001b[0;34m**\u001b[0m\u001b[0mkwargs\u001b[0m\u001b[0;34m)\u001b[0m\u001b[0;34m]\u001b[0m\u001b[0;34m\u001b[0m\u001b[0;34m\u001b[0m\u001b[0m\n\u001b[0m\u001b[1;32m   1780\u001b[0m         \u001b[0;32mfor\u001b[0m \u001b[0mline\u001b[0m \u001b[0;32min\u001b[0m \u001b[0mlines\u001b[0m\u001b[0;34m:\u001b[0m\u001b[0;34m\u001b[0m\u001b[0;34m\u001b[0m\u001b[0m\n\u001b[1;32m   1781\u001b[0m             \u001b[0mself\u001b[0m\u001b[0;34m.\u001b[0m\u001b[0madd_line\u001b[0m\u001b[0;34m(\u001b[0m\u001b[0mline\u001b[0m\u001b[0;34m)\u001b[0m\u001b[0;34m\u001b[0m\u001b[0;34m\u001b[0m\u001b[0m\n",
      "\u001b[0;32m~/miniforge3/lib/python3.10/site-packages/matplotlib/axes/_base.py\u001b[0m in \u001b[0;36m__call__\u001b[0;34m(self, axes, data, *args, **kwargs)\u001b[0m\n\u001b[1;32m    294\u001b[0m                 \u001b[0mthis\u001b[0m \u001b[0;34m+=\u001b[0m \u001b[0margs\u001b[0m\u001b[0;34m[\u001b[0m\u001b[0;36m0\u001b[0m\u001b[0;34m]\u001b[0m\u001b[0;34m,\u001b[0m\u001b[0;34m\u001b[0m\u001b[0;34m\u001b[0m\u001b[0m\n\u001b[1;32m    295\u001b[0m                 \u001b[0margs\u001b[0m \u001b[0;34m=\u001b[0m \u001b[0margs\u001b[0m\u001b[0;34m[\u001b[0m\u001b[0;36m1\u001b[0m\u001b[0;34m:\u001b[0m\u001b[0;34m]\u001b[0m\u001b[0;34m\u001b[0m\u001b[0;34m\u001b[0m\u001b[0m\n\u001b[0;32m--> 296\u001b[0;31m             yield from self._plot_args(\n\u001b[0m\u001b[1;32m    297\u001b[0m                 axes, this, kwargs, ambiguous_fmt_datakey=ambiguous_fmt_datakey)\n\u001b[1;32m    298\u001b[0m \u001b[0;34m\u001b[0m\u001b[0m\n",
      "\u001b[0;32m~/miniforge3/lib/python3.10/site-packages/matplotlib/axes/_base.py\u001b[0m in \u001b[0;36m_plot_args\u001b[0;34m(self, axes, tup, kwargs, return_kwargs, ambiguous_fmt_datakey)\u001b[0m\n\u001b[1;32m    474\u001b[0m         \u001b[0;32mif\u001b[0m \u001b[0mlen\u001b[0m\u001b[0;34m(\u001b[0m\u001b[0mxy\u001b[0m\u001b[0;34m)\u001b[0m \u001b[0;34m==\u001b[0m \u001b[0;36m2\u001b[0m\u001b[0;34m:\u001b[0m\u001b[0;34m\u001b[0m\u001b[0;34m\u001b[0m\u001b[0m\n\u001b[1;32m    475\u001b[0m             \u001b[0mx\u001b[0m \u001b[0;34m=\u001b[0m \u001b[0m_check_1d\u001b[0m\u001b[0;34m(\u001b[0m\u001b[0mxy\u001b[0m\u001b[0;34m[\u001b[0m\u001b[0;36m0\u001b[0m\u001b[0;34m]\u001b[0m\u001b[0;34m)\u001b[0m\u001b[0;34m\u001b[0m\u001b[0;34m\u001b[0m\u001b[0m\n\u001b[0;32m--> 476\u001b[0;31m             \u001b[0my\u001b[0m \u001b[0;34m=\u001b[0m \u001b[0m_check_1d\u001b[0m\u001b[0;34m(\u001b[0m\u001b[0mxy\u001b[0m\u001b[0;34m[\u001b[0m\u001b[0;36m1\u001b[0m\u001b[0;34m]\u001b[0m\u001b[0;34m)\u001b[0m\u001b[0;34m\u001b[0m\u001b[0;34m\u001b[0m\u001b[0m\n\u001b[0m\u001b[1;32m    477\u001b[0m         \u001b[0;32melse\u001b[0m\u001b[0;34m:\u001b[0m\u001b[0;34m\u001b[0m\u001b[0;34m\u001b[0m\u001b[0m\n\u001b[1;32m    478\u001b[0m             \u001b[0mx\u001b[0m\u001b[0;34m,\u001b[0m \u001b[0my\u001b[0m \u001b[0;34m=\u001b[0m \u001b[0mindex_of\u001b[0m\u001b[0;34m(\u001b[0m\u001b[0mxy\u001b[0m\u001b[0;34m[\u001b[0m\u001b[0;34m-\u001b[0m\u001b[0;36m1\u001b[0m\u001b[0;34m]\u001b[0m\u001b[0;34m)\u001b[0m\u001b[0;34m\u001b[0m\u001b[0;34m\u001b[0m\u001b[0m\n",
      "\u001b[0;32m~/miniforge3/lib/python3.10/site-packages/matplotlib/cbook.py\u001b[0m in \u001b[0;36m_check_1d\u001b[0;34m(x)\u001b[0m\n\u001b[1;32m   1409\u001b[0m             \u001b[0;32mnot\u001b[0m \u001b[0mhasattr\u001b[0m\u001b[0;34m(\u001b[0m\u001b[0mx\u001b[0m\u001b[0;34m,\u001b[0m \u001b[0;34m'ndim'\u001b[0m\u001b[0;34m)\u001b[0m \u001b[0;32mor\u001b[0m\u001b[0;34m\u001b[0m\u001b[0;34m\u001b[0m\u001b[0m\n\u001b[1;32m   1410\u001b[0m             len(x.shape) < 1):\n\u001b[0;32m-> 1411\u001b[0;31m         \u001b[0;32mreturn\u001b[0m \u001b[0mnp\u001b[0m\u001b[0;34m.\u001b[0m\u001b[0matleast_1d\u001b[0m\u001b[0;34m(\u001b[0m\u001b[0mx\u001b[0m\u001b[0;34m)\u001b[0m\u001b[0;34m\u001b[0m\u001b[0;34m\u001b[0m\u001b[0m\n\u001b[0m\u001b[1;32m   1412\u001b[0m     \u001b[0;32melse\u001b[0m\u001b[0;34m:\u001b[0m\u001b[0;34m\u001b[0m\u001b[0;34m\u001b[0m\u001b[0m\n\u001b[1;32m   1413\u001b[0m         \u001b[0;32mreturn\u001b[0m \u001b[0mx\u001b[0m\u001b[0;34m\u001b[0m\u001b[0;34m\u001b[0m\u001b[0m\n",
      "\u001b[0;32m~/miniforge3/lib/python3.10/site-packages/numpy/core/shape_base.py\u001b[0m in \u001b[0;36matleast_1d\u001b[0;34m(*arys)\u001b[0m\n\u001b[1;32m     63\u001b[0m     \u001b[0mres\u001b[0m \u001b[0;34m=\u001b[0m \u001b[0;34m[\u001b[0m\u001b[0;34m]\u001b[0m\u001b[0;34m\u001b[0m\u001b[0;34m\u001b[0m\u001b[0m\n\u001b[1;32m     64\u001b[0m     \u001b[0;32mfor\u001b[0m \u001b[0mary\u001b[0m \u001b[0;32min\u001b[0m \u001b[0marys\u001b[0m\u001b[0;34m:\u001b[0m\u001b[0;34m\u001b[0m\u001b[0;34m\u001b[0m\u001b[0m\n\u001b[0;32m---> 65\u001b[0;31m         \u001b[0mary\u001b[0m \u001b[0;34m=\u001b[0m \u001b[0masanyarray\u001b[0m\u001b[0;34m(\u001b[0m\u001b[0mary\u001b[0m\u001b[0;34m)\u001b[0m\u001b[0;34m\u001b[0m\u001b[0;34m\u001b[0m\u001b[0m\n\u001b[0m\u001b[1;32m     66\u001b[0m         \u001b[0;32mif\u001b[0m \u001b[0mary\u001b[0m\u001b[0;34m.\u001b[0m\u001b[0mndim\u001b[0m \u001b[0;34m==\u001b[0m \u001b[0;36m0\u001b[0m\u001b[0;34m:\u001b[0m\u001b[0;34m\u001b[0m\u001b[0;34m\u001b[0m\u001b[0m\n\u001b[1;32m     67\u001b[0m             \u001b[0mresult\u001b[0m \u001b[0;34m=\u001b[0m \u001b[0mary\u001b[0m\u001b[0;34m.\u001b[0m\u001b[0mreshape\u001b[0m\u001b[0;34m(\u001b[0m\u001b[0;36m1\u001b[0m\u001b[0;34m)\u001b[0m\u001b[0;34m\u001b[0m\u001b[0;34m\u001b[0m\u001b[0m\n",
      "\u001b[0;32m~/miniforge3/lib/python3.10/site-packages/torch/_tensor.py\u001b[0m in \u001b[0;36m__array__\u001b[0;34m(self, dtype)\u001b[0m\n\u001b[1;32m    968\u001b[0m             \u001b[0;32mreturn\u001b[0m \u001b[0mhandle_torch_function\u001b[0m\u001b[0;34m(\u001b[0m\u001b[0mTensor\u001b[0m\u001b[0;34m.\u001b[0m\u001b[0m__array__\u001b[0m\u001b[0;34m,\u001b[0m \u001b[0;34m(\u001b[0m\u001b[0mself\u001b[0m\u001b[0;34m,\u001b[0m\u001b[0;34m)\u001b[0m\u001b[0;34m,\u001b[0m \u001b[0mself\u001b[0m\u001b[0;34m,\u001b[0m \u001b[0mdtype\u001b[0m\u001b[0;34m=\u001b[0m\u001b[0mdtype\u001b[0m\u001b[0;34m)\u001b[0m\u001b[0;34m\u001b[0m\u001b[0;34m\u001b[0m\u001b[0m\n\u001b[1;32m    969\u001b[0m         \u001b[0;32mif\u001b[0m \u001b[0mdtype\u001b[0m \u001b[0;32mis\u001b[0m \u001b[0;32mNone\u001b[0m\u001b[0;34m:\u001b[0m\u001b[0;34m\u001b[0m\u001b[0;34m\u001b[0m\u001b[0m\n\u001b[0;32m--> 970\u001b[0;31m             \u001b[0;32mreturn\u001b[0m \u001b[0mself\u001b[0m\u001b[0;34m.\u001b[0m\u001b[0mnumpy\u001b[0m\u001b[0;34m(\u001b[0m\u001b[0;34m)\u001b[0m\u001b[0;34m\u001b[0m\u001b[0;34m\u001b[0m\u001b[0m\n\u001b[0m\u001b[1;32m    971\u001b[0m         \u001b[0;32melse\u001b[0m\u001b[0;34m:\u001b[0m\u001b[0;34m\u001b[0m\u001b[0;34m\u001b[0m\u001b[0m\n\u001b[1;32m    972\u001b[0m             \u001b[0;32mreturn\u001b[0m \u001b[0mself\u001b[0m\u001b[0;34m.\u001b[0m\u001b[0mnumpy\u001b[0m\u001b[0;34m(\u001b[0m\u001b[0;34m)\u001b[0m\u001b[0;34m.\u001b[0m\u001b[0mastype\u001b[0m\u001b[0;34m(\u001b[0m\u001b[0mdtype\u001b[0m\u001b[0;34m,\u001b[0m \u001b[0mcopy\u001b[0m\u001b[0;34m=\u001b[0m\u001b[0;32mFalse\u001b[0m\u001b[0;34m)\u001b[0m\u001b[0;34m\u001b[0m\u001b[0;34m\u001b[0m\u001b[0m\n",
      "\u001b[0;31mRuntimeError\u001b[0m: Can't call numpy() on Tensor that requires grad. Use tensor.detach().numpy() instead."
     ]
    },
    {
     "data": {
      "image/png": "[encoded data removed]",
      "text/plain": [
       "<Figure size 640x480 with 1 Axes>"
      ]
     },
     "metadata": {},
     "output_type": "display_data"
    }
   ],
   "source": [
    "# plot the loss curves\n",
    "plt.plot(epoch_count, loss_values, label=\"Train loss\")"
   ]
  },
  {
   "cell_type": "markdown",
   "id": "f171fd0f-59e9-4b30-b299-fce86d0d83ad",
   "metadata": {},
   "source": [
    "\n",
    "<div class='alert alert-danger'>\n",
    "    We have an error here because, loss is in tensor and matplotlib works with numpy array.\n",
    "\n",
    "    so we have to convert the tensor to numpy array\n",
    "</div>"
   ]
  },
  {
   "cell_type": "code",
   "execution_count": 169,
   "id": "075bf6b1-10f7-4f06-add6-f303f800fb6f",
   "metadata": {},
   "outputs": [
    {
     "data": {
      "image/png": "[encoded data removed]",
      "text/plain": [
       "<Figure size 640x480 with 1 Axes>"
      ]
     },
     "metadata": {},
     "output_type": "display_data"
    }
   ],
   "source": [
    "loss_values = torch.tensor(loss_values).numpy()\n",
    "\n",
    "# plot the loss curves\n",
    "plt.plot(epoch_count, loss_values, label=\"Train loss\")\n",
    "plt.plot(epoch_count, test_loss_values, label=\"Test loss\")\n",
    "plt.title(\"Training and test loss curves\")\n",
    "plt.ylabel(\"Loss\")\n",
    "plt.xlabel(\"Epochs\")\n",
    "plt.legend();"
   ]
  },
  {
   "cell_type": "code",
   "execution_count": 119,
   "id": "a89e3fc8-6f49-4a2d-9e16-edb4aa5c0b2b",
   "metadata": {},
   "outputs": [
    {
     "data": {
      "image/png": "[encoded data removed]",
      "text/plain": [
       "<Figure size 1000x700 with 1 Axes>"
      ]
     },
     "metadata": {},
     "output_type": "display_data"
    }
   ],
   "source": [
    "plot_predictions(predictions=y_preds)"
   ]
  },
  {
   "cell_type": "code",
   "execution_count": 161,
   "id": "3240a28b-2f8d-41d6-a6e3-65d95764fb3c",
   "metadata": {},
   "outputs": [
    {
     "data": {
      "image/png": "[encoded data removed]",
      "text/plain": [
       "<Figure size 1000x700 with 1 Axes>"
      ]
     },
     "metadata": {},
     "output_type": "display_data"
    }
   ],
   "source": [
    "with torch.inference_mode():\n",
    "    y_preds_new = model_0(X_test)\n",
    "plot_predictions(predictions=y_preds_new)"
   ]
  },
  {
   "cell_type": "markdown",
   "id": "5b58ac07-8bd0-4826-ab13-023d42d91686",
   "metadata": {},
   "source": [
    "### 6. Saving and loading the model"
   ]
  },
  {
   "cell_type": "markdown",
   "id": "c0518b7b-8375-403c-babe-a74b46b89e38",
   "metadata": {},
   "source": [
    "There are `3` main methods you should know about for saving and loading models in PyTorch\n",
    "\n",
    "1. `torch.save()` - allows you to save PyTorch object in Python's pickle format\n",
    "2. `torch.load()` - allows you to load a saved PyTorch object\n",
    "3. `torch.nn.Module.load_state_dict()` - this allows us to load a model's saved state dictionary"
   ]
  },
  {
   "cell_type": "markdown",
   "id": "d6fb0d2a-bc98-4fef-9844-3a102792974b",
   "metadata": {},
   "source": [
    "#### 1. Saving the model"
   ]
  },
  {
   "cell_type": "code",
   "execution_count": 171,
   "id": "4b4aebe7-08d7-4975-ad4c-d6e22877553d",
   "metadata": {},
   "outputs": [
    {
     "name": "stdout",
     "output_type": "stream",
     "text": [
      "Saving model to: models/01_pytorch_workflow_model_0.pth\n"
     ]
    }
   ],
   "source": [
    "# saving a PyTorch Model\n",
    "\n",
    "from pathlib import Path\n",
    "\n",
    "# Create model directory\n",
    "MODEL_PATH = Path(\"models\")\n",
    "MODEL_PATH.mkdir(parents=True, exist_ok=True) # creates a folder `models` if it desn;t exist\n",
    "\n",
    "# 2. Create model save path\n",
    "MODEL_NAME = \"01_pytorch_workflow_model_0.pth\"\n",
    "MODEL_SAVE_PATH = MODEL_PATH / MODEL_NAME\n",
    "\n",
    "# 3. Save the model state dict\n",
    "print(f\"Saving model to: {MODEL_SAVE_PATH}\")\n",
    "torch.save(obj=model_0.state_dict(),\n",
    "           f=MODEL_SAVE_PATH)"
   ]
  },
  {
   "cell_type": "markdown",
   "id": "c34d1f64-56ac-457b-a5a7-2f48a27f98b8",
   "metadata": {},
   "source": [
    "#### 2. Loading a PyTorch Model"
   ]
  },
  {
   "cell_type": "markdown",
   "id": "759eb905-4ede-4c68-9e4d-f81559b43676",
   "metadata": {},
   "source": [
    "Since we saved our model's `state_dict()` rather than the entire model, we'll `create a new instance` of our `model class` and `pass` `stete_dict()`into that.\n"
   ]
  },
  {
   "cell_type": "code",
   "execution_count": 172,
   "id": "9c080cde-1230-41dd-9348-ced6ba977547",
   "metadata": {},
   "outputs": [
    {
     "data": {
      "text/plain": [
       "OrderedDict([('weights', tensor([0.6990])), ('bias', tensor([0.3093]))])"
      ]
     },
     "execution_count": 172,
     "metadata": {},
     "output_type": "execute_result"
    }
   ],
   "source": [
    "model_0.state_dict()"
   ]
  },
  {
   "cell_type": "code",
   "execution_count": 175,
   "id": "3f68dc04-274e-4544-b997-13690240d930",
   "metadata": {},
   "outputs": [
    {
     "data": {
      "text/plain": [
       "OrderedDict([('weights', tensor([0.2345])), ('bias', tensor([0.2303]))])"
      ]
     },
     "execution_count": 175,
     "metadata": {},
     "output_type": "execute_result"
    }
   ],
   "source": [
    "# To load a saved state_dict we have to instantiate a new instance of our model class\n",
    "loaded_model_0 = LinearRegressionModel()\n",
    "loaded_model_0.state_dict()"
   ]
  },
  {
   "cell_type": "markdown",
   "id": "d3bd4b91-000f-40b9-849b-a87edd06a105",
   "metadata": {},
   "source": [
    "`weights` and `bias` will be random when we instantiate"
   ]
  },
  {
   "cell_type": "markdown",
   "id": "11b9370a-5cfb-46cd-826a-5fa44da1eab9",
   "metadata": {},
   "source": [
    "Now load the `saved_dict()` in the instantiated model"
   ]
  },
  {
   "cell_type": "code",
   "execution_count": 176,
   "id": "01c79101-6abb-46d0-b798-7ff39d9f961f",
   "metadata": {},
   "outputs": [
    {
     "data": {
      "text/plain": [
       "OrderedDict([('weights', tensor([0.6990])), ('bias', tensor([0.3093]))])"
      ]
     },
     "execution_count": 176,
     "metadata": {},
     "output_type": "execute_result"
    }
   ],
   "source": [
    "loaded_model_0.load_state_dict(torch.load(f=MODEL_SAVE_PATH))\n",
    "loaded_model_0.state_dict()"
   ]
  },
  {
   "cell_type": "code",
   "execution_count": 185,
   "id": "ae6929c0-ff4f-4630-99ae-a1bc150d8fe1",
   "metadata": {},
   "outputs": [
    {
     "data": {
      "text/plain": [
       "tensor([[0.8685],\n",
       "        [0.8825],\n",
       "        [0.8965],\n",
       "        [0.9105],\n",
       "        [0.9245],\n",
       "        [0.9384],\n",
       "        [0.9524],\n",
       "        [0.9664],\n",
       "        [0.9804],\n",
       "        [0.9944]])"
      ]
     },
     "execution_count": 185,
     "metadata": {},
     "output_type": "execute_result"
    }
   ],
   "source": [
    "# make some predictions with our loaded model\n",
    "loaded_model_0.eval()\n",
    "with torch.inference_mode():\n",
    "    loaded_model_preds = loaded_model_0(X_test)\n",
    "loaded_model_preds"
   ]
  },
  {
   "cell_type": "code",
   "execution_count": 186,
   "id": "987e3efc-9b6a-47ec-b687-f2c46448e19d",
   "metadata": {},
   "outputs": [
    {
     "data": {
      "text/plain": [
       "tensor([[0.8685],\n",
       "        [0.8825],\n",
       "        [0.8965],\n",
       "        [0.9105],\n",
       "        [0.9245],\n",
       "        [0.9384],\n",
       "        [0.9524],\n",
       "        [0.9664],\n",
       "        [0.9804],\n",
       "        [0.9944]])"
      ]
     },
     "execution_count": 186,
     "metadata": {},
     "output_type": "execute_result"
    }
   ],
   "source": [
    "model_0.eval()\n",
    "with torch.inference_mode():\n",
    "    y_preds = model_0(X_test)\n",
    "y_preds"
   ]
  },
  {
   "cell_type": "code",
   "execution_count": 188,
   "id": "214aa266-f5a7-44bd-9146-2ebc7ca3f306",
   "metadata": {},
   "outputs": [
    {
     "data": {
      "text/plain": [
       "tensor([[True],\n",
       "        [True],\n",
       "        [True],\n",
       "        [True],\n",
       "        [True],\n",
       "        [True],\n",
       "        [True],\n",
       "        [True],\n",
       "        [True],\n",
       "        [True]])"
      ]
     },
     "execution_count": 188,
     "metadata": {},
     "output_type": "execute_result"
    }
   ],
   "source": [
    "# comparate loaded model preds with original model preds\n",
    "y_preds == loaded_model_preds"
   ]
  },
  {
   "cell_type": "markdown",
   "id": "7691d017-eaa5-4e6d-916b-82e011886471",
   "metadata": {},
   "source": [
    "### Putting it all together\n",
    "Let's go back through the steps above and see it all in one place"
   ]
  },
  {
   "cell_type": "code",
   "execution_count": 14,
   "id": "64cb3a53-2f22-45f9-90f3-a44aaf84fc38",
   "metadata": {},
   "outputs": [],
   "source": [
    "import torch\n",
    "from torch import nn\n",
    "import matplotlib.pyplot as plt"
   ]
  },
  {
   "cell_type": "code",
   "execution_count": 15,
   "id": "c731a030-9fbb-4222-a0c1-1ba7d6c021b4",
   "metadata": {},
   "outputs": [
    {
     "name": "stdout",
     "output_type": "stream",
     "text": [
      "equation: y = 0.7*X + 0.3\n"
     ]
    }
   ],
   "source": [
    "# data\n",
    "w = 0.7\n",
    "b = 0.3\n",
    "\n",
    "start = 0\n",
    "end = 100\n",
    "step = 0.02\n",
    "\n",
    "X = torch.arange(start=start, end=end, step=step)\n",
    "\n",
    "y = w*X + b\n",
    "\n",
    "print(f\"equation: y = {w}*X + {b}\")"
   ]
  },
  {
   "cell_type": "code",
   "execution_count": 16,
   "id": "cbc2992b-ce53-4734-9e4d-d9e4e23eea9f",
   "metadata": {},
   "outputs": [],
   "source": [
    "# splitting the data\n",
    "cutoff = int(len(X) * 0.8)\n",
    "\n",
    "X_train = X[:cutoff]\n",
    "X_test = X[cutoff:]\n",
    "\n",
    "y_train = y[:cutoff]\n",
    "y_test = y[cutoff:]"
   ]
  },
  {
   "cell_type": "code",
   "execution_count": 17,
   "id": "36eb41aa-a592-43be-bd18-58ee2ee090da",
   "metadata": {},
   "outputs": [],
   "source": [
    "# building a model\n",
    "torch.manual_seed(42)\n",
    "class CustomLinearRegressionModel(nn.Module):\n",
    "\n",
    "    def __init__(self):\n",
    "        super().__init__()\n",
    "        self.weight = nn.Parameter(\n",
    "            torch.rand(1), requires_grad=True\n",
    "        )\n",
    "        self.bias = nn.Parameter(\n",
    "            torch.rand(1), requires_grad=True\n",
    "        )\n",
    "        \n",
    "    def forward(self, x: torch.Tensor) -> torch.Tensor:\n",
    "        return self.weight*x + self.bias"
   ]
  },
  {
   "cell_type": "code",
   "execution_count": 18,
   "id": "29ad2335-02fa-4063-898e-e5a2ce24636c",
   "metadata": {},
   "outputs": [],
   "source": [
    "# torch.rand(1)"
   ]
  },
  {
   "cell_type": "code",
   "execution_count": 19,
   "id": "556c98dd-8485-41df-a91c-3b0cddf44d30",
   "metadata": {},
   "outputs": [
    {
     "data": {
      "text/plain": [
       "[Parameter containing:\n",
       " tensor([0.8823], requires_grad=True),\n",
       " Parameter containing:\n",
       " tensor([0.9150], requires_grad=True)]"
      ]
     },
     "execution_count": 19,
     "metadata": {},
     "output_type": "execute_result"
    }
   ],
   "source": [
    "model_1 = CustomLinearRegressionModel()\n",
    "\n",
    "list(model_1.parameters())"
   ]
  },
  {
   "cell_type": "code",
   "execution_count": 20,
   "id": "8c383f2b-4c00-41f1-aec7-f8d0d8d1d545",
   "metadata": {},
   "outputs": [
    {
     "data": {
      "text/plain": [
       "OrderedDict([('weight', tensor([0.8823])), ('bias', tensor([0.9150]))])"
      ]
     },
     "execution_count": 20,
     "metadata": {},
     "output_type": "execute_result"
    }
   ],
   "source": [
    "model_1.state_dict()"
   ]
  },
  {
   "cell_type": "code",
   "execution_count": 21,
   "id": "5a371c8b-ba3c-4b15-be74-7b2252c41852",
   "metadata": {
    "scrolled": true
   },
   "outputs": [
    {
     "data": {
      "text/plain": [
       "tensor([71.4965, 71.5142, 71.5318, 71.5495, 71.5671, 71.5848, 71.6024, 71.6201,\n",
       "        71.6377, 71.6553, 71.6730, 71.6906, 71.7083, 71.7259, 71.7436, 71.7612,\n",
       "        71.7789, 71.7965, 71.8142, 71.8318, 71.8494, 71.8671, 71.8847, 71.9024,\n",
       "        71.9200, 71.9377, 71.9553, 71.9730, 71.9906, 72.0083, 72.0259, 72.0435,\n",
       "        72.0612, 72.0788, 72.0965, 72.1141, 72.1318, 72.1494, 72.1671, 72.1847,\n",
       "        72.2024, 72.2200, 72.2376, 72.2553, 72.2729, 72.2906, 72.3082, 72.3259,\n",
       "        72.3435, 72.3612, 72.3788, 72.3965, 72.4141, 72.4317, 72.4494, 72.4670,\n",
       "        72.4847, 72.5023, 72.5200, 72.5376, 72.5553, 72.5729, 72.5906, 72.6082,\n",
       "        72.6258, 72.6435, 72.6611, 72.6788, 72.6964, 72.7141, 72.7317, 72.7494,\n",
       "        72.7670, 72.7847, 72.8023, 72.8199, 72.8376, 72.8552, 72.8729, 72.8905,\n",
       "        72.9082, 72.9258, 72.9435, 72.9611, 72.9788, 72.9964, 73.0140, 73.0317,\n",
       "        73.0493, 73.0670, 73.0846, 73.1023, 73.1199, 73.1376, 73.1552, 73.1729,\n",
       "        73.1905, 73.2081, 73.2258, 73.2434, 73.2611, 73.2787, 73.2964, 73.3140,\n",
       "        73.3317, 73.3493, 73.3670, 73.3846, 73.4022, 73.4199, 73.4375, 73.4552,\n",
       "        73.4728, 73.4905, 73.5081, 73.5258, 73.5434, 73.5611, 73.5787, 73.5963,\n",
       "        73.6140, 73.6316, 73.6493, 73.6669, 73.6846, 73.7022, 73.7199, 73.7375,\n",
       "        73.7551, 73.7728, 73.7904, 73.8081, 73.8257, 73.8434, 73.8610, 73.8787,\n",
       "        73.8963, 73.9140, 73.9316, 73.9492, 73.9669, 73.9845, 74.0022, 74.0198,\n",
       "        74.0375, 74.0551, 74.0728, 74.0904, 74.1081, 74.1257, 74.1433, 74.1610,\n",
       "        74.1786, 74.1963, 74.2139, 74.2316, 74.2492, 74.2669, 74.2845, 74.3022,\n",
       "        74.3198, 74.3374, 74.3551, 74.3727, 74.3904, 74.4080, 74.4257, 74.4433,\n",
       "        74.4610, 74.4786, 74.4963, 74.5139, 74.5315, 74.5492, 74.5668, 74.5845,\n",
       "        74.6021, 74.6198, 74.6374, 74.6551, 74.6727, 74.6904, 74.7080, 74.7256,\n",
       "        74.7433, 74.7609, 74.7786, 74.7962, 74.8139, 74.8315, 74.8492, 74.8668,\n",
       "        74.8845, 74.9021, 74.9197, 74.9374, 74.9550, 74.9727, 74.9903, 75.0080,\n",
       "        75.0256, 75.0433, 75.0609, 75.0786, 75.0962, 75.1138, 75.1315, 75.1491,\n",
       "        75.1668, 75.1844, 75.2021, 75.2197, 75.2374, 75.2550, 75.2727, 75.2903,\n",
       "        75.3079, 75.3256, 75.3432, 75.3609, 75.3785, 75.3962, 75.4138, 75.4315,\n",
       "        75.4491, 75.4668, 75.4844, 75.5020, 75.5197, 75.5373, 75.5550, 75.5726,\n",
       "        75.5903, 75.6079, 75.6256, 75.6432, 75.6609, 75.6785, 75.6961, 75.7138,\n",
       "        75.7314, 75.7491, 75.7667, 75.7844, 75.8020, 75.8197, 75.8373, 75.8550,\n",
       "        75.8726, 75.8902, 75.9079, 75.9255, 75.9432, 75.9608, 75.9785, 75.9961,\n",
       "        76.0138, 76.0314, 76.0491, 76.0667, 76.0843, 76.1020, 76.1196, 76.1373,\n",
       "        76.1549, 76.1726, 76.1902, 76.2079, 76.2255, 76.2431, 76.2608, 76.2784,\n",
       "        76.2961, 76.3137, 76.3314, 76.3490, 76.3667, 76.3843, 76.4020, 76.4196,\n",
       "        76.4372, 76.4549, 76.4725, 76.4902, 76.5078, 76.5255, 76.5431, 76.5608,\n",
       "        76.5784, 76.5961, 76.6137, 76.6313, 76.6490, 76.6666, 76.6843, 76.7019,\n",
       "        76.7196, 76.7372, 76.7549, 76.7725, 76.7902, 76.8078, 76.8254, 76.8431,\n",
       "        76.8607, 76.8784, 76.8960, 76.9137, 76.9313, 76.9490, 76.9666, 76.9843,\n",
       "        77.0019, 77.0195, 77.0372, 77.0548, 77.0725, 77.0901, 77.1078, 77.1254,\n",
       "        77.1431, 77.1607, 77.1784, 77.1960, 77.2137, 77.2313, 77.2489, 77.2666,\n",
       "        77.2842, 77.3019, 77.3195, 77.3372, 77.3548, 77.3725, 77.3901, 77.4077,\n",
       "        77.4254, 77.4430, 77.4607, 77.4783, 77.4960, 77.5136, 77.5313, 77.5489,\n",
       "        77.5666, 77.5842, 77.6018, 77.6195, 77.6371, 77.6548, 77.6724, 77.6901,\n",
       "        77.7077, 77.7254, 77.7430, 77.7607, 77.7783, 77.7959, 77.8136, 77.8312,\n",
       "        77.8489, 77.8665, 77.8842, 77.9018, 77.9195, 77.9371, 77.9548, 77.9724,\n",
       "        77.9900, 78.0077, 78.0253, 78.0430, 78.0606, 78.0783, 78.0959, 78.1136,\n",
       "        78.1312, 78.1488, 78.1665, 78.1841, 78.2018, 78.2194, 78.2371, 78.2547,\n",
       "        78.2724, 78.2900, 78.3077, 78.3253, 78.3430, 78.3606, 78.3782, 78.3959,\n",
       "        78.4135, 78.4312, 78.4488, 78.4665, 78.4841, 78.5018, 78.5194, 78.5370,\n",
       "        78.5547, 78.5723, 78.5900, 78.6076, 78.6253, 78.6429, 78.6606, 78.6782,\n",
       "        78.6959, 78.7135, 78.7312, 78.7488, 78.7664, 78.7841, 78.8017, 78.8194,\n",
       "        78.8370, 78.8547, 78.8723, 78.8900, 78.9076, 78.9252, 78.9429, 78.9605,\n",
       "        78.9782, 78.9958, 79.0135, 79.0311, 79.0488, 79.0664, 79.0841, 79.1017,\n",
       "        79.1193, 79.1370, 79.1546, 79.1723, 79.1899, 79.2076, 79.2252, 79.2429,\n",
       "        79.2605, 79.2782, 79.2958, 79.3134, 79.3311, 79.3487, 79.3664, 79.3840,\n",
       "        79.4017, 79.4193, 79.4370, 79.4546, 79.4723, 79.4899, 79.5075, 79.5252,\n",
       "        79.5428, 79.5605, 79.5781, 79.5958, 79.6134, 79.6311, 79.6487, 79.6664,\n",
       "        79.6840, 79.7016, 79.7193, 79.7369, 79.7546, 79.7722, 79.7899, 79.8075,\n",
       "        79.8252, 79.8428, 79.8605, 79.8781, 79.8958, 79.9134, 79.9310, 79.9487,\n",
       "        79.9663, 79.9840, 80.0016, 80.0193, 80.0369, 80.0546, 80.0722, 80.0898,\n",
       "        80.1075, 80.1251, 80.1428, 80.1604, 80.1781, 80.1957, 80.2134, 80.2310,\n",
       "        80.2486, 80.2663, 80.2839, 80.3016, 80.3192, 80.3369, 80.3545, 80.3722,\n",
       "        80.3898, 80.4075, 80.4251, 80.4427, 80.4604, 80.4780, 80.4957, 80.5133,\n",
       "        80.5310, 80.5486, 80.5663, 80.5839, 80.6016, 80.6192, 80.6368, 80.6545,\n",
       "        80.6721, 80.6898, 80.7074, 80.7251, 80.7427, 80.7604, 80.7780, 80.7957,\n",
       "        80.8133, 80.8309, 80.8486, 80.8662, 80.8839, 80.9015, 80.9192, 80.9368,\n",
       "        80.9545, 80.9721, 80.9898, 81.0074, 81.0251, 81.0427, 81.0603, 81.0780,\n",
       "        81.0956, 81.1133, 81.1309, 81.1486, 81.1662, 81.1839, 81.2015, 81.2191,\n",
       "        81.2368, 81.2544, 81.2721, 81.2897, 81.3074, 81.3250, 81.3427, 81.3603,\n",
       "        81.3780, 81.3956, 81.4132, 81.4309, 81.4485, 81.4662, 81.4838, 81.5015,\n",
       "        81.5191, 81.5368, 81.5544, 81.5721, 81.5897, 81.6073, 81.6250, 81.6426,\n",
       "        81.6603, 81.6779, 81.6956, 81.7132, 81.7309, 81.7485, 81.7662, 81.7838,\n",
       "        81.8014, 81.8191, 81.8367, 81.8544, 81.8720, 81.8897, 81.9073, 81.9250,\n",
       "        81.9426, 81.9603, 81.9779, 81.9955, 82.0132, 82.0308, 82.0485, 82.0661,\n",
       "        82.0838, 82.1014, 82.1191, 82.1367, 82.1544, 82.1720, 82.1897, 82.2073,\n",
       "        82.2249, 82.2426, 82.2602, 82.2779, 82.2955, 82.3132, 82.3308, 82.3485,\n",
       "        82.3661, 82.3837, 82.4014, 82.4190, 82.4367, 82.4543, 82.4720, 82.4896,\n",
       "        82.5073, 82.5249, 82.5426, 82.5602, 82.5779, 82.5955, 82.6131, 82.6308,\n",
       "        82.6484, 82.6661, 82.6837, 82.7014, 82.7190, 82.7366, 82.7543, 82.7719,\n",
       "        82.7896, 82.8072, 82.8249, 82.8425, 82.8602, 82.8778, 82.8955, 82.9131,\n",
       "        82.9307, 82.9484, 82.9660, 82.9837, 83.0013, 83.0190, 83.0366, 83.0543,\n",
       "        83.0719, 83.0896, 83.1072, 83.1248, 83.1425, 83.1601, 83.1778, 83.1954,\n",
       "        83.2131, 83.2307, 83.2484, 83.2660, 83.2837, 83.3013, 83.3190, 83.3366,\n",
       "        83.3542, 83.3719, 83.3895, 83.4072, 83.4248, 83.4425, 83.4601, 83.4778,\n",
       "        83.4954, 83.5130, 83.5307, 83.5483, 83.5660, 83.5836, 83.6013, 83.6189,\n",
       "        83.6366, 83.6542, 83.6719, 83.6895, 83.7072, 83.7248, 83.7424, 83.7601,\n",
       "        83.7777, 83.7954, 83.8130, 83.8307, 83.8483, 83.8660, 83.8836, 83.9012,\n",
       "        83.9189, 83.9365, 83.9542, 83.9718, 83.9895, 84.0071, 84.0248, 84.0424,\n",
       "        84.0601, 84.0777, 84.0953, 84.1130, 84.1306, 84.1483, 84.1659, 84.1836,\n",
       "        84.2012, 84.2189, 84.2365, 84.2542, 84.2718, 84.2894, 84.3071, 84.3247,\n",
       "        84.3424, 84.3600, 84.3777, 84.3953, 84.4130, 84.4306, 84.4483, 84.4659,\n",
       "        84.4835, 84.5012, 84.5188, 84.5365, 84.5541, 84.5718, 84.5894, 84.6071,\n",
       "        84.6247, 84.6423, 84.6600, 84.6776, 84.6953, 84.7129, 84.7306, 84.7482,\n",
       "        84.7659, 84.7835, 84.8012, 84.8188, 84.8365, 84.8541, 84.8717, 84.8894,\n",
       "        84.9070, 84.9247, 84.9423, 84.9600, 84.9776, 84.9953, 85.0129, 85.0305,\n",
       "        85.0482, 85.0658, 85.0835, 85.1011, 85.1188, 85.1364, 85.1541, 85.1717,\n",
       "        85.1894, 85.2070, 85.2246, 85.2423, 85.2599, 85.2776, 85.2952, 85.3129,\n",
       "        85.3305, 85.3482, 85.3658, 85.3835, 85.4011, 85.4187, 85.4364, 85.4540,\n",
       "        85.4717, 85.4893, 85.5070, 85.5246, 85.5423, 85.5599, 85.5776, 85.5952,\n",
       "        85.6128, 85.6305, 85.6481, 85.6658, 85.6834, 85.7011, 85.7187, 85.7364,\n",
       "        85.7540, 85.7717, 85.7893, 85.8070, 85.8246, 85.8422, 85.8599, 85.8775,\n",
       "        85.8952, 85.9128, 85.9305, 85.9481, 85.9658, 85.9834, 86.0011, 86.0187,\n",
       "        86.0363, 86.0540, 86.0716, 86.0893, 86.1069, 86.1246, 86.1422, 86.1599,\n",
       "        86.1775, 86.1951, 86.2128, 86.2304, 86.2481, 86.2657, 86.2834, 86.3010,\n",
       "        86.3187, 86.3363, 86.3540, 86.3716, 86.3893, 86.4069, 86.4245, 86.4422,\n",
       "        86.4598, 86.4775, 86.4951, 86.5128, 86.5304, 86.5480, 86.5657, 86.5833,\n",
       "        86.6010, 86.6186, 86.6363, 86.6539, 86.6716, 86.6892, 86.7069, 86.7245,\n",
       "        86.7422, 86.7598, 86.7774, 86.7951, 86.8127, 86.8304, 86.8480, 86.8657,\n",
       "        86.8833, 86.9010, 86.9186, 86.9363, 86.9539, 86.9715, 86.9892, 87.0068,\n",
       "        87.0245, 87.0421, 87.0598, 87.0774, 87.0951, 87.1127, 87.1304, 87.1480,\n",
       "        87.1656, 87.1833, 87.2009, 87.2186, 87.2362, 87.2539, 87.2715, 87.2892,\n",
       "        87.3068, 87.3244, 87.3421, 87.3597, 87.3774, 87.3950, 87.4127, 87.4303,\n",
       "        87.4480, 87.4656, 87.4833, 87.5009, 87.5186, 87.5362, 87.5538, 87.5715,\n",
       "        87.5891, 87.6068, 87.6244, 87.6421, 87.6597, 87.6774, 87.6950, 87.7126,\n",
       "        87.7303, 87.7479, 87.7656, 87.7832, 87.8009, 87.8185, 87.8362, 87.8538,\n",
       "        87.8715, 87.8891, 87.9067, 87.9244, 87.9420, 87.9597, 87.9773, 87.9950,\n",
       "        88.0126, 88.0303, 88.0479, 88.0656, 88.0832, 88.1009, 88.1185, 88.1361,\n",
       "        88.1538, 88.1714, 88.1891, 88.2067, 88.2244, 88.2420, 88.2597, 88.2773,\n",
       "        88.2950, 88.3126, 88.3302, 88.3479, 88.3655, 88.3832, 88.4008, 88.4185,\n",
       "        88.4361, 88.4538, 88.4714, 88.4890, 88.5067, 88.5243, 88.5420, 88.5596,\n",
       "        88.5773, 88.5949, 88.6126, 88.6302, 88.6479, 88.6655, 88.6832, 88.7008,\n",
       "        88.7184, 88.7361, 88.7537, 88.7714, 88.7890, 88.8067, 88.8243, 88.8419,\n",
       "        88.8596, 88.8772, 88.8949, 88.9125, 88.9302, 88.9478, 88.9655, 88.9831,\n",
       "        89.0008, 89.0184, 89.0360, 89.0537, 89.0713, 89.0890, 89.1066, 89.1243])"
      ]
     },
     "execution_count": 21,
     "metadata": {},
     "output_type": "execute_result"
    }
   ],
   "source": [
    "# making initial predictions\n",
    "with torch.inference_mode():\n",
    "    y_preds = model_1(X_test)\n",
    "y_preds"
   ]
  },
  {
   "cell_type": "code",
   "execution_count": 249,
   "id": "699359a7-a4f9-40de-b088-16b0710c9894",
   "metadata": {},
   "outputs": [
    {
     "data": {
      "image/png": "[encoded data removed]",
      "text/plain": [
       "<Figure size 1000x700 with 1 Axes>"
      ]
     },
     "metadata": {},
     "output_type": "display_data"
    }
   ],
   "source": [
    "# plotting the graph\n",
    "\n",
    "def plot_predictions(X_train=X_train, y_train=y_train, X_test=X_test, y_test=y_test, predictions=None):\n",
    "    plt.figure(figsize=(10,7))\n",
    "    \n",
    "    plt.scatter(X_train, y_train, c='b', s=4, label=\"Training\")\n",
    "    plt.scatter(X_test, y_test, c='g', s=4, label=\"Testing\")\n",
    "\n",
    "    if predictions is not None:\n",
    "        plt.scatter(X_test, predictions, c='r', s=4, label=\"Predictions\")\n",
    "    \n",
    "    plt.legend(prop={\"size\":14});\n",
    "    \n",
    "plot_predictions()"
   ]
  },
  {
   "cell_type": "code",
   "execution_count": 250,
   "id": "db38545c-956f-4012-ab22-5de26f2b9eaf",
   "metadata": {},
   "outputs": [
    {
     "data": {
      "image/png": "[encoded data removed]",
      "text/plain": [
       "<Figure size 1000x700 with 1 Axes>"
      ]
     },
     "metadata": {},
     "output_type": "display_data"
    }
   ],
   "source": [
    "plot_predictions(predictions=y_preds)"
   ]
  },
  {
   "cell_type": "code",
   "execution_count": 251,
   "id": "8cff3a35-586e-4f33-b046-69176bce6301",
   "metadata": {},
   "outputs": [],
   "source": [
    "from torch import nn"
   ]
  },
  {
   "cell_type": "code",
   "execution_count": 252,
   "id": "cc631086-7280-4d4c-a941-5507dff57573",
   "metadata": {},
   "outputs": [
    {
     "data": {
      "text/plain": [
       "OrderedDict([('weight', tensor([0.8823])), ('bias', tensor([0.9150]))])"
      ]
     },
     "execution_count": 252,
     "metadata": {},
     "output_type": "execute_result"
    }
   ],
   "source": [
    "model_1.state_dict()"
   ]
  },
  {
   "cell_type": "code",
   "execution_count": 274,
   "id": "826d33f5-abce-47e8-a83c-87bc0e0fa7bf",
   "metadata": {},
   "outputs": [
    {
     "data": {
      "text/plain": [
       "OrderedDict([('weight', tensor([0.7011])), ('bias', tensor([0.3151]))])"
      ]
     },
     "execution_count": 274,
     "metadata": {},
     "output_type": "execute_result"
    }
   ],
   "source": [
    "# create/training a model\n",
    "\n",
    "loss_fn = nn.L1Loss()\n",
    "optimizer = torch.optim.SGD(\n",
    "    params=model_1.parameters(),\n",
    "    lr=0.1\n",
    ")\n",
    "\n",
    "epochs = 1000\n",
    "\n",
    "for epoch in range(epochs):\n",
    "    # Training Loop\n",
    "    # set the model for training mode\n",
    "    model_1.train()\n",
    "    ## forward pass\n",
    "    y_pred = model_1(X_train)\n",
    "\n",
    "    loss = loss_fn(y_pred, y_train)\n",
    "    optimizer.zero_grad()\n",
    "    loss.backward()\n",
    "    optimizer.step()\n",
    "\n",
    "    # Tresting Loop\n",
    "    #set the model for testing mode\n",
    "    model_1.eval()\n",
    "    with torch.inference_mode():\n",
    "        ## forward pass\n",
    "        test_preds = model_1(X_test)\n",
    "        ## calculate the loss\n",
    "        test_loss = loss_fn(test_preds, y_test)\n",
    "        \n",
    "\n",
    "model_1.state_dict()    "
   ]
  },
  {
   "cell_type": "code",
   "execution_count": 275,
   "id": "5a288b81-d84e-48fd-8cd6-9ad0ff3906fd",
   "metadata": {},
   "outputs": [
    {
     "data": {
      "image/png": "[encoded data removed]",
      "text/plain": [
       "<Figure size 1000x700 with 1 Axes>"
      ]
     },
     "metadata": {},
     "output_type": "display_data"
    }
   ],
   "source": [
    "plot_predictions(predictions=test_preds)"
   ]
  },
  {
   "cell_type": "code",
   "execution_count": 25,
   "id": "6ffff44f-6d31-414f-943f-1439218c9250",
   "metadata": {},
   "outputs": [],
   "source": [
    "## saving the model\n",
    "from pathlib import Path\n",
    "\n",
    "MODEL_PATH = Path(\"models\")\n",
    "MODEL_PATH.mkdir(parents=True, exist_ok=True)\n",
    "\n",
    "MODEL_NAME = '01_pytorch_workflow_custom.pth'\n",
    "MODEL_SAVE_PATH = MODEL_PATH / MODEL_NAME\n",
    "\n",
    "torch.save(obj=model_1.state_dict(), f=MODEL_SAVE_PATH)"
   ]
  },
  {
   "cell_type": "code",
   "execution_count": 34,
   "id": "ea97ee74-58fa-49e5-82a2-f80727f0b228",
   "metadata": {},
   "outputs": [
    {
     "data": {
      "text/plain": [
       "tensor(True)"
      ]
     },
     "execution_count": 34,
     "metadata": {},
     "output_type": "execute_result"
    }
   ],
   "source": [
    "## loading the model\n",
    "## 1. create the instance of the model\n",
    "## 2. load the state dict to the created instance of the model\n",
    "\n",
    "loaded_model = CustomLinearRegressionModel()\n",
    "state_dict = torch.load(f=MODEL_SAVE_PATH)\n",
    "\n",
    "loaded_model.load_state_dict(state_dict)\n",
    "\n",
    "## predicting using loaded model\n",
    "loaded_model.eval()\n",
    "with torch.inference_mode():\n",
    "    loaded_y_preds = loaded_model(X_test)\n",
    "\n",
    "# checking y_preds and loaded_y_preds\n",
    "y_preds.sum() == loaded_y_preds.sum()"
   ]
  },
  {
   "cell_type": "markdown",
   "id": "5811627c-7345-4d23-a240-617ea808bb40",
   "metadata": {},
   "source": [
    "#### Creating using nn.Linear()"
   ]
  },
  {
   "cell_type": "code",
   "execution_count": 36,
   "id": "abcee510-71e5-421f-820a-806eaf57a81b",
   "metadata": {},
   "outputs": [
    {
     "data": {
      "text/plain": [
       "(CusomLinearRegressionModelV2(\n",
       "   (linear_layer): Linear(in_features=1, out_features=1, bias=True)\n",
       " ),\n",
       " OrderedDict([('linear_layer.weight', tensor([[0.7645]])),\n",
       "              ('linear_layer.bias', tensor([0.8300]))]))"
      ]
     },
     "execution_count": 36,
     "metadata": {},
     "output_type": "execute_result"
    }
   ],
   "source": [
    "class CusomLinearRegressionModelV2(nn.Module):\n",
    "    def __init__(self):\n",
    "        super().__init__()\n",
    "\n",
    "        self.linear_layer = nn.Linear(\n",
    "            in_features=1,\n",
    "            out_features=1\n",
    "        )\n",
    "    def forward(self, x:torch.Tensor) -> torch.Tensor:\n",
    "        return self.linear_layer(x)\n",
    "\n",
    "\n",
    "torch.manual_seed(42)\n",
    "model_2 = CusomLinearRegressionModelV2()\n",
    "model_2, model_2.state_dict()"
   ]
  },
  {
   "cell_type": "code",
   "execution_count": 39,
   "id": "de20eb9c-9c18-4bf9-8b0f-6295ad1f28c1",
   "metadata": {},
   "outputs": [
    {
     "data": {
      "text/plain": [
       "device(type='cpu')"
      ]
     },
     "execution_count": 39,
     "metadata": {},
     "output_type": "execute_result"
    }
   ],
   "source": [
    "next(model_2.parameters()).device"
   ]
  },
  {
   "cell_type": "code",
   "execution_count": null,
   "id": "2c406d51-1478-45ca-bad8-48fd44dbaa19",
   "metadata": {},
   "outputs": [],
   "source": []
  }
 ],
 "metadata": {
  "kernelspec": {
   "display_name": "Python 3 (ipykernel)",
   "language": "python",
   "name": "python3"
  },
  "language_info": {
   "codemirror_mode": {
    "name": "ipython",
    "version": 3
   },
   "file_extension": ".py",
   "mimetype": "text/x-python",
   "name": "python",
   "nbconvert_exporter": "python",
   "pygments_lexer": "ipython3",
   "version": "3.10.14"
  }
 },
 "nbformat": 4,
 "nbformat_minor": 5
}
