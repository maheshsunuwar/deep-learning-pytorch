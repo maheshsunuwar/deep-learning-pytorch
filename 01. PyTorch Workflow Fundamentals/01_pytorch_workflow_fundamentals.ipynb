{
 "cells": [
  {
   "cell_type": "markdown",
   "id": "b9f7f858-d5c6-4a79-ac09-8b8801c68a1d",
   "metadata": {},
   "source": [
    "## Imports"
   ]
  },
  {
   "cell_type": "code",
   "execution_count": 1,
   "id": "6bc53a7d-9dc3-4321-b890-77a22382a2f5",
   "metadata": {},
   "outputs": [],
   "source": [
    "import torch"
   ]
  },
  {
   "cell_type": "markdown",
   "id": "069d48c9-f484-4210-bc95-700c7e6a1e3f",
   "metadata": {},
   "source": [
    "## 01. PyTorch Workflow Fundamentals"
   ]
  },
  {
   "cell_type": "code",
   "execution_count": null,
   "id": "797a26e6-6830-4a3f-aa44-ecf9fa65ea96",
   "metadata": {},
   "outputs": [],
   "source": []
  }
 ],
 "metadata": {
  "kernelspec": {
   "display_name": "Python 3 (ipykernel)",
   "language": "python",
   "name": "python3"
  },
  "language_info": {
   "codemirror_mode": {
    "name": "ipython",
    "version": 3
   },
   "file_extension": ".py",
   "mimetype": "text/x-python",
   "name": "python",
   "nbconvert_exporter": "python",
   "pygments_lexer": "ipython3",
   "version": "3.10.14"
  }
 },
 "nbformat": 4,
 "nbformat_minor": 5
}
