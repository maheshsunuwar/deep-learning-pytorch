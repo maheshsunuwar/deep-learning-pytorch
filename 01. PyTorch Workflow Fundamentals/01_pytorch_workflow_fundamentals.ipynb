{
 "cells": [
  {
   "cell_type": "markdown",
   "id": "b042c6f0-5274-45da-9a72-e0af20c7a4da",
   "metadata": {},
   "source": [
    "## Imports"
   ]
  },
  {
   "cell_type": "code",
   "execution_count": 2,
   "id": "6bc53a7d-9dc3-4321-b890-77a22382a2f5",
   "metadata": {},
   "outputs": [
    {
     "data": {
      "text/plain": [
       "'2.0.1'"
      ]
     },
     "execution_count": 2,
     "metadata": {},
     "output_type": "execute_result"
    }
   ],
   "source": [
    "import torch\n",
    "from torch import nn ## nn contains all of PyTorch's building blocks\n",
    "import matplotlib.pyplot as plt\n",
    "\n",
    "#check PyTorch version\n",
    "torch.__version__"
   ]
  },
  {
   "cell_type": "markdown",
   "id": "069d48c9-f484-4210-bc95-700c7e6a1e3f",
   "metadata": {},
   "source": [
    "## 01. PyTorch Workflow Fundamentals\n",
    "\n",
    "Let's explore an example PyTorch end-toend workflow"
   ]
  },
  {
   "cell_type": "code",
   "execution_count": 3,
   "id": "797a26e6-6830-4a3f-aa44-ecf9fa65ea96",
   "metadata": {},
   "outputs": [
    {
     "data": {
      "text/plain": [
       "{1: 'data (prepare and load)',\n",
       " 2: 'build model',\n",
       " 3: 'fitting the model to data (training)',\n",
       " 4: 'making predictions and evaluating a model (inference)',\n",
       " 5: 'saving and loading a model',\n",
       " 6: 'putting it all together'}"
      ]
     },
     "execution_count": 3,
     "metadata": {},
     "output_type": "execute_result"
    }
   ],
   "source": [
    "what_we_re_covering = {\n",
    "    1: \"data (prepare and load)\",\n",
    "    2: \"build model\",\n",
    "    3: \"fitting the model to data (training)\",\n",
    "    4: \"making predictions and evaluating a model (inference)\",\n",
    "    5: \"saving and loading a model\",\n",
    "    6: \"putting it all together\"\n",
    "}\n",
    "what_we_re_covering"
   ]
  },
  {
   "cell_type": "markdown",
   "id": "b6dc9ab7-d818-473e-ac4e-d60647e2d74d",
   "metadata": {},
   "source": [
    "### 1. Data (Preparing and Loading)"
   ]
  },
  {
   "cell_type": "markdown",
   "id": "b317f936-7cba-4c54-bf08-ed11234c6a87",
   "metadata": {},
   "source": [
    "Machine Learning is a game of **two parts**:\n",
    "1. **Get data** into a **numerical representation**.\n",
    "2. **Build a model** to **learn patterns** from that **numerical representation**.\n",
    "   \n",
    "![](imgs/machine-learning-2-parts.png){ width=50%}"
   ]
  },
  {
   "cell_type": "code",
   "execution_count": 4,
   "id": "d1f676d5-d836-4f2a-bfe6-1dbda2cbf689",
   "metadata": {},
   "outputs": [
    {
     "data": {
      "text/plain": [
       "(tensor([[0.0000],\n",
       "         [0.0200],\n",
       "         [0.0400],\n",
       "         [0.0600],\n",
       "         [0.0800],\n",
       "         [0.1000],\n",
       "         [0.1200],\n",
       "         [0.1400],\n",
       "         [0.1600],\n",
       "         [0.1800]]),\n",
       " tensor([[0.3000],\n",
       "         [0.3140],\n",
       "         [0.3280],\n",
       "         [0.3420],\n",
       "         [0.3560],\n",
       "         [0.3700],\n",
       "         [0.3840],\n",
       "         [0.3980],\n",
       "         [0.4120],\n",
       "         [0.4260]]))"
      ]
     },
     "execution_count": 4,
     "metadata": {},
     "output_type": "execute_result"
    }
   ],
   "source": [
    "# create known parameters\n",
    "weight = 0.7\n",
    "bias = 0.3\n",
    "\n",
    "# create new values\n",
    "start = 0\n",
    "end = 1\n",
    "step = 0.02\n",
    "\n",
    "X = torch.arange(start, end, step).unsqueeze(dim=1)\n",
    "y = weight * X + bias\n",
    "X[:10], y[:10]"
   ]
  },
  {
   "cell_type": "code",
   "execution_count": 5,
   "id": "97ebdb38-efdb-4096-ae10-fa7ee5901d6a",
   "metadata": {},
   "outputs": [
    {
     "data": {
      "text/plain": [
       "(torch.Size([50, 1]), torch.Size([50, 1]))"
      ]
     },
     "execution_count": 5,
     "metadata": {},
     "output_type": "execute_result"
    }
   ],
   "source": [
    "X.shape, y.shape"
   ]
  },
  {
   "cell_type": "markdown",
   "id": "2f0b01cb-fc43-46bd-b4d2-68ba94c1a95e",
   "metadata": {},
   "source": [
    "#### Splitting a data\n",
    "\n",
    "- Training, validation, and test set\n",
    "- we usually do 60-80% split for training data\n",
    "- 10-20% for validation set\n",
    "- 10-20% for test set"
   ]
  },
  {
   "cell_type": "code",
   "execution_count": 6,
   "id": "68800374-b06f-46f0-aa46-e4d067b137c4",
   "metadata": {},
   "outputs": [
    {
     "data": {
      "text/plain": [
       "(40, 10, 40, 10)"
      ]
     },
     "execution_count": 6,
     "metadata": {},
     "output_type": "execute_result"
    }
   ],
   "source": [
    "# create train-test split\n",
    "\n",
    "cutoff = int(len(X) * 0.8)\n",
    "\n",
    "X_train, y_train = X[:cutoff], y[:cutoff]\n",
    "X_test, y_test = X[cutoff:], y[cutoff:]\n",
    "\n",
    "len(X_train), len(X_test), len(y_train), len(y_test)"
   ]
  },
  {
   "cell_type": "markdown",
   "id": "f400712e-ae4a-4840-84d4-7cc5af901368",
   "metadata": {},
   "source": [
    "#### Visualize data"
   ]
  },
  {
   "cell_type": "markdown",
   "id": "83a418ae-04fb-4ca2-918f-ae2b44cd2775",
   "metadata": {},
   "source": [
    "How might we better visualize our data?\n",
    "\n",
    "This is where the data explorer's motto comes in!\n",
    "\n",
    "***\"Visualize, Visualize, Visualize\"***"
   ]
  },
  {
   "cell_type": "code",
   "execution_count": 7,
   "id": "9455832f-1167-4f25-a162-77dbd8f227bb",
   "metadata": {},
   "outputs": [],
   "source": [
    "def plot_predictions(train_data=X_train, train_labels = y_train, test_data = X_test, test_labels = y_test,predictions=None):\n",
    "    \"\"\"\n",
    "    Plots training data, test data and compares predictions\n",
    "    \"\"\"\n",
    "    plt.figure(figsize=(10,7))\n",
    "\n",
    "    # plot training data in blue, c='b', size 5, s=4\n",
    "    plt.scatter(train_data, train_labels, c='b', s=4, label='Training Data')\n",
    "\n",
    "    # plot testing data in green c='g'\n",
    "    plt.scatter(test_data, test_labels, c='g', s=4, label='Testing Data')\n",
    "\n",
    "    # are there predictions?\n",
    "    if predictions is not None:\n",
    "        # plot predictions if exist, c='r'\n",
    "        plt.scatter(test_data, predictions, c='r', s=4, label='Predictions')\n",
    "\n",
    "    # show the lagend\n",
    "    plt.legend(prop={\"size\":14})\n"
   ]
  },
  {
   "cell_type": "code",
   "execution_count": 8,
   "id": "f80e9544-b72a-461d-a3b5-7bcb70154180",
   "metadata": {},
   "outputs": [
    {
     "data": {
      "image/png": "[encoded data removed]",
      "text/plain": [
       "<Figure size 1000x700 with 1 Axes>"
      ]
     },
     "metadata": {},
     "output_type": "display_data"
    }
   ],
   "source": [
    "plot_predictions()"
   ]
  },
  {
   "cell_type": "markdown",
   "id": "f634f80e-c67a-40bc-9eb0-571988b5ce6d",
   "metadata": {},
   "source": [
    "### 2. Build Model\n",
    "\n",
    "Our First PyTorch Model!!"
   ]
  },
  {
   "cell_type": "code",
   "execution_count": 18,
   "id": "63080887-fd81-4466-af66-4772ddfd6a8c",
   "metadata": {},
   "outputs": [],
   "source": [
    "from torch import nn\n",
    "\n",
    "# create linear regression model class\n",
    "class LinearRegressionModel(nn.Module):\n",
    "    def __init__(self):\n",
    "        super().__init__()\n",
    "        self.weights = nn.Parameter(\n",
    "            torch.randn(1, requires_grad=True, dtype=torch.float)\n",
    "        )\n",
    "        self.bias = nn.Parameter(\n",
    "            torch.randn(1, requires_grad=True, dtype=torch.float)\n",
    "        )\n",
    "\n",
    "        \n",
    "    # Forard method to define the computation in the model\n",
    "    def forward(self, x:torch.Tensor) -> torch.Tensor:\n",
    "        return self.weights * x + self.bias"
   ]
  },
  {
   "cell_type": "code",
   "execution_count": 19,
   "id": "5b29179f-2567-4a8b-820d-ceef724e3cdf",
   "metadata": {},
   "outputs": [
    {
     "data": {
      "text/plain": [
       "Parameter containing:\n",
       "tensor([0.0816], requires_grad=True)"
      ]
     },
     "execution_count": 19,
     "metadata": {},
     "output_type": "execute_result"
    }
   ],
   "source": [
    "nn.Parameter(torch.randn(1, requires_grad=True, dtype=torch.float))"
   ]
  },
  {
   "cell_type": "markdown",
   "id": "a0019dc3-ec20-471b-a9b5-1b04eb53a107",
   "metadata": {},
   "source": [
    "`nn.Module` is the superclass, and when we do `LinearRegressionModule(nn.Module`, we create a subclass of nn.Module\n",
    "\n",
    "When we subclass `nn.Module` we have to override `forward()` method - as this defines the forward computation of the model\n",
    "\n",
    "`required_autograd = True` means PyTorch will keep track gradient of that particular parameter to be used with `torch.autograd` and gradient descent torch.nn modules.\n",
    "\n",
    "`required_autograd` is `True` by default"
   ]
  },
  {
   "cell_type": "markdown",
   "id": "aaba2b71-923f-42e4-965e-49ecb5cd30f3",
   "metadata": {},
   "source": [
    "#### PyTorch model Building Essentials\n",
    "**Some of the most important PyTorch model building classes**"
   ]
  },
  {
   "cell_type": "markdown",
   "id": "09025f23-2eeb-436f-a1e3-9e6a394c96d5",
   "metadata": {},
   "source": [
    "* `torch.nn` - contains all the building blocks for a computational graphs (a neural network is considered a computational graph)\n",
    "* `torch.nn.Parameter` - what papameters should our model try and learn. Often a PyTorch layer from `torch.nn` will set these for us.\n",
    "* `torch.nn.Module` - the base class for all neural network modules. If you subclass it, you should override `forward()` method\n",
    "* `torch.optim` - this is where optimizers in PyTorch live. It helps with gradient descent\n",
    "* `def forward()` - All the `nn.Module` subclasses require us to override forward(). This method defines what happens in the forward computation.\n",
    "\n",
    "if we pass the data to our `LinearRegressionModel`, `forward()` will take that data and perform the computation defined inside `forward()`\n",
    "\n",
    "**Help us load data**\n",
    "* `torch.utils.data.Dataset`\n",
    "* `torch.utils.data.DataLoader`\n",
    "\n",
    "PyTorch is a big library.\n",
    "Follow this [PyTorch CheatSeat](https://pytorch.org/tutorials/beginner/ptcheat.html) for more."
   ]
  },
  {
   "cell_type": "markdown",
   "id": "87e0569e-bad5-404f-bdb1-bd04e14ac39c",
   "metadata": {},
   "source": [
    "#### Checking out Internals of our PyTorch Model"
   ]
  },
  {
   "cell_type": "markdown",
   "id": "6bee685f-91ef-4281-ab84-6bd780c9864c",
   "metadata": {},
   "source": [
    "Now we've created a model, let's see what's inside our model\n",
    "\n",
    "So we can chek our model paraters or what's inside our model using `.parameters()`"
   ]
  },
  {
   "cell_type": "code",
   "execution_count": 22,
   "id": "ebe3d3f7-f45f-4c82-8e95-b77c4ba1deb8",
   "metadata": {},
   "outputs": [
    {
     "data": {
      "text/plain": [
       "[Parameter containing:\n",
       " tensor([0.3367], requires_grad=True),\n",
       " Parameter containing:\n",
       " tensor([0.1288], requires_grad=True)]"
      ]
     },
     "execution_count": 22,
     "metadata": {},
     "output_type": "execute_result"
    }
   ],
   "source": [
    "# create a random seed\n",
    "torch.manual_seed(42)\n",
    "\n",
    "# create an instance of the model\n",
    "model_0 = LinearRegressionModel()\n",
    "\n",
    "# check our the parameters\n",
    "list(model_0.parameters())"
   ]
  },
  {
   "cell_type": "code",
   "execution_count": 23,
   "id": "2a9fdf5c-f8b3-4c46-8b37-b96cdf2087e0",
   "metadata": {},
   "outputs": [
    {
     "data": {
      "text/plain": [
       "OrderedDict([('weights', tensor([0.3367])), ('bias', tensor([0.1288]))])"
      ]
     },
     "execution_count": 23,
     "metadata": {},
     "output_type": "execute_result"
    }
   ],
   "source": [
    "# List named parameters\n",
    "model_0.state_dict()"
   ]
  },
  {
   "cell_type": "markdown",
   "id": "a000ba78-98f3-4f18-810f-86989008506a",
   "metadata": {},
   "source": [
    "#### Making Predictions using `torch.inference_mode()`"
   ]
  },
  {
   "cell_type": "markdown",
   "id": "c101593c-f15f-4e04-a215-f4e7f9f009f4",
   "metadata": {},
   "source": [
    "To check our model's predictive power, let's see how well it predicts `y_test` based on `X_test`\n",
    "\n",
    "When we pass data through our model, it's going to run it through the `forward()` method"
   ]
  },
  {
   "cell_type": "code",
   "execution_count": 26,
   "id": "0adbde68-226c-4370-a4c8-3e249f4f9b75",
   "metadata": {},
   "outputs": [
    {
     "data": {
      "text/plain": [
       "tensor([[0.3982],\n",
       "        [0.4049],\n",
       "        [0.4116],\n",
       "        [0.4184],\n",
       "        [0.4251],\n",
       "        [0.4318],\n",
       "        [0.4386],\n",
       "        [0.4453],\n",
       "        [0.4520],\n",
       "        [0.4588]])"
      ]
     },
     "execution_count": 26,
     "metadata": {},
     "output_type": "execute_result"
    }
   ],
   "source": [
    "# Make predictions with model\n",
    "with torch.inference_mode():\n",
    "    y_preds = model_0(X_test)\n",
    "    \n",
    "y_preds"
   ]
  },
  {
   "cell_type": "code",
   "execution_count": 27,
   "id": "0237f54b-e9b4-4438-aea9-e0eff71221d2",
   "metadata": {},
   "outputs": [
    {
     "data": {
      "image/png": "[encoded data removed]",
      "text/plain": [
       "<Figure size 1000x700 with 1 Axes>"
      ]
     },
     "metadata": {},
     "output_type": "display_data"
    }
   ],
   "source": [
    "plot_predictions(predictions=y_preds)"
   ]
  },
  {
   "cell_type": "markdown",
   "id": "bde16edf-8cdc-4a69-adb1-b05f218ad8cc",
   "metadata": {},
   "source": [
    "Our `goal` is to move that `red dot` closer to the `green dots`"
   ]
  },
  {
   "cell_type": "markdown",
   "id": "5654bf2a-261f-40d7-a09f-ac7b40d6f6d1",
   "metadata": {},
   "source": [
    "### 3. Train Model"
   ]
  },
  {
   "cell_type": "markdown",
   "id": "608f2ac7-193b-4853-831e-380aa5ab5d9c",
   "metadata": {},
   "source": [
    "The whole idea of training is for a model to move from some unknown parameters to some known parameters.\n",
    "\n",
    "or in other words, `from` a `poor representation` of the data `to` a `better representation` of the data\n",
    "\n",
    "One way to measure how poor or how wrong our models are is by calculating `loss function`\n",
    "\n",
    "* Note: Loss function is also called `cost function` or `criterion` in different areas. For our case, we're going to refer to it as `loss function`\n",
    "\n",
    "***Things we need for Training***:\n",
    "* **Loss Function:** A function to measure how deviated our models prediction are from the ideal outputs. lower the deviation, better it it.\n",
    "* **Optimizer:** Takes into account the loss of a model and adjusts the model's parameters(e.g. weights and biases)\n",
    "\n",
    "**and specifically for `PyTorch`, we need**\n",
    "* **A training loop**\n",
    "* **A testing loop**\n",
    "  "
   ]
  },
  {
   "cell_type": "code",
   "execution_count": 29,
   "id": "5743fa35-e30b-45e9-88ec-7a5571a16905",
   "metadata": {},
   "outputs": [
    {
     "data": {
      "text/plain": [
       "[Parameter containing:\n",
       " tensor([0.3367], requires_grad=True),\n",
       " Parameter containing:\n",
       " tensor([0.1288], requires_grad=True)]"
      ]
     },
     "execution_count": 29,
     "metadata": {},
     "output_type": "execute_result"
    }
   ],
   "source": [
    "list(model_0.parameters())"
   ]
  },
  {
   "cell_type": "code",
   "execution_count": 30,
   "id": "1e9d5280-2971-42f9-bfc6-1ee76abe60e9",
   "metadata": {},
   "outputs": [
    {
     "data": {
      "text/plain": [
       "OrderedDict([('weights', tensor([0.3367])), ('bias', tensor([0.1288]))])"
      ]
     },
     "execution_count": 30,
     "metadata": {},
     "output_type": "execute_result"
    }
   ],
   "source": [
    "model_0.state_dict()"
   ]
  },
  {
   "cell_type": "markdown",
   "id": "c7643f5a-4bb3-4ad1-8cec-947b3e60e656",
   "metadata": {},
   "source": [
    "#### Setting up a loss function and an optimizer"
   ]
  },
  {
   "cell_type": "code",
   "execution_count": null,
   "id": "a8fd0f1c-2bb3-48c0-bbc5-b6f1f70a85f2",
   "metadata": {},
   "outputs": [],
   "source": []
  }
 ],
 "metadata": {
  "kernelspec": {
   "display_name": "Python 3 (ipykernel)",
   "language": "python",
   "name": "python3"
  },
  "language_info": {
   "codemirror_mode": {
    "name": "ipython",
    "version": 3
   },
   "file_extension": ".py",
   "mimetype": "text/x-python",
   "name": "python",
   "nbconvert_exporter": "python",
   "pygments_lexer": "ipython3",
   "version": "3.10.14"
  }
 },
 "nbformat": 4,
 "nbformat_minor": 5
}
