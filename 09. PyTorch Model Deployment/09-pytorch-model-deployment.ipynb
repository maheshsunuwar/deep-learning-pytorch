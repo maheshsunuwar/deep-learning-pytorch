{
 "cells": [
  {
   "cell_type": "markdown",
   "id": "2958910d-be87-4adc-80b8-6c5bc7ecb2d0",
   "metadata": {},
   "source": [
    "# 09. PyTorch Model Deployment\n",
    "\n",
    "Lets bring FoodVision to life and make it publicly accessible.\n",
    "\n",
    "**We are going to deploy our FoodVision model to the internet as a usable app!**\n"
   ]
  },
  {
   "cell_type": "markdown",
   "id": "57d5caad-ce3f-40bf-b4a0-d15ae0997135",
   "metadata": {},
   "source": [
    "## What is machine learning model deployment?\n",
    "\n",
    "***Machine learning model deployment** is the process of making your machine learning model accessible for others.*\n",
    "\n",
    "For example, someone taking a photo on their smartphone of food and then having our FoodVision model classify it into pizza, steak, or sushi.\n",
    "\n",
    "Some other examples can be, *an operating system may lower its resource consumption based on a machine learning model making predictions on how much power someone generally uses at specific times of day.*\n",
    "\n",
    "Also these models can learn from each other as well. For example, a Tesla car's computer vision system will interact with the car's route planning program and then the route planning program will get inputs and feedback from the driver.\n"
   ]
  },
  {
   "cell_type": "markdown",
   "id": "069eaf5e-2a9f-4efa-a405-1f652a799a74",
   "metadata": {},
   "source": [
    "## Why deploy a machine learning model?\n",
    "\n",
    "One of the most important philosophical question in machine learning is:\n",
    "***if a machine learning model never leaves a notebook, does it exist?***\n",
    "\n",
    "---\n",
    "Deploying a model is as important as training one.\n",
    "\n",
    "Because although you can get a pretty good idea of how your model is going to function by evaluating it on a well crafted test set or visualizing its results, you never really know how it will perform ultil you release it to the wild.\n",
    "\n",
    "***Having people who've never used your model interact with it will often reveal edge cases you never thought of during training.***\n",
    "\n",
    "For example, what happens if someone was to upload a photo that wasn't of food to our FoodVision model?\n",
    "\n",
    "One solution would be to create another model that firstclassifies images as \"food\" or \"not food\" and passing the target image through that model first.\n",
    "\n",
    "THen if the images is of \"food\" it goes to our FoodVision model and gets classifies into pizza, steak, or sushi.\n",
    "\n",
    "And if it's \"not food\", a message is displayed.\n",
    "\n",
    "But what is these predictions were wrong?\n",
    "\n",
    "What happens then?\n",
    "\n",
    "You can see how these questions could keep going.\n",
    "\n",
    "Thus this highlights the importance of model deployment: it helps you figure our errors in your model that aren't obvious during training/testing.\n",
    "\n",
    "---\n",
    "\n",
    "***But once you've got a good model, deployment is a good next step. Monitoring involves seeing how your model goes on the most important data split: data from the real world.***"
   ]
  },
  {
   "cell_type": "markdown",
   "id": "53a600cb-b1de-4d92-8e6e-b76d399c43b9",
   "metadata": {},
   "source": [
    "## Different types of machine learning model deployment\n",
    "\n",
    "Whole books could be written on the different types of machine learning model deployment(and many good one are listed [PyTorch Extra Resources](https://www.learnpytorch.io/pytorch_extra_resources/#resources-for-machine-learning-and-deep-learning-engineering))\n",
    "\n",
    "---\n",
    "Let's start with a simple question:\n",
    "> What is the most ideal scenario for our machine leanring model to be used?\n",
    "\n",
    "ANd then work backward from there.\n",
    "\n",
    "In case of FoodVision, our ideal scenerio might be:\n",
    "- someone taking a photo on a mobile device(through an app or web browser)\n",
    "- The prediction comes back fast.\n",
    "\n",
    "Easy.\n",
    "\n",
    "So we have two main criteria:\n",
    "1. The model should work on a mobile device\n",
    "2. THe model should make predictions *fast*(because a slow app is a boring app).\n",
    "\n",
    "And of course, depending on our use case, our requirements may vary.\n",
    "\n",
    "We may notive the above two points break down into another two questions:\n",
    "1. **Where's it going to go?** - As in, where is it going to be stored?\n",
    "2. **How's it going to function?** - As in, does it return predictions immediatedly? or do they come later?\n",
    "\n",
    "![](09-deployment-questions-to-ask.png)\n",
    "\n",
    "*When starting to deploy machine learning models, it's helpful to start by asking what's the most ideal use case and then work backwards from there, asking where the model is going to go and then how it's going to function.*"
   ]
  },
  {
   "cell_type": "markdown",
   "id": "adb68a47-1137-4fd0-8258-7db7884f96a6",
   "metadata": {},
   "source": [
    "## Where's it going to go?\n",
    "\n",
    "When you deploy your machine learning model, where does it live?\n",
    "\n",
    "THe main debate here is usually on-device (also called edge/in the browser) or on the cloud (a computer/server that isn't the actual device someone/something calls the model from).\n",
    "\n",
    "Both have their pros and cons.\n",
    "\n",
    "| Deployment location| Pros| Cons|\n",
    "|:--|:--|:--|\n",
    "| **On-device(edge/in the browser** | Can be very fast (since no data leaves the device)|Limited compute power (larger models take longer to run)|\n",
    "| - | Privacy preserving (again no data has to leave the device)| Limited storage space (smaller model size required)|\n",
    "|-|No internet connection required (sometimes)|Device-specific skills often required|\n",
    "| **On cloud** | Near unlimited compute power (can scale up when needed)|Costs can get out of hand (if proper scaling limits aren't enforced)|\n",
    "|-|Can deploy one model and use everywhere (via API)|Predictions can be slower due to data having to leave device and predictions having to come back (network latency)|\n",
    "|-|Links into existing cloud ecosystem|Data has to leave device (this may cause privacy concerns)|\n",
    "\n",
    "There are more details to these but I've left resources in the extra-curriculum to learn more.\n",
    "\n",
    "Let's give an example.\n",
    "\n",
    "If we're deploying FoodVision as an app, we want it to perform well and fast.\n",
    "\n",
    "<div class='alert alert-success'>\n",
    "\n",
    "So which model would we prefer?\n",
    "1. A model on-device that performs at 95% accuracy with an inference time (latency) of one second per prediction.\n",
    "2. A model on the cloud that performs at 98% accuracy with an inference time of 10 seconds per prediction (bigger, better model but takes longer to compute).\n",
    "\n",
    "</div>\n",
    "\n",
    "We've made these numbers up but they showcase a potential difference between on-device and on the cloud.\n",
    "\n",
    "***Option 1** could potentially be a smaller less performant model that runs fast because its able to fit on a mobile device.*\n",
    "\n",
    "***Option 2** could potentially a larger more performant model that requires more compute and storage but it takes a bit longer to run because we have to send data off the device and get it back (so even though the actual predictoin might be fast, the network time and data transfer has to be factored in)\n",
    "\n",
    "**For FoodVision, we'd likely prefer 1, because the small hit in performance is outweighted by the faster inference speed.\n",
    "![](09-model-deployment-on-device-vs-cloud.png)\n",
    "\n",
    "*In the case of a Tesla car's computer vision system, which would be better? A smaller model that performs well on device (model is on the car) or a larger model that performs better that's on the cloud? In this case, you'd much prefer the model being on the car. The extra network time it would take for data to go from the car to the cloud and then back to the car just wouldn't be worth it (or potentially even impossible with poor signal areas).*\n",
    "\n",
    "***Note**: For a full example of seeing what it's like to deploy a PyTorch model to an edge device, see the PyTorch tutorial on achieving real-time inference (30fps+) with a computer vision model on a Raspberry Pi.*"
   ]
  },
  {
   "cell_type": "markdown",
   "id": "c83e3000-43f2-4486-adc3-536338005860",
   "metadata": {},
   "source": [
    "## How's it going to function?\n",
    "\n",
    "Back to the ideal use case, when you deploy your machine learning, **How should it work?**\n",
    "\n",
    "1. *As in, would you like predictions returned immediately??*\n",
    "\n",
    "2. *or is it okay for them to happen later?*\n",
    "\n",
    "These two scenarios are generally referred to as:\n",
    "- Online (real-time) - *Predictions/inference happen **immediately***. For eample, someone uploads an image, the image gets transformed and predictions are returned or someone makes a purchase and the transaction is verified to be non-fraudulent by a model so the purchase can go through.\n",
    "- Offline (batch) - *Predictions/inference happen **periodically***. For example, a photos application sorts your images into different categories (such as beach, mealtime, family, friends) whilst your mobile device is plugged into charge.\n",
    "\n",
    "***Note:** `Batch` refers to inference being performed on multiple samples at a time. However, to add a little confusion, batch processing can happen immediately/online (multiple images being classified at once) and/or offline (multiple images being predicted/trained on at once).*\n",
    "\n",
    "The main difference between each being: prediction being made immediately or periodically.\n",
    "\n",
    "Periodically can have a varying timescale too, from every few seconds to every few hours or days.\n",
    "\n",
    "And you can mix and match the two.\n",
    "\n",
    "In the case of FoodVision, we'd want our inference pipeline to happen online (real-time), so when someone uploads an image of pizza, steak, or sushi, the prediction results are returned immediately (any slower than real-time would make a boring experience).\n",
    "\n",
    "But for our training pipeline, it's okay for it to happen in a batch (offline) fashion, which is what we've beein doing throughout the previous chapters."
   ]
  },
  {
   "cell_type": "markdown",
   "id": "a6ee69bf-01d4-447a-9cf6-6242e73f0136",
   "metadata": {},
   "source": [
    "## Ways to deploy a machine learning model\n",
    "\n",
    "We've discussed a couple of options for deploying machine learning models (on-device and cloud)\n",
    "\n",
    "And each of these will have their specific requirements.\n",
    "\n",
    "| Tool/Resource | Deployment Type|\n",
    "|:-|:-|\n",
    "| [Google's ML Kit](https://developers.google.com/ml-kit)| On-device (Android and iOS)|\n",
    "| [Apple's Core ML](https://developer.apple.com/documentation/coreml) and [`coremltools` Python package](https://apple.github.io/coremltools/docs-guides/) | On-device (all Apple devices)|\n",
    "| [Amazon Web Service's (AWS) Sagemaker](https://aws.amazon.com/sagemaker/)| Cloud|\n",
    "| [Google Cloud's Vertex AI](https://cloud.google.com/vertex-ai) | Cloud |\n",
    "| [Microsoft's Azure Machine Learning](https://azure.microsoft.com/en-au/services/machine-learning/) | Cloud|\n",
    "| [HuggingFace Spaces](https://huggingface.co/spaces) | Cloud |\n",
    "| API with [FastAPI](https://fastapi.tiangolo.com/) | Cloud/self-hosted server |\n",
    "|API with [TorchServe](https://pytorch.org/serve/) | Cloud/self-hosted server |\n",
    "| [ONNX (open Neural Network Exchange)](https://pytorch.org/serve/) | Many/general|\n",
    "| Many more..|-|\n",
    "\n",
    "***Note**: An application programming interface (API) is a way for two (or more) computer programs to interact with each other. For example, if your model was deployed as API, you would be able to write a program that could send data to it and then receive predictions back.*\n",
    "\n",
    "Which option you choose will be highly dependent on what you're building/who you're working with.\n",
    "\n",
    "But with so many options, it can be very intimidating.\n",
    "\n",
    "So best to start small and keep it simple.\n",
    "\n",
    "And one of the best ways to do so is by turning your machine learning model into a demp app with [***Gradio***](https://gradio.app/) and then deploying it on Hugging Face spaces.\n",
    "\n",
    "We'll be doing just that with FoodVision later on.\n",
    "![](09-tools-and-places-to-deploy-ml-models.png)\n",
    "\n",
    "*A handful of places and tools to host and deploy machine learning models. There are plenty we've missed, feel free to find them later.*"
   ]
  },
  {
   "cell_type": "markdown",
   "id": "5d55f3c6-15b3-44c9-8739-5fe0ff5f253e",
   "metadata": {},
   "source": [
    "## What we're going to cover\n",
    "\n",
    "Let's become a machine learning engineer and actually deploy a machine learning model.\n",
    "\n",
    "Our goal is to deploy our FoodVision Model via a demo Gradio app with the following metrics:\n",
    "1. **Performance**: 95% accuracy.\n",
    "2. **Speed**: real-time inference of 30FPS+(each prediction has a latency of lower than ~0.03s)\n",
    "\n",
    "We'll start by running an experiment to compare our best two models so far: EffNetB2 and ViT feature extractors.\n",
    "\n",
    "Then we'll deploy the one which performs closest to our goal metrics.\n",
    "\n",
    "***Finally, we'll finish with a (BIG) surprise bonus.***\n",
    "\n",
    "| Topic |\n",
    "|:-|\n",
    "|**0. Setting up** |\n",
    "|**1. Get data** |\n",
    "|**2. FoodVision Mini model deployment experiment outline**|\n",
    "|**3. Creating an EffNetB2 feature extractor**|\n",
    "|**4. Creating a ViT feature Extractor**|\n",
    "|**5. Making predictions with our trained models and timing them**|\n",
    "|**6. Comparing model results, prediction times and size**|\n",
    "|**7. Bringing FoodVision to life by creating a Gradio demo**|\n",
    "|**8. Turning our FoodVision Gradio demo into a deployable app**|\n",
    "|**9. Deploying our gradio demo to HuggingFace Spaces**|\n",
    "|**10. Creating a BiG surprise**|\n",
    "|**11. Deploying our BiG suprise****|"
   ]
  },
  {
   "cell_type": "markdown",
   "id": "b3fc76aa-bf69-4c1c-a046-45fe1d18a54d",
   "metadata": {},
   "source": [
    "## 0. Setting up\n",
    "\n",
    "As we've dome previously, let's make sure we've got all of the modules we'll need for this section.\n",
    "\n",
    "We'll import the Python scripts (such as `data_setup.py` and `engine.py`) we created in 05. PyTorch Going Modular.\n",
    "\n",
    "To do so, we'll download `going_modular` directory from the `pytorch-deep-learning` repository (if we dont already have it).\n",
    "\n",
    "We'll also get the `torchinfo` package if it's not available.\n",
    "\n",
    "`torchinfo` will help later on to give us visual representation of our model.\n",
    "\n",
    "ANd since later on we'll be using `torchvision`, we'll make sure we've got the latest versions."
   ]
  },
  {
   "cell_type": "code",
   "execution_count": 120,
   "id": "b7110c91-9e03-41cf-8360-fa62310b8387",
   "metadata": {},
   "outputs": [
    {
     "name": "stdout",
     "output_type": "stream",
     "text": [
      "torch version: 2.2.2\n",
      "torchvision version: 0.17.2\n"
     ]
    }
   ],
   "source": [
    "import torch\n",
    "import torchvision\n",
    "\n",
    "print(f\"torch version: {torch.__version__}\")\n",
    "print(f\"torchvision version: {torchvision.__version__}\")"
   ]
  },
  {
   "cell_type": "markdown",
   "id": "387e5df6-9809-4d7e-908b-f7d47845a531",
   "metadata": {},
   "source": [
    "Now we'll continue with the regular imports, setting up device agnostic code, and this time we'll also get the `helper_functions.py` script from GitHub.\n",
    "\n",
    "The `helper_functions.py` scrip contains several functions we created in previous sections:\n",
    "- `set_seeds()` - sets the random seeds\n",
    "- `download_data()` - to download a data source given a link\n",
    "- `plot_loss_curves()` - to inspect our model's training results."
   ]
  },
  {
   "cell_type": "code",
   "execution_count": 2,
   "id": "572bc5ae-5973-4ec4-bc2f-179dd5264de5",
   "metadata": {},
   "outputs": [],
   "source": [
    "# Continue with regular imports\n",
    "import matplotlib.pyplot as plt\n",
    "import torch\n",
    "import torchvision\n",
    "\n",
    "from torch import nn\n",
    "from torchvision import transforms\n",
    "from torchinfo import summary\n",
    "\n",
    "# Try to import the going_modular directory, download it from GitHub if it doesn't work\n",
    "try:\n",
    "    from going_modular.going_modular import data_setup, engine\n",
    "    from helper_functions import download_data, set_seeds, plot_loss_curves\n",
    "except:\n",
    "    # Get the going_modular scripts\n",
    "    print(\"[INFO] Couldn't find going_modular or helper_functions scripts... downloading them from GitHub.\")\n",
    "    !git clone https://github.com/mrdbourke/pytorch-deep-learning\n",
    "    !mv pytorch-deep-learning/going_modular .\n",
    "    !mv pytorch-deep-learning/helper_functions.py . # get the helper_functions.py script\n",
    "    !rm -rf pytorch-deep-learning\n",
    "    from going_modular.going_modular import data_setup, engine\n",
    "    from helper_functions import download_data, set_seeds, plot_loss_curves"
   ]
  },
  {
   "cell_type": "code",
   "execution_count": 3,
   "id": "a266e365-f871-4da3-81e3-f7ed2c315af9",
   "metadata": {},
   "outputs": [
    {
     "data": {
      "text/plain": [
       "'cpu'"
      ]
     },
     "execution_count": 3,
     "metadata": {},
     "output_type": "execute_result"
    }
   ],
   "source": [
    "# device agnostic code\n",
    "device = 'cuda' if torch.cuda.is_available() else 'cpu'\n",
    "device"
   ]
  },
  {
   "cell_type": "markdown",
   "id": "b7a645b1-ac0f-4a09-acab-cc5954b36188",
   "metadata": {},
   "source": [
    "## 1. Getting data"
   ]
  },
  {
   "cell_type": "markdown",
   "id": "625a6982-1bb5-4fab-ba2c-37b377089a2e",
   "metadata": {},
   "source": [
    "We left off in `08. PyTorch Paper Replicating` comparing our own `Vision Transformer (ViT)` feature extractor model to the `EfficientNetB2 (EffNetB2)` feature extractor model we created in `07. PyTorch Experiment Tracking.`\n",
    "\n",
    "And we found that there was a slight difference in the comparison.\n",
    "\n",
    "The EffNetB2 model was trained on 20% of the pizza, steak, and sushi data from Food101 where as the ViT model was trained on 10%.\n",
    "\n",
    "Since our goal is to deploy the best model for our FoodVision problem, let's  start by downloading the [20% pizza, steak, and sushi dataset](https://github.com/mrdbourke/pytorch-deep-learning/blob/main/data/pizza_steak_sushi_20_percent.zip) and train an EffNetB2 feature extractor and ViT feature extractor on it and then compare the two models.\n",
    "\n",
    "This way we'll be comparing apples to apples (one model trained on a dataset to another model tarined on the same dataset).\n",
    "\n",
    "***Note:** The dataset we're downloading is a sample of the entire [`Food101 dataset`](https://pytorch.org/vision/main/generated/torchvision.datasets.Food101.html#food101) (101 food classes with 1,000 images each). More specifically, 20% refers to 20% of images from the pizza, steak and sushi classes selected at random. You can see how this dataset was created in `extras/04_custom_data_creation.ipynb` and more details in `04. PyTorch Custom Datasets section 1`.*\n",
    "\n",
    "We can download the data using the `download_data()` function we created in `07. PyTorch Experiment Tracking section 1` from `helper_functions.py`."
   ]
  },
  {
   "cell_type": "code",
   "execution_count": 4,
   "id": "43fade1b-da2f-4252-8e44-5137f19ae812",
   "metadata": {},
   "outputs": [
    {
     "name": "stdout",
     "output_type": "stream",
     "text": [
      "[INFO] data/pizza_steak_sushi_20_percent directory exists, skipping download.\n"
     ]
    },
    {
     "data": {
      "text/plain": [
       "PosixPath('data/pizza_steak_sushi_20_percent')"
      ]
     },
     "execution_count": 4,
     "metadata": {},
     "output_type": "execute_result"
    }
   ],
   "source": [
    "# Download pizza, steak, sushi images from GitHub\n",
    "data_20_percent_path = download_data(source=\"https://github.com/mrdbourke/pytorch-deep-learning/raw/main/data/pizza_steak_sushi_20_percent.zip\",\n",
    "                                     destination=\"pizza_steak_sushi_20_percent\")\n",
    "\n",
    "data_20_percent_path"
   ]
  },
  {
   "cell_type": "markdown",
   "id": "914a058e-a0c3-42ea-9ca1-b92a999705c1",
   "metadata": {},
   "source": [
    "Now,\n",
    "\n",
    "Let's create training and test paths."
   ]
  },
  {
   "cell_type": "code",
   "execution_count": 5,
   "id": "36ace303-bb28-4514-a8c8-26259ebaf8dc",
   "metadata": {},
   "outputs": [
    {
     "data": {
      "text/plain": [
       "(PosixPath('data/pizza_steak_sushi_20_percent/train'),\n",
       " PosixPath('data/pizza_steak_sushi_20_percent/test'))"
      ]
     },
     "execution_count": 5,
     "metadata": {},
     "output_type": "execute_result"
    }
   ],
   "source": [
    "# Setup directory paths to train and test images\n",
    "train_dir = data_20_percent_path / \"train\"\n",
    "test_dir = data_20_percent_path / \"test\"\n",
    "train_dir, test_dir"
   ]
  },
  {
   "cell_type": "markdown",
   "id": "dfb7d007-bcb6-407f-89cb-e5b7119bd983",
   "metadata": {},
   "source": [
    "## 2. FoodVision model deployment experiment outline\n",
    "\n",
    "The ideal deployed model FoodVision performs well and fast.\n",
    "\n",
    "We'd like our model to perform as close to real-time as possible.\n",
    "\n",
    "Real-time in this case being ~30FPS (frames per second) because that's [about how fast the human eye can see ](https://www.healthline.com/health/human-eye-fps) (there is debate on this but let's just use ~30FPS as our benchmark).\n",
    "\n",
    "And for classifying three different classes (pizza, steak, and sushi), we'd like a model that performns at 95%+ accuracy.\n",
    "\n",
    "Of course, higher accuracy would be nice but this might sacrifice speed.\n",
    "\n",
    "So our goals are:\n",
    "1. **Performance** - A model that performs at 95%+ accuracy.\n",
    "2. **Speed** - A model that can classify an image at ~30FPS(0.03 seconds inference time per image, also known as *latency*)\n",
    "\n",
    "![](09-model-deployments-speed-vs-inference.png)\n",
    "\n",
    "*FoodVIsion deployment goals. We'd like a fast predicting well-performing model (because a slow app is boring).\n",
    "\n",
    "We'll put an emphasis on speed, meaning, we'd prefer a model performing at 90%+ accuracy at ~30FPS than a model performing 95% accuracy at 10FPS.\n",
    "\n",
    "To try and achieve these results, let's bring in our best performing models from the previous sections:\n",
    "1. **EffNetB2 feature extractor**(EffNetB2 for short) - originally created in `07. PyTorch Experiment Tracking section 7.5` using `torchvision.models.efficientnet_b2()` with adjusted classifier layers.\n",
    "2. **ViT-B/16 feature extractor**(ViT for short) - originally created in `08. PyTorch Paper Replicating section 10` using `torchvision.models.vit_b_16()` with adjusted head layers.\n",
    "    - **Note**: ViT-B/16 stands for <- Vision Transformer Base, path size 16.\n",
    "  \n",
    "![](09-model-deployment-two-experiments.png)\n",
    "\n",
    "***Note:** a `feature extractor model` often starts with a model that has been pretrained on a dataset similar to your own problem. The pretrained model's base layers are often left frozen (the pretrianed pattherns/weights stay the same) whilst some of the top (or classifier/classification head) layers get customized to your own problem by training on your own data. We covered the concept of a feature extractor model in `06. PyTorch Transfer Learning section 3.4.`*"
   ]
  },
  {
   "cell_type": "markdown",
   "id": "acf1fe7f-7581-4a2e-898b-d515d9cc7172",
   "metadata": {},
   "source": [
    "## 3. Creating an EffNetB2 feature extractor\n",
    "\n",
    "We first created an EffNetB2 feature extractor model in ` 07. PyTorch Experiment Tracking section 7.5.`\n",
    "\n",
    "And by the end of that section we saw it performed very well.\n",
    "\n",
    "So let's now recreate it here so we can compare its results to a ViT feature extractor trained on the same data.\n",
    "\n",
    "To do so we can:\n",
    "1. Setup the pretrained weights as `weights=torchvision.models.EfficientNet_B2_Weights.DEFAULT` where `DEFAULT` means `best currently available` (or could use weights=`DEFAULT`)\n",
    "2. Get the pretrained model image transformed from the weights with the `transforms()` method (we need these so we can convert our images into the same format as the pretrained EffNetB2 was trained on).\n",
    "3. Create a pretrained model instance by passing the weights to an instance of `torchvision.models.efficientnet_b2`\n",
    "4. Freeze the base layers in the model.\n",
    "5. Update the classifier head to suit our own data."
   ]
  },
  {
   "cell_type": "code",
   "execution_count": 6,
   "id": "5a5708a3-10dd-40bf-8683-e8e1ccf1f8e8",
   "metadata": {},
   "outputs": [
    {
     "name": "stdout",
     "output_type": "stream",
     "text": [
      "Classifier head before: Sequential(\n",
      "  (0): Dropout(p=0.3, inplace=True)\n",
      "  (1): Linear(in_features=1408, out_features=1000, bias=True)\n",
      ")\n",
      "Classifier head after: Sequential(\n",
      "  (0): Dropout(p=0.3, inplace=True)\n",
      "  (1): Linear(in_features=1408, out_features=3, bias=True)\n",
      ")\n"
     ]
    }
   ],
   "source": [
    "# 1. Setup pretrained weights\n",
    "effnetb2_weights = torchvision.models.EfficientNet_B2_Weights.DEFAULT\n",
    "\n",
    "# 2. Get EffNetB2 transforms\n",
    "effnetb2_transforms = effnetb2_weights.transforms()\n",
    "\n",
    "# 3. Setup pretrained model\n",
    "effnetb2 = torchvision.models.efficientnet_b2(weights=effnetb2_weights)\n",
    "\n",
    "# 4. Freeze the base layers in the model\n",
    "for param in effnetb2.features.parameters():\n",
    "    param.requires_grad = False\n",
    "\n",
    "# 5. Update the classifer head to suit our own data\n",
    "print(f'Classifier head before: {effnetb2.classifier}') \n",
    "\n",
    "# changing the out_features = 3 (pizza, steak, and sushi)\n",
    "effnetb2.classifier = torch.nn.Sequential(\n",
    "    torch.nn.Dropout(p=0.3, inplace=True),\n",
    "    torch.nn.Linear(in_features=1408, out_features=3, bias=True)\n",
    ")\n",
    "\n",
    "print(f'Classifier head after: {effnetb2.classifier}') "
   ]
  },
  {
   "cell_type": "markdown",
   "id": "b252d73f-ed68-4e47-9dfe-c845e8f1e2f6",
   "metadata": {},
   "source": [
    "Great!!\n",
    "\n",
    "***Note**: This process of changing the output layers/classifier head will be dependent on the problem you're working on. For example, if you wanted a different number of outputs or a different kind of output, you would have to change the output layers accordingly.*\n"
   ]
  },
  {
   "cell_type": "markdown",
   "id": "b06bc992-89b2-4394-9a42-248c1648d535",
   "metadata": {},
   "source": [
    "### 3.1 Creating a function to make an EffNetB2 feature extractor\n",
    "\n",
    "Looks like our EffNetB2 feature extractor is ready to go, however, since there's quite a few steps involved here, how about we turn the code about into a function we can re-use later?\n",
    "\n",
    "we'll call it `create_effnetb2_model()` and it'll take a customizable number of classes and a random seed parameter for reproducibility.\n",
    "\n",
    "Ideally, it will return EffNetB2 feature extractor along with its associated transforms."
   ]
  },
  {
   "cell_type": "code",
   "execution_count": 28,
   "id": "0918ec5a-ae8c-4d6a-8973-fdced07d610c",
   "metadata": {},
   "outputs": [],
   "source": [
    "def create_effnetb2_model(num_classes:int=3, \n",
    "                          seed:int=42):\n",
    "    \"\"\"Creates an EfficientNetB2 feature extractor model and transforms.\n",
    "\n",
    "    Args:\n",
    "        num_classes (int, optional): number of classes in the classifier head. \n",
    "            Defaults to 3.\n",
    "        seed (int, optional): random seed value. Defaults to 42.\n",
    "\n",
    "    Returns:\n",
    "        model (torch.nn.Module): EffNetB2 feature extractor model. \n",
    "        transforms (torchvision.transforms): EffNetB2 image transforms.\n",
    "    \"\"\"\n",
    "    # 1, 2, 3. Create EffNetB2 pretrained weights, transforms and model\n",
    "    weights = torchvision.models.EfficientNet_B2_Weights.DEFAULT\n",
    "    transforms = weights.transforms()\n",
    "    model = torchvision.models.efficientnet_b2(weights=weights)\n",
    "\n",
    "    # 4. Freeze all layers in base model\n",
    "    for param in model.parameters():\n",
    "        param.requires_grad = False\n",
    "\n",
    "    # 5. Change classifier head with random seed for reproducibility\n",
    "    torch.manual_seed(seed)\n",
    "    model.classifier = nn.Sequential(\n",
    "        nn.Dropout(p=0.3, inplace=True),\n",
    "        nn.Linear(in_features=1408, out_features=num_classes),\n",
    "    )\n",
    "    \n",
    "    return model, transforms"
   ]
  },
  {
   "cell_type": "markdown",
   "id": "899d56bb-f932-45ca-9d55-954c1cca2cd1",
   "metadata": {},
   "source": [
    "Let's test it out."
   ]
  },
  {
   "cell_type": "code",
   "execution_count": 29,
   "id": "2693f574-fa81-4c57-a955-ee075a05c598",
   "metadata": {},
   "outputs": [],
   "source": [
    "effnetb2, effnetb2_transforms = create_effnetb2_model(num_classes=3,\n",
    "                                                      seed=42)"
   ]
  },
  {
   "cell_type": "markdown",
   "id": "6b955365-07bc-4f27-8fb1-379584e3f445",
   "metadata": {},
   "source": [
    "No errors, nice, now to really try it out, let's get a summary with torchinfo.summary()."
   ]
  },
  {
   "cell_type": "code",
   "execution_count": 9,
   "id": "db67c528-0458-45f0-b798-d8cc1b671ac2",
   "metadata": {},
   "outputs": [
    {
     "data": {
      "text/plain": [
       "============================================================================================================================================\n",
       "Layer (type (var_name))                                      Input Shape          Output Shape         Param #              Trainable\n",
       "============================================================================================================================================\n",
       "EfficientNet (EfficientNet)                                  [1, 3, 224, 224]     [1, 3]               --                   Partial\n",
       "├─Sequential (features)                                      [1, 3, 224, 224]     [1, 1408, 7, 7]      --                   False\n",
       "│    └─Conv2dNormActivation (0)                              [1, 3, 224, 224]     [1, 32, 112, 112]    --                   False\n",
       "│    │    └─Conv2d (0)                                       [1, 3, 224, 224]     [1, 32, 112, 112]    (864)                False\n",
       "│    │    └─BatchNorm2d (1)                                  [1, 32, 112, 112]    [1, 32, 112, 112]    (64)                 False\n",
       "│    │    └─SiLU (2)                                         [1, 32, 112, 112]    [1, 32, 112, 112]    --                   --\n",
       "│    └─Sequential (1)                                        [1, 32, 112, 112]    [1, 16, 112, 112]    --                   False\n",
       "│    │    └─MBConv (0)                                       [1, 32, 112, 112]    [1, 16, 112, 112]    (1,448)              False\n",
       "│    │    └─MBConv (1)                                       [1, 16, 112, 112]    [1, 16, 112, 112]    (612)                False\n",
       "│    └─Sequential (2)                                        [1, 16, 112, 112]    [1, 24, 56, 56]      --                   False\n",
       "│    │    └─MBConv (0)                                       [1, 16, 112, 112]    [1, 24, 56, 56]      (6,004)              False\n",
       "│    │    └─MBConv (1)                                       [1, 24, 56, 56]      [1, 24, 56, 56]      (10,710)             False\n",
       "│    │    └─MBConv (2)                                       [1, 24, 56, 56]      [1, 24, 56, 56]      (10,710)             False\n",
       "│    └─Sequential (3)                                        [1, 24, 56, 56]      [1, 48, 28, 28]      --                   False\n",
       "│    │    └─MBConv (0)                                       [1, 24, 56, 56]      [1, 48, 28, 28]      (16,518)             False\n",
       "│    │    └─MBConv (1)                                       [1, 48, 28, 28]      [1, 48, 28, 28]      (43,308)             False\n",
       "│    │    └─MBConv (2)                                       [1, 48, 28, 28]      [1, 48, 28, 28]      (43,308)             False\n",
       "│    └─Sequential (4)                                        [1, 48, 28, 28]      [1, 88, 14, 14]      --                   False\n",
       "│    │    └─MBConv (0)                                       [1, 48, 28, 28]      [1, 88, 14, 14]      (50,300)             False\n",
       "│    │    └─MBConv (1)                                       [1, 88, 14, 14]      [1, 88, 14, 14]      (123,750)            False\n",
       "│    │    └─MBConv (2)                                       [1, 88, 14, 14]      [1, 88, 14, 14]      (123,750)            False\n",
       "│    │    └─MBConv (3)                                       [1, 88, 14, 14]      [1, 88, 14, 14]      (123,750)            False\n",
       "│    └─Sequential (5)                                        [1, 88, 14, 14]      [1, 120, 14, 14]     --                   False\n",
       "│    │    └─MBConv (0)                                       [1, 88, 14, 14]      [1, 120, 14, 14]     (149,158)            False\n",
       "│    │    └─MBConv (1)                                       [1, 120, 14, 14]     [1, 120, 14, 14]     (237,870)            False\n",
       "│    │    └─MBConv (2)                                       [1, 120, 14, 14]     [1, 120, 14, 14]     (237,870)            False\n",
       "│    │    └─MBConv (3)                                       [1, 120, 14, 14]     [1, 120, 14, 14]     (237,870)            False\n",
       "│    └─Sequential (6)                                        [1, 120, 14, 14]     [1, 208, 7, 7]       --                   False\n",
       "│    │    └─MBConv (0)                                       [1, 120, 14, 14]     [1, 208, 7, 7]       (301,406)            False\n",
       "│    │    └─MBConv (1)                                       [1, 208, 7, 7]       [1, 208, 7, 7]       (686,868)            False\n",
       "│    │    └─MBConv (2)                                       [1, 208, 7, 7]       [1, 208, 7, 7]       (686,868)            False\n",
       "│    │    └─MBConv (3)                                       [1, 208, 7, 7]       [1, 208, 7, 7]       (686,868)            False\n",
       "│    │    └─MBConv (4)                                       [1, 208, 7, 7]       [1, 208, 7, 7]       (686,868)            False\n",
       "│    └─Sequential (7)                                        [1, 208, 7, 7]       [1, 352, 7, 7]       --                   False\n",
       "│    │    └─MBConv (0)                                       [1, 208, 7, 7]       [1, 352, 7, 7]       (846,900)            False\n",
       "│    │    └─MBConv (1)                                       [1, 352, 7, 7]       [1, 352, 7, 7]       (1,888,920)          False\n",
       "│    └─Conv2dNormActivation (8)                              [1, 352, 7, 7]       [1, 1408, 7, 7]      --                   False\n",
       "│    │    └─Conv2d (0)                                       [1, 352, 7, 7]       [1, 1408, 7, 7]      (495,616)            False\n",
       "│    │    └─BatchNorm2d (1)                                  [1, 1408, 7, 7]      [1, 1408, 7, 7]      (2,816)              False\n",
       "│    │    └─SiLU (2)                                         [1, 1408, 7, 7]      [1, 1408, 7, 7]      --                   --\n",
       "├─AdaptiveAvgPool2d (avgpool)                                [1, 1408, 7, 7]      [1, 1408, 1, 1]      --                   --\n",
       "├─Sequential (classifier)                                    [1, 1408]            [1, 3]               --                   True\n",
       "│    └─Dropout (0)                                           [1, 1408]            [1, 1408]            --                   --\n",
       "│    └─Linear (1)                                            [1, 1408]            [1, 3]               4,227                True\n",
       "============================================================================================================================================\n",
       "Total params: 7,705,221\n",
       "Trainable params: 4,227\n",
       "Non-trainable params: 7,700,994\n",
       "Total mult-adds (M): 657.64\n",
       "============================================================================================================================================\n",
       "Input size (MB): 0.60\n",
       "Forward/backward pass size (MB): 156.80\n",
       "Params size (MB): 30.82\n",
       "Estimated Total Size (MB): 188.22\n",
       "============================================================================================================================================"
      ]
     },
     "execution_count": 9,
     "metadata": {},
     "output_type": "execute_result"
    }
   ],
   "source": [
    "from torchinfo import summary\n",
    "\n",
    "summary(model=effnetb2,\n",
    "        input_size=(1,3,224,224),\n",
    "        col_names=['input_size','output_size','num_params','trainable'],\n",
    "        col_width=20,\n",
    "        row_settings=['var_names']\n",
    "       )"
   ]
  },
  {
   "cell_type": "markdown",
   "id": "c0594613-3b21-462a-b51b-5b1190bb25e4",
   "metadata": {},
   "source": [
    "### 3.2 Creating DataLoaders for EffNetB2\n",
    "\n",
    "Our EffNetB2 feature extractor is ready, time to create some `Dataloader`s\n",
    "\n",
    "We can do this by using the `data_setup.create_dataloaders()` function we created in `05. PyTorch Going Modular section 2`\n",
    "\n",
    "We'll use a `batch_size` of 32 and transform our images using `effnetb2_transforms` so they're in the same format that our effnetb2 model was trained on."
   ]
  },
  {
   "cell_type": "code",
   "execution_count": 10,
   "id": "572b41cb-9f28-452b-80fc-239144410f6e",
   "metadata": {},
   "outputs": [],
   "source": [
    "# Setup DataLoaders\n",
    "from going_modular.going_modular import data_setup\n",
    "train_dataloader_effnetb2, test_dataloader_effnetb2, class_names = data_setup.create_dataloaders(train_dir=train_dir,\n",
    "                                                                                                 test_dir=test_dir,\n",
    "                                                                                                 transform=effnetb2_transforms,\n",
    "                                                                                                 batch_size=32)"
   ]
  },
  {
   "cell_type": "markdown",
   "id": "feb0113b-8fb6-4488-b55e-7fc5f95978bf",
   "metadata": {},
   "source": [
    "### 3.3 Training EffNetB2 feature extractor\n",
    "\n",
    "Model ready, `DataLoader`s ready, let's train!\n",
    "\n",
    "Just like in `07 PyTorch Experiment Tracking section 7.6`, ten epochs should be enough to get good results.\n",
    "\n",
    "We can do so by creating:\n",
    "1. an optimizer (we'll use `torch.optim.Adam()` with a learning rate of `1e-3`)\n",
    "2. a loss function (we'll use `torch.nn.CrossEntropyLoss()` for multi-class classification)\n",
    "\n",
    "and passing these as well as our `DataLoader`'s to the `engine.train()` function we created in 05. `PyTorch Going Modular section section 4`"
   ]
  },
  {
   "cell_type": "code",
   "execution_count": 11,
   "id": "c385dcc5-3721-421c-aca3-55ba1b978852",
   "metadata": {},
   "outputs": [
    {
     "data": {
      "application/vnd.jupyter.widget-view+json": {
       "model_id": "010947dee2254416a5965f861951a131",
       "version_major": 2,
       "version_minor": 0
      },
      "text/plain": [
       "  0%|          | 0/10 [00:00<?, ?it/s]"
      ]
     },
     "metadata": {},
     "output_type": "display_data"
    },
    {
     "name": "stdout",
     "output_type": "stream",
     "text": [
      "Epoch: 1 | train_loss: 0.9804 | train_acc: 0.5646 | test_loss: 0.7385 | test_acc: 0.9284\n",
      "Epoch: 2 | train_loss: 0.6843 | train_acc: 0.8729 | test_loss: 0.5931 | test_acc: 0.9347\n",
      "Epoch: 3 | train_loss: 0.5644 | train_acc: 0.8979 | test_loss: 0.4820 | test_acc: 0.9347\n",
      "Epoch: 4 | train_loss: 0.4720 | train_acc: 0.8667 | test_loss: 0.4185 | test_acc: 0.9443\n",
      "Epoch: 5 | train_loss: 0.4309 | train_acc: 0.8729 | test_loss: 0.3725 | test_acc: 0.9568\n",
      "Epoch: 6 | train_loss: 0.3748 | train_acc: 0.8938 | test_loss: 0.3456 | test_acc: 0.9443\n",
      "Epoch: 7 | train_loss: 0.3367 | train_acc: 0.9083 | test_loss: 0.3123 | test_acc: 0.9506\n",
      "Epoch: 8 | train_loss: 0.3237 | train_acc: 0.9250 | test_loss: 0.3014 | test_acc: 0.9688\n",
      "Epoch: 9 | train_loss: 0.3657 | train_acc: 0.8625 | test_loss: 0.2753 | test_acc: 0.9381\n",
      "Epoch: 10 | train_loss: 0.2551 | train_acc: 0.9437 | test_loss: 0.2639 | test_acc: 0.9597\n"
     ]
    }
   ],
   "source": [
    "from going_modular.going_modular import engine\n",
    "\n",
    "# setup optimizer\n",
    "optimizer = torch.optim.Adam(params=effnetb2.parameters(),\n",
    "                             lr=0.001)\n",
    "\n",
    "# setup loss function\n",
    "loss_fn = torch.nn.CrossEntropyLoss()\n",
    "\n",
    "# set seends for reproducibility and train the model\n",
    "set_seeds()\n",
    "effnetb2net_results = engine.train(model=effnetb2,\n",
    "                                   train_dataloader=train_dataloader_effnetb2,\n",
    "                                   test_dataloader=test_dataloader_effnetb2,\n",
    "                                   optimizer=optimizer,\n",
    "                                   loss_fn=loss_fn,\n",
    "                                   epochs=10,\n",
    "                                   device=device)"
   ]
  },
  {
   "cell_type": "markdown",
   "id": "4ec56a74-0695-440d-b9dc-cd36832cafce",
   "metadata": {},
   "source": [
    "### 3.4 Inspecting EffNetB2 loss curves\n",
    "\n",
    "As we saw in 07. PyTorch Experiment Tracking, the EffNetB2 feature extractor model works quite well on our data.\n",
    "\n",
    "Let's turn its results into loss curves to inspect them further.\n",
    "\n",
    "***Note**: Loss curves are one of the best ways to visualize how your model's performing. For more on loss curves, check out `04. PyTorch Custom Datasets section 8: What should an ideal loss curve look like`?*"
   ]
  },
  {
   "cell_type": "code",
   "execution_count": 12,
   "id": "5f75db38-7399-4702-b3f7-d96a1008b5c0",
   "metadata": {},
   "outputs": [
    {
     "data": {
      "image/png": "[encoded data removed]",
      "text/plain": [
       "<Figure size 1500x700 with 2 Axes>"
      ]
     },
     "metadata": {},
     "output_type": "display_data"
    }
   ],
   "source": [
    "from helper_functions import plot_loss_curves\n",
    "\n",
    "plot_loss_curves(effnetb2net_results)"
   ]
  },
  {
   "cell_type": "markdown",
   "id": "436b2c13-2b33-4ff6-b5ab-f7e47ed28ae4",
   "metadata": {},
   "source": [
    "Those are some nice looking loss curves.\n",
    "\n",
    "<div class='alert alert-success'>\n",
    "    \n",
    "It looks like our model is `performing quite well` and perhaps would `benefit from a little longer training and potentially some data augmentation` (to help prevent potential overfitting occurring from longer training).\n",
    "\n",
    "</div>"
   ]
  },
  {
   "cell_type": "markdown",
   "id": "6721ce4c-7147-408a-92fb-686b5150da20",
   "metadata": {},
   "source": [
    "### 3.5 Saving EffNetB2 feature extractor\n",
    "\n",
    "Now we've got a well-performing trained model, let's save it to file so we can import and use it later.\n",
    "\n",
    "TO save our model we can use the `utils.save_model()` function created in `05. PyTorch Going Modular section 5`\n",
    "\n",
    "We'll set the `target_dir` to `\"models\"` and the `model_name` to `\"09_pretrained_effnetb2_feature_extractor_pizza_steak_sushi_20_percent.pth\"` (a little comprehensive but at least we know what's going on)."
   ]
  },
  {
   "cell_type": "code",
   "execution_count": 13,
   "id": "e2e2736e-15a1-4a2b-9feb-9f91fa479c46",
   "metadata": {},
   "outputs": [
    {
     "name": "stdout",
     "output_type": "stream",
     "text": [
      "[INFO] Saving model to: models/09_pretrained_effnetb2_feature_extractor_pizza_steak_sushi_20_percent.pth\n"
     ]
    }
   ],
   "source": [
    "from going_modular.going_modular import utils\n",
    "\n",
    "# Save the model\n",
    "utils.save_model(model=effnetb2,\n",
    "                 target_dir=\"models\",\n",
    "                 model_name=\"09_pretrained_effnetb2_feature_extractor_pizza_steak_sushi_20_percent.pth\")"
   ]
  },
  {
   "cell_type": "markdown",
   "id": "a8a89f39-d666-4a6b-8406-9034cebe7d7c",
   "metadata": {},
   "source": [
    "### 3.6 Checking the size of EffNetB2 feature extractor\n",
    "\n",
    "Since one of our criteria for deploying a model to power FoodVision is **speed**(~30FPS or better), let's check the size of our model.\n",
    "\n",
    "***Why check the size?***\n",
    "\n",
    "Well, while not always the case, the size of a model can influence its inference speed.\n",
    "\n",
    "As in, if a model has more parameters, it generally performs more operations and each one of these operations requires some computing power.\n",
    "\n",
    "And because we'd like our model to work on devices with limited computing power(eg. on a mobile device or in a web browser), generally, ***the smaller the size the better*** ( as long as it sill performs well in terms of accuracy)\n",
    "\n",
    "To check our model's size in bytes, we can use Python's `pathlib.Path.stat('path_to_model').st_size` and then we can convert it (roughly) to megabytes by dividing it by (`1024x1024`)"
   ]
  },
  {
   "cell_type": "code",
   "execution_count": 11,
   "id": "e960c026-516f-4afa-97f8-895a520a560e",
   "metadata": {},
   "outputs": [
    {
     "name": "stdout",
     "output_type": "stream",
     "text": [
      "Pretrained EffNetB2 feature extractor model size: 29 MB\n"
     ]
    }
   ],
   "source": [
    "from pathlib import Path\n",
    "\n",
    "# Get the model size in bytes then convert to megabytes\n",
    "pretrained_effnetb2_model_size = Path('models/09_pretrained_effnetb2_feature_extractor_pizza_steak_sushi_20_percent.pth').stat().st_size // (1024*1024) # division converts bytes to megabytes (roughly) \n",
    "\n",
    "print(f\"Pretrained EffNetB2 feature extractor model size: {pretrained_effnetb2_model_size} MB\")"
   ]
  },
  {
   "cell_type": "code",
   "execution_count": 12,
   "id": "2ca8a56c-3550-4b51-a07d-ca110314505b",
   "metadata": {},
   "outputs": [
    {
     "name": "stdout",
     "output_type": "stream",
     "text": [
      " 30M\tmodels/09_pretrained_effnetb2_feature_extractor_pizza_steak_sushi_20_percent.pth\n"
     ]
    }
   ],
   "source": [
    "!du -h  models/09_pretrained_effnetb2_feature_extractor_pizza_steak_sushi_20_percent.pth"
   ]
  },
  {
   "cell_type": "markdown",
   "id": "4f514c88-712a-4529-9dc7-1b869e4345c7",
   "metadata": {},
   "source": [
    "### 3.7 Collecting EffNetB2 feature extractor stats\n",
    "\n",
    "We've got a few statistics about our EffNetB2 feature extractor model such as test loss, test accuracy and model size, how about we collect them all in a dictionary so we can compare them to upcoming ViT feature extractor.\n",
    "\n",
    "And we'll calculate an extra one for fun, total number of parameters.\n",
    "\n",
    "We can do so by counting the number of elements(or patterns/weights) in `effnetb2.parameters()`. We'll access the number of elements in each parameter using the `torch.numel()` (short for `number of elements`) method."
   ]
  },
  {
   "cell_type": "code",
   "execution_count": 16,
   "id": "f0b16c62-9b7a-4d0f-9a39-cb9ad8200baa",
   "metadata": {},
   "outputs": [
    {
     "data": {
      "text/plain": [
       "7705221"
      ]
     },
     "execution_count": 16,
     "metadata": {},
     "output_type": "execute_result"
    }
   ],
   "source": [
    "# Count the number of parameters in EffNetB2\n",
    "effnetb2_total_params = sum(torch.numel(param) for param in effnetb2.parameters())\n",
    "effnetb2_total_params"
   ]
  },
  {
   "cell_type": "markdown",
   "id": "a7f219e5-966c-4aa7-8858-d90eb73c3095",
   "metadata": {},
   "source": [
    "Now, let's everything together in a dictionary, so that we can do comparisons later on."
   ]
  },
  {
   "cell_type": "code",
   "execution_count": 17,
   "id": "18023e27-ba8d-414c-b487-47acc57c2a24",
   "metadata": {},
   "outputs": [
    {
     "data": {
      "text/plain": [
       "{'test_loss': 0.26394857168197633,\n",
       " 'test_acc': 0.959659090909091,\n",
       " 'number_of_parameters': 7705221,\n",
       " 'model_size (MB)': 29}"
      ]
     },
     "execution_count": 17,
     "metadata": {},
     "output_type": "execute_result"
    }
   ],
   "source": [
    "# Create a dictionary with EffNetB2 statistics\n",
    "effnetb2_stats = {\"test_loss\": effnetb2net_results[\"test_loss\"][-1],\n",
    "                  \"test_acc\": effnetb2net_results[\"test_acc\"][-1],\n",
    "                  \"number_of_parameters\": effnetb2_total_params,\n",
    "                  \"model_size (MB)\": pretrained_effnetb2_model_size}\n",
    "effnetb2_stats"
   ]
  },
  {
   "cell_type": "code",
   "execution_count": 54,
   "id": "b4ee3f46-8704-4674-8cf7-730141f984a2",
   "metadata": {},
   "outputs": [],
   "source": [
    "effnetb2_stats = {'test_loss': 0.26394857168197633,\n",
    " 'test_acc': 0.959659090909091,\n",
    " 'number_of_parameters': 7705221,\n",
    " 'model_size (MB)': 29}"
   ]
  },
  {
   "cell_type": "markdown",
   "id": "247e02b8-e7ea-46d7-a3f5-34327b33b46e",
   "metadata": {},
   "source": [
    "Looks like our EffNetB2 model is performing at over 95% accuracy!\n",
    "\n",
    "- [X] `Criteria number 1`: perform at 95%+ accuracy, **tick!**"
   ]
  },
  {
   "cell_type": "markdown",
   "id": "854526e4-7536-4319-b37c-413a088f4b52",
   "metadata": {},
   "source": [
    "## 4. Creating a ViT feature extractor\n",
    "\n",
    "Time to continue with our FoodVision Mini modelling experiments.\n",
    "\n",
    "This time we're going to create a ViT feature extractor.\n",
    "\n",
    "And we'll do it much the same way as the EffNetB2 feature extractor except this time with `torchvision.models.vit_b_16` instead of `torchvision.models.efficientnet_b2()`\n",
    "\n",
    "We'll start by creating a function called `create_vit_model()` which will be vary similar to `create_effnetb2_model()` except of course returning a ViT extractor model and transforms rather than EffNetB2.\n",
    "\n",
    "Another slight difference is that `torchvision.models.vit_b_16()`'s output layer is called `heads` rather than `classifier`"
   ]
  },
  {
   "cell_type": "code",
   "execution_count": 30,
   "id": "81352c3b-98cf-4d64-a898-8c1172616b23",
   "metadata": {},
   "outputs": [
    {
     "data": {
      "text/plain": [
       "Sequential(\n",
       "  (head): Linear(in_features=768, out_features=1000, bias=True)\n",
       ")"
      ]
     },
     "execution_count": 30,
     "metadata": {},
     "output_type": "execute_result"
    }
   ],
   "source": [
    "# Check out ViT heads layer\n",
    "vit = torchvision.models.vit_b_16()\n",
    "vit.heads"
   ]
  },
  {
   "cell_type": "markdown",
   "id": "433bc138-7eab-4175-b47d-10f2c60562b4",
   "metadata": {},
   "source": [
    "Knowing this, we've got all the pieces of the puzzle we need."
   ]
  },
  {
   "cell_type": "code",
   "execution_count": 31,
   "id": "c43a79a2-fed6-4e4f-9f2a-2c1916e66016",
   "metadata": {},
   "outputs": [],
   "source": [
    "def create_vit_model(num_classes:int=3, \n",
    "                     seed:int=42):\n",
    "    \"\"\"Creates a ViT-B/16 feature extractor model and transforms.\n",
    "\n",
    "    Args:\n",
    "        num_classes (int, optional): number of target classes. Defaults to 3.\n",
    "        seed (int, optional): random seed value for output layer. Defaults to 42.\n",
    "\n",
    "    Returns:\n",
    "        model (torch.nn.Module): ViT-B/16 feature extractor model. \n",
    "        transforms (torchvision.transforms): ViT-B/16 image transforms.\n",
    "    \"\"\"\n",
    "    # Create ViT_B_16 pretrained weights, transforms and model\n",
    "    weights = torchvision.models.ViT_B_16_Weights.DEFAULT\n",
    "    transforms = weights.transforms()\n",
    "    model = torchvision.models.vit_b_16(weights=weights)\n",
    "\n",
    "    # Freeze all layers in model\n",
    "    for param in model.parameters():\n",
    "        param.requires_grad = False\n",
    "\n",
    "    # Change classifier head to suit our needs (this will be trainable)\n",
    "    torch.manual_seed(seed)\n",
    "    model.heads = nn.Sequential(nn.Linear(in_features=768, # keep this the same as original model\n",
    "                                          out_features=num_classes)) # update to reflect target number of classes\n",
    "    \n",
    "    return model, transforms"
   ]
  },
  {
   "cell_type": "markdown",
   "id": "b575c66a-ed8b-49f5-8103-0d5cda628059",
   "metadata": {},
   "source": [
    "Let's test it out.\n"
   ]
  },
  {
   "cell_type": "code",
   "execution_count": 32,
   "id": "3adeaadc-ea64-441a-b4f5-2ecfa194256c",
   "metadata": {},
   "outputs": [],
   "source": [
    "# Create ViT model and transforms\n",
    "vit, vit_transforms = create_vit_model(num_classes=3,\n",
    "                                       seed=42)"
   ]
  },
  {
   "cell_type": "markdown",
   "id": "3c57b5e8-9660-4c02-8f1a-43cc88f90ad1",
   "metadata": {},
   "source": [
    "Now let's get a nice-looking summary of our ViT model using torchinfo.summary()"
   ]
  },
  {
   "cell_type": "code",
   "execution_count": 16,
   "id": "6024e810-b461-4ad3-820f-bd37604d1ba6",
   "metadata": {},
   "outputs": [
    {
     "data": {
      "text/plain": [
       "============================================================================================================================================\n",
       "Layer (type (var_name))                                      Input Shape          Output Shape         Param #              Trainable\n",
       "============================================================================================================================================\n",
       "VisionTransformer (VisionTransformer)                        [1, 3, 224, 224]     [1, 3]               768                  Partial\n",
       "├─Conv2d (conv_proj)                                         [1, 3, 224, 224]     [1, 768, 14, 14]     (590,592)            False\n",
       "├─Encoder (encoder)                                          [1, 197, 768]        [1, 197, 768]        151,296              False\n",
       "│    └─Dropout (dropout)                                     [1, 197, 768]        [1, 197, 768]        --                   --\n",
       "│    └─Sequential (layers)                                   [1, 197, 768]        [1, 197, 768]        --                   False\n",
       "│    │    └─EncoderBlock (encoder_layer_0)                   [1, 197, 768]        [1, 197, 768]        (7,087,872)          False\n",
       "│    │    └─EncoderBlock (encoder_layer_1)                   [1, 197, 768]        [1, 197, 768]        (7,087,872)          False\n",
       "│    │    └─EncoderBlock (encoder_layer_2)                   [1, 197, 768]        [1, 197, 768]        (7,087,872)          False\n",
       "│    │    └─EncoderBlock (encoder_layer_3)                   [1, 197, 768]        [1, 197, 768]        (7,087,872)          False\n",
       "│    │    └─EncoderBlock (encoder_layer_4)                   [1, 197, 768]        [1, 197, 768]        (7,087,872)          False\n",
       "│    │    └─EncoderBlock (encoder_layer_5)                   [1, 197, 768]        [1, 197, 768]        (7,087,872)          False\n",
       "│    │    └─EncoderBlock (encoder_layer_6)                   [1, 197, 768]        [1, 197, 768]        (7,087,872)          False\n",
       "│    │    └─EncoderBlock (encoder_layer_7)                   [1, 197, 768]        [1, 197, 768]        (7,087,872)          False\n",
       "│    │    └─EncoderBlock (encoder_layer_8)                   [1, 197, 768]        [1, 197, 768]        (7,087,872)          False\n",
       "│    │    └─EncoderBlock (encoder_layer_9)                   [1, 197, 768]        [1, 197, 768]        (7,087,872)          False\n",
       "│    │    └─EncoderBlock (encoder_layer_10)                  [1, 197, 768]        [1, 197, 768]        (7,087,872)          False\n",
       "│    │    └─EncoderBlock (encoder_layer_11)                  [1, 197, 768]        [1, 197, 768]        (7,087,872)          False\n",
       "│    └─LayerNorm (ln)                                        [1, 197, 768]        [1, 197, 768]        (1,536)              False\n",
       "├─Sequential (heads)                                         [1, 768]             [1, 3]               --                   True\n",
       "│    └─Linear (0)                                            [1, 768]             [1, 3]               2,307                True\n",
       "============================================================================================================================================\n",
       "Total params: 85,800,963\n",
       "Trainable params: 2,307\n",
       "Non-trainable params: 85,798,656\n",
       "Total mult-adds (M): 172.47\n",
       "============================================================================================================================================\n",
       "Input size (MB): 0.60\n",
       "Forward/backward pass size (MB): 104.09\n",
       "Params size (MB): 229.20\n",
       "Estimated Total Size (MB): 333.89\n",
       "============================================================================================================================================"
      ]
     },
     "execution_count": 16,
     "metadata": {},
     "output_type": "execute_result"
    }
   ],
   "source": [
    "from torchinfo import summary\n",
    "\n",
    "# # Print ViT feature extractor model summary (uncomment for full output)\n",
    "summary(vit, \n",
    "        input_size=(1, 3, 224, 224),\n",
    "        col_names=[\"input_size\", \"output_size\", \"num_params\", \"trainable\"],\n",
    "        col_width=20,\n",
    "        row_settings=[\"var_names\"])"
   ]
  },
  {
   "cell_type": "markdown",
   "id": "283d2540-04eb-48f3-8889-87112fc2bba7",
   "metadata": {},
   "source": [
    "Just like our EffNetB2 feature extractor model, our ViT model's base layers are frozen and the output layer is customized to our needs!\n",
    "\n",
    "***Do you notice the big difference though?***\n",
    "\n",
    "Our ViT model has far more parameters than our EffNetB2 model. \n",
    "- Perhaps this will come into play when we compare our models across speed and performance later on."
   ]
  },
  {
   "cell_type": "markdown",
   "id": "a1ac1011-3266-4951-8dd0-89fb53e2e475",
   "metadata": {},
   "source": [
    "### 4.1 Create DataLoaders for ViT\n",
    "\n",
    "We've got our ViT model ready, now let's create some `DataLoader`'s for it.\n",
    "\n",
    "We'll do this in the same way we did for EffNetB2 except we'll use `vit_transforms` to transform our images into the same format the ViT model was trained on."
   ]
  },
  {
   "cell_type": "code",
   "execution_count": 17,
   "id": "314eb125-4cd9-42b0-94d9-4cda66f85cca",
   "metadata": {},
   "outputs": [],
   "source": [
    "# Setup ViT DataLoaders\n",
    "from going_modular.going_modular import data_setup\n",
    "train_dataloader_vit, test_dataloader_vit, class_names = data_setup.create_dataloaders(train_dir=train_dir,\n",
    "                                                                                       test_dir=test_dir,\n",
    "                                                                                       transform=vit_transforms,\n",
    "                                                                                       batch_size=32)"
   ]
  },
  {
   "cell_type": "markdown",
   "id": "fbd5e5ac-ff43-430d-9d84-07e41ac62330",
   "metadata": {},
   "source": [
    "4.2 Training ViT feature extractor\n",
    "\n",
    "You know what this is it..\n",
    "\n",
    "..it's a trainingggg time.\n",
    "\n",
    "Let's train our ViT feature extractor model for 10 epochs using our `engine.train()` function with `torch.optim.Adam()` and learning rate of 1e-3 as our optimizer and `torch.nn.CrossEntropyLoss()` as our loss function.\n",
    "\n",
    "We'll use our `set_seeds()` function before training to try and make our results as reproducible as possible."
   ]
  },
  {
   "cell_type": "code",
   "execution_count": 23,
   "id": "be0772d3-441d-46ee-9720-6ab1dca8a52d",
   "metadata": {},
   "outputs": [
    {
     "data": {
      "application/vnd.jupyter.widget-view+json": {
       "model_id": "832b9dee33204a5d842ed725732c2b01",
       "version_major": 2,
       "version_minor": 0
      },
      "text/plain": [
       "  0%|          | 0/10 [00:00<?, ?it/s]"
      ]
     },
     "metadata": {},
     "output_type": "display_data"
    },
    {
     "name": "stdout",
     "output_type": "stream",
     "text": [
      "Epoch: 1 | train_loss: 0.7023 | train_acc: 0.7500 | test_loss: 0.2714 | test_acc: 0.9290\n",
      "Epoch: 2 | train_loss: 0.2531 | train_acc: 0.9104 | test_loss: 0.1669 | test_acc: 0.9602\n",
      "Epoch: 3 | train_loss: 0.1766 | train_acc: 0.9542 | test_loss: 0.1270 | test_acc: 0.9693\n",
      "Epoch: 4 | train_loss: 0.1277 | train_acc: 0.9625 | test_loss: 0.1072 | test_acc: 0.9722\n",
      "Epoch: 5 | train_loss: 0.1163 | train_acc: 0.9646 | test_loss: 0.0950 | test_acc: 0.9784\n",
      "Epoch: 6 | train_loss: 0.1270 | train_acc: 0.9375 | test_loss: 0.0830 | test_acc: 0.9722\n",
      "Epoch: 7 | train_loss: 0.0899 | train_acc: 0.9771 | test_loss: 0.0844 | test_acc: 0.9784\n",
      "Epoch: 8 | train_loss: 0.0928 | train_acc: 0.9812 | test_loss: 0.0759 | test_acc: 0.9722\n",
      "Epoch: 9 | train_loss: 0.0933 | train_acc: 0.9792 | test_loss: 0.0729 | test_acc: 0.9784\n",
      "Epoch: 10 | train_loss: 0.0662 | train_acc: 0.9833 | test_loss: 0.0642 | test_acc: 0.9847\n"
     ]
    }
   ],
   "source": [
    "from going_modular.going_modular import engine\n",
    "\n",
    "# Setup optimizer\n",
    "optimizer = torch.optim.Adam(params=vit.parameters(),\n",
    "                             lr=1e-3)\n",
    "# Setup loss function\n",
    "loss_fn = torch.nn.CrossEntropyLoss()\n",
    "\n",
    "# Train ViT model with seeds set for reproducibility\n",
    "set_seeds()\n",
    "vit_results = engine.train(model=vit,\n",
    "                           train_dataloader=train_dataloader_vit,\n",
    "                           test_dataloader=test_dataloader_vit,\n",
    "                           epochs=10,\n",
    "                           optimizer=optimizer,\n",
    "                           loss_fn=loss_fn,\n",
    "                           device=device)"
   ]
  },
  {
   "cell_type": "markdown",
   "id": "60a073a9-0349-4bce-8e24-e4805cd9ead6",
   "metadata": {},
   "source": [
    "### 4.3 Inspecting ViT loss curves\n",
    "\n",
    "Now that our ViT model is trained, lets get visual and see some loss curves"
   ]
  },
  {
   "cell_type": "code",
   "execution_count": 24,
   "id": "93538873-7a7a-40b6-a7b0-15087534ee54",
   "metadata": {},
   "outputs": [
    {
     "data": {
      "image/png": "[encoded data removed]",
      "text/plain": [
       "<Figure size 1500x700 with 2 Axes>"
      ]
     },
     "metadata": {},
     "output_type": "display_data"
    }
   ],
   "source": [
    "from helper_functions import plot_loss_curves\n",
    "\n",
    "plot_loss_curves(vit_results)"
   ]
  },
  {
   "cell_type": "markdown",
   "id": "edcfc2ab-e167-4838-b36c-74c73741ee68",
   "metadata": {},
   "source": [
    "GREAT!!🎉\n",
    "\n",
    "Those are some nice looking loss curves. Just like our EffNetB2 feature extractor model, it looks our ViT model might benefit from a little longer trainng time and perhaps some [data augmentation](https://www.learnpytorch.io/04_pytorch_custom_datasets/#6-other-forms-of-transforms-data-augmentation) (to help prevent overfitting)"
   ]
  },
  {
   "cell_type": "markdown",
   "id": "8a3e567d-fd7b-449f-8476-4ee35f0701b3",
   "metadata": {},
   "source": [
    "### .4. Saving ViT feature extractor\n",
    "\n",
    "Our ViT model is performing outstanding!\n",
    "\n",
    "So let's save it to file so we can import it and use it later if we wish.\n",
    "\n",
    "We can do so using the `utils.save_model()` function we created in `05. PyTorch Going Modular section 5`"
   ]
  },
  {
   "cell_type": "code",
   "execution_count": 26,
   "id": "d223d915-93a7-40b0-ba1e-24bf280c6164",
   "metadata": {},
   "outputs": [
    {
     "name": "stdout",
     "output_type": "stream",
     "text": [
      "[INFO] Saving model to: models/09_pretrained_vit_feature_extractor_pizza_steak_sushi_20_percent.pth\n"
     ]
    }
   ],
   "source": [
    "# save the model\n",
    "from going_modular.going_modular import utils\n",
    "\n",
    "utils.save_model(model=vit,\n",
    "                 target_dir='models',\n",
    "                 model_name=\"09_pretrained_vit_feature_extractor_pizza_steak_sushi_20_percent.pth\")"
   ]
  },
  {
   "cell_type": "markdown",
   "id": "4d0d0a78-1bdc-42b8-b909-93cb5d621557",
   "metadata": {},
   "source": [
    "### 4.5. Checking the size of ViT feature extractor\n",
    "\n",
    "And since we want to compare our EffNetb2 to our ViT model across a number of charateristics, let's find out its size.\n",
    "\n",
    "To check our model's size in bytes, we can use Python's `pathlib.Path.stat('path_to_model').st_size` and then we can convert it (roughly) to megabytes by diviging it by (1024x1024)"
   ]
  },
  {
   "cell_type": "code",
   "execution_count": 18,
   "id": "5fca45e6-523a-4523-9d34-807743cd4fe9",
   "metadata": {},
   "outputs": [
    {
     "name": "stdout",
     "output_type": "stream",
     "text": [
      "Pretrained ViT feature extractor model size: 327 MB\n"
     ]
    }
   ],
   "source": [
    "from pathlib import Path\n",
    "\n",
    "# Get the model size in bytes then convert to megabytes\n",
    "pretrained_vit_model_size = Path(\"models/09_pretrained_vit_feature_extractor_pizza_steak_sushi_20_percent.pth\").stat().st_size // (1024*1024) # division converts bytes to megabytes (roughly) \n",
    "print(f\"Pretrained ViT feature extractor model size: {pretrained_vit_model_size} MB\")"
   ]
  },
  {
   "cell_type": "markdown",
   "id": "803dce8b-8e0a-434e-aaf3-69eb1ff7df79",
   "metadata": {},
   "source": [
    "Check the size using terminal command."
   ]
  },
  {
   "cell_type": "code",
   "execution_count": 19,
   "id": "83037192-0625-4286-9bc4-eda012c81862",
   "metadata": {},
   "outputs": [
    {
     "name": "stdout",
     "output_type": "stream",
     "text": [
      "327M\tmodels/09_pretrained_vit_feature_extractor_pizza_steak_sushi_20_percent.pth\n"
     ]
    }
   ],
   "source": [
    "!du -h models/09_pretrained_vit_feature_extractor_pizza_steak_sushi_20_percent.pth"
   ]
  },
  {
   "cell_type": "markdown",
   "id": "43cd47f9-344b-4542-84bb-bfe19a884ea7",
   "metadata": {},
   "source": [
    "Hmm, how does the ViT feature extractor model size compare to our EffNetB2 model size?\n",
    "\n",
    "We'll find this out shortly when we compare all of our model's characteristics."
   ]
  },
  {
   "cell_type": "markdown",
   "id": "40fb35e5-ed94-41d0-9c94-37d7870806cf",
   "metadata": {},
   "source": [
    "### 4.6. Collecting ViT feature extractor stats\n",
    "\n",
    "Let's put together all of our ViT feature extractor model statistics.\n",
    "\n",
    "We saw it in the summary output above but we'll calculate its total number of parameters."
   ]
  },
  {
   "cell_type": "code",
   "execution_count": 20,
   "id": "cc8dbf5f-f5c0-407b-89e5-375a16c2523f",
   "metadata": {},
   "outputs": [
    {
     "data": {
      "text/plain": [
       "85800963"
      ]
     },
     "execution_count": 20,
     "metadata": {},
     "output_type": "execute_result"
    }
   ],
   "source": [
    "# count the number of parameters in ViT\n",
    "vit_total_params = sum(torch.numel(param) for param in vit.parameters())\n",
    "vit_total_params"
   ]
  },
  {
   "cell_type": "markdown",
   "id": "80c4a199-182b-4b66-9647-ed08e73f228e",
   "metadata": {},
   "source": [
    "Looks like the parameters for ViT is a bit more than EffNetB2!\n",
    "\n",
    "***Note:** A larger number of parameters (weights/patterns) genrally means a model has a higher capacity to learn, whether it actually uses this extra capacity is another story. In light of this, our EffNetB2 model has 7,705,221 paramters where as our ViT model has 85,800,963 (11.1x more) so we could assume that our ViT model has more of a capacity to learn, if given more data (more opportunities to learn). However, this larger capacity to learn often comes with an increased model filesize and a longer time to perform inference.*\n",
    "\n",
    "Now let's create a dictionary with some important characteristics of our ViT model."
   ]
  },
  {
   "cell_type": "code",
   "execution_count": 31,
   "id": "efcb48f1-66f8-4e83-8058-ff88205f68af",
   "metadata": {},
   "outputs": [
    {
     "data": {
      "text/plain": [
       "{'test_loss': 0.06418205103836953,\n",
       " 'test_acc': 0.984659090909091,\n",
       " 'number_of_parameters': 85800963,\n",
       " 'model_size (MB)': 327}"
      ]
     },
     "execution_count": 31,
     "metadata": {},
     "output_type": "execute_result"
    }
   ],
   "source": [
    "# Create ViT statistics dictionary\n",
    "vit_stats = {\"test_loss\": vit_results[\"test_loss\"][-1],\n",
    "             \"test_acc\": vit_results[\"test_acc\"][-1],\n",
    "             \"number_of_parameters\": vit_total_params,\n",
    "             \"model_size (MB)\": pretrained_vit_model_size}\n",
    "\n",
    "vit_stats"
   ]
  },
  {
   "cell_type": "code",
   "execution_count": 53,
   "id": "35a41f7a-3ef0-494c-a66f-9bcfd7a080d1",
   "metadata": {},
   "outputs": [],
   "source": [
    "vit_stats = {'test_loss': 0.06418205103836953,\n",
    " 'test_acc': 0.984659090909091,\n",
    " 'number_of_parameters': 85800963,\n",
    " 'model_size (MB)': 327}"
   ]
  },
  {
   "cell_type": "markdown",
   "id": "db0a1dc6-c66a-4d07-b2f1-a5b8bf12b49f",
   "metadata": {},
   "source": [
    "Great! Our ViT model has more than 95% accuracy as well."
   ]
  },
  {
   "cell_type": "code",
   "execution_count": 33,
   "id": "f006a6b4-ec8e-432f-91b9-aa6cd4139e16",
   "metadata": {},
   "outputs": [
    {
     "data": {
      "text/plain": [
       "<All keys matched successfully>"
      ]
     },
     "execution_count": 33,
     "metadata": {},
     "output_type": "execute_result"
    }
   ],
   "source": [
    "effnetb2_state_dict = torch.load('models/09_pretrained_effnetb2_feature_extractor_pizza_steak_sushi_20_percent.pth')\n",
    "effnetb2.load_state_dict(effnetb2_state_dict)\n",
    "\n",
    "vit_state_dict = torch.load('models/09_pretrained_vit_feature_extractor_pizza_steak_sushi_20_percent.pth')\n",
    "vit.load_state_dict(vit_state_dict)"
   ]
  },
  {
   "cell_type": "code",
   "execution_count": 34,
   "id": "3577dd40-771f-4df5-a5c2-030c0f8acec8",
   "metadata": {},
   "outputs": [
    {
     "data": {
      "text/plain": [
       "=========================================================================================================\n",
       "Layer (type:depth-idx)                                  Output Shape              Param #\n",
       "=========================================================================================================\n",
       "EfficientNet                                            [1, 3]                    --\n",
       "├─Sequential: 1-1                                       [1, 1408, 7, 7]           --\n",
       "│    └─Conv2dNormActivation: 2-1                        [1, 32, 112, 112]         --\n",
       "│    │    └─Conv2d: 3-1                                 [1, 32, 112, 112]         (864)\n",
       "│    │    └─BatchNorm2d: 3-2                            [1, 32, 112, 112]         (64)\n",
       "│    │    └─SiLU: 3-3                                   [1, 32, 112, 112]         --\n",
       "│    └─Sequential: 2-2                                  [1, 16, 112, 112]         --\n",
       "│    │    └─MBConv: 3-4                                 [1, 16, 112, 112]         (1,448)\n",
       "│    │    └─MBConv: 3-5                                 [1, 16, 112, 112]         (612)\n",
       "│    └─Sequential: 2-3                                  [1, 24, 56, 56]           --\n",
       "│    │    └─MBConv: 3-6                                 [1, 24, 56, 56]           (6,004)\n",
       "│    │    └─MBConv: 3-7                                 [1, 24, 56, 56]           (10,710)\n",
       "│    │    └─MBConv: 3-8                                 [1, 24, 56, 56]           (10,710)\n",
       "│    └─Sequential: 2-4                                  [1, 48, 28, 28]           --\n",
       "│    │    └─MBConv: 3-9                                 [1, 48, 28, 28]           (16,518)\n",
       "│    │    └─MBConv: 3-10                                [1, 48, 28, 28]           (43,308)\n",
       "│    │    └─MBConv: 3-11                                [1, 48, 28, 28]           (43,308)\n",
       "│    └─Sequential: 2-5                                  [1, 88, 14, 14]           --\n",
       "│    │    └─MBConv: 3-12                                [1, 88, 14, 14]           (50,300)\n",
       "│    │    └─MBConv: 3-13                                [1, 88, 14, 14]           (123,750)\n",
       "│    │    └─MBConv: 3-14                                [1, 88, 14, 14]           (123,750)\n",
       "│    │    └─MBConv: 3-15                                [1, 88, 14, 14]           (123,750)\n",
       "│    └─Sequential: 2-6                                  [1, 120, 14, 14]          --\n",
       "│    │    └─MBConv: 3-16                                [1, 120, 14, 14]          (149,158)\n",
       "│    │    └─MBConv: 3-17                                [1, 120, 14, 14]          (237,870)\n",
       "│    │    └─MBConv: 3-18                                [1, 120, 14, 14]          (237,870)\n",
       "│    │    └─MBConv: 3-19                                [1, 120, 14, 14]          (237,870)\n",
       "│    └─Sequential: 2-7                                  [1, 208, 7, 7]            --\n",
       "│    │    └─MBConv: 3-20                                [1, 208, 7, 7]            (301,406)\n",
       "│    │    └─MBConv: 3-21                                [1, 208, 7, 7]            (686,868)\n",
       "│    │    └─MBConv: 3-22                                [1, 208, 7, 7]            (686,868)\n",
       "│    │    └─MBConv: 3-23                                [1, 208, 7, 7]            (686,868)\n",
       "│    │    └─MBConv: 3-24                                [1, 208, 7, 7]            (686,868)\n",
       "│    └─Sequential: 2-8                                  [1, 352, 7, 7]            --\n",
       "│    │    └─MBConv: 3-25                                [1, 352, 7, 7]            (846,900)\n",
       "│    │    └─MBConv: 3-26                                [1, 352, 7, 7]            (1,888,920)\n",
       "│    └─Conv2dNormActivation: 2-9                        [1, 1408, 7, 7]           --\n",
       "│    │    └─Conv2d: 3-27                                [1, 1408, 7, 7]           (495,616)\n",
       "│    │    └─BatchNorm2d: 3-28                           [1, 1408, 7, 7]           (2,816)\n",
       "│    │    └─SiLU: 3-29                                  [1, 1408, 7, 7]           --\n",
       "├─AdaptiveAvgPool2d: 1-2                                [1, 1408, 1, 1]           --\n",
       "├─Sequential: 1-3                                       [1, 3]                    --\n",
       "│    └─Dropout: 2-10                                    [1, 1408]                 --\n",
       "│    └─Linear: 2-11                                     [1, 3]                    4,227\n",
       "=========================================================================================================\n",
       "Total params: 7,705,221\n",
       "Trainable params: 4,227\n",
       "Non-trainable params: 7,700,994\n",
       "Total mult-adds (M): 657.64\n",
       "=========================================================================================================\n",
       "Input size (MB): 0.60\n",
       "Forward/backward pass size (MB): 156.80\n",
       "Params size (MB): 30.82\n",
       "Estimated Total Size (MB): 188.22\n",
       "========================================================================================================="
      ]
     },
     "execution_count": 34,
     "metadata": {},
     "output_type": "execute_result"
    }
   ],
   "source": [
    "summary(model=effnetb2,\n",
    "       input_size=(1, 3, 224, 224))"
   ]
  },
  {
   "cell_type": "markdown",
   "id": "35382d68-a024-4922-885a-11b21214cfcb",
   "metadata": {},
   "source": [
    "## 5. Making predictions with our trained models and timing them\n",
    "\n",
    "We've got a couple of trained models, both performing pretty well.\n",
    "\n",
    "Now how about twe test them out doing what we'd like them to do?\n",
    "\n",
    "As in, let's see how they go making predictions (performing inference).\n",
    "\n",
    "We know both of our models are performing at over 95% accuracy on the test dataset, but `how fast are they??`\n",
    "\n",
    "ideally, if we're deploying our FoodVision model to a mobile device so people can take photos of their food and identify it,` we'd like the predictions to happen at real-time (~30FPS)`.\n",
    "\n",
    "`That's why our second criteria is: a fast model`\n",
    "\n",
    "To find out how long eash of our models take to performance inference, let's create a function called `pred_and_store()` to iterate over each of the test dataset images one by one and perform a prediction.\n",
    "\n",
    "We'll time each of the predictions as well as store the results in a common prediction format: a list of dictionaries, where:\n",
    "1. Each element in the list is a single prediction\n",
    "2. and each single prediction is a dictionary\n",
    "\n",
    "***Note:** we time the predictions one by one rather than by batch because when our model is deployed, it will likely only be making aprediction on one image at a time. As in, someone takes a photo and our model preditions on that single image.*\n",
    "\n",
    "Since we'd like to make predictions across all the images in the test set, let's fist get a list of all of the test image paths so we can iterate over them.\n",
    "\n",
    "To do so, we'll use Python's `pathlib.Path('target_dir').glob('*/*.jpg'))` to find all of the filepaths in a target directory with the extension `.jpg` (all of our test images).\n"
   ]
  },
  {
   "cell_type": "code",
   "execution_count": 36,
   "id": "ad42b557-9d7d-4e27-af30-273323f2b150",
   "metadata": {},
   "outputs": [
    {
     "name": "stdout",
     "output_type": "stream",
     "text": [
      "[INFO] Finding all filepaths ending with '.jpg' in directory: data/pizza_steak_sushi_20_percent/test\n"
     ]
    },
    {
     "data": {
      "text/plain": [
       "[PosixPath('data/pizza_steak_sushi_20_percent/test/steak/413497.jpg'),\n",
       " PosixPath('data/pizza_steak_sushi_20_percent/test/steak/2246332.jpg'),\n",
       " PosixPath('data/pizza_steak_sushi_20_percent/test/steak/2475366.jpg'),\n",
       " PosixPath('data/pizza_steak_sushi_20_percent/test/steak/1982192.jpg'),\n",
       " PosixPath('data/pizza_steak_sushi_20_percent/test/steak/2353677.jpg')]"
      ]
     },
     "execution_count": 36,
     "metadata": {},
     "output_type": "execute_result"
    }
   ],
   "source": [
    "from pathlib import Path\n",
    "\n",
    "# Get all test data paths\n",
    "print(f\"[INFO] Finding all filepaths ending with '.jpg' in directory: {test_dir}\")\n",
    "test_data_paths = list(Path(test_dir).glob('*/*.jpg'))\n",
    "test_data_paths[:5]"
   ]
  },
  {
   "cell_type": "markdown",
   "id": "a2d04d69-4627-4906-a900-cb9d9a84ba2e",
   "metadata": {},
   "source": [
    "### 5.1. Creating a function to make predictions across the test dataset.\n",
    "\n",
    "Now we'e got a list of our test image paths, let's get to work on our `pred_and_store()` function:\n",
    "1. Create a function that takes list of paths, a trained PyTorch model, a series of transforms(to prepare images), a list of target class names, and a target device.\n",
    "2. Create an empty list to store prediction dictionaries(we want the function to return a list of dictionaries, one for each prediction).\n",
    "3. Loop through the target input paths(steps 4-14 will happen inside the loop).\n",
    "4. Create an empty dictionary for each iteration in the loop to store prediction values per sample.\n",
    "5. Get the sample path and ground trugh class name (we can do this by inferring the class from the path).\n",
    "6. Start the prediction timer using PyTHon's `timeit.default_timer()`\n",
    "7. Open the image using `PIL.Image.open(path)`\n",
    "8. Transform the image so it's capable of being used with the target model as well as add a batch dimension and send the image to the target device.\n",
    "9. Prepare the model for inference by sending it to the target device and turning on `eval()` mode.\n",
    "10. Turn on `torch.inference_mode()` and pass the target transformed image to the model and calculate the prediction probability using `torch.softmax()` and the target label using `torch.argmax()`\n",
    "11. Add the prediction probability and prediction class to the prediction dictionary created in step 4. Also make sure the prediction probability is on the CPU so it can be used with non-GPU libraries such as Numpy and Pandas for later inspection.\n",
    "12. End the prediction timer started in step 6 and add the time to the prediction dictionary crate in step 4.\n",
    "13. Append the updated prediction dictionary to the emtpy list of predictions crreated in step 2.\n",
    "14. Return the list of prediction dictionaries.\n",
    "\n",
    "A bunch of steps, but nothing we cannot handle!!!"
   ]
  },
  {
   "cell_type": "code",
   "execution_count": 45,
   "id": "56fc31aa-746d-4247-ab47-c264ed4f747a",
   "metadata": {},
   "outputs": [],
   "source": [
    "from pathlib import Path\n",
    "import torch\n",
    "\n",
    "from PIL import Image\n",
    "from timeit import default_timer as timer\n",
    "from tqdm.auto import tqdm\n",
    "from typing import List, Dict\n",
    "\n",
    "# 1. Create a function to return a list of dictionaries with sample, truth label,\n",
    "# prediction, prediction probability, and prediction time\n",
    "def pred_and_store(paths: List[Path],\n",
    "                   model: torch.nn.Module,\n",
    "                   transform: torchvision.transforms,\n",
    "                   class_names: List[str],\n",
    "                   device: str = 'cuda' if torch.cuda.is_available() else 'cpu'\n",
    "                  ) -> List[Dict]:\n",
    "    # 2. Create an empty list to store prediction dictionaries\n",
    "    pred_list = []\n",
    "\n",
    "    # 3. Loop through target paths\n",
    "    for path in tqdm(paths):\n",
    "        # 4. Create an empty dictionary to store prediction information for each sample\n",
    "        pred_dict = {}\n",
    "\n",
    "        # 5. Get the sample path and ground trugh class name\n",
    "        pred_dict['image_path'] = path\n",
    "        class_name = path.parent.stem\n",
    "        pred_dict['class_name'] = class_name\n",
    "\n",
    "        # 6. Start the prediction timer\n",
    "        start_time = timer()\n",
    "\n",
    "        # 7. Open image path\n",
    "        img = Image.open(path)\n",
    "        \n",
    "        # 8. Transform the image, add batch dimension, and put image on target device\n",
    "        transformed_image = transform(img).unsqueeze(dim = 0).to(device)\n",
    "        \n",
    "        # 9. Preprare model for inference by sending it to the target device and turning on evaluation mode\n",
    "        model.to(device)\n",
    "        model.eval()\n",
    "\n",
    "        # 10. Get prediction probabilities, prediction label, and prediction class\n",
    "        with torch.inference_mode():\n",
    "            pred_logit = model(transformed_image) # perform inference on target sample \n",
    "            pred_prob = torch.softmax(pred_logit, dim=1) # turn logits into prediction probabilities\n",
    "            pred_label = torch.argmax(pred_prob, dim=1) # turn prediction probabilities into prediction label\n",
    "            pred_class = class_names[pred_label.cpu()] # hardcode prediction class to be on CPU\n",
    "\n",
    "            # 11. Make sure thing in the dictionary are on CPU (required for inspection later on)\n",
    "            pred_dict['pred_prob'] = round(pred_prob.unsqueeze(dim=0).max().cpu().item(), 4)\n",
    "            pred_dict['pred_class'] = pred_class\n",
    "\n",
    "            # 12. End the timer and calcuate time per pred\n",
    "            end_time = timer()\n",
    "            pred_dict['time_for_pred'] = round(end_time-start_time, 4)\n",
    "        # 13. Does the  pred math the true label?\n",
    "        pred_dict['correct'] = class_name == pred_class\n",
    "\n",
    "        # 14. Add the dictionary to the list of preds\n",
    "        pred_list.append(pred_dict)\n",
    "    # 15. Return list of prediction dictionaries\n",
    "    return pred_list"
   ]
  },
  {
   "cell_type": "markdown",
   "id": "89aedc96-5e97-4ac9-9dad-b9d4b85ef7dd",
   "metadata": {},
   "source": [
    "Great!!\n",
    "We can store `pred_and_store()` as a utility function for making and storing predictions, it woulc be store to `going_modular.going_modular.predictions.py` for later use. "
   ]
  },
  {
   "cell_type": "markdown",
   "id": "151af4ac-5a2d-47b8-8bf9-f6f26236315b",
   "metadata": {},
   "source": [
    "### 5.2 Making and timing predictions with EffNetB2\n",
    "\n",
    "Time to test our `pred_and_store()` function!\n",
    "\n",
    "Let's start by using it to make predictions across the test dataset with our EffNetB2 model, paying attention to two details:\n",
    "1. **Device** - We'll hard code the device parameter to use 'cpu' because when we deploy our model, we won't always have access to a 'cuda' (GPU) device.\n",
    "   - Making the predictions on CPU will be a good indicator of speed of inference too because generally predictions on CPU devices are slower that GPU devices.\n",
    "3. **Transforms** - We'll also be sure to set the `transform` parameter to `effnetb2_transforms` to make sure the images are opened and transformed int he same way our `effnetb2` model has been trained on."
   ]
  },
  {
   "cell_type": "code",
   "execution_count": 46,
   "id": "e57a964c-3ba6-4551-9939-458c4c0cda4b",
   "metadata": {},
   "outputs": [
    {
     "data": {
      "application/vnd.jupyter.widget-view+json": {
       "model_id": "588bc3104936465183ac67c64260f23a",
       "version_major": 2,
       "version_minor": 0
      },
      "text/plain": [
       "  0%|          | 0/150 [00:00<?, ?it/s]"
      ]
     },
     "metadata": {},
     "output_type": "display_data"
    }
   ],
   "source": [
    "# Make predictions across test dataset with EffNetB2\n",
    "effnetb2_test_pred_dicts = pred_and_store(paths=test_data_paths,\n",
    "                                          model=effnetb2,\n",
    "                                          transform=effnetb2_transforms,\n",
    "                                          class_names=class_names,\n",
    "                                          device=\"cpu\") # make predictions on CPU "
   ]
  },
  {
   "cell_type": "markdown",
   "id": "979f4095-525d-4465-887d-5858bcc1522a",
   "metadata": {},
   "source": [
    "Let's inspect the first couple and see what they look like."
   ]
  },
  {
   "cell_type": "code",
   "execution_count": 47,
   "id": "d6aadbe9-7c10-4a70-86f9-fe4b390abd28",
   "metadata": {},
   "outputs": [
    {
     "data": {
      "text/plain": [
       "[{'image_path': PosixPath('data/pizza_steak_sushi_20_percent/test/steak/413497.jpg'),\n",
       "  'class_name': 'steak',\n",
       "  'pred_prob': 0.916,\n",
       "  'pred_class': 'steak',\n",
       "  'time_for_pred': 0.0988,\n",
       "  'correct': True},\n",
       " {'image_path': PosixPath('data/pizza_steak_sushi_20_percent/test/steak/2246332.jpg'),\n",
       "  'class_name': 'steak',\n",
       "  'pred_prob': 0.9266,\n",
       "  'pred_class': 'steak',\n",
       "  'time_for_pred': 0.0622,\n",
       "  'correct': True}]"
      ]
     },
     "execution_count": 47,
     "metadata": {},
     "output_type": "execute_result"
    }
   ],
   "source": [
    "# Inspect the first 2 prediction dictionaries\n",
    "effnetb2_test_pred_dicts[:2]"
   ]
  },
  {
   "cell_type": "markdown",
   "id": "98c953dd-19da-48bb-8741-e64caedbce5d",
   "metadata": {
    "slideshow": {
     "slide_type": "slide"
    }
   },
   "source": [
    "It looks like our `pred_and_store()` function worked!!\n",
    "\n",
    "Thanks to our list of dictionaries data structure, we've got plenty of useful information we can further inspect.\n",
    "\n",
    "To do so, let's turn our list of dictionaries into a pandas DataFrame."
   ]
  },
  {
   "cell_type": "code",
   "execution_count": 49,
   "id": "8d11ee60-680c-4b5d-8daa-b10c8954348d",
   "metadata": {},
   "outputs": [
    {
     "data": {
      "text/html": [
       "<div>\n",
       "<style scoped>\n",
       "    .dataframe tbody tr th:only-of-type {\n",
       "        vertical-align: middle;\n",
       "    }\n",
       "\n",
       "    .dataframe tbody tr th {\n",
       "        vertical-align: top;\n",
       "    }\n",
       "\n",
       "    .dataframe thead th {\n",
       "        text-align: right;\n",
       "    }\n",
       "</style>\n",
       "<table border=\"1\" class=\"dataframe\">\n",
       "  <thead>\n",
       "    <tr style=\"text-align: right;\">\n",
       "      <th></th>\n",
       "      <th>image_path</th>\n",
       "      <th>class_name</th>\n",
       "      <th>pred_prob</th>\n",
       "      <th>pred_class</th>\n",
       "      <th>time_for_pred</th>\n",
       "      <th>correct</th>\n",
       "    </tr>\n",
       "  </thead>\n",
       "  <tbody>\n",
       "    <tr>\n",
       "      <th>0</th>\n",
       "      <td>data/pizza_steak_sushi_20_percent/test/steak/4...</td>\n",
       "      <td>steak</td>\n",
       "      <td>0.9160</td>\n",
       "      <td>steak</td>\n",
       "      <td>0.0988</td>\n",
       "      <td>True</td>\n",
       "    </tr>\n",
       "    <tr>\n",
       "      <th>1</th>\n",
       "      <td>data/pizza_steak_sushi_20_percent/test/steak/2...</td>\n",
       "      <td>steak</td>\n",
       "      <td>0.9266</td>\n",
       "      <td>steak</td>\n",
       "      <td>0.0622</td>\n",
       "      <td>True</td>\n",
       "    </tr>\n",
       "    <tr>\n",
       "      <th>2</th>\n",
       "      <td>data/pizza_steak_sushi_20_percent/test/steak/2...</td>\n",
       "      <td>steak</td>\n",
       "      <td>0.9110</td>\n",
       "      <td>steak</td>\n",
       "      <td>0.0631</td>\n",
       "      <td>True</td>\n",
       "    </tr>\n",
       "    <tr>\n",
       "      <th>3</th>\n",
       "      <td>data/pizza_steak_sushi_20_percent/test/steak/1...</td>\n",
       "      <td>steak</td>\n",
       "      <td>0.7857</td>\n",
       "      <td>steak</td>\n",
       "      <td>0.0655</td>\n",
       "      <td>True</td>\n",
       "    </tr>\n",
       "    <tr>\n",
       "      <th>4</th>\n",
       "      <td>data/pizza_steak_sushi_20_percent/test/steak/2...</td>\n",
       "      <td>steak</td>\n",
       "      <td>0.5878</td>\n",
       "      <td>steak</td>\n",
       "      <td>0.0613</td>\n",
       "      <td>True</td>\n",
       "    </tr>\n",
       "  </tbody>\n",
       "</table>\n",
       "</div>"
      ],
      "text/plain": [
       "                                          image_path class_name  pred_prob  \\\n",
       "0  data/pizza_steak_sushi_20_percent/test/steak/4...      steak     0.9160   \n",
       "1  data/pizza_steak_sushi_20_percent/test/steak/2...      steak     0.9266   \n",
       "2  data/pizza_steak_sushi_20_percent/test/steak/2...      steak     0.9110   \n",
       "3  data/pizza_steak_sushi_20_percent/test/steak/1...      steak     0.7857   \n",
       "4  data/pizza_steak_sushi_20_percent/test/steak/2...      steak     0.5878   \n",
       "\n",
       "  pred_class  time_for_pred  correct  \n",
       "0      steak         0.0988     True  \n",
       "1      steak         0.0622     True  \n",
       "2      steak         0.0631     True  \n",
       "3      steak         0.0655     True  \n",
       "4      steak         0.0613     True  "
      ]
     },
     "execution_count": 49,
     "metadata": {},
     "output_type": "execute_result"
    }
   ],
   "source": [
    "# Turn the test_pred_dicts into a DataFrame\n",
    "import pandas as pd\n",
    "\n",
    "effnetb2_test_pred_df = pd.DataFrame(effnetb2_test_pred_dicts)\n",
    "effnetb2_test_pred_df.head()"
   ]
  },
  {
   "cell_type": "markdown",
   "id": "ac759f43-ac8a-40e0-9fa6-2a06921ca4ac",
   "metadata": {},
   "source": [
    "Great!!\n",
    "\n",
    "Look how easily those prediction dictionaries turn into a structured format we can perform analysis on.\n",
    "\n",
    "Such as finding how many predictions our EffNetB2 model got wrong.."
   ]
  },
  {
   "cell_type": "code",
   "execution_count": 51,
   "id": "40f95cf5-ee79-4ee8-971d-fa14c0f4a0d7",
   "metadata": {},
   "outputs": [
    {
     "data": {
      "text/plain": [
       "correct\n",
       "True     144\n",
       "False      6\n",
       "Name: count, dtype: int64"
      ]
     },
     "execution_count": 51,
     "metadata": {},
     "output_type": "execute_result"
    }
   ],
   "source": [
    "# Check number of correct predictions\n",
    "effnetb2_test_pred_df['correct'].value_counts()"
   ]
  },
  {
   "cell_type": "markdown",
   "id": "50080434-6722-4a15-855d-d21156b4367c",
   "metadata": {},
   "source": [
    "Six wrong predictions, not bad.\n",
    "\n",
    "And how about the averate prediction time?"
   ]
  },
  {
   "cell_type": "code",
   "execution_count": 52,
   "id": "848a0b96-8c5d-410c-83da-05ac523d7b7a",
   "metadata": {},
   "outputs": [
    {
     "name": "stdout",
     "output_type": "stream",
     "text": [
      "EffNetB2 average time per prediction: 0.0631 seconds\n"
     ]
    }
   ],
   "source": [
    "# Find the average time per prediction \n",
    "effnetb2_average_time_per_pred = round(effnetb2_test_pred_df['time_for_pred'].mean(), 4)\n",
    "print(f\"EffNetB2 average time per prediction: {effnetb2_average_time_per_pred} seconds\")"
   ]
  },
  {
   "cell_type": "markdown",
   "id": "cece7ae1-c473-469e-9ee6-1df24bfccb69",
   "metadata": {},
   "source": [
    "Hmm, how does that average prediction time live up to our criteria of our model performing at real-time (`~30FPS or 0.03 seconds per prediction`)?\n",
    "\n",
    "***Note:** Prediction times will be different across different hardware types (e.g. a local Intel i9 vs Google Colab CPU). The better and faster the hardware, generally, the faster the prediction. For example, on my local deep learning PC with an Intel i9 chip, my average prediction time with EffNetB2 is around 0.031 seconds (just under real-time). However, on Google Colab (I'm not sure what CPU hardware Colab uses but it looks like it might be an Intel(R) Xeon(R)), my average prediction time with EffNetB2 is about 0.1396 seconds (3-4x slower).*\n",
    "\n",
    "Let's add our EffNetB2 average time per prediction to our `effnetb2_stats` dictionary."
   ]
  },
  {
   "cell_type": "code",
   "execution_count": 55,
   "id": "569e1fc9-64e2-434c-bd5e-bf87736b579e",
   "metadata": {},
   "outputs": [
    {
     "data": {
      "text/plain": [
       "{'test_loss': 0.26394857168197633,\n",
       " 'test_acc': 0.959659090909091,\n",
       " 'number_of_parameters': 7705221,\n",
       " 'model_size (MB)': 29,\n",
       " 'time_per_pred_cpu': 0.0631}"
      ]
     },
     "execution_count": 55,
     "metadata": {},
     "output_type": "execute_result"
    }
   ],
   "source": [
    "# Add EffNetB2 average prediction time to stats dictionary \n",
    "effnetb2_stats[\"time_per_pred_cpu\"] = effnetb2_average_time_per_pred\n",
    "effnetb2_stats"
   ]
  },
  {
   "cell_type": "markdown",
   "id": "047d7ff2-e90c-4732-b4e7-301c86adec9c",
   "metadata": {},
   "source": [
    "### 5.3 Making and timing predictions with ViT¶\n",
    "\n",
    "We've made predictions with our EffNetB2 model, now let's do the same for our ViT model.\n",
    "\n",
    "To do so, we can use the `pred_and_store()` function we created above except this time we'll pass in our `vit model` as well as the `vit_transforms`.\n",
    "\n",
    "And we'll keep the predictions on the CPU via `device=\"cpu\"` (a natural extension here would be to test the prediction times on CPU and on GPU)."
   ]
  },
  {
   "cell_type": "code",
   "execution_count": 56,
   "id": "b93dd89b-70bc-4909-ad22-04cb47e29631",
   "metadata": {},
   "outputs": [
    {
     "data": {
      "application/vnd.jupyter.widget-view+json": {
       "model_id": "0935391b256d4a7fa994e642332c4209",
       "version_major": 2,
       "version_minor": 0
      },
      "text/plain": [
       "  0%|          | 0/150 [00:00<?, ?it/s]"
      ]
     },
     "metadata": {},
     "output_type": "display_data"
    }
   ],
   "source": [
    "# Make list of prediction dictionaries with ViT feature extractor model on test images\n",
    "vit_test_pred_dicts = pred_and_store(paths=test_data_paths,\n",
    "                                     model=vit,\n",
    "                                     transform=vit_transforms,\n",
    "                                     class_names=class_names,\n",
    "                                     device=\"cpu\")"
   ]
  },
  {
   "cell_type": "markdown",
   "id": "6e584b84-45ed-4276-9073-d19d0a6fa3d6",
   "metadata": {},
   "source": [
    "Predictions made!\n",
    "\n",
    "Now let's check out the first couple."
   ]
  },
  {
   "cell_type": "code",
   "execution_count": 57,
   "id": "8cb116a5-0435-4c20-be68-7b5d2344e039",
   "metadata": {},
   "outputs": [
    {
     "data": {
      "text/plain": [
       "[{'image_path': PosixPath('data/pizza_steak_sushi_20_percent/test/steak/413497.jpg'),\n",
       "  'class_name': 'steak',\n",
       "  'pred_prob': 0.7901,\n",
       "  'pred_class': 'steak',\n",
       "  'time_for_pred': 0.0811,\n",
       "  'correct': True},\n",
       " {'image_path': PosixPath('data/pizza_steak_sushi_20_percent/test/steak/2246332.jpg'),\n",
       "  'class_name': 'steak',\n",
       "  'pred_prob': 0.9981,\n",
       "  'pred_class': 'steak',\n",
       "  'time_for_pred': 0.076,\n",
       "  'correct': True}]"
      ]
     },
     "execution_count": 57,
     "metadata": {},
     "output_type": "execute_result"
    }
   ],
   "source": [
    "# Check the first couple of ViT predictions on the test dataset\n",
    "vit_test_pred_dicts[:2]"
   ]
  },
  {
   "cell_type": "markdown",
   "id": "e4c49daa-5669-4a62-8098-ac5fde4f4022",
   "metadata": {},
   "source": [
    "Great!\n",
    "\n",
    "And just like before, since our ViT model's predictions are in the form of a list of dictionaries, we can easily turn them into a pandas DataFrame for further inspection."
   ]
  },
  {
   "cell_type": "code",
   "execution_count": 58,
   "id": "a0638f64-b357-4596-aafe-3a623306e147",
   "metadata": {},
   "outputs": [
    {
     "data": {
      "text/html": [
       "<div>\n",
       "<style scoped>\n",
       "    .dataframe tbody tr th:only-of-type {\n",
       "        vertical-align: middle;\n",
       "    }\n",
       "\n",
       "    .dataframe tbody tr th {\n",
       "        vertical-align: top;\n",
       "    }\n",
       "\n",
       "    .dataframe thead th {\n",
       "        text-align: right;\n",
       "    }\n",
       "</style>\n",
       "<table border=\"1\" class=\"dataframe\">\n",
       "  <thead>\n",
       "    <tr style=\"text-align: right;\">\n",
       "      <th></th>\n",
       "      <th>image_path</th>\n",
       "      <th>class_name</th>\n",
       "      <th>pred_prob</th>\n",
       "      <th>pred_class</th>\n",
       "      <th>time_for_pred</th>\n",
       "      <th>correct</th>\n",
       "    </tr>\n",
       "  </thead>\n",
       "  <tbody>\n",
       "    <tr>\n",
       "      <th>0</th>\n",
       "      <td>data/pizza_steak_sushi_20_percent/test/steak/4...</td>\n",
       "      <td>steak</td>\n",
       "      <td>0.7901</td>\n",
       "      <td>steak</td>\n",
       "      <td>0.0811</td>\n",
       "      <td>True</td>\n",
       "    </tr>\n",
       "    <tr>\n",
       "      <th>1</th>\n",
       "      <td>data/pizza_steak_sushi_20_percent/test/steak/2...</td>\n",
       "      <td>steak</td>\n",
       "      <td>0.9981</td>\n",
       "      <td>steak</td>\n",
       "      <td>0.0760</td>\n",
       "      <td>True</td>\n",
       "    </tr>\n",
       "    <tr>\n",
       "      <th>2</th>\n",
       "      <td>data/pizza_steak_sushi_20_percent/test/steak/2...</td>\n",
       "      <td>steak</td>\n",
       "      <td>0.9959</td>\n",
       "      <td>steak</td>\n",
       "      <td>0.0750</td>\n",
       "      <td>True</td>\n",
       "    </tr>\n",
       "    <tr>\n",
       "      <th>3</th>\n",
       "      <td>data/pizza_steak_sushi_20_percent/test/steak/1...</td>\n",
       "      <td>steak</td>\n",
       "      <td>0.9858</td>\n",
       "      <td>steak</td>\n",
       "      <td>0.0754</td>\n",
       "      <td>True</td>\n",
       "    </tr>\n",
       "    <tr>\n",
       "      <th>4</th>\n",
       "      <td>data/pizza_steak_sushi_20_percent/test/steak/2...</td>\n",
       "      <td>steak</td>\n",
       "      <td>0.9516</td>\n",
       "      <td>steak</td>\n",
       "      <td>0.0739</td>\n",
       "      <td>True</td>\n",
       "    </tr>\n",
       "  </tbody>\n",
       "</table>\n",
       "</div>"
      ],
      "text/plain": [
       "                                          image_path class_name  pred_prob  \\\n",
       "0  data/pizza_steak_sushi_20_percent/test/steak/4...      steak     0.7901   \n",
       "1  data/pizza_steak_sushi_20_percent/test/steak/2...      steak     0.9981   \n",
       "2  data/pizza_steak_sushi_20_percent/test/steak/2...      steak     0.9959   \n",
       "3  data/pizza_steak_sushi_20_percent/test/steak/1...      steak     0.9858   \n",
       "4  data/pizza_steak_sushi_20_percent/test/steak/2...      steak     0.9516   \n",
       "\n",
       "  pred_class  time_for_pred  correct  \n",
       "0      steak         0.0811     True  \n",
       "1      steak         0.0760     True  \n",
       "2      steak         0.0750     True  \n",
       "3      steak         0.0754     True  \n",
       "4      steak         0.0739     True  "
      ]
     },
     "execution_count": 58,
     "metadata": {},
     "output_type": "execute_result"
    }
   ],
   "source": [
    "# Turn vit_test_pred_dicts into a DataFrame\n",
    "import pandas as pd\n",
    "vit_test_pred_df = pd.DataFrame(vit_test_pred_dicts)\n",
    "vit_test_pred_df.head()"
   ]
  },
  {
   "cell_type": "markdown",
   "id": "1836e5e5-ff3b-4c58-b641-23d30282c519",
   "metadata": {},
   "source": [
    "How many predictions did our ViT model get correct?"
   ]
  },
  {
   "cell_type": "code",
   "execution_count": 59,
   "id": "011b4be3-17e6-4990-a143-3ceabe16689e",
   "metadata": {},
   "outputs": [
    {
     "data": {
      "text/plain": [
       "correct\n",
       "True     148\n",
       "False      2\n",
       "Name: count, dtype: int64"
      ]
     },
     "execution_count": 59,
     "metadata": {},
     "output_type": "execute_result"
    }
   ],
   "source": [
    "# Count the number of correct predictions\n",
    "vit_test_pred_df.correct.value_counts()"
   ]
  },
  {
   "cell_type": "markdown",
   "id": "ab4c7d72-7e02-4e46-9313-4182ca99264b",
   "metadata": {},
   "source": [
    "Woah!!\n",
    "\n",
    "Our ViT model did a little better than our EffNetB2 model in terms of correct predictions, only two samples wrong across the whole test dataset.\n",
    "\n",
    "As an extension you might want to visualize the ViT model's wrong predictions and see if there's any reason why it might've got them wrong.\n",
    "\n",
    "**`How about we calculate how long the ViT model took per prediction?`**"
   ]
  },
  {
   "cell_type": "code",
   "execution_count": 60,
   "id": "f09f8451-019f-4c0a-a0a5-a214869dce78",
   "metadata": {},
   "outputs": [
    {
     "name": "stdout",
     "output_type": "stream",
     "text": [
      "ViT average time per prediction: 0.0757 seconds\n"
     ]
    }
   ],
   "source": [
    "# Calculate average time per prediction for ViT model\n",
    "vit_average_time_per_pred = round(vit_test_pred_df.time_for_pred.mean(), 4)\n",
    "print(f\"ViT average time per prediction: {vit_average_time_per_pred} seconds\")"
   ]
  },
  {
   "cell_type": "markdown",
   "id": "cac5495f-eee1-4056-8aad-2375e7fb5ff7",
   "metadata": {},
   "source": [
    "Well, that looks a little slower than our EffNetB2 model's average time per prediction but ***how does it look in terms of our second criteria: speed?***\n",
    "\n",
    "For now, let's add the value to our vit_stats dictionary so we can compare it to our EffNetB2 model's stats.\n",
    "\n",
    "***Note: The average time per prediction values will be highly dependent on the hardware you make them on. For example, for the ViT model, my average time per prediction (on the CPU) was 0.0631-0.0757 seconds on my local deep learning PC with an Intel i9 CPU. Where as on Google Colab, my average time per prediction with the ViT model was 0.6766-0.7113 seconds***"
   ]
  },
  {
   "cell_type": "code",
   "execution_count": 61,
   "id": "b91030f8-065c-4de4-bead-3f49fdb6298e",
   "metadata": {},
   "outputs": [
    {
     "data": {
      "text/plain": [
       "{'test_loss': 0.06418205103836953,\n",
       " 'test_acc': 0.984659090909091,\n",
       " 'number_of_parameters': 85800963,\n",
       " 'model_size (MB)': 327,\n",
       " 'time_per_pred_cpu': 0.0757}"
      ]
     },
     "execution_count": 61,
     "metadata": {},
     "output_type": "execute_result"
    }
   ],
   "source": [
    "# Add average prediction time for ViT model on CPU\n",
    "vit_stats[\"time_per_pred_cpu\"] = vit_average_time_per_pred\n",
    "vit_stats"
   ]
  },
  {
   "cell_type": "markdown",
   "id": "17c61e72-714e-4d8c-8d3d-e37e106437df",
   "metadata": {},
   "source": [
    "## 6. Comparing model results, prediction times and size\n",
    "\n",
    "Our two best model contenders have been trained and evaluated.\n",
    "\n",
    "Now **let's put them head to head and compare** across their different statistics.\n",
    "\n",
    "To do so, let's turn our `effnetb2_stats` and `vit_stats` dictionaries into a pandas DataFrame.\n",
    "\n",
    "We'll **add a column to view the *model names* as well as *convert the test accuracy to a whole percentage* rather than decimal**."
   ]
  },
  {
   "cell_type": "code",
   "execution_count": 62,
   "id": "1a8bdc21-6896-4764-94f2-411cca8ca1f5",
   "metadata": {},
   "outputs": [
    {
     "data": {
      "text/html": [
       "<div>\n",
       "<style scoped>\n",
       "    .dataframe tbody tr th:only-of-type {\n",
       "        vertical-align: middle;\n",
       "    }\n",
       "\n",
       "    .dataframe tbody tr th {\n",
       "        vertical-align: top;\n",
       "    }\n",
       "\n",
       "    .dataframe thead th {\n",
       "        text-align: right;\n",
       "    }\n",
       "</style>\n",
       "<table border=\"1\" class=\"dataframe\">\n",
       "  <thead>\n",
       "    <tr style=\"text-align: right;\">\n",
       "      <th></th>\n",
       "      <th>test_loss</th>\n",
       "      <th>test_acc</th>\n",
       "      <th>number_of_parameters</th>\n",
       "      <th>model_size (MB)</th>\n",
       "      <th>time_per_pred_cpu</th>\n",
       "      <th>model</th>\n",
       "    </tr>\n",
       "  </thead>\n",
       "  <tbody>\n",
       "    <tr>\n",
       "      <th>0</th>\n",
       "      <td>0.263949</td>\n",
       "      <td>95.97</td>\n",
       "      <td>7705221</td>\n",
       "      <td>29</td>\n",
       "      <td>0.0631</td>\n",
       "      <td>EffNetB2</td>\n",
       "    </tr>\n",
       "    <tr>\n",
       "      <th>1</th>\n",
       "      <td>0.064182</td>\n",
       "      <td>98.47</td>\n",
       "      <td>85800963</td>\n",
       "      <td>327</td>\n",
       "      <td>0.0757</td>\n",
       "      <td>ViT</td>\n",
       "    </tr>\n",
       "  </tbody>\n",
       "</table>\n",
       "</div>"
      ],
      "text/plain": [
       "   test_loss  test_acc  number_of_parameters  model_size (MB)  \\\n",
       "0   0.263949     95.97               7705221               29   \n",
       "1   0.064182     98.47              85800963              327   \n",
       "\n",
       "   time_per_pred_cpu     model  \n",
       "0             0.0631  EffNetB2  \n",
       "1             0.0757       ViT  "
      ]
     },
     "execution_count": 62,
     "metadata": {},
     "output_type": "execute_result"
    }
   ],
   "source": [
    "# Turn stat dictionaries into DataFrame\n",
    "df = pd.DataFrame([effnetb2_stats, vit_stats])\n",
    "\n",
    "# Add column for model names\n",
    "df[\"model\"] = [\"EffNetB2\", \"ViT\"]\n",
    "\n",
    "# Convert accuracy to percentages\n",
    "df[\"test_acc\"] = round(df[\"test_acc\"] * 100, 2)\n",
    "\n",
    "df"
   ]
  },
  {
   "cell_type": "markdown",
   "id": "754b082a-86ae-4247-9aef-d24120de4f71",
   "metadata": {},
   "source": [
    "Great!\n",
    "\n",
    "It seems our models are quite close in terms of overall test accuracy but how do they look across other fields?\n",
    "\n",
    "One way to find out would be to `divide the ViT model statistics by the EffNetB2 model statistics` to find out the different `ratios between the models`.\n",
    "\n",
    "Let's create another DataFrame to do so."
   ]
  },
  {
   "cell_type": "code",
   "execution_count": 63,
   "id": "bb1e7b99-1e98-47f2-88ae-af0721fde3fd",
   "metadata": {},
   "outputs": [
    {
     "data": {
      "text/html": [
       "<div>\n",
       "<style scoped>\n",
       "    .dataframe tbody tr th:only-of-type {\n",
       "        vertical-align: middle;\n",
       "    }\n",
       "\n",
       "    .dataframe tbody tr th {\n",
       "        vertical-align: top;\n",
       "    }\n",
       "\n",
       "    .dataframe thead th {\n",
       "        text-align: right;\n",
       "    }\n",
       "</style>\n",
       "<table border=\"1\" class=\"dataframe\">\n",
       "  <thead>\n",
       "    <tr style=\"text-align: right;\">\n",
       "      <th></th>\n",
       "      <th>test_loss</th>\n",
       "      <th>test_acc</th>\n",
       "      <th>number_of_parameters</th>\n",
       "      <th>model_size (MB)</th>\n",
       "      <th>time_per_pred_cpu</th>\n",
       "    </tr>\n",
       "  </thead>\n",
       "  <tbody>\n",
       "    <tr>\n",
       "      <th>ViT to EffNetB2 ratios</th>\n",
       "      <td>0.243161</td>\n",
       "      <td>1.02605</td>\n",
       "      <td>11.135432</td>\n",
       "      <td>11.275862</td>\n",
       "      <td>1.199683</td>\n",
       "    </tr>\n",
       "  </tbody>\n",
       "</table>\n",
       "</div>"
      ],
      "text/plain": [
       "                        test_loss  test_acc  number_of_parameters  \\\n",
       "ViT to EffNetB2 ratios   0.243161   1.02605             11.135432   \n",
       "\n",
       "                        model_size (MB)  time_per_pred_cpu  \n",
       "ViT to EffNetB2 ratios        11.275862           1.199683  "
      ]
     },
     "execution_count": 63,
     "metadata": {},
     "output_type": "execute_result"
    }
   ],
   "source": [
    "# Compare ViT to EffNetB2 across different characteristics\n",
    "pd.DataFrame(data=(df.set_index(\"model\").loc[\"ViT\"] / df.set_index(\"model\").loc[\"EffNetB2\"]), # divide ViT statistics by EffNetB2 statistics\n",
    "             columns=[\"ViT to EffNetB2 ratios\"]).T"
   ]
  },
  {
   "cell_type": "markdown",
   "id": "8f08cfa4-a662-4f07-9a39-d9a3d687c0e1",
   "metadata": {},
   "source": [
    "It seems our ViT model outperforms the EffNetB2 model across the performance metrics (test loss, where lower is better and test accuracy, where higher is better) but at the expense of having:\n",
    "- 11x+ the number of parameters.\n",
    "- 11x+ the model size.\n",
    "- 1.2x+ the prediction time per image.\n",
    "\n",
    "Are these tradeoffs worth it?\n",
    "\n",
    "Perhaps if we had unlimited computing power but for our use case of deploying for FoodVision model to a smaller device (e.g. a mobile phone), we'dl ikely start with the EffNetB2 model for faster predictions at a slightly reduced performance but drastically smaller size."
   ]
  },
  {
   "cell_type": "markdown",
   "id": "bb91ccfd-cff2-466b-9aa8-edd546eb5e3a",
   "metadata": {},
   "source": [
    "### 6.1 Visualizing the speed vs performance tradeoff\n",
    "\n",
    "We've seen that our `ViT model outperforms our EffNetB2 model` in terms of performance metrics such as `test loss and test accuracy`.\n",
    "\n",
    "However, our EffNetB2 model performs predictions faster and has a much smaller model size.\n",
    "\n",
    "**Note**: Performance or inference time is also often referred to as ***\"latency\"***.\n",
    "\n",
    "How about we make this fact visual?\n",
    "\n",
    "We can do so by creating a plot with matplotlib:\n",
    "1. Create a scatter plot from the comparison Dataframe to compare EffNetB2 and ViT `time_per_pred_cpu` and `test_acc` values.\n",
    "2. Add titles and labels respective of the data and customize the fontsize for aesthetics.\n",
    "3. Annotate the samples on the scatter plot from step 1 with their appropriate labels (the model names).\n",
    "4. Create a legend based on the model sizes (`model_size (MB)`)."
   ]
  },
  {
   "cell_type": "code",
   "execution_count": 69,
   "id": "f3b93289-78b2-4ead-8274-1f1d7b0a6033",
   "metadata": {},
   "outputs": [
    {
     "data": {
      "image/png": "[encoded data removed]",
      "text/plain": [
       "<Figure size 1200x800 with 1 Axes>"
      ]
     },
     "metadata": {},
     "output_type": "display_data"
    }
   ],
   "source": [
    "# 1. Create a plot from model comparison DataFrame\n",
    "fig, ax = plt.subplots(figsize=(12, 8))\n",
    "scatter = ax.scatter(data=df, \n",
    "                     x=\"time_per_pred_cpu\", \n",
    "                     y=\"test_acc\", \n",
    "                     c=[\"blue\", \"orange\"], # what colours to use?\n",
    "                     s=\"model_size (MB)\") # size the dots by the model sizes\n",
    "# 2. Add titles, labels and customize fontsize for aesthetics\n",
    "ax.set_title(\"FoodVision Mini Inference Speed vs Performance\", fontsize=18)\n",
    "ax.set_xlabel(\"Prediction time per image (seconds)\", fontsize=14)\n",
    "ax.set_ylabel(\"Test accuracy (%)\", fontsize=14)\n",
    "ax.tick_params(axis='both', labelsize=12)\n",
    "ax.grid(True)\n",
    "\n",
    "# 3. Annotate with model names\n",
    "for index, row in df.iterrows():\n",
    "    ax.annotate(text=row[\"model\"], # note: depending on your version of Matplotlib, you may need to use \"s=...\" or \"text=...\", see: https://github.com/faustomorales/keras-ocr/issues/183#issuecomment-977733270 \n",
    "                xy=(row[\"time_per_pred_cpu\"]+0.0002, row[\"test_acc\"]+0.03),\n",
    "                size=12)\n",
    "\n",
    "# 4. Create a legend based on model sizes\n",
    "handles, labels = scatter.legend_elements(prop=\"sizes\", alpha=0.5)\n",
    "model_size_legend = ax.legend(handles, \n",
    "                              labels, \n",
    "                              loc=\"lower right\", \n",
    "                              title=\"Model size (MB)\",\n",
    "                              fontsize=12)\n",
    "# Save the figure\n",
    "!mkdir images/\n",
    "plt.savefig(\"images/09-foodvision-mini-inference-speed-vs-performance.jpg\")\n",
    "\n",
    "# Show the figure\n",
    "plt.show()"
   ]
  },
  {
   "cell_type": "markdown",
   "id": "f69b7fd9-4bff-48b6-ac1e-b34367b87336",
   "metadata": {},
   "source": [
    "Great!!\n",
    "\n",
    "This plot visualizes the **speed vs performance tradeoff**, in toher words, when you have a larger, better performing deep model *like our ViT model), it genrally takes longer to perform inference (higher latency).\n",
    "\n",
    "**There are exceptions to the rule and new research is being published all the time to help make larger models perform faster.**\n",
    "\n",
    "And it can be tempting to just deploy the *best performing* model but it's also good to take into consideration where the model is going to be performing.\n",
    "\n",
    "In our case, the differences between our model's performance levels(on the test loss and test accuracy) aren't too extreme.\n",
    "\n",
    "But since we'd like to put an emphasis on speed to begin with, we're going to stick with deploying EffNetB2 since it's faster and has a much saller footprint.\n",
    "\n",
    "***Note:** Prediction times will be different across different hardware types (e.g. Intel i9 vs Google Colab CPU vs GPU) so it's important to think about and test where your model is going to end up. Asking questions like \"where is the model going to be run?\" or \"what is the ideal scenario for running the model?\" and then running experiments to try and provide answers on your way to deployment is very helpful.*"
   ]
  },
  {
   "cell_type": "markdown",
   "id": "31ebb7a1-1386-4921-b08f-7ab84274a7b4",
   "metadata": {},
   "source": [
    "## 7. Bring FoodVision to life by creating a Gradio Demo\n",
    "\n",
    "We've decided we'd like to deploy the EffNetB2 model (to begin with, this could always be changed later).\n",
    "\n",
    "So how can we do that?\n",
    "\n",
    "There are several ways to deploy a machine learning model wach with specific use cases (as discussed above).\n",
    "\n",
    "We're going to be focused on perhaps the quickest and certainly one of the most fun ways to get a model deployed to the internet.\n",
    "\n",
    "And thats' by using [Gradio](https://www.gradio.app/)\n",
    "\n",
    "***What's Gradio?***\n",
    "\n",
    "The homepage describes it beautifully: \n",
    "> Gradio is the fastest way to demo your machine learning model with a friendly web interface so that anyone can use it, anywhere!\n",
    "\n",
    "**Why create a demo of your models?**\n",
    "\n",
    "Because metrics on the test set look nice but you never really know how your model performs until you use it in the wild.\n",
    "\n",
    "So let's get deploying:\n",
    "\n",
    "We'll start by importing Gradio with the common alias `gr` and if it's not present, we'll install it."
   ]
  },
  {
   "cell_type": "code",
   "execution_count": 74,
   "id": "4e29a6f0-07bc-4f3a-90c0-0e8f42d6735d",
   "metadata": {},
   "outputs": [
    {
     "name": "stdout",
     "output_type": "stream",
     "text": [
      "Gradio version: 4.44.0\n"
     ]
    }
   ],
   "source": [
    "# Import/install Gradio \n",
    "try:\n",
    "    import gradio as gr\n",
    "except: \n",
    "    !pip -q install gradio\n",
    "    import gradio as gr\n",
    "    \n",
    "print(f\"Gradio version: {gr.__version__}\")"
   ]
  },
  {
   "cell_type": "markdown",
   "id": "0e28694c-0968-4505-8f72-044b09e5cffc",
   "metadata": {},
   "source": [
    "Great!\n",
    "\n",
    "Lets turn FoodVision into a demo application."
   ]
  },
  {
   "cell_type": "markdown",
   "id": "0a685950-fb1a-4303-99cc-d9054b869754",
   "metadata": {},
   "source": [
    "### 7.1 Gradio overview\n",
    "\n",
    "The overall premise of Gradio is very similar to what we've been repeating throughout the course.\n",
    "\n",
    "What are our **inputs** and **outputs**?\n",
    "\n",
    "And how should we get there?\n",
    "\n",
    "Well that's what our machine leanring model does.\n",
    "\n",
    "```\n",
    "inputs -> ML model -> outputs\n",
    "```\n",
    "\n",
    "In our case, for FoodVision, out inputs are images of food, our ML model (EffNetB2) and outputs are the classes of food (pizza, steak, or sushi).\n",
    "\n",
    "```\n",
    "images of food -> EffNetB2 -> outputs\n",
    "```\n",
    "\n",
    "Though the concepts of inputs and ouptuts can be bridged to almost any other kind of ML problem. \n",
    "\n",
    "Our inputs and outputs might be any combination of the following:\n",
    " - Images\n",
    " - Texts\n",
    " - Videos\n",
    " - Tabular data\n",
    " - Audio\n",
    " - Numbers\n",
    " - and more\n",
    "\n",
    "And the ML model you built will depend on your inputs and outputs.\n",
    "\n",
    "Gradio emulates this paradigm by creating an inferface (`gradio.Interface()`) from inputs to outputs.\n",
    "```\n",
    "gradio.Interface(fn, inputs, outputs)\n",
    "```\n",
    "\n",
    "where, `fn` is a Python function to map the `inputs` to the `outputs`\n",
    "![](09-gradio-workflow.png)\n",
    "\n",
    "*Gradio provides a very helpful `Inferface` class to easily create an `inputs -> model/function -> outputs` workflow where the inputs and outputs could be almost anything you want. For example, you might input Tweets (text) to see if they're about machine learning or not or [input a text prompt to generate images](https://huggingface.co/blog/stable_diffusion)*\n",
    "\n",
    "***Note:** Gradio has a vast number of possible `inputs` and `outputs options knows as `Components` from images to texts to numbers to audio to video and more. You can see all of them in the [Gradio Components documentation](https://www.gradio.app/docs/#components)"
   ]
  },
  {
   "cell_type": "markdown",
   "id": "a406b467-c1a6-486d-a0e1-855643b9b497",
   "metadata": {},
   "source": [
    "### 7.2 Create a function to map our inputs and outputs\n",
    "\n",
    "To create our FoodVision demo with Gradio, we'll need a function to map our inputs to our outputs.\n",
    "\n",
    "We created a function earlier called `pred_and_store()` to make predictions with a given model across a list of target files and store them in a list of dictionaries.\n",
    "\n",
    "How about we create a similar function but this time focusing on making a prediction on a single image with our EffNetB2 model??\n",
    "\n",
    "More specifically, we want a function that takes an image as input, preprocesses (transforms) it, makes a prediction with EffNetB3 and then returns the prediction (pred or pred label for short) as well as the prediction probability(pred_prob).\n",
    "\n",
    "And while we're here, lets return the time it took to do so too:\n",
    "\n",
    "```\n",
    "input: image -> transform -> predict with EffNetB2\n",
    "```\n",
    "```\n",
    "output: pred, pred prob, time taken\n",
    "```\n",
    "\n",
    "This will be our `fn` parameter for our Gradio interface.\n",
    "\n",
    "First, let's make sure EffNetB2 model is on the CPU (since we're sticking with CPU-only predictions, however we could change this if we have access to a GPU)."
   ]
  },
  {
   "cell_type": "code",
   "execution_count": 75,
   "id": "c7716741-1487-49c6-8564-f11ab750602b",
   "metadata": {},
   "outputs": [
    {
     "data": {
      "text/plain": [
       "device(type='cpu')"
      ]
     },
     "execution_count": 75,
     "metadata": {},
     "output_type": "execute_result"
    }
   ],
   "source": [
    "# put EffNetB2 on a CPU\n",
    "effnetb2.to('cpu')\n",
    "\n",
    "# check the device\n",
    "next(iter(effnetb2.parameters())).device"
   ]
  },
  {
   "cell_type": "markdown",
   "id": "0148b2c8-440b-4d28-ad71-fcd8c3febc2e",
   "metadata": {},
   "source": [
    "And now let's create a function called `predict()` to replicate the workflow above."
   ]
  },
  {
   "cell_type": "code",
   "execution_count": 80,
   "id": "e25012b5-0049-499d-a446-168a0633d6df",
   "metadata": {},
   "outputs": [],
   "source": [
    "from typing import Tuple, Dict\n",
    "\n",
    "def predict(img) -> Tuple[Dict, float]:\n",
    "    \"\"\"\n",
    "    Transforms and performs a prediction on img and returns prediction and time taken.\n",
    "    \"\"\"\n",
    "    # Start the timer\n",
    "    start_time = timer()\n",
    "    \n",
    "    # Transform the target image and add a batch dimension\n",
    "    img = effnetb2_transforms(img).unsqueeze(0)\n",
    "    \n",
    "    # Put model into evaluation mode and turn on inference mode\n",
    "    effnetb2.eval()\n",
    "    with torch.inference_mode():\n",
    "        # Pass the transformed image through the model and turn the prediction logits into prediction probabilities\n",
    "        pred_probs = torch.softmax(effnetb2(img), dim=1)\n",
    "    \n",
    "    # Create a prediction label and prediction probability dictionary for each prediction class \n",
    "    # this is the required format for Gradio's output parameter\n",
    "    pred_labels_and_probs = {class_names[i]: float(pred_probs[0][i]) for i in range(len(class_names))}\n",
    "    \n",
    "    # Calculate the prediction time\n",
    "    pred_time = round(timer() - start_time, 5)\n",
    "    \n",
    "    # Return the prediction dictionary and prediction time \n",
    "    return pred_labels_and_probs, pred_time"
   ]
  },
  {
   "cell_type": "markdown",
   "id": "04f3c0e0-3587-44e4-9b3f-96ea539eb6c6",
   "metadata": {},
   "source": [
    "Now let's see our function in action by performing aprediction on a random image from the test dataset.\n",
    "\n",
    "We'll start by getting a list of all the image paths from the test directory and then randomly selecting one.\n",
    "\n",
    "Then we'll open the randomly selected image with `PIL.Image.open()`.\n",
    "\n",
    "Finally we'll pass the image to our `predict()` function."
   ]
  },
  {
   "cell_type": "code",
   "execution_count": 88,
   "id": "475b72a5-4a7e-4fee-8093-01e8de014e44",
   "metadata": {},
   "outputs": [
    {
     "name": "stdout",
     "output_type": "stream",
     "text": [
      "[INFO] Predicting on image at path: data/pizza_steak_sushi_20_percent/test/sushi/1844723.jpg\n",
      "\n",
      "Prediction label and probability dictionary: \n",
      "{'pizza': 0.052008844912052155, 'steak': 0.12069028615951538, 'sushi': 0.8273008465766907}\n",
      "Prediction time: 0.05934 seconds\n"
     ]
    }
   ],
   "source": [
    "import random\n",
    "from PIL import Image\n",
    "\n",
    "# Get a list of all test image filepaths\n",
    "test_data_paths = list(Path(test_dir).glob(\"*/*.jpg\"))\n",
    "\n",
    "# Randomly select a test image path\n",
    "random_image_path = random.sample(test_data_paths, k=1)[0]\n",
    "\n",
    "# Open the target image\n",
    "image = Image.open(random_image_path)\n",
    "print(f\"[INFO] Predicting on image at path: {random_image_path}\\n\")\n",
    "\n",
    "# Predict on the target image and print out the outputs\n",
    "pred_dict, pred_time = predict(img=image)\n",
    "print(f\"Prediction label and probability dictionary: \\n{pred_dict}\")\n",
    "print(f\"Prediction time: {pred_time} seconds\")"
   ]
  },
  {
   "cell_type": "markdown",
   "id": "5cfd9e20-d68b-498a-8f70-b3bacb53ec7e",
   "metadata": {},
   "source": [
    "Great!\n",
    "\n",
    "Running the cell above a few times we can see different prediction probabilities for each label from our EffNetB2 model as well as the time it took per prediction."
   ]
  },
  {
   "cell_type": "markdown",
   "id": "f1f9830f-37de-4597-8309-b69985a85de0",
   "metadata": {},
   "source": [
    "### 7.3 Creating a list of example images\n",
    "\n",
    "Our `predict()` function enables us to go from `inputs -> transform -> ML model -> outputs`.\n",
    "\n",
    "**Which is exactly what we need for our Graido demo.**\n",
    "\n",
    "But before we create the demo, let's create one more thing: *a list of examples*.\n",
    "\n",
    "Gradio's `Interface` class takes a list of `examples` as an optional parameter (`radio.Interface(examples=List[Any])`)\n",
    "\n",
    "And the format for the `examples` parameter is a list of lists.\n",
    "\n",
    "So let's create a list of lists containing random filepaths to out test images.\n",
    "\n",
    "Three examples should be enough."
   ]
  },
  {
   "cell_type": "code",
   "execution_count": 89,
   "id": "ac61d11e-e443-4277-a551-03e44a8d50f1",
   "metadata": {},
   "outputs": [
    {
     "data": {
      "text/plain": [
       "[['data/pizza_steak_sushi_20_percent/test/sushi/46797.jpg'],\n",
       " ['data/pizza_steak_sushi_20_percent/test/sushi/2378406.jpg'],\n",
       " ['data/pizza_steak_sushi_20_percent/test/steak/670345.jpg']]"
      ]
     },
     "execution_count": 89,
     "metadata": {},
     "output_type": "execute_result"
    }
   ],
   "source": [
    "# Create a list of example inputs to our Gradio demo\n",
    "example_list = [[str(filepath)] for filepath in random.sample(test_data_paths, k=3)]\n",
    "example_list"
   ]
  },
  {
   "cell_type": "markdown",
   "id": "a6cfddf2-8f2c-4633-b2b8-7a2d1264c9d6",
   "metadata": {},
   "source": [
    "Great!\n",
    "\n",
    "Our Gradio demo will showcase these as example inputs to our demo so people can try it out and see what it does without uploading any of their own data."
   ]
  },
  {
   "cell_type": "markdown",
   "id": "eb57dd21-fdc7-497c-9302-bbca44ae4604",
   "metadata": {},
   "source": [
    "### 7.4 Building a Gradio Interface\n",
    "\n",
    "Time to put everything together and bring our FoodVision demo to life!\n",
    "\n",
    "Let's create a Gradio interface to replicate the workflow:\n",
    "\n",
    "```\n",
    "input: image -> transform -> predict with EffNetB2\n",
    "output: pred, pred prob, time taken\n",
    "```\n",
    "\n",
    "We can do with the [`gradio.Interface()`](https://www.gradio.app/docs) class with the following parameters:\n",
    "- `fn` - a Python function to map `inputs` to `outputs`, in our case `predict()` function\n",
    "- `inputs` - the input to our interface, such as an image using `gradio.Image()` or image`\n",
    "- `outputs` - the output of our interface once the `inputs` have gone through the `fn`, such as label using `gradio.Label()` (for our model's predicted labels) or number using `gradio.Number()`(for our model's prediction time\n",
    "  - **Note**: Gradio comes with many `in-built inputs and outputs` options known as `Components`.\n",
    "- `examples` - a list of examples to showcase for the demo.\n",
    "- `title` - a string title of the demo.\n",
    "- `description` - a string description of the demo.\n",
    "- `article` - a reference note at the bottom of the demo.\n",
    "\n",
    "Once we've created our demo instace of `gr.Interface()`, we can bring it to life using `gradio.Interface().launch()` or `demo.launch()` command"
   ]
  },
  {
   "cell_type": "code",
   "execution_count": 91,
   "id": "1a00be62-130c-4bfa-bd01-80ace5add7b5",
   "metadata": {},
   "outputs": [
    {
     "name": "stdout",
     "output_type": "stream",
     "text": [
      "Running on local URL:  http://127.0.0.1:7860\n",
      "Running on public URL: https://194bee30a92c6e6146.gradio.live\n",
      "\n",
      "This share link expires in 72 hours. For free permanent hosting and GPU upgrades, run `gradio deploy` from Terminal to deploy to Spaces (https://huggingface.co/spaces)\n"
     ]
    },
    {
     "data": {
      "text/html": [
       "<div><iframe src=\"https://194bee30a92c6e6146.gradio.live\" width=\"100%\" height=\"500\" allow=\"autoplay; camera; microphone; clipboard-read; clipboard-write;\" frameborder=\"0\" allowfullscreen></iframe></div>"
      ],
      "text/plain": [
       "<IPython.core.display.HTML object>"
      ]
     },
     "metadata": {},
     "output_type": "display_data"
    },
    {
     "data": {
      "text/plain": []
     },
     "execution_count": 91,
     "metadata": {},
     "output_type": "execute_result"
    }
   ],
   "source": [
    "import gradio as gr\n",
    "\n",
    "# create title, description, and article strings\n",
    "title = 'FoodVision 🍕🥩🍣'\n",
    "description = \"An EfficientNetB2 feature extractor computer vision model to classify images of food as pizza, steak or sushi.\"\n",
    "article = \"Created at [09. PyTorch Model Deployment](https://www.learnpytorch.io/09_pytorch_model_deployment/).\"\n",
    "\n",
    "# Create the Gradio demo\n",
    "demo = gr.Interface(fn=predict,\n",
    "                    inputs=gr.Image(type='pil'),\n",
    "                    outputs=[gr.Label(num_top_classes=3, label=\"Predictions\"), # what are the outputs?\n",
    "                             gr.Number(label=\"Prediction time (s)\")], # our fn has two outputs, therefore we have two outputs\n",
    "                    examples=example_list, \n",
    "                    title=title,\n",
    "                    description=description,\n",
    "                    article=article)\n",
    "# Launch the demo!\n",
    "demo.launch(debug=False, # print errors locally?\n",
    "            share=True) # generate a publically shareable URL?"
   ]
  },
  {
   "cell_type": "markdown",
   "id": "0bf6866d-3ef2-4c01-acd8-46795e6b4570",
   "metadata": {},
   "source": [
    "the link when running from Google Colab only lasts for 72 hours). You can see the [permanent live demo on Hugging Face Spaces](https://huggingface.co/spaces/mrdbourke/foodvision_mini).\n",
    "\n",
    "Woohoo!!! What an epic demo!!!\n",
    "\n",
    "FoodVision Mini has officially come to life in an interface someone could use and try out.\n",
    "\n",
    "If we set the parameter `share=True` in the `launch()` method, Gradio also provides us with a shareable link such as `https://194bee30a92c6e6146.gradio.live/` (this link is an example only and likely expired) which is valid for 72-hours.\n",
    "\n",
    "The link provides a proxy back to the Gradio interface you launched.\n",
    "\n",
    "For more permanent hosting, we can upload our Gradio app to [Hugging Face Spaces](https://huggingface.co/spaces) or anywhere that runs Python code."
   ]
  },
  {
   "cell_type": "markdown",
   "id": "08915b6c-4732-478a-b0a1-a866019c4384",
   "metadata": {},
   "source": [
    "## 8. Turning our FoodVision Gradio Demo into a deployable app\n",
    "\n",
    "We've seen our FoodVision model come to life through a Gradio demo.\n",
    "\n",
    "But what if we wanted to share it with our friends?\n",
    "\n",
    "Well, we could use the provided Gradio link, however, the shared link only lasts for 72-hours.\n",
    "\n",
    "To make our FoodVision Mini demo more permanent, we can package it into an app and upload it to [HuggingFace Spaces](https://huggingface.co/spaces/launch)."
   ]
  },
  {
   "cell_type": "markdown",
   "id": "0011f8ec-8962-4511-b337-99ee87fbc34b",
   "metadata": {},
   "source": [
    "### 8.1 What is a HuggingFace Spaces?\n",
    "\n",
    "HuggingFaces Spaces is a resource that allows you to host and share machine learning apps.\n",
    "\n",
    "Building a demo is one of the best ways to showcase and test what you've done.\n",
    "\n",
    "And Spaces allows you to do just that.\n",
    "\n",
    "***You can think of HuggingFace as the GitHub of machine learning.***\n",
    "\n",
    "If having a good GithHub portfolio showcases your coding abilities, having a good HuggingFace portfolio can showcase your machine learning abilitites.\n",
    "\n",
    "***Note:** There are many other palces we could upload and host our Gradio apps such as, `Google Cloud, AWS, or other cloud vendors`, however, we're going to use HuggingFace Spaces due to the ease of use and wide adoption by the machine learning community.*"
   ]
  },
  {
   "cell_type": "markdown",
   "id": "6b0cd607-1795-4eac-88eb-2c71baaf1afa",
   "metadata": {},
   "source": [
    "### 8.2 Deployed Gradio app structure\n",
    "\n",
    "To upload our demo Gradio app, we'll want to put everything relating to it into a single directory.\n",
    "\n",
    "For example, our demo might live at the path `demos/foodvision_mini/` with the file structure:\n",
    "\n",
    "```\n",
    "demos/\n",
    "└── foodvision_mini/\n",
    "    ├── 09_pretrained_effnetb2_feature_extractor_pizza_steak_sushi_20_percent.pth\n",
    "    ├── app.py\n",
    "    ├── examples/\n",
    "    │   ├── example_1.jpg\n",
    "    │   ├── example_2.jpg\n",
    "    │   └── example_3.jpg\n",
    "    ├── model.py\n",
    "    └── requirements.txt\n",
    "```\n",
    "\n",
    "Where:\n",
    "- `09_pretrained_effnetb2_feature_extractor_pizza_steak_sushi_20_percent.pth` is our trained PyTorch model file.\n",
    "- `app.py` contains our Gradio app (similar to the code that launched the app).\n",
    "  - **Note:** `app.py` is the default filename used for HUgging Face Spaces, if you deploy your app there, Spaces will by default look for a file called `app.py` to run. This is changeable in settings.\n",
    "  - `examples/` contains example images to use with our Gradio app.\n",
    "  - `requirements.txt` contains the dependencies to run our app such as `torch`, `torchvision`, and `gradio`\n",
    "\n",
    "***Why this way?**\n",
    "\n",
    "Because it's one of the simplest layouts we could begin with.\n",
    "\n",
    "Our focus is: *experiment, experiment, and experiment!*\n",
    "\n",
    "The quicker we can run smaller experiments, the better our bigger ones will be. \n",
    "\n",
    "We're going to work towards recreating the structure above but you can see a live demo app running on Hugging Face Spaces as well as the file structure:\n",
    "- [Live Gradio demo of FoodVision Mini 🍕🥩🍣](https://huggingface.co/spaces/mrdbourke/foodvision_mini).\n",
    "- [FoodVision Mini file structure on Hugging Face Spaces](https://huggingface.co/spaces/mrdbourke/foodvision_mini/tree/main)."
   ]
  },
  {
   "cell_type": "markdown",
   "id": "9b0e5d45-f962-4c90-b2b8-971e441c0b14",
   "metadata": {},
   "source": [
    "### 8.3 Creating a `demos` folder to store our FoodVision Mini app files.\n",
    "\n",
    "To begin, let's first create a `demos/` directory to store all of our FoodVision app files.\n",
    "\n",
    "We can do with Python's `pathlib.Path('path_do_dir')` to establish the directory path and `pathlib.Path('path_to_dir').mkdir()` to create it."
   ]
  },
  {
   "cell_type": "code",
   "execution_count": 92,
   "id": "0a1123c4-e02b-412e-9032-e65f6e70f38f",
   "metadata": {},
   "outputs": [],
   "source": [
    "import shutil\n",
    "from pathlib import Path\n",
    "\n",
    "# Create FoodVision demo path\n",
    "foodvision_mini_demo_path = Path('demos/foodvision_mini/')\n",
    "\n",
    "# Remove files that might already exist there and create new directory\n",
    "if foodvision_mini_demo_path.exists():\n",
    "    shutil.rmtree(foodvision_mini_demo_path)\n",
    "\n",
    "# if the file doesnt exist, create it anyway\n",
    "foodvision_mini_demo_path.mkdir(parents=True, exist_ok=True)\n",
    "\n",
    "# check what's in the folder\n",
    "!ls demos/foodvision_mini/"
   ]
  },
  {
   "cell_type": "markdown",
   "id": "7801948e-b787-475d-af06-c91415cca881",
   "metadata": {},
   "source": [
    "### 8.4 Creating a folder of example images to use with our FoodVision demo\n",
    "\n",
    "Now we've got a directory to store our FoodVision Mini demo files, let's add some examples to it.\n",
    "\n",
    "Three example images from the test dataset should be enough.\n",
    "\n",
    "To do so we'll:\n",
    "\n",
    "1. Create an `examples/` directory within the `demos/foodvision_mini` directory.\n",
    "2. Choose three random images from the test dataset and collect their filepaths in a list.\n",
    "3. Copy the three random images from the test dataset to the `demos/foodvision_mini/examples/` directory."
   ]
  },
  {
   "cell_type": "code",
   "execution_count": 94,
   "id": "fe1853e8-e03e-41d5-a9eb-61705d3918ac",
   "metadata": {},
   "outputs": [
    {
     "name": "stdout",
     "output_type": "stream",
     "text": [
      "[INFO] Copying data/pizza_steak_sushi_20_percent/test/sushi/592799.jpg to demos/foodvision_mini/examples/592799.jpg\n",
      "[INFO] Copying data/pizza_steak_sushi_20_percent/test/steak/3622237.jpg to demos/foodvision_mini/examples/3622237.jpg\n",
      "[INFO] Copying data/pizza_steak_sushi_20_percent/test/pizza/2582289.jpg to demos/foodvision_mini/examples/2582289.jpg\n"
     ]
    }
   ],
   "source": [
    "import shutil\n",
    "from pathlib import Path\n",
    "\n",
    "# 1. Create an examples directory\n",
    "foodvision_mini_examples_path = foodvision_mini_demo_path / 'examples'\n",
    "foodvision_mini_examples_path.mkdir(parents=True, exist_ok=True)\n",
    "\n",
    "# 2. Collect three random test dataset image paths\n",
    "foodvision_mini_examples = [Path('data/pizza_steak_sushi_20_percent/test/sushi/592799.jpg'),\n",
    "                            Path('data/pizza_steak_sushi_20_percent/test/steak/3622237.jpg'),\n",
    "                            Path('data/pizza_steak_sushi_20_percent/test/pizza/2582289.jpg')]\n",
    "\n",
    "# 3. Copy the three random images to the examples directory\n",
    "for example in foodvision_mini_examples:\n",
    "    destination = foodvision_mini_examples_path / example.name\n",
    "    print(f\"[INFO] Copying {example} to {destination}\")\n",
    "    shutil.copy2(src=example, dst=destination)"
   ]
  },
  {
   "cell_type": "markdown",
   "id": "967add78-ad28-4146-93f9-e31835a8a096",
   "metadata": {},
   "source": [
    "Now to verify our examples are present, let's list the contents of our `demos/foodvision_mini/examples/` directory with `os.listdir()` and then format the filepaths into a list of lists (so it's compatible with Gradio's `gradio.Interface()` `example parameter)"
   ]
  },
  {
   "cell_type": "code",
   "execution_count": 97,
   "id": "32ba36b2-ecd5-4cdb-aa21-fd83ba8d0f40",
   "metadata": {},
   "outputs": [
    {
     "data": {
      "text/plain": [
       "[['examples/2582289.jpg'], ['examples/592799.jpg'], ['examples/3622237.jpg']]"
      ]
     },
     "execution_count": 97,
     "metadata": {},
     "output_type": "execute_result"
    }
   ],
   "source": [
    "import os\n",
    "\n",
    "# Get example filepaths in a list of lists\n",
    "example_list = [['examples/' + example] for example in os.listdir(foodvision_mini_examples_path)]\n",
    "example_list"
   ]
  },
  {
   "cell_type": "markdown",
   "id": "3a2f12fc-cfb7-4ab7-b140-3ca602be40f5",
   "metadata": {},
   "source": [
    "### 8.5 Moving our trained EffNetB2 model to our FoodVision mini demo directory.\n",
    "\n",
    "We previously saved our FoodVision Mini EffNetB2 feature extractor model under `models/09_pretrained_effnetb2_feature_extractor_pizza_steak_sushi_20_percent.pth`\n",
    "\n",
    "And rather double up on saved model files, let's move our model to our `demos/foodvision_mini` directory.\n",
    "\n",
    "We can do so using Python's [`shutil.move()`](https://docs.python.org/3/library/shutil.html#shutil.move) method and passing in `src` and `dst` parameters."
   ]
  },
  {
   "cell_type": "code",
   "execution_count": 99,
   "id": "37414990-cd4f-45b0-963d-63a0f2de4f5e",
   "metadata": {},
   "outputs": [
    {
     "name": "stdout",
     "output_type": "stream",
     "text": [
      "[INFO] Attempting to move models/09_pretrained_effnetb2_feature_extractor_pizza_steak_sushi_20_percent.pth to demos/foodvision_mini/09_pretrained_effnetb2_feature_extractor_pizza_steak_sushi_20_percent.pth\n",
      "[INFO] Model move complete.\n"
     ]
    }
   ],
   "source": [
    "import shutil\n",
    "\n",
    "# create a source path for our target model\n",
    "effnetb2_foodvision_mini_model_path = 'models/09_pretrained_effnetb2_feature_extractor_pizza_steak_sushi_20_percent.pth'\n",
    "\n",
    "# Try to move the file\n",
    "effnetb2_foodvision_mini_model_destination = foodvision_mini_demo_path / effnetb2_foodvision_mini_model_path.split(\"/\")[1]\n",
    "\n",
    "effnetb2_foodvision_mini_model_destination\n",
    "\n",
    "# tryo to move the file\n",
    "try:\n",
    "    print(f\"[INFO] Attempting to move {effnetb2_foodvision_mini_model_path} to {effnetb2_foodvision_mini_model_destination}\")\n",
    "    \n",
    "    # move the model\n",
    "    shutil.move(src=effnetb2_foodvision_mini_model_path,\n",
    "                dst=effnetb2_foodvision_mini_model_destination)\n",
    "    \n",
    "    print(f\"[INFO] Model move complete.\")\n",
    "# If the model has already been moved, check if it exists\n",
    "except:\n",
    "    print(f\"[INFO] No model found at {effnetb2_foodvision_mini_model_path}, perhaps its already been moved?\")\n",
    "    print(f\"[INFO] Model exists at {effnetb2_foodvision_mini_model_destination}: {effnetb2_foodvision_mini_model_destination.exists()}\")"
   ]
  },
  {
   "cell_type": "markdown",
   "id": "da25c4ae-a575-4b6a-af73-8a36fedd7d11",
   "metadata": {},
   "source": [
    "### 8.6 Turning our EffNetB2 model into a Python script (`model.py`)\n",
    "\n",
    "Our current model's `state_dict` is saved to `demos/foodvision_mini/09_pretrained_effnetb2_feature_extractor_pizza_steak_sushi_20_percent.pth`.\n",
    "\n",
    "To load it in we can use `model.load_state_dict()` along with `torch.load()`.\n",
    "\n",
    "But before we can do this, we first need a way to instantiate a `model`.\n",
    "\n",
    "To do this in a modular fashion we'll create a script called `model.py` which contains our `create_effnetb2_model()` function we created in `section 3.1: Creating a function to make an EffNetB2 feature extractor`\n",
    "\n",
    "That way we can import the function in *another* script (see `app.py` below) and then use it to create our EffNetB2 `model` instance as well as get its appropriate transforms.\n",
    "\n",
    "Just like in 05. PyTorch Going Modular, we'll use the `%%writefile path/to/file` magic command to turn a cell of code into a file."
   ]
  },
  {
   "cell_type": "code",
   "execution_count": 100,
   "id": "2c5dd618-44ab-412f-bd88-72624eb6e9eb",
   "metadata": {},
   "outputs": [
    {
     "name": "stdout",
     "output_type": "stream",
     "text": [
      "Writing demos/foodvision_mini/model.py\n"
     ]
    }
   ],
   "source": [
    "%%writefile demos/foodvision_mini/model.py\n",
    "import torch\n",
    "import torchvision\n",
    "\n",
    "from torch import nn\n",
    "\n",
    "def create_effnetb2_model(num_classes:int=3,\n",
    "                          seed:int=42):\n",
    "    \"\"\"Creates an EfficientNetB2 feature extractor model and transforms.\n",
    "\n",
    "    Args:\n",
    "        num_classes (int, optional): number of classes in the classifier head. \n",
    "            Defaults to 3.\n",
    "        seed (int, optional): random seed value. Defaults to 42.\n",
    "\n",
    "    Returns:\n",
    "        model (torch.nn.Module): EffNetB2 feature extractor model. \n",
    "        transforms (torchvision.transforms): EffNetB2 image transforms.\n",
    "    \"\"\"\n",
    "    # create EffNetB2 pretrained weights, transforms, and model\n",
    "    weights = torchvision.models.EfficientNet_B2_Weights.DEFAULT\n",
    "    transforms = weights.transforms()\n",
    "    model = torchvision.models.efficientnet_b2(weights=weights)\n",
    "\n",
    "    # freeze all the layers in the base model\n",
    "    for param in model.features.parameters():\n",
    "        param.requires_grad = False\n",
    "\n",
    "    # change the classifier head with random seed for reproducibility\n",
    "    torch.manual_seed(seed)\n",
    "    model.classifier = nn.Sequential(\n",
    "        nn.Dropout(p=0.3, inplace=True),\n",
    "        nn.Linear(in_features=1408, out_features=num_classes)\n",
    "    )\n",
    "\n",
    "    return model, transforms"
   ]
  },
  {
   "cell_type": "markdown",
   "id": "e93a19e9-9a77-4380-816f-d53d2714d231",
   "metadata": {},
   "source": [
    "### 8.7 Turning our FoodVision Mini Gradio app into a Python script (`app.py`)\n",
    "\n",
    "We've now got a `model.py` script as well as a path to a saved model `state_dict` that we can load in.\n",
    "\n",
    "Time to construct `app.py`\n",
    "\n",
    "We call it `app.py` because by default when we create a HuggingFace Space, it looks for a file called `app.py` to run and host (though you can change this in settings).\n",
    "\n",
    "our `app.py` script will put together all of the pieces of the puzzle to create our Gradio demo and will have four main parts:\n",
    "1. **Imports and class names setup** - Here we'll import the various dependencies for our demo including the `create_effnetb2_model()` function from `model.py` as well as setup the different class names for our FoodVision Mini app.\n",
    "2. **Model and transforms preparation** - Here we'll create an EffNetB2 model instance along with the transforms to go with it and then we'll load in the saved model weights `state_dict`. When we load the model we'll also set `map_location=torch.device('cpu')` in `torch.load()` so our model gets loaded onto the CPU regardless of the device it trained on (we do this because we won't necessarily have a GPU when we deploy and we'll get an error if our model is trained on GPU but we try to deploy it to CPU without explicitly saying so),\n",
    "3. **Predict function** - Gradio's `gradio.Interface()` takes an `fn` parameter to map inputs to outputs, our `predict()` function will be the same as the on we defined above in `section 7.2: Creating a function to map our inputs and outputs`, it will take in an image and then use the loaded transforms to preprocess it before using the loaded model to make a prediction on it.\n",
    "   - **Note:** We'll have to create the example list on the fly via the `examples` parameter. We can do so by creating a list of the filest inside the `examples/` directory with: [[f'examples/{example}']for examples in os.listdir('examples')].\n",
    "4. **Gradio app** - This is where the main logic of our demo will live, we'll create a `gradio.Interface()` instance called `demo` to put together our inputs, `predict()` function and outputs, And we'll finish the script by calling `demo.launch()` to launch our FoodVision demo!"
   ]
  },
  {
   "cell_type": "code",
   "execution_count": 102,
   "id": "23724edb-f43a-48d9-b0fb-f1906dbd43fd",
   "metadata": {},
   "outputs": [
    {
     "name": "stdout",
     "output_type": "stream",
     "text": [
      "Writing demos/foodvision_mini/app.py\n"
     ]
    }
   ],
   "source": [
    "%%writefile demos/foodvision_mini/app.py\n",
    "### 1. Imports and class names setup ### \n",
    "import gradio as gr\n",
    "import os\n",
    "import torch\n",
    "\n",
    "from model import create_effnetb2_model\n",
    "from timeit import default_timer as timer\n",
    "from typing import Tuple, Dict\n",
    "\n",
    "# Setup class names\n",
    "class_names = [\"pizza\", \"steak\", \"sushi\"]\n",
    "\n",
    "### 2. Model and transforms preparation ###\n",
    "\n",
    "# Create EffNetB2 model\n",
    "effnetb2, effnetb2_transforms = create_effnetb2_model(\n",
    "    num_classes=3, # len(class_names) would also work\n",
    ")\n",
    "\n",
    "# Load saved weights\n",
    "effnetb2.load_state_dict(\n",
    "    torch.load(\n",
    "        f=\"09_pretrained_effnetb2_feature_extractor_pizza_steak_sushi_20_percent.pth\",\n",
    "        map_location=torch.device(\"cpu\"),  # load to CPU\n",
    "    )\n",
    ")\n",
    "\n",
    "### 3. Predict function ###\n",
    "\n",
    "# Create predict function\n",
    "def predict(img) -> Tuple[Dict, float]:\n",
    "    \"\"\"Transforms and performs a prediction on img and returns prediction and time taken.\n",
    "    \"\"\"\n",
    "    # Start the timer\n",
    "    start_time = timer()\n",
    "    \n",
    "    # Transform the target image and add a batch dimension\n",
    "    img = effnetb2_transforms(img).unsqueeze(0)\n",
    "    \n",
    "    # Put model into evaluation mode and turn on inference mode\n",
    "    effnetb2.eval()\n",
    "    with torch.inference_mode():\n",
    "        # Pass the transformed image through the model and turn the prediction logits into prediction probabilities\n",
    "        pred_probs = torch.softmax(effnetb2(img), dim=1)\n",
    "    \n",
    "    # Create a prediction label and prediction probability dictionary for each prediction class (this is the required format for Gradio's output parameter)\n",
    "    pred_labels_and_probs = {class_names[i]: float(pred_probs[0][i]) for i in range(len(class_names))}\n",
    "    \n",
    "    # Calculate the prediction time\n",
    "    pred_time = round(timer() - start_time, 5)\n",
    "    \n",
    "    # Return the prediction dictionary and prediction time \n",
    "    return pred_labels_and_probs, pred_time\n",
    "\n",
    "### 4. Gradio app ###\n",
    "\n",
    "# Create title, description and article strings\n",
    "title = \"FoodVision Mini 🍕🥩🍣\"\n",
    "description = \"An EfficientNetB2 feature extractor computer vision model to classify images of food as pizza, steak or sushi.\"\n",
    "article = \"Created at [09. PyTorch Model Deployment](https://www.learnpytorch.io/09_pytorch_model_deployment/).\"\n",
    "\n",
    "# Create examples list from \"examples/\" directory\n",
    "example_list = [[\"examples/\" + example] for example in os.listdir(\"examples\")]\n",
    "\n",
    "# Create the Gradio demo\n",
    "demo = gr.Interface(fn=predict, # mapping function from input to output\n",
    "                    inputs=gr.Image(type=\"pil\"), # what are the inputs?\n",
    "                    outputs=[gr.Label(num_top_classes=3, label=\"Predictions\"), # what are the outputs?\n",
    "                             gr.Number(label=\"Prediction time (s)\")], # our fn has two outputs, therefore we have two outputs\n",
    "                    # Create examples list from \"examples/\" directory\n",
    "                    examples=example_list, \n",
    "                    title=title,\n",
    "                    description=description,\n",
    "                    article=article)\n",
    "\n",
    "# Launch the demo!\n",
    "demo.launch()\n",
    "# 1. Imports and class name\n",
    "import gradio as gr\n",
    "import os\n",
    "import torch\n",
    "\n",
    "from model import create_effnetb2_model\n",
    "from timeit import default_timer as timer\n",
    "from typing import Tuple, Dict\n",
    "\n",
    "# setup class name\n",
    "class_names = ['pizza', 'steak', 'sushi']\n",
    "\n",
    "# 2. Model and transforms preparation\n",
    "\n",
    "# create effnetb2 model\n",
    "effnetb2, effnetb2_transforms = create_effnetb2_model(num_classes=3)\n",
    "\n",
    "# load saved weights\n",
    "effnetb2.load_state_dict(\n",
    "    torch.load(f='09_pretrained_effnetb2_feature_extractor_pizza_steak_sushi_20_percent',\n",
    "               map_location = torch.device('cpu')\n",
    "              )\n",
    ")\n",
    "\n",
    "# 3. predict function\n",
    "\n",
    "# create predict function\n",
    "def predict(img) -> Tuple[Dict, float]:\n",
    "    \"\"\"\n",
    "    Transforms and performs a prediction on img and returns prediction and time taken.\n",
    "    \"\"\"\n",
    "    # start the timer\n",
    "    start_time = timer()\n",
    "\n",
    "    # transform the target img and add a batch dimension\n",
    "    img = effnetb2_transforms(img).unsqueeze(dim=0)\n",
    "\n",
    "    # put model into evaluation mode and turn on inference mode\n",
    "    effnetb2.eval()\n",
    "    with torch.inference_mode():\n",
    "        # pass the transformed image through the model and turn the prediction logits into prediction probabilities\n",
    "        pred_probs = torch.softmax(effnetb2(img), dim=1)\n",
    "    # create a prediction label and prediction probability dictionary for each prediction class\n",
    "    # this is the required format for Gradio's output\n",
    "    pred_labels_and_probs = {class_names[i]: float(pred_probs[0][1]) for i in range(len(class_names))}\n",
    "    \n",
    "    # end time\n",
    "    end_time = timer()\n",
    "\n",
    "    # calculate the prediction time\n",
    "    pred_time = round(end_time - start_time, 5)\n",
    "\n",
    "    return pred_labels_and_probs, pred_time\n",
    "\n",
    "# 4. Gradio App\n",
    "\n",
    "# Create titme, description, and article strings\n",
    "title = \"FoodVision Mini 🍕🥩🍣\"\n",
    "description = \"An EfficientNetB2 feature extractor computer vision model to classify images of food as pizza, steak or sushi.\"\n",
    "article = \"Learned from [09. PyTorch Model Deployment](https://www.learnpytorch.io/09_pytorch_model_deployment/).\"\n",
    "\n",
    "# create examples list from 'examples/' directory\n",
    "example_list = [[f'examples/{example}'] for example in os.listdir('examples')]\n",
    "\n",
    "# Create the Gradio demo\n",
    "demo = gr.Interface(fn=predict,\n",
    "                    inputs=gr.Image(type='pil'),\n",
    "                    outputs=[gr.Label(num_top_classes=3, label='Prediction'),\n",
    "                            gr.Number(label='Prediction time(s)')],\n",
    "                    examples=example_list,\n",
    "                    title=title,\n",
    "                    description=description,\n",
    "                    article=article)\n",
    "\n",
    "# launch the demo!\n",
    "demo.launch()"
   ]
  },
  {
   "cell_type": "markdown",
   "id": "ccbb4555-6a7e-4954-8ab1-768dc4804a2e",
   "metadata": {},
   "source": [
    "### 8.8 Creating a requirements file for FoodVision (`requirements.txt`)\n",
    "\n",
    "The last file we need to create for our FoodVision app is a `requirements.txt` file.\n",
    "\n",
    "This will be a text file containing all of the required dependencies for our demo.\n",
    "\n",
    "When we deploy our demo app to HuggingFace Spaces, it will search through this file and install the dependencies we define so our app can run.\n",
    "\n",
    "The good news is, there's only three!\n",
    "1. torch==2.2.2\n",
    "2. torchvision==0.17.2\n",
    "3. gradio==4.44.0\n",
    "  \n",
    "Defining the version number is not 100% required but we will for now so if any breaking updates occur in future releases, our app still runs"
   ]
  },
  {
   "cell_type": "code",
   "execution_count": 109,
   "id": "906b9cea-d135-4bb8-b1e8-e043a64877a6",
   "metadata": {},
   "outputs": [
    {
     "name": "stdout",
     "output_type": "stream",
     "text": [
      "Overwriting demos/foodvision_mini/requirements.txt\n"
     ]
    }
   ],
   "source": [
    "%%writefile demos/foodvision_mini/requirements.txt\n",
    "torch==2.2.2\n",
    "torchvision==0.17.2\n",
    "gradio==4.44.0\n",
    "numpy==1.26.4"
   ]
  },
  {
   "cell_type": "markdown",
   "id": "3ef8ce84-5623-493c-aa36-b6144384e8d9",
   "metadata": {},
   "source": [
    "Nice!\n",
    "\n",
    "We've officially got all the files we need to deploy our FoodVision Mini demo"
   ]
  },
  {
   "cell_type": "markdown",
   "id": "9d074b3c-48a0-498b-8f22-29e7dd7b905a",
   "metadata": {},
   "source": [
    "## 9. Deploying our FoodVision app to HuggingFace Spaces\n",
    "\n",
    "We've got a file containing our FoodVision demo, now how do we get it to run on HuggingFace Spaces?\n",
    "\n",
    "There are two main options for uploading to a HuggingFace Space (also called a [`HuggingFace Repository`](https://huggingface.co/docs/hub/repositories-getting-started#getting-started-with-repositories), similar to a git repository):\n",
    "1. [Uploading via the HuggingFace Web interface (easiest)](https://huggingface.co/docs/hub/repositories-getting-started#adding-files-to-a-repository-web-ui)\n",
    "2. [Uploading via the command line or terminal](https://huggingface.co/docs/hub/repositories-getting-started#terminal)\n",
    "   - **Bonus**: We can also use the `huggingface_hub` library to interact with Huggface, this would be a good extension to the above two options."
   ]
  },
  {
   "cell_type": "markdown",
   "id": "b5008bf8-d2dc-4191-8b4f-dc20249115f4",
   "metadata": {},
   "source": [
    "### 9.2 Running the FoodVision demo locally\n",
    "\n",
    "1. Opening terminal or a command line prompt.\n",
    "2. Changing into the `foodvision_mini` directory (`cd foodvision_mini`).\n",
    "3. Creating an environment (`python3 -m venv env`).\n",
    "4. Activating the environment (`source env/bin/activate`).\n",
    "5. Installing the requirements (`pip install -r requirements.txt`, the `\"-r\"` is for recursive).\n",
    "    - **Note:** This step may take 5-10 minutes depending on your internet connection. And if you're facing errors, you may need to upgrade pip first: `pip install --upgrade pip`.\n",
    "7. Run the app (`python3 app.py`).\n",
    "\n",
    "This should result in a Gradio demo just like the one we built above running locally on your machine at a URL such as `http://127.0.0.1:7860/`.\n",
    "\n",
    "If you want, you can also use `zrok.io` so that others can use your application.\n",
    "\n",
    "---\n",
    "\n",
    "**Note:** If you run the app locally and you notice a `flagged/` directory appear, it contains samples that have been \"flagged\".\n",
    "\n",
    "For example, if someone tries the demo and the model produces an incorrect result, the sample can be \"flagged\" and reviewed for later.\n",
    "\n",
    "For more on flagging in Gradio, see the [flagging documentation](https://www.gradio.app/docs)."
   ]
  },
  {
   "cell_type": "markdown",
   "id": "4f5c8e72-1362-4513-8238-7a79fce6ed7a",
   "metadata": {},
   "source": [
    "### 9.3 Uploading to HuggingFace\n",
    "\n",
    "We've verified our FoodVision app works locally, however, the fun of creating a machine learning is to show it to other people and allow them to use it.\n",
    "\n",
    "To do so, we're going to upload our FoodVision Mini demo to HuggingFace.\n",
    "\n",
    "***Note**: The following series of steps uses a Git (a file tracking system) workflow. For more on how Git works, I'd recommend going through the Git and GitHub for Beginners tutorial on freeCodeCamp.*\n",
    "\n",
    "1. Sign up for a Hugging Face account.\n",
    "2. Start a new Hugging Face Space by going to your profile and then clicking \"New Space\".\n",
    "3. Give the Space a name, for example, mine is called mahesh-hug-fac/foodvision_mini, you can see it here: https://huggingface.co/spaces/mahesh-hug-fac/foodvision_mini\n",
    "4. Select a license (I used MIT).\n",
    "5. Select Gradio as the Space SDK (software development kit).\n",
    "    - ***Note**: You can use other options such as Streamlit but since our app is built with Gradio, we'll stick with that.*\n",
    "6. Choose whether your Space is it's public or private (I selected public since I'd like my Space to be available to others).\n",
    "7. Click \"Create Space\".\n",
    "8. Clone the repo locally by running something like: git clone `https://huggingface.co/spaces/[YOUR_USERNAME]/[YOUR_SPACE_NAME]` in terminal or command prompt.\n",
    "    - ***Note: You can also add files via uploading them under the \"Files and versions\" tab.*\n",
    "9. Copy/move the contents of the downloaded `foodvision_mini` folder to the cloned repo folder.\n",
    "10. To upload and track larger files (e.g. files over 10MB or in our case, our PyTorch model file) you'll need to [install Git LFS](https://git-lfs.com/) (which stands for \"git large file storage\").\n",
    "11. After you've installed Git LFS, you can activate it by running `git lfs install`.\n",
    "12. In the `foodvision_mini` directory, track the files over 10MB with Git LFS with `git lfs track \"*.file_extension`\".\n",
    "    - Track EffNetB2 PyTorch model file with `git lfs track` `\"09_pretrained_effnetb2_feature_extractor_pizza_steak_sushi_20_percent.pth\"`.\n",
    "13. Track .gitattributes (automatically created when cloning from HuggingFace, this file will help ensure our larger files are tracked with Git LFS). You can see an example `.gitattributes` file on the FoodVision Mini Hugging Face Space.\n",
    "    - `git add .gitattributes`\n",
    "14. Add the rest of the `foodvision_mini` app files and commit them with:\n",
    "    - `git add *`\n",
    "    - `git commit -m \"first commit\"`\n",
    "15. Push (upload) the files to Hugging Face:\n",
    "    - `git push`\n",
    "16. Wait 3-5 minutes for the build to happen (future builds are faster) and your app to become live!\n",
    "\n",
    "If everything worked, you should see a live running example of our FoodVision Mini Gradio demo like the one here: [https://huggingface.co/spaces/mahesh-hug-fac/foodvision_mini](https://huggingface.co/spaces/mahesh-hug-fac/foodvision_mini)\n",
    "\n",
    "And we can even embed our FoodVision Mini Gradio demo into our notebook as an iframe with `IPython.display.IFrame `and a link to our space in the format `https://hf.space/embed/[YOUR_USERNAME]/[YOUR_SPACE_NAME]/+`."
   ]
  },
  {
   "cell_type": "code",
   "execution_count": 110,
   "id": "4ee25743-96f3-4658-95ac-9ab2eb6d0c7f",
   "metadata": {},
   "outputs": [
    {
     "data": {
      "text/html": [
       "\n",
       "        <iframe\n",
       "            width=\"900\"\n",
       "            height=\"750\"\n",
       "            src=\"https://hf.space/embed/mahesh-hug-fac/foodvision_mini/+\"\n",
       "            frameborder=\"0\"\n",
       "            allowfullscreen\n",
       "            \n",
       "        ></iframe>\n",
       "        "
      ],
      "text/plain": [
       "<IPython.lib.display.IFrame at 0x154b09120>"
      ]
     },
     "execution_count": 110,
     "metadata": {},
     "output_type": "execute_result"
    }
   ],
   "source": [
    "# IPython is a library to help make Python interactive\n",
    "from IPython.display import IFrame\n",
    "\n",
    "# Embed FoodVision Mini Gradio demo\n",
    "IFrame(src=\"https://hf.space/embed/mahesh-hug-fac/foodvision_mini/+\", width=900, height=750)"
   ]
  },
  {
   "cell_type": "markdown",
   "id": "8342d119-12c7-4dbb-b731-def8535d11b6",
   "metadata": {},
   "source": [
    "## 10. Creating FoodVision Big\n",
    "\n",
    "We've spend the past few sections and chapters working on bringing FoodVision Mini to life.\n",
    "\n",
    "And now we've seen it working in a live demo, how about we step things up a notch?\n",
    "\n",
    "***FoodVision Big!***\n",
    "\n",
    "SInce FoodVision Mini is trained on pizza, steak, and sushi images from the [Food101 dataset](https://pytorch.org/vision/main/generated/torchvision.datasets.Food101.html) (101 classes of food x 1000 images each).\n",
    " - How about we make **FoodVision Big** by training a model on all 101 classes!\n",
    "\n",
    "**We'll go from three classes to 101!**\n",
    "\n",
    "From pizza, steak, sushi to pizza, steak, sushi, hot dog, apple pie, carrot cake, chocolate cake, french fries, garlic bread, ramen, nachos, tacos and more!\n",
    "\n",
    "**How?**\n",
    "\n",
    "Well, we've got all the steps in a place, all we have to do is alter our EffNetB2 model slightly as well as prepare a different dataset.\n",
    "\n",
    "To finish Milestone Project 3, let's recreate a Gradio demo similar to FoodVision Mini (3 classes) but for FoodVision Big (101 classes).\n",
    "![](09-model-deployment-foodvision-mini-to-foodvision-big.png)\n",
    "\n",
    "*FoodVision Mini works with three food classes: pizza, steak and sushi. And FoodVision Big steps it up a notch to work across 101 food classes: all of the [classes in the Food101 dataset](https://github.com/mrdbourke/pytorch-deep-learning/blob/main/extras/food101_class_names.txt).*"
   ]
  },
  {
   "cell_type": "markdown",
   "id": "85f96e04-abe7-4ade-a953-ade42ac2d9da",
   "metadata": {},
   "source": [
    "### 10.1 Creating a model ans transforms for FoodVision Big\n",
    "When creating FoodVision we saw that the EffNetB2 model was a good tradeoff between speed and performance (it performed well with a fast speed).\n",
    "\n",
    "So we'll continue using the same model for FoodVision Big.\n",
    "\n",
    "We can create an EffNetB2 feature extractor for Food101 by using `create_effnetb2_model()` function we created above, in `section 3.1`, and passing it the parameter `num_classes=101`(since Food101 has 101 classes)\n"
   ]
  },
  {
   "cell_type": "code",
   "execution_count": 112,
   "id": "0a819d8d-a4dc-486f-89b1-f8a9b20b76f7",
   "metadata": {},
   "outputs": [],
   "source": [
    "# create EffNetB2 model capable of fitting to 101 classes for Food101\n",
    "effnetb2_food101, effnetb2_transform = create_effnetb2_model(num_classes=101)"
   ]
  },
  {
   "cell_type": "markdown",
   "id": "d384d91d-9f58-4511-b0c5-f27ba497a608",
   "metadata": {},
   "source": [
    "Great!\n",
    "\n",
    "Now lets get a summary of our model."
   ]
  },
  {
   "cell_type": "code",
   "execution_count": 113,
   "id": "a14623dc-a6af-40ae-b00d-e15a4c66684f",
   "metadata": {},
   "outputs": [
    {
     "data": {
      "text/plain": [
       "============================================================================================================================================\n",
       "Layer (type (var_name))                                      Input Shape          Output Shape         Param #              Trainable\n",
       "============================================================================================================================================\n",
       "EfficientNet (EfficientNet)                                  [1, 3, 224, 224]     [1, 101]             --                   Partial\n",
       "├─Sequential (features)                                      [1, 3, 224, 224]     [1, 1408, 7, 7]      --                   False\n",
       "│    └─Conv2dNormActivation (0)                              [1, 3, 224, 224]     [1, 32, 112, 112]    --                   False\n",
       "│    │    └─Conv2d (0)                                       [1, 3, 224, 224]     [1, 32, 112, 112]    (864)                False\n",
       "│    │    └─BatchNorm2d (1)                                  [1, 32, 112, 112]    [1, 32, 112, 112]    (64)                 False\n",
       "│    │    └─SiLU (2)                                         [1, 32, 112, 112]    [1, 32, 112, 112]    --                   --\n",
       "│    └─Sequential (1)                                        [1, 32, 112, 112]    [1, 16, 112, 112]    --                   False\n",
       "│    │    └─MBConv (0)                                       [1, 32, 112, 112]    [1, 16, 112, 112]    (1,448)              False\n",
       "│    │    └─MBConv (1)                                       [1, 16, 112, 112]    [1, 16, 112, 112]    (612)                False\n",
       "│    └─Sequential (2)                                        [1, 16, 112, 112]    [1, 24, 56, 56]      --                   False\n",
       "│    │    └─MBConv (0)                                       [1, 16, 112, 112]    [1, 24, 56, 56]      (6,004)              False\n",
       "│    │    └─MBConv (1)                                       [1, 24, 56, 56]      [1, 24, 56, 56]      (10,710)             False\n",
       "│    │    └─MBConv (2)                                       [1, 24, 56, 56]      [1, 24, 56, 56]      (10,710)             False\n",
       "│    └─Sequential (3)                                        [1, 24, 56, 56]      [1, 48, 28, 28]      --                   False\n",
       "│    │    └─MBConv (0)                                       [1, 24, 56, 56]      [1, 48, 28, 28]      (16,518)             False\n",
       "│    │    └─MBConv (1)                                       [1, 48, 28, 28]      [1, 48, 28, 28]      (43,308)             False\n",
       "│    │    └─MBConv (2)                                       [1, 48, 28, 28]      [1, 48, 28, 28]      (43,308)             False\n",
       "│    └─Sequential (4)                                        [1, 48, 28, 28]      [1, 88, 14, 14]      --                   False\n",
       "│    │    └─MBConv (0)                                       [1, 48, 28, 28]      [1, 88, 14, 14]      (50,300)             False\n",
       "│    │    └─MBConv (1)                                       [1, 88, 14, 14]      [1, 88, 14, 14]      (123,750)            False\n",
       "│    │    └─MBConv (2)                                       [1, 88, 14, 14]      [1, 88, 14, 14]      (123,750)            False\n",
       "│    │    └─MBConv (3)                                       [1, 88, 14, 14]      [1, 88, 14, 14]      (123,750)            False\n",
       "│    └─Sequential (5)                                        [1, 88, 14, 14]      [1, 120, 14, 14]     --                   False\n",
       "│    │    └─MBConv (0)                                       [1, 88, 14, 14]      [1, 120, 14, 14]     (149,158)            False\n",
       "│    │    └─MBConv (1)                                       [1, 120, 14, 14]     [1, 120, 14, 14]     (237,870)            False\n",
       "│    │    └─MBConv (2)                                       [1, 120, 14, 14]     [1, 120, 14, 14]     (237,870)            False\n",
       "│    │    └─MBConv (3)                                       [1, 120, 14, 14]     [1, 120, 14, 14]     (237,870)            False\n",
       "│    └─Sequential (6)                                        [1, 120, 14, 14]     [1, 208, 7, 7]       --                   False\n",
       "│    │    └─MBConv (0)                                       [1, 120, 14, 14]     [1, 208, 7, 7]       (301,406)            False\n",
       "│    │    └─MBConv (1)                                       [1, 208, 7, 7]       [1, 208, 7, 7]       (686,868)            False\n",
       "│    │    └─MBConv (2)                                       [1, 208, 7, 7]       [1, 208, 7, 7]       (686,868)            False\n",
       "│    │    └─MBConv (3)                                       [1, 208, 7, 7]       [1, 208, 7, 7]       (686,868)            False\n",
       "│    │    └─MBConv (4)                                       [1, 208, 7, 7]       [1, 208, 7, 7]       (686,868)            False\n",
       "│    └─Sequential (7)                                        [1, 208, 7, 7]       [1, 352, 7, 7]       --                   False\n",
       "│    │    └─MBConv (0)                                       [1, 208, 7, 7]       [1, 352, 7, 7]       (846,900)            False\n",
       "│    │    └─MBConv (1)                                       [1, 352, 7, 7]       [1, 352, 7, 7]       (1,888,920)          False\n",
       "│    └─Conv2dNormActivation (8)                              [1, 352, 7, 7]       [1, 1408, 7, 7]      --                   False\n",
       "│    │    └─Conv2d (0)                                       [1, 352, 7, 7]       [1, 1408, 7, 7]      (495,616)            False\n",
       "│    │    └─BatchNorm2d (1)                                  [1, 1408, 7, 7]      [1, 1408, 7, 7]      (2,816)              False\n",
       "│    │    └─SiLU (2)                                         [1, 1408, 7, 7]      [1, 1408, 7, 7]      --                   --\n",
       "├─AdaptiveAvgPool2d (avgpool)                                [1, 1408, 7, 7]      [1, 1408, 1, 1]      --                   --\n",
       "├─Sequential (classifier)                                    [1, 1408]            [1, 101]             --                   True\n",
       "│    └─Dropout (0)                                           [1, 1408]            [1, 1408]            --                   --\n",
       "│    └─Linear (1)                                            [1, 1408]            [1, 101]             142,309              True\n",
       "============================================================================================================================================\n",
       "Total params: 7,843,303\n",
       "Trainable params: 142,309\n",
       "Non-trainable params: 7,700,994\n",
       "Total mult-adds (M): 657.78\n",
       "============================================================================================================================================\n",
       "Input size (MB): 0.60\n",
       "Forward/backward pass size (MB): 156.80\n",
       "Params size (MB): 31.37\n",
       "Estimated Total Size (MB): 188.77\n",
       "============================================================================================================================================"
      ]
     },
     "execution_count": 113,
     "metadata": {},
     "output_type": "execute_result"
    }
   ],
   "source": [
    "from torchinfo import summary\n",
    "\n",
    "summary(model=effnetb2_food101,\n",
    "        input_size=(1,3,224,224),\n",
    "        col_names=['input_size','output_size','num_params','trainable'],\n",
    "        col_width=20,\n",
    "        row_settings=['var_names']\n",
    "       )"
   ]
  },
  {
   "cell_type": "markdown",
   "id": "c92f2ef2-8403-4c67-a9bb-077d7cf94638",
   "metadata": {},
   "source": [
    "\n",
    "Nice!\n",
    "\n",
    "Just like our EffNetB2 model for FoodVision Mini, the base layers are frozen (these are pretrained on ImageNet) and the outer layers(the `classifier` layers) are trainable with an ouput shape of `[batch_size, 101]` (`101` for 101 classes in Food101]\n",
    "\n",
    "Now since we're going to be dealing with a fair bit more data than usual, how about we add a little data augmentation to our transforms(`effnetb2_transforms`) to augment the training data.\n",
    "\n",
    "***Note:** Data Augmentation is a technique used to alter the appearance of an input training sample (e.g. rotating an image or slighly skewing it) to artificially increase the diversity of a training dataset to hopefully prevent overfitting. We can see more on data augmentation in `04. PyTorch Custom Datasets section 6.*\n",
    "\n",
    "Let's compose a `torchvision.transforms` pipeline to use `torchvision.transforms.TrivialAugmentWide()` (the same data augmentation used in the PyTorch team in their [computer vision recipe](https://pytorch.org/blog/how-to-train-state-of-the-art-models-using-torchvision-latest-primitives/#break-down-of-key-accuracy-improvements) as well as the `effnetb2_transforms` to transform our training images."
   ]
  },
  {
   "cell_type": "code",
   "execution_count": 116,
   "id": "f59b5cbf-0601-47db-a1c3-57accf7b0cc8",
   "metadata": {},
   "outputs": [],
   "source": [
    "# Create food101 training data transforms\n",
    "food101_train_transforms = torchvision.transforms.Compose([\n",
    "    torchvision.transforms.TrivialAugmentWide(),\n",
    "    effnetb2_transforms\n",
    "])"
   ]
  },
  {
   "cell_type": "markdown",
   "id": "49de4e31-f442-4e14-8e60-b60d1082d9c9",
   "metadata": {},
   "source": [
    "Great!\n",
    "\n",
    "Now let's compare food101_train_transforms (for the training data) and effnetb2_transforms (for the testing/inference data)."
   ]
  },
  {
   "cell_type": "code",
   "execution_count": 117,
   "id": "bc0a8a49-f6f3-454c-bc3a-0912b7b4f072",
   "metadata": {},
   "outputs": [
    {
     "name": "stdout",
     "output_type": "stream",
     "text": [
      "Training transforms:\n",
      "Compose(\n",
      "    TrivialAugmentWide(num_magnitude_bins=31, interpolation=InterpolationMode.NEAREST, fill=None)\n",
      "    ImageClassification(\n",
      "    crop_size=[288]\n",
      "    resize_size=[288]\n",
      "    mean=[0.485, 0.456, 0.406]\n",
      "    std=[0.229, 0.224, 0.225]\n",
      "    interpolation=InterpolationMode.BICUBIC\n",
      ")\n",
      ")\n",
      "\n",
      "Testing transforms:\n",
      "ImageClassification(\n",
      "    crop_size=[288]\n",
      "    resize_size=[288]\n",
      "    mean=[0.485, 0.456, 0.406]\n",
      "    std=[0.229, 0.224, 0.225]\n",
      "    interpolation=InterpolationMode.BICUBIC\n",
      ")\n"
     ]
    }
   ],
   "source": [
    "print(f\"Training transforms:\\n{food101_train_transforms}\\n\") \n",
    "print(f\"Testing transforms:\\n{effnetb2_transforms}\")"
   ]
  },
  {
   "cell_type": "markdown",
   "id": "e19b6b60-b391-440b-a007-3cb14b38b32f",
   "metadata": {},
   "source": [
    "### 10.2 Geting data for FoodVision Big\n",
    "\n",
    "For FoodVision Mini, we made our own [custom data splits](https://github.com/mrdbourke/pytorch-deep-learning/blob/main/extras/04_custom_data_creation.ipynb) of the entire Food 101 dataset.\n",
    "\n",
    "To get the whole Food101 dataset, we can use [`torchvision.datasets.Food101()`](https://pytorch.org/vision/main/generated/torchvision.datasets.Food101.html)\n",
    "\n",
    "We'll first setup a path to directory `data/` to store the images.\n",
    "\n",
    "Then we'll download and transform the training and testing dataset splits using `food101_train_transforms` and `effnetb2_transforms` to transform each dataset respoectively."
   ]
  },
  {
   "cell_type": "code",
   "execution_count": 121,
   "id": "a0332b0d-0af8-41b9-a3d3-397824ebd99d",
   "metadata": {},
   "outputs": [
    {
     "name": "stdout",
     "output_type": "stream",
     "text": [
      "Downloading https://data.vision.ee.ethz.ch/cvl/food-101.tar.gz to data/food-101.tar.gz\n"
     ]
    },
    {
     "name": "stderr",
     "output_type": "stream",
     "text": [
      "100%|███████████████████████████████████| 4996278331/4996278331 [08:34<00:00, 9705938.96it/s]\n"
     ]
    },
    {
     "name": "stdout",
     "output_type": "stream",
     "text": [
      "Extracting data/food-101.tar.gz to data\n"
     ]
    }
   ],
   "source": [
    "from torchvision import datasets\n",
    "\n",
    "# setup data directory\n",
    "from pathlib import Path\n",
    "data_dir = Path('data')\n",
    "\n",
    "# get training data(~750 images x 101 food classes)\n",
    "train_data = datasets.Food101(root=data_dir, # path to download data to\n",
    "                              split='train', # dataset split to get\n",
    "                              transform=food101_train_transforms, # perform data augmentation\n",
    "                              download=True) # want to download?\n",
    "\n",
    "# Get testing data (~250 images x 101 food classes)\n",
    "test_data = datasets.Food101(root=data_dir,\n",
    "                             split=\"test\",\n",
    "                             transform=effnetb2_transforms, # perform normal EffNetB2 transforms on test data\n",
    "                             download=True)"
   ]
  },
  {
   "cell_type": "markdown",
   "id": "f749b111-f4eb-4f7a-884f-65e98ebce440",
   "metadata": {},
   "source": [
    "Data downloaded!\n",
    "\n",
    "Now we can get a list of all the class names using `train_data.classes`."
   ]
  },
  {
   "cell_type": "code",
   "execution_count": 124,
   "id": "5d015724-dfd3-4cd8-a215-8aaade39cb0e",
   "metadata": {},
   "outputs": [
    {
     "data": {
      "text/plain": [
       "['apple_pie',\n",
       " 'baby_back_ribs',\n",
       " 'baklava',\n",
       " 'beef_carpaccio',\n",
       " 'beef_tartare',\n",
       " 'beet_salad',\n",
       " 'beignets',\n",
       " 'bibimbap',\n",
       " 'bread_pudding',\n",
       " 'breakfast_burrito']"
      ]
     },
     "execution_count": 124,
     "metadata": {},
     "output_type": "execute_result"
    }
   ],
   "source": [
    "# Get Food101 class names\n",
    "food101_class_names = train_data.classes\n",
    "\n",
    "# View the first 10\n",
    "food101_class_names[:10]"
   ]
  },
  {
   "cell_type": "markdown",
   "id": "1b77f8ae-682f-4a27-90c4-60d44277da11",
   "metadata": {},
   "source": [
    "Great!\n",
    "\n",
    "Those are some delicious sounding foods. You can see a full list of the Food101 class names on the course GitHub under [extras/food101_class_names.txt](https://github.com/mrdbourke/pytorch-deep-learning/blob/main/extras/food101_class_names.txt)."
   ]
  },
  {
   "cell_type": "markdown",
   "id": "79fd53a0-2526-492b-be77-0d67dde03878",
   "metadata": {},
   "source": [
    "### 10.3 Creating a subset of the Food101 dataset for faster experimenting\n",
    "\n",
    "This is optional.\n",
    "\n",
    "We don't need to create another subset of the Food101 dataset, we could train and evaluate a model across the whole 101,000 images.\n",
    "\n",
    "But to keep training fast, let's create a 20% split of the training and test datasets.\n",
    "\n",
    "Our goal will be to see if we can beat the original [Food101 paper's](https://data.vision.ee.ethz.ch/cvl/datasets_extra/food-101/) best result with only 20% of the data.\n",
    "\n",
    "To breakdown the datsets we've used/will use:\n",
    "\n",
    "| **Notebook(s)**|\t**Project name**|\t**Dataset**| **Number of classes**|\t**Training images**|\t**Testing images**|\n",
    "|:-|:-|:-|:-|:-|:-|\n",
    "|04, 05, 06, 07, 08|\tFoodVision Mini (10% data)|\tFood101 custom split|\t3 (pizza, steak, sushi)|\t225|\t75|\n",
    "|07, 08, 09|\tFoodVision Mini (20% data)|\tFood101 custom split|\t3 (pizza, steak, sushi)|\t450|\t150|\n",
    "|**09 (this one**)|\tFoodVision Big (20% data)|\tFood101 custom split|\t101 (all Food101 classes)|\t15150|\t5050|\n",
    "|Extension|\tFoodVision Big|\tFood101 all data|\t101|\t75750|\t25250|\n",
    "\n",
    "**Can you see the trend?**\n",
    "\n",
    "Just like our model size slowly increased overtime, so has the size of the dataset we've been using for experiments.\n",
    "\n",
    "***Note:** To truly beat the original Food101 paper's results with 20% of the data, we'd have to traina model on 20% of the training data and then evaluate our model on the whole test set rather than the split we created. I'll have this as an extension exercise for you to try. I'd also encourage you to try training a model on the entire Food101 training dataset.*\n",
    "\n",
    "---\n",
    "\n",
    "To make our FoodVision (20%) split, let's create a function called `split_dataset()` to split a given dataset into certain proportions.\n",
    "\n",
    "We can use `torch.utils.data.random_split()` to create splits of given sizes using the `lengths` parameter.\n",
    "\n",
    "**The `lengths` parameter accepts a list of desired split lengths where the total of the list must equal the overall length of the dataset.**\n",
    "\n",
    "For example, with a dataset of size 100, you could pass in `lengths=[20, 80]` receive a 20% and 80% split.\n",
    "\n",
    "We'll want our function to return two splits, one with the target length (e.g. 20% of the training data) and the other with the remaining length(e.g. the ramaining 80% of the training data).\n",
    "\n",
    "Finally, we'll set `generator` parameter to a `torch.manual_seed()` value for reproducibility."
   ]
  },
  {
   "cell_type": "code",
   "execution_count": 125,
   "id": "2ef53882-1c53-4b1a-95a7-ea00587a056a",
   "metadata": {},
   "outputs": [],
   "source": [
    "def split_dataset(dataset:torchvision.datasets,\n",
    "                  split_size:float=0.2,\n",
    "                  seed:int=42):\n",
    "    \"\"\"Randomly splits a given dataset into two proportions based on split_size seed.\n",
    "\n",
    "    Args:\n",
    "        dataset (torchvision.datasets): A PyTorch Dataset, typically one from torchvision.datasets.\n",
    "        split_size (float, optional): How much of the dataset should be split? \n",
    "            E.g. split_size=0.2 means there will be a 20% split and an 80% split. Defaults to 0.2.\n",
    "        seed (int, optional): Seed for random generator. Defaults to 42.\n",
    "\n",
    "    Returns:\n",
    "        tuple: (random_split_1, random_split_2) where random_split_1 is of size split_size*len(dataset) and \n",
    "            random_split_2 is of size (1-split_size)*len(dataset).\n",
    "    \"\"\"\n",
    "\n",
    "    # Create split lengths based on original dataset length\n",
    "    length_1 = int(len(dataset) * split_size) # desired length\n",
    "    length_2 = len(dataset) - length_1 # remaining length\n",
    "\n",
    "    # print out info\n",
    "    print(f\"[INFO] Splitting dataset of length {len(dataset)} into splits of size: {length_1} ({int(split_size*100)}%), {length_2} ({int((1-split_size)*100)}%)\")\n",
    "\n",
    "    # create splits with given random seed\n",
    "    random_split_1, random_split_2 = torch.utils.data.random_split(dataset, lengths=[length_1, length_2],\n",
    "                                                                   generator=torch.manual_seed(seed) # set the random seed for reproducible splits\n",
    "                                                                  )\n",
    "    return random_split_1, random_split_2"
   ]
  },
  {
   "cell_type": "markdown",
   "id": "7092fbff-590a-4815-9a3e-21d5438c2357",
   "metadata": {},
   "source": [
    "Dataset split function created!\n",
    "\n",
    "Now let's test it out by creating a 20% training and testing dataset split of Food101."
   ]
  },
  {
   "cell_type": "code",
   "execution_count": 126,
   "id": "51685e36-70bd-4c89-98ba-91c06b5fdbf5",
   "metadata": {},
   "outputs": [
    {
     "name": "stdout",
     "output_type": "stream",
     "text": [
      "[INFO] Splitting dataset of length 75750 into splits of size: 15150 (20%), 60600 (80%)\n",
      "[INFO] Splitting dataset of length 25250 into splits of size: 5050 (20%), 20200 (80%)\n"
     ]
    },
    {
     "data": {
      "text/plain": [
       "(15150, 5050)"
      ]
     },
     "execution_count": 126,
     "metadata": {},
     "output_type": "execute_result"
    }
   ],
   "source": [
    "# Create training 20% split of Food101\n",
    "train_data_food101_20_percent, _ = split_dataset(dataset=train_data,\n",
    "                                                 split_size=0.2)\n",
    "\n",
    "# Create testing 20% split of Food101\n",
    "test_data_food101_20_percent, _ = split_dataset(dataset=test_data,\n",
    "                                                split_size=0.2)\n",
    "\n",
    "len(train_data_food101_20_percent), len(test_data_food101_20_percent)"
   ]
  },
  {
   "cell_type": "markdown",
   "id": "5ec13df9-a203-4ff1-bb1c-eda16807a3c6",
   "metadata": {},
   "source": [
    "### 10.4 Turning our Food101 datasets into `DataLoader`s\n",
    "\n",
    "Now let's turn our Food101 20% dataset splits into `DataLoader` using `torch.utils.data.DataLoader()`\n",
    "\n",
    "We'll set `shuffle=True` for the training data only and the batch size to `32` for both datasets.\n",
    "\n",
    "And we'll set `num_workers` to `4` if the CPU count is available or `2` if it's not (though the value of `num_workers` is very experimental and will depend on the hardware you're using."
   ]
  },
  {
   "cell_type": "code",
   "execution_count": 127,
   "id": "d1d92b5b-126b-4462-8e61-7e62fb495f27",
   "metadata": {},
   "outputs": [],
   "source": [
    "import os\n",
    "import torch\n",
    "\n",
    "BATCH_SIZE = 42\n",
    "NUM_WORKERS = 2 if os.cpu_count() <=4 else 4\n",
    "\n",
    "# create Food101 20 percent training DataLoader\n",
    "train_dataloader_food101_20_percent = torch.utils.data.DataLoader(dataset=train_data_food101_20_percent,\n",
    "                                                                  batch_size=BATCH_SIZE,\n",
    "                                                                  shuffle=True,\n",
    "                                                                  num_workers=NUM_WORKERS\n",
    "                                                                 )\n",
    "\n",
    "# create Food101 20 percent testing DataLoader\n",
    "test_dataloader_food101_20_percent = torch.utils.data.DataLoader(dataset=test_data_food101_20_percent,\n",
    "                                                                  batch_size=BATCH_SIZE,\n",
    "                                                                  shuffle=False,\n",
    "                                                                  num_workers=NUM_WORKERS\n",
    "                                                                 )"
   ]
  },
  {
   "cell_type": "markdown",
   "id": "edda8928-fe23-4889-a469-963150fff0a3",
   "metadata": {},
   "source": [
    "### 10.5 Training FoodVision Big Model\n",
    "\n",
    "FoodVision Big model and `DataLoader` ready!\n",
    "\n",
    "*Time for training.*\n",
    "\n",
    "We'll create an optimizer using `torch.optim.Adam()` and a learning rate of `1e-3`\n",
    "\n",
    "And because we've got so many classes, we'll also setup a loss function using `torch.nn.CrossEntropyLoss()` with `label_smoothing=0.1`, inline with [`torchvision`'s state of the art training recipe](https://pytorch.org/blog/how-to-train-state-of-the-art-models-using-torchvision-latest-primitives/#label-smoothing).\n",
    "\n",
    "**What is [Label Smoothing](https://paperswithcode.com/method/label-smoothing)?**\n",
    "\n",
    "Label Smoothing is a regularization technique (regularization is another word to describe the process of [preventing overfitting](https://www.learnpytorch.io/04_pytorch_custom_datasets/#81-how-to-deal-with-overfitting)) that reduces the value of a model gives to anyone label and spreads it across other labels.\n",
    "\n",
    "In essence, rather than a model getting *too confident* on a single label, label smoothing gives a non-zero value to other labels to help aid in generalization.\n",
    "\n",
    "For example, if a model without label smoothing had the following outputs for 5 classes:\n",
    "```\n",
    "[0, 0, 0.99, 0.01, 0]\n",
    "```\n",
    "\n",
    "A model with label smoothing may have the following ouputs:\n",
    "```\n",
    "[0.01, 0.01, 0.96, 0.01, 0.01]\n",
    "```\n",
    "\n",
    "The model is still confident on its prediction of class 3 but giving small values to the other labels forces the model to at least consider other options.\n",
    "\n",
    "FInally, to keep things quick,  we'll train our model for five epochs using the `engine.train()` function we created in `05. PyTorch Going Modular section 4` with the goal of beating the original Food101 paper's results of 56.4% accuracy on the test set.\n",
    "\n",
    "Let's train our biggest model yet!"
   ]
  },
  {
   "cell_type": "code",
   "execution_count": null,
   "id": "3be29e0b-1348-4542-933b-7ce85f380aab",
   "metadata": {},
   "outputs": [],
   "source": [
    "from going_modular.going_modular import engine\n",
    "\n",
    "# setup optimizer\n",
    "optimizer = torch.optim.Adam(params=effnetb2_food101.parameters(),\n",
    "                             lr=1e-3)\n",
    "# setup loss function\n",
    "loss_fn = torch.nn.CrossEntropyLoss(label_smoothing=0.1) # throw in a little label smoothing because so many classes\n",
    "\n",
    "# Want to beat original Food101 paper with 20% of data, need 56.4%+ acc on test dataset\n",
    "set_seeds()\n",
    "effnetb2_food101_results = engine.train(model=effnetb2_food101,\n",
    "                                        train_dataloader=train_data_food101_20_percent,\n",
    "                                        test_dataloader=test_data_food101_20_percent,\n",
    "                                        optimizer=optimizer,\n",
    "                                        loss_fn=loss_fn,\n",
    "                                        epochs=5,\n",
    "                                        device=device)"
   ]
  }
 ],
 "metadata": {
  "kernelspec": {
   "display_name": "Python 3 (ipykernel)",
   "language": "python",
   "name": "python3"
  },
  "language_info": {
   "codemirror_mode": {
    "name": "ipython",
    "version": 3
   },
   "file_extension": ".py",
   "mimetype": "text/x-python",
   "name": "python",
   "nbconvert_exporter": "python",
   "pygments_lexer": "ipython3",
   "version": "3.10.14"
  }
 },
 "nbformat": 4,
 "nbformat_minor": 5
}
