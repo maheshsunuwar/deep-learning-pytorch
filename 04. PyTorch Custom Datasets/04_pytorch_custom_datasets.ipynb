{
 "cells": [
  {
   "cell_type": "markdown",
   "id": "514ff8c0-8d2a-4f1a-9d59-55b80d15308a",
   "metadata": {},
   "source": [
    "# 04. PyTorch Custom Datasets"
   ]
  },
  {
   "cell_type": "code",
   "execution_count": null,
   "id": "61c83b6c-0039-4f92-8064-866cdb8cb0f4",
   "metadata": {},
   "outputs": [],
   "source": []
  },
  {
   "cell_type": "code",
   "execution_count": null,
   "id": "51cdf6b1-323d-4da5-8cd7-6200dccddbd6",
   "metadata": {},
   "outputs": [],
   "source": []
  }
 ],
 "metadata": {
  "kernelspec": {
   "display_name": "Python 3 (ipykernel)",
   "language": "python",
   "name": "python3"
  },
  "language_info": {
   "codemirror_mode": {
    "name": "ipython",
    "version": 3
   },
   "file_extension": ".py",
   "mimetype": "text/x-python",
   "name": "python",
   "nbconvert_exporter": "python",
   "pygments_lexer": "ipython3",
   "version": "3.10.14"
  }
 },
 "nbformat": 4,
 "nbformat_minor": 5
}
